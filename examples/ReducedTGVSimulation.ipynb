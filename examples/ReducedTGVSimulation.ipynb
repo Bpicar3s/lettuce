{
 "cells": [
  {
   "cell_type": "code",
   "execution_count": 1,
   "metadata": {
    "collapsed": true,
    "ExecuteTime": {
     "end_time": "2023-11-03T14:44:07.785819934Z",
     "start_time": "2023-11-03T14:44:06.233406168Z"
    }
   },
   "outputs": [],
   "source": [
    "import lettuce as lt\n",
    "import matplotlib.pyplot as plt\n",
    "import numpy as np\n",
    "import torch\n",
    "import os\n",
    "import csv\n"
   ]
  },
  {
   "cell_type": "code",
   "execution_count": 2,
   "metadata": {
    "ExecuteTime": {
     "end_time": "2023-11-03T14:44:08.126400586Z",
     "start_time": "2023-11-03T14:44:07.828881963Z"
    }
   },
   "outputs": [
    {
     "name": "stdout",
     "output_type": "stream",
     "text": [
      "28228.03944559575\n",
      "0.5044106311633744\n"
     ]
    }
   ],
   "source": [
    "lattice = lt.Lattice(lt.D3Q19, device = \"cuda\", dtype=torch.float64)\n",
    "flow = lt.SuperReducedTaylorGreenVortex3D(resolution=64, reynolds_number=800, mach_number=0.05, lattice=lattice)\n",
    "print(flow.units.convert_time_to_lu(20))\n",
    "collision = lt.BGKCollision(lattice, tau=flow.units.relaxation_parameter_lu)\n",
    "print(flow.units.relaxation_parameter_lu)\n",
    "streaming = lt.StandardStreaming(lattice)\n",
    "simulation = lt.SimulationReducedTGV(flow=flow, lattice=lattice, collision=collision, streaming=streaming)"
   ]
  },
  {
   "cell_type": "code",
   "execution_count": 3,
   "metadata": {
    "ExecuteTime": {
     "end_time": "2023-11-03T14:44:08.131067116Z",
     "start_time": "2023-11-03T14:44:08.127645692Z"
    }
   },
   "outputs": [
    {
     "name": "stdout",
     "output_type": "stream",
     "text": [
      "steps     time     IncompressibleKineticEnergy\n",
      "steps     time     Dissipation_TGV\n"
     ]
    }
   ],
   "source": [
    "Energy = lt.IncompressibleKineticEnergy(lattice, flow)\n",
    "Dissipation_TGV=lt.Dissipation_TGV(lattice, flow)\n",
    "reporter = lt.ObservableReporter(Energy, interval=10, out=None)\n",
    "#Enstrophy=lt.Enstrophy(lattice,flow)\n",
    "reporter2= lt.ObservableReporter(Dissipation_TGV, interval=10, out=None)\n",
    "simulation.reporters.append(reporter)\n",
    "simulation.reporters.append(reporter2)\n",
    "simulation.reporters.append(lt.VTKReporter(lattice, flow, interval=10, filename_base=\"./output/out\"))"
   ]
  },
  {
   "cell_type": "code",
   "execution_count": null,
   "metadata": {
    "is_executing": true,
    "ExecuteTime": {
     "start_time": "2023-11-03T14:44:08.131907119Z"
    }
   },
   "outputs": [],
   "source": [
    "simulation.initialize_f_neq()\n",
    "mlups = simulation.step(num_steps=14000)\n",
    "print(\"Performance in MLUPS:\", mlups)\n",
    "rho_start,u_start,f_start=simulation.startwerte()\n",
    "print(\"rho_start\")\n",
    "print(rho_start)\n",
    "print(\"u_start\")\n",
    "print(u_start)\n",
    "print(\"f_start\")\n",
    "print(f_start)"
   ]
  },
  {
   "cell_type": "code",
   "execution_count": null,
   "outputs": [],
   "source": [
    "energy = np.array(simulation.reporters[0].out)\n",
    "print(energy.shape)\n",
    "\n",
    "#save_directory = outputdir\n",
    "#file_name = \"FullTGV.pkl\"\n",
    "#file_path = os.path.join(save_directory, file_name)\n",
    "#simulation.save_checkpoint(file_path)\n",
    "\n",
    "csv_file_path = 'Brachet/Brachet_1983_tgv3d_enstrophy_Re800.csv'\n",
    "\n",
    "# Daten aus der CSV-Datei lesen\n",
    "csv_data = []\n",
    "FullTGV_DisEns=[]\n",
    "FullTGV_DisEkin=[]\n",
    "FullTGV_DisSij=[]\n",
    "with open(csv_file_path, 'r') as file:\n",
    "    csv_reader = csv.reader(file, delimiter=';')\n",
    "    for row in csv_reader:\n",
    "        csv_data.append(row)\n",
    "\n",
    "with open('FullTGV/DisEns-Rey100-Res64-BGK.csv', 'r') as file:\n",
    "    csv_reader = csv.reader(file, delimiter=';')\n",
    "    for row in csv_reader:\n",
    "        FullTGV_DisEns.append(row)\n",
    "\n",
    "with open('FullTGV/DisEkin-Rey100-Res64-BGK.csv', 'r') as file:\n",
    "    csv_reader = csv.reader(file, delimiter=';')\n",
    "    for row in csv_reader:\n",
    "        FullTGV_DisEkin.append(row)\n",
    "\n",
    "with open('FullTGV/DisSij-Rey100-Res64-BGK.csv', 'r') as file:\n",
    "    csv_reader = csv.reader(file, delimiter=';')\n",
    "    for row in csv_reader:\n",
    "        FullTGV_DisSij.append(row)\n",
    "\n",
    "csv_data = np.array(csv_data, dtype=float)\n",
    "FullTGV_DisEns= np.array(FullTGV_DisEns, dtype=float)\n",
    "FullTGV_DisEkin= np.array(FullTGV_DisEkin, dtype=float)\n",
    "FullTGV_DisSij= np.array(FullTGV_DisSij, dtype=float)\n",
    "\n",
    "\n",
    "\n",
    "dissipation = np.array(simulation.reporters[1].out)\n",
    "\n",
    "#print(energy.shape)\n",
    "#plt.plot(energy[:,1],energy[:,2])\n",
    "#plt.plot(energy[5:-1,1],-1/((np.pi*2)**3)*np.diff(energy[5:,2])/np.diff(energy[5:,1]))\n",
    "#plt.plot(energy[3:,1],-1/(np.pi*2)**3*np.gradient(64*energy[3:,2],energy[3:,1]),color = 'blue')\n",
    "#plt.plot(dissipation[3:,1],dissipation[3:,2], color = 'green')\n",
    "#plt.plot(dissipation[5:,1],1/(0.5*np.pi)**3*dissipation[5:,3], color = 'yellow')\n",
    "#plt.plot(enstrophy[:,1],1/(np.pi*2)**3*1/100*enstrophy[:,2])\n",
    "#plt.scatter(csv_data[:, 0], csv_data[:, 1], color='red', label='CSV Data')\n",
    "#plt.title('Energy Dissipation')\n",
    "#plt.xlabel('Time')\n",
    "#plt.ylabel('Energy Dissipation in physical units')\n",
    "#plt.ylim(0,0.03)\n",
    "#plt.show()\n",
    "\n",
    "plt.figure(1)\n",
    "plt.scatter(csv_data[:, 0], csv_data[:, 1], color='red', label='Brachet')\n",
    "plt.plot(energy[:,1],-1/(np.pi*2)**3*np.gradient(64*energy[:,2],energy[:,1]),color = 'blue', label='Reduced')\n",
    "plt.plot(FullTGV_DisEkin[:,0],FullTGV_DisEkin[:,1],color='green', label='Full')\n",
    "plt.xlim(0,10)\n",
    "plt.ylim(0,0.02)\n",
    "plt.legend()\n",
    "title = 'Dissipation trough kinetic energy'\n",
    "plt.title(title)\n",
    "plt.savefig(title)\n",
    "\n",
    "plt.figure(2)\n",
    "plt.scatter(csv_data[:, 0], csv_data[:, 1], color='red', label='Brachet')\n",
    "plt.plot(dissipation[5:,1],1/(0.5*np.pi)**3*dissipation[5:,3], color = 'blue', label='Reduced')\n",
    "plt.plot(FullTGV_DisEns[:,0],FullTGV_DisEns[:,1],color='green', label= 'Full')\n",
    "plt.xlim(0,10)\n",
    "plt.ylim(0,0.02)\n",
    "plt.legend()\n",
    "plt.title('Dissipation trough enstrophy')\n",
    "\n",
    "plt.figure(3)\n",
    "plt.scatter(csv_data[:, 0], csv_data[:, 1], color='red', label='Brachet')\n",
    "plt.plot(dissipation[3:,1],dissipation[3:,2], color = 'blue',label='Reduced')\n",
    "plt.plot(FullTGV_DisSij[:,0],FullTGV_DisSij[:,1],color = 'green',label='Full')\n",
    "plt.legend()\n",
    "plt.xlim(0,10)\n",
    "plt.ylim(0,0.02)\n",
    "plt.title('Dissipation trough shear moments')\n",
    "\n",
    "plt.show()"
   ],
   "metadata": {
    "collapsed": false,
    "is_executing": true
   }
  },
  {
   "cell_type": "code",
   "execution_count": null,
   "metadata": {
    "is_executing": true
   },
   "outputs": [],
   "source": [
    "u = flow.units.convert_velocity_to_pu(lattice.u(simulation.f)).numpy()\n",
    "u_norm = np.linalg.norm(u,axis=0)\n",
    "plt.imshow(u_norm)\n",
    "plt.show()"
   ]
  }
 ],
 "metadata": {
  "kernelspec": {
   "display_name": "Python 3 (ipykernel)",
   "language": "python",
   "name": "python3"
  },
  "language_info": {
   "codemirror_mode": {
    "name": "ipython",
    "version": 3
   },
   "file_extension": ".py",
   "mimetype": "text/x-python",
   "name": "python",
   "nbconvert_exporter": "python",
   "pygments_lexer": "ipython3",
   "version": "3.11.3"
  }
 },
 "nbformat": 4,
 "nbformat_minor": 1
}
