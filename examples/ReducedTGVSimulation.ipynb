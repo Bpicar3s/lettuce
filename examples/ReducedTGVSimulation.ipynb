{
 "cells": [
  {
   "cell_type": "code",
   "execution_count": 1,
   "metadata": {
    "collapsed": true,
    "ExecuteTime": {
     "end_time": "2023-12-15T08:49:12.937413772Z",
     "start_time": "2023-12-15T08:49:11.259985578Z"
    }
   },
   "outputs": [],
   "source": [
    "import lettuce as lt\n",
    "import matplotlib.pyplot as plt\n",
    "import numpy as np\n",
    "import torch\n",
    "import os\n",
    "import csv\n",
    "from argparse import ArgumentParser, ArgumentDefaultsHelpFormatter\n"
   ]
  },
  {
   "cell_type": "code",
   "execution_count": 2,
   "outputs": [
    {
     "name": "stdout",
     "output_type": "stream",
     "text": [
      "ICH FUNKTIONIERE MIT PULLEN\n"
     ]
    }
   ],
   "source": [
    "parser = ArgumentParser(formatter_class=ArgumentDefaultsHelpFormatter)\n",
    "parser.add_argument(\"--vtkdir\", type=str, help=\"name base of vtk files - they are usually in a vtk-subdirectory!\", default=\"./output/\")\n",
    "parser.add_argument(\"--csvdir\", type=str, default=\"./output/\")\n",
    "parser.add_argument(\"--resolution\", type=int, default=32)\n",
    "parser.add_argument(\"--nout\", type=int, default=100)\n",
    "parser.add_argument(\"--nvtk\", type=int, default=200)\n",
    "parser.add_argument(\"--tmax\", type=int, default=10)\n",
    "parser.add_argument(\"--Re\", type=int, default=400)\n",
    "args, unknown = parser.parse_known_args()\n",
    "args = vars(args)\n",
    "print(\"ICH FUNKTIONIERE MIT PULLEN\")\n",
    "Re=args[\"Re\"]\n",
    "basedir = args[\"vtkdir\"]\n",
    "csvdir = args[\"csvdir\"]\n",
    "res = args[\"resolution\"]\n",
    "nout = args[\"nout\"]\n",
    "nvtk = args[\"nvtk\"]\n",
    "tmax = args[\"tmax\"]\n",
    "\n",
    "\n"
   ],
   "metadata": {
    "collapsed": false,
    "ExecuteTime": {
     "end_time": "2023-12-15T08:49:12.944390520Z",
     "start_time": "2023-12-15T08:49:12.938611200Z"
    }
   }
  },
  {
   "cell_type": "code",
   "execution_count": 3,
   "metadata": {
    "ExecuteTime": {
     "end_time": "2023-12-15T08:49:13.036973136Z",
     "start_time": "2023-12-15T08:49:12.942380118Z"
    }
   },
   "outputs": [
    {
     "name": "stdout",
     "output_type": "stream",
     "text": [
      "7057.009861398938\n",
      "0.5044106311633744\n"
     ]
    }
   ],
   "source": [
    "lattice = lt.Lattice(lt.D3Q27, device = \"cpu\", dtype=torch.float64)\n",
    "\n",
    "flow = lt.SuperReducedTaylorGreenVortex3D(resolution=res, reynolds_number=Re, mach_number=0.05, lattice=lattice)\n",
    "print(flow.units.convert_time_to_lu(tmax))\n",
    "collision = lt.KBCCollision3D(lattice, tau=flow.units.relaxation_parameter_lu)\n",
    "print(flow.units.relaxation_parameter_lu)\n",
    "streaming = lt.StandardStreaming(lattice)\n",
    "simulation = lt.SimulationReducedTGV(flow=flow, lattice=lattice, collision=collision, streaming=streaming)"
   ]
  },
  {
   "cell_type": "code",
   "execution_count": 4,
   "metadata": {
    "ExecuteTime": {
     "end_time": "2023-12-15T08:49:13.039616567Z",
     "start_time": "2023-12-15T08:49:13.036794289Z"
    }
   },
   "outputs": [
    {
     "name": "stdout",
     "output_type": "stream",
     "text": [
      "steps     time     IncompressibleKineticEnergy\n",
      "steps     time     Dissipation_TGV\n"
     ]
    }
   ],
   "source": [
    "interval_vtk=int((flow.units.convert_time_to_lu(tmax))/200)\n",
    "interval_out=int((flow.units.convert_time_to_lu(tmax))/200)\n",
    "Energy = lt.IncompressibleKineticEnergy(lattice, flow)\n",
    "Dissipation_TGV=lt.Dissipation_TGV(lattice, flow)\n",
    "reporter = lt.ObservableReporter(Energy, interval=interval_out, out=None)\n",
    "reporter2= lt.ObservableReporter(Dissipation_TGV, interval=interval_out, out=None)\n",
    "simulation.reporters.append(reporter)\n",
    "simulation.reporters.append(reporter2)\n",
    "simulation.reporters.append(lt.VTKReporter(lattice, flow, interval=interval_vtk, filename_base=basedir+\"out\"))"
   ]
  },
  {
   "cell_type": "code",
   "execution_count": 5,
   "metadata": {
    "ExecuteTime": {
     "end_time": "2023-12-15T08:51:33.024284347Z",
     "start_time": "2023-12-15T08:49:13.039012149Z"
    }
   },
   "outputs": [],
   "source": [
    "simulation.initialize_f_neq()\n",
    "steps = int(flow.units.convert_time_to_lu(tmax))\n",
    "mlups = simulation.step(num_steps=steps)\n",
    "#print(\"Performance in MLUPS:\", mlups)\n"
   ]
  },
  {
   "cell_type": "code",
   "execution_count": 6,
   "outputs": [],
   "source": [
    "energy = np.array(simulation.reporters[0].out)\n",
    "dissipation = np.array(simulation.reporters[1].out)\n",
    "\n",
    "dissipationEkin=np.array([energy[:,1],-1/(np.pi*2)**3*np.gradient(64*energy[:,2],energy[:,1])])\n",
    "dissipationEns=np.array([dissipation[:,1],1/(0.5*np.pi)**3*dissipation[:,3]])\n",
    "dissipationSij=np.array([dissipation[:,1],dissipation[:,2]])\n",
    "\n",
    "with open(csvdir + 'DissipationEkin.csv', 'w', newline='') as file:\n",
    "    writer = csv.writer(file)\n",
    "    writer.writerows(dissipationEkin)\n",
    "with open(csvdir + 'DissipationEnstrophy.csv', 'w', newline='') as file:\n",
    "    writer = csv.writer(file)\n",
    "    writer.writerows(dissipationEns)\n",
    "with open(csvdir + 'DissipationSij.csv', 'w', newline='') as file:\n",
    "    writer = csv.writer(file)\n",
    "    writer.writerows(dissipationSij)"
   ],
   "metadata": {
    "collapsed": false,
    "ExecuteTime": {
     "end_time": "2023-12-15T08:51:33.025197899Z",
     "start_time": "2023-12-15T08:51:33.023649849Z"
    }
   }
  },
  {
   "cell_type": "code",
   "execution_count": 7,
   "outputs": [
    {
     "name": "stdout",
     "output_type": "stream",
     "text": [
      "[[0.00000000e+00 4.95960764e-02 9.91921527e-02 1.48788229e-01\n",
      "  1.98384305e-01 2.47980382e-01 2.97576458e-01 3.47172535e-01\n",
      "  3.96768611e-01 4.46364687e-01 4.95960764e-01 5.45556840e-01\n",
      "  5.95152916e-01 6.44748993e-01 6.94345069e-01 7.43941145e-01\n",
      "  7.93537222e-01 8.43133298e-01 8.92729375e-01 9.42325451e-01\n",
      "  9.91921527e-01 1.04151760e+00 1.09111368e+00 1.14070976e+00\n",
      "  1.19030583e+00 1.23990191e+00 1.28949799e+00 1.33909406e+00\n",
      "  1.38869014e+00 1.43828621e+00 1.48788229e+00 1.53747837e+00\n",
      "  1.58707444e+00 1.63667052e+00 1.68626660e+00 1.73586267e+00\n",
      "  1.78545875e+00 1.83505483e+00 1.88465090e+00 1.93424698e+00\n",
      "  1.98384305e+00 2.03343913e+00 2.08303521e+00 2.13263128e+00\n",
      "  2.18222736e+00 2.23182344e+00 2.28141951e+00 2.33101559e+00\n",
      "  2.38061167e+00 2.43020774e+00 2.47980382e+00 2.52939989e+00\n",
      "  2.57899597e+00 2.62859205e+00 2.67818812e+00 2.72778420e+00\n",
      "  2.77738028e+00 2.82697635e+00 2.87657243e+00 2.92616851e+00\n",
      "  2.97576458e+00 3.02536066e+00 3.07495673e+00 3.12455281e+00\n",
      "  3.17414889e+00 3.22374496e+00 3.27334104e+00 3.32293712e+00\n",
      "  3.37253319e+00 3.42212927e+00 3.47172535e+00 3.52132142e+00\n",
      "  3.57091750e+00 3.62051357e+00 3.67010965e+00 3.71970573e+00\n",
      "  3.76930180e+00 3.81889788e+00 3.86849396e+00 3.91809003e+00\n",
      "  3.96768611e+00 4.01728219e+00 4.06687826e+00 4.11647434e+00\n",
      "  4.16607041e+00 4.21566649e+00 4.26526257e+00 4.31485864e+00\n",
      "  4.36445472e+00 4.41405080e+00 4.46364687e+00 4.51324295e+00\n",
      "  4.56283903e+00 4.61243510e+00 4.66203118e+00 4.71162725e+00\n",
      "  4.76122333e+00 4.81081941e+00 4.86041548e+00 4.91001156e+00\n",
      "  4.95960764e+00 5.00920371e+00 5.05879979e+00 5.10839587e+00\n",
      "  5.15799194e+00 5.20758802e+00 5.25718409e+00 5.30678017e+00\n",
      "  5.35637625e+00 5.40597232e+00 5.45556840e+00 5.50516448e+00\n",
      "  5.55476055e+00 5.60435663e+00 5.65395271e+00 5.70354878e+00\n",
      "  5.75314486e+00 5.80274093e+00 5.85233701e+00 5.90193309e+00\n",
      "  5.95152916e+00 6.00112524e+00 6.05072132e+00 6.10031739e+00\n",
      "  6.14991347e+00 6.19950955e+00 6.24910562e+00 6.29870170e+00\n",
      "  6.34829777e+00 6.39789385e+00 6.44748993e+00 6.49708600e+00\n",
      "  6.54668208e+00 6.59627816e+00 6.64587423e+00 6.69547031e+00\n",
      "  6.74506639e+00 6.79466246e+00 6.84425854e+00 6.89385461e+00\n",
      "  6.94345069e+00 6.99304677e+00 7.04264284e+00 7.09223892e+00\n",
      "  7.14183500e+00 7.19143107e+00 7.24102715e+00 7.29062323e+00\n",
      "  7.34021930e+00 7.38981538e+00 7.43941145e+00 7.48900753e+00\n",
      "  7.53860361e+00 7.58819968e+00 7.63779576e+00 7.68739184e+00\n",
      "  7.73698791e+00 7.78658399e+00 7.83618007e+00 7.88577614e+00\n",
      "  7.93537222e+00 7.98496829e+00 8.03456437e+00 8.08416045e+00\n",
      "  8.13375652e+00 8.18335260e+00 8.23294868e+00 8.28254475e+00\n",
      "  8.33214083e+00 8.38173691e+00 8.43133298e+00 8.48092906e+00\n",
      "  8.53052513e+00 8.58012121e+00 8.62971729e+00 8.67931336e+00\n",
      "  8.72890944e+00 8.77850552e+00 8.82810159e+00 8.87769767e+00\n",
      "  8.92729375e+00 8.97688982e+00 9.02648590e+00 9.07608197e+00\n",
      "  9.12567805e+00 9.17527413e+00 9.22487020e+00 9.27446628e+00\n",
      "  9.32406236e+00 9.37365843e+00 9.42325451e+00 9.47285059e+00\n",
      "  9.52244666e+00 9.57204274e+00 9.62163881e+00 9.67123489e+00\n",
      "  9.72083097e+00 9.77042704e+00 9.82002312e+00 9.86961920e+00\n",
      "  9.91921527e+00 9.96881135e+00]\n",
      " [1.81945255e-03 1.84710547e-03 1.87914933e-03 1.87595131e-03\n",
      "  1.87353371e-03 1.88136588e-03 1.88485409e-03 1.88939683e-03\n",
      "  1.89550815e-03 1.90274934e-03 1.91102197e-03 1.91948060e-03\n",
      "  1.92985287e-03 1.94122810e-03 1.95318449e-03 1.96613424e-03\n",
      "  1.98140289e-03 1.99627927e-03 2.01288199e-03 2.03119426e-03\n",
      "  2.05006739e-03 2.06982417e-03 2.09183971e-03 2.11456971e-03\n",
      "  2.13780391e-03 2.16382562e-03 2.19021413e-03 2.21777629e-03\n",
      "  2.24719414e-03 2.27822698e-03 2.30960676e-03 2.34329436e-03\n",
      "  2.37850401e-03 2.41445250e-03 2.45222545e-03 2.49199233e-03\n",
      "  2.53261316e-03 2.57460070e-03 2.61919062e-03 2.66445957e-03\n",
      "  2.71105013e-03 2.76032420e-03 2.81041761e-03 2.86181046e-03\n",
      "  2.91566087e-03 2.97073651e-03 3.02684198e-03 3.08541380e-03\n",
      "  3.14523092e-03 3.20627210e-03 3.26926979e-03 3.33389629e-03\n",
      "  3.39974963e-03 3.46704360e-03 3.53652488e-03 3.60685843e-03\n",
      "  3.67870606e-03 3.75267714e-03 3.82771307e-03 3.90391281e-03\n",
      "  3.98265405e-03 4.06221375e-03 4.14323428e-03 4.22668926e-03\n",
      "  4.31123144e-03 4.39741392e-03 4.48597928e-03 4.57613278e-03\n",
      "  4.66809938e-03 4.76250380e-03 4.85908383e-03 4.95786359e-03\n",
      "  5.05901001e-03 5.16329153e-03 5.26982781e-03 5.37917173e-03\n",
      "  5.49213787e-03 5.60780386e-03 5.72637288e-03 5.84917832e-03\n",
      "  5.97471433e-03 6.10361514e-03 6.23658747e-03 6.37261838e-03\n",
      "  6.51209054e-03 6.65528655e-03 6.80171009e-03 6.95128110e-03\n",
      "  7.10415843e-03 7.25980760e-03 7.41837283e-03 7.57880289e-03\n",
      "  7.74188983e-03 7.90611962e-03 8.07151104e-03 8.23758263e-03\n",
      "  8.40347502e-03 8.56809567e-03 8.73152901e-03 8.89187756e-03\n",
      "  9.04871257e-03 9.20150351e-03 9.34849747e-03 9.48986169e-03\n",
      "  9.62442273e-03 9.75178734e-03 9.87146811e-03 9.98357042e-03\n",
      "  1.00873131e-02 1.01834569e-02 1.02714668e-02 1.03522065e-02\n",
      "  1.04253541e-02 1.04917410e-02 1.05517634e-02 1.06055216e-02\n",
      "  1.06536630e-02 1.06971810e-02 1.07354904e-02 1.07699103e-02\n",
      "  1.08008507e-02 1.08281467e-02 1.08525100e-02 1.08745288e-02\n",
      "  1.08938155e-02 1.09108504e-02 1.09259767e-02 1.09389444e-02\n",
      "  1.09500133e-02 1.09589742e-02 1.09666009e-02 1.09718101e-02\n",
      "  1.09756060e-02 1.09776525e-02 1.09781426e-02 1.09766480e-02\n",
      "  1.09743631e-02 1.09701434e-02 1.09647523e-02 1.09582679e-02\n",
      "  1.09504701e-02 1.09415673e-02 1.09315989e-02 1.09207648e-02\n",
      "  1.09086200e-02 1.08958631e-02 1.08819260e-02 1.08672740e-02\n",
      "  1.08515278e-02 1.08353285e-02 1.08181436e-02 1.08005089e-02\n",
      "  1.07827067e-02 1.07645783e-02 1.07468364e-02 1.07297799e-02\n",
      "  1.07137911e-02 1.06991500e-02 1.06870007e-02 1.06771803e-02\n",
      "  1.06704295e-02 1.06673963e-02 1.06682555e-02 1.06731192e-02\n",
      "  1.06823633e-02 1.06960366e-02 1.07133999e-02 1.07345831e-02\n",
      "  1.07588763e-02 1.07852296e-02 1.08127250e-02 1.08404849e-02\n",
      "  1.08667498e-02 1.08901388e-02 1.09095569e-02 1.09233293e-02\n",
      "  1.09303040e-02 1.09299366e-02 1.09214566e-02 1.09047292e-02\n",
      "  1.08799745e-02 1.08476574e-02 1.08079836e-02 1.07619692e-02\n",
      "  1.07101251e-02 1.06531259e-02 1.05917455e-02 1.05267370e-02\n",
      "  1.04585275e-02 1.03877089e-02 1.03149920e-02 1.02402324e-02\n",
      "  1.01639634e-02 1.00861504e-02 1.00065060e-02 9.92484821e-03\n",
      "  9.84121494e-03 9.75510452e-03 9.66632095e-03 9.57508711e-03\n",
      "  9.48109357e-03 9.43333762e-03]]\n"
     ]
    },
    {
     "data": {
      "text/plain": "<Figure size 640x480 with 1 Axes>",
      "image/png": "[encoded data removed]"
     },
     "metadata": {},
     "output_type": "display_data"
    }
   ],
   "source": [
    "csv_file_path = '/home/ben/Schreibtisch/Enstropy Brachet/Brachet/Brachet_1983_tgv3d_enstrophy_Re400.csv'\n",
    "\n",
    "# Daten aus der CSV-Datei lesen\n",
    "csv_data = []\n",
    "with open(csv_file_path, 'r') as file:\n",
    "    csv_reader = csv.reader(file, delimiter=';')\n",
    "    for row in csv_reader:\n",
    "        csv_data.append(row)\n",
    "\n",
    "csv_data = np.array(csv_data, dtype=float)\n",
    "print(dissipationEkin)\n",
    "\n",
    "plt.plot(dissipationEkin[0,:],dissipationEkin[1,:],color = 'blue')\n",
    "plt.plot(dissipationEns[0,:],dissipationEns[1,:], color = 'green')\n",
    "plt.xlim(0,10)\n",
    "plt.plot(dissipationSij[0,:],dissipationSij[1,:])\n",
    "plt.scatter(csv_data[:, 0], csv_data[:, 1], color='red', label='CSV Data')\n",
    "plt.title('Energy Dissipation')\n",
    "plt.xlabel('Time')\n",
    "plt.ylabel('Energy Dissipation in physical units')\n",
    "plt.show()"
   ],
   "metadata": {
    "collapsed": false,
    "ExecuteTime": {
     "end_time": "2023-12-15T08:51:33.142261503Z",
     "start_time": "2023-12-15T08:51:33.025103089Z"
    }
   }
  },
  {
   "cell_type": "code",
   "execution_count": 7,
   "outputs": [],
   "source": [],
   "metadata": {
    "collapsed": false,
    "ExecuteTime": {
     "end_time": "2023-12-15T08:51:33.142882709Z",
     "start_time": "2023-12-15T08:51:33.139294288Z"
    }
   }
  },
  {
   "cell_type": "code",
   "execution_count": 7,
   "outputs": [],
   "source": [],
   "metadata": {
    "collapsed": false,
    "ExecuteTime": {
     "end_time": "2023-12-15T08:51:33.143207752Z",
     "start_time": "2023-12-15T08:51:33.142665010Z"
    }
   }
  }
 ],
 "metadata": {
  "kernelspec": {
   "display_name": "Python 3 (ipykernel)",
   "language": "python",
   "name": "python3"
  },
  "language_info": {
   "codemirror_mode": {
    "name": "ipython",
    "version": 3
   },
   "file_extension": ".py",
   "mimetype": "text/x-python",
   "name": "python",
   "nbconvert_exporter": "python",
   "pygments_lexer": "ipython3",
   "version": "3.11.3"
  }
 },
 "nbformat": 4,
 "nbformat_minor": 1
}
