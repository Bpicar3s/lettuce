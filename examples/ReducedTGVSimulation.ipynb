{
 "cells": [
  {
   "cell_type": "code",
   "execution_count": 1,
   "metadata": {
    "collapsed": true,
    "ExecuteTime": {
     "end_time": "2023-12-06T13:03:51.879471413Z",
     "start_time": "2023-12-06T13:03:50.746890067Z"
    }
   },
   "outputs": [],
   "source": [
    "import lettuce as lt\n",
    "import matplotlib.pyplot as plt\n",
    "import numpy as np\n",
    "import torch\n",
    "import os\n",
    "import csv\n",
    "from argparse import ArgumentParser, ArgumentDefaultsHelpFormatter\n"
   ]
  },
  {
   "cell_type": "code",
   "execution_count": 2,
   "outputs": [],
   "source": [
    "parser = ArgumentParser(formatter_class=ArgumentDefaultsHelpFormatter)\n",
    "parser.add_argument(\"--vtkdir\", type=str, help=\"name base of vtk files - they are usually in a vtk-subdirectory!\", default=\"./output/\")\n",
    "parser.add_argument(\"--csvdir\", type=str, default=\"./output/\")\n",
    "parser.add_argument(\"--resolution\", type=int, default=32)\n",
    "parser.add_argument(\"--nout\", type=int, default=10)\n",
    "parser.add_argument(\"--nvtk\", type=int, default=200)\n",
    "parser.add_argument(\"--tmax\", type=int, default=10)\n",
    "parser.add_argument(\"--Re\", type=int, default=5000)\n",
    "args, unknown = parser.parse_known_args()\n",
    "args = vars(args)\n",
    "\n",
    "Re=args[\"Re\"]\n",
    "basedir = args[\"vtkdir\"]\n",
    "csvdir = args[\"csvdir\"]\n",
    "res = args[\"resolution\"]\n",
    "nout = args[\"nout\"]\n",
    "nvtk = args[\"nvtk\"]\n",
    "tmax = args[\"tmax\"]\n",
    "\n",
    "\n"
   ],
   "metadata": {
    "collapsed": false,
    "ExecuteTime": {
     "end_time": "2023-12-06T13:03:51.884174557Z",
     "start_time": "2023-12-06T13:03:51.882410967Z"
    }
   }
  },
  {
   "cell_type": "code",
   "execution_count": 3,
   "metadata": {
    "ExecuteTime": {
     "end_time": "2023-12-06T13:03:52.063088124Z",
     "start_time": "2023-12-06T13:03:51.886882457Z"
    }
   },
   "outputs": [
    {
     "name": "stdout",
     "output_type": "stream",
     "text": [
      "7057.009861398938\n",
      "0.50035285049307\n"
     ]
    }
   ],
   "source": [
    "lattice = lt.Lattice(lt.D3Q27, device = \"cuda\", dtype=torch.float64)\n",
    "\n",
    "flow = lt.SuperReducedTaylorGreenVortex3D(resolution=res, reynolds_number=Re, mach_number=0.05, lattice=lattice)\n",
    "print(flow.units.convert_time_to_lu(tmax))\n",
    "collision = lt.KBCCollision3D(lattice, tau=flow.units.relaxation_parameter_lu)\n",
    "print(flow.units.relaxation_parameter_lu)\n",
    "streaming = lt.StandardStreaming(lattice)\n",
    "simulation = lt.SimulationReducedTGV(flow=flow, lattice=lattice, collision=collision, streaming=streaming)"
   ]
  },
  {
   "cell_type": "code",
   "execution_count": 4,
   "metadata": {
    "ExecuteTime": {
     "end_time": "2023-12-06T13:03:52.121301002Z",
     "start_time": "2023-12-06T13:03:52.064134104Z"
    }
   },
   "outputs": [
    {
     "name": "stdout",
     "output_type": "stream",
     "text": [
      "steps     time     IncompressibleKineticEnergy\n",
      "steps     time     Dissipation_TGV\n"
     ]
    }
   ],
   "source": [
    "interval_vtk=int((flow.units.convert_time_to_lu(tmax))/2)\n",
    "interval_out=int((flow.units.convert_time_to_lu(tmax))/200)\n",
    "Energy = lt.IncompressibleKineticEnergy(lattice, flow)\n",
    "Dissipation_TGV=lt.Dissipation_TGV(lattice, flow)\n",
    "reporter = lt.ObservableReporter(Energy, interval=interval_out, out=None)\n",
    "reporter2= lt.ObservableReporter(Dissipation_TGV, interval=interval_out, out=None)\n",
    "simulation.reporters.append(reporter)\n",
    "simulation.reporters.append(reporter2)\n",
    "simulation.reporters.append(lt.VTKReporter(lattice, flow, interval=interval_vtk, filename_base=basedir+\"out\"))"
   ]
  },
  {
   "cell_type": "code",
   "execution_count": 5,
   "metadata": {
    "ExecuteTime": {
     "end_time": "2023-12-06T13:04:23.414048536Z",
     "start_time": "2023-12-06T13:03:52.106952973Z"
    }
   },
   "outputs": [],
   "source": [
    "simulation.initialize_f_neq()\n",
    "steps = int(flow.units.convert_time_to_lu(tmax))\n",
    "mlups = simulation.step(num_steps=steps)\n",
    "#print(\"Performance in MLUPS:\", mlups)\n"
   ]
  },
  {
   "cell_type": "code",
   "execution_count": 6,
   "outputs": [],
   "source": [
    "energy = np.array(simulation.reporters[0].out)\n",
    "dissipation = np.array(simulation.reporters[1].out)\n",
    "\n",
    "dissipationEkin=np.array([energy[:,1],-1/(np.pi*2)**3*np.gradient(64*energy[:,2],energy[:,1])])\n",
    "dissipationEns=np.array([dissipation[:,1],1/(0.5*np.pi)**3*dissipation[:,3]])\n",
    "dissipationSij=np.array([dissipation[:,1],dissipation[:,2]])\n",
    "\n",
    "with open(csvdir + 'DissipationEkin.csv', 'w', newline='') as file:\n",
    "    writer = csv.writer(file)\n",
    "    writer.writerows(dissipationEkin)\n",
    "with open(csvdir + 'DissipationEnstrophy.csv', 'w', newline='') as file:\n",
    "    writer = csv.writer(file)\n",
    "    writer.writerows(dissipationEns)\n",
    "with open(csvdir + 'DissipationSij.csv', 'w', newline='') as file:\n",
    "    writer = csv.writer(file)\n",
    "    writer.writerows(dissipationSij)"
   ],
   "metadata": {
    "collapsed": false,
    "ExecuteTime": {
     "end_time": "2023-12-06T13:04:23.465824371Z",
     "start_time": "2023-12-06T13:04:23.458904245Z"
    }
   }
  },
  {
   "cell_type": "code",
   "execution_count": 8,
   "outputs": [
    {
     "name": "stdout",
     "output_type": "stream",
     "text": [
      "[[0.00000000e+00 4.95960764e-02 9.91921527e-02 1.48788229e-01\n",
      "  1.98384305e-01 2.47980382e-01 2.97576458e-01 3.47172535e-01\n",
      "  3.96768611e-01 4.46364687e-01 4.95960764e-01 5.45556840e-01\n",
      "  5.95152916e-01 6.44748993e-01 6.94345069e-01 7.43941145e-01\n",
      "  7.93537222e-01 8.43133298e-01 8.92729375e-01 9.42325451e-01\n",
      "  9.91921527e-01 1.04151760e+00 1.09111368e+00 1.14070976e+00\n",
      "  1.19030583e+00 1.23990191e+00 1.28949799e+00 1.33909406e+00\n",
      "  1.38869014e+00 1.43828621e+00 1.48788229e+00 1.53747837e+00\n",
      "  1.58707444e+00 1.63667052e+00 1.68626660e+00 1.73586267e+00\n",
      "  1.78545875e+00 1.83505483e+00 1.88465090e+00 1.93424698e+00\n",
      "  1.98384305e+00 2.03343913e+00 2.08303521e+00 2.13263128e+00\n",
      "  2.18222736e+00 2.23182344e+00 2.28141951e+00 2.33101559e+00\n",
      "  2.38061167e+00 2.43020774e+00 2.47980382e+00 2.52939989e+00\n",
      "  2.57899597e+00 2.62859205e+00 2.67818812e+00 2.72778420e+00\n",
      "  2.77738028e+00 2.82697635e+00 2.87657243e+00 2.92616851e+00\n",
      "  2.97576458e+00 3.02536066e+00 3.07495673e+00 3.12455281e+00\n",
      "  3.17414889e+00 3.22374496e+00 3.27334104e+00 3.32293712e+00\n",
      "  3.37253319e+00 3.42212927e+00 3.47172535e+00 3.52132142e+00\n",
      "  3.57091750e+00 3.62051357e+00 3.67010965e+00 3.71970573e+00\n",
      "  3.76930180e+00 3.81889788e+00 3.86849396e+00 3.91809003e+00\n",
      "  3.96768611e+00 4.01728219e+00 4.06687826e+00 4.11647434e+00\n",
      "  4.16607041e+00 4.21566649e+00 4.26526257e+00 4.31485864e+00\n",
      "  4.36445472e+00 4.41405080e+00 4.46364687e+00 4.51324295e+00\n",
      "  4.56283903e+00 4.61243510e+00 4.66203118e+00 4.71162725e+00\n",
      "  4.76122333e+00 4.81081941e+00 4.86041548e+00 4.91001156e+00\n",
      "  4.95960764e+00 5.00920371e+00 5.05879979e+00 5.10839587e+00\n",
      "  5.15799194e+00 5.20758802e+00 5.25718409e+00 5.30678017e+00\n",
      "  5.35637625e+00 5.40597232e+00 5.45556840e+00 5.50516448e+00\n",
      "  5.55476055e+00 5.60435663e+00 5.65395271e+00 5.70354878e+00\n",
      "  5.75314486e+00 5.80274093e+00 5.85233701e+00 5.90193309e+00\n",
      "  5.95152916e+00 6.00112524e+00 6.05072132e+00 6.10031739e+00\n",
      "  6.14991347e+00 6.19950955e+00 6.24910562e+00 6.29870170e+00\n",
      "  6.34829777e+00 6.39789385e+00 6.44748993e+00 6.49708600e+00\n",
      "  6.54668208e+00 6.59627816e+00 6.64587423e+00 6.69547031e+00\n",
      "  6.74506639e+00 6.79466246e+00 6.84425854e+00 6.89385461e+00\n",
      "  6.94345069e+00 6.99304677e+00 7.04264284e+00 7.09223892e+00\n",
      "  7.14183500e+00 7.19143107e+00 7.24102715e+00 7.29062323e+00\n",
      "  7.34021930e+00 7.38981538e+00 7.43941145e+00 7.48900753e+00\n",
      "  7.53860361e+00 7.58819968e+00 7.63779576e+00 7.68739184e+00\n",
      "  7.73698791e+00 7.78658399e+00 7.83618007e+00 7.88577614e+00\n",
      "  7.93537222e+00 7.98496829e+00 8.03456437e+00 8.08416045e+00\n",
      "  8.13375652e+00 8.18335260e+00 8.23294868e+00 8.28254475e+00\n",
      "  8.33214083e+00 8.38173691e+00 8.43133298e+00 8.48092906e+00\n",
      "  8.53052513e+00 8.58012121e+00 8.62971729e+00 8.67931336e+00\n",
      "  8.72890944e+00 8.77850552e+00 8.82810159e+00 8.87769767e+00\n",
      "  8.92729375e+00 8.97688982e+00 9.02648590e+00 9.07608197e+00\n",
      "  9.12567805e+00 9.17527413e+00 9.22487020e+00 9.27446628e+00\n",
      "  9.32406236e+00 9.37365843e+00 9.42325451e+00 9.47285059e+00\n",
      "  9.52244666e+00 9.57204274e+00 9.62163881e+00 9.67123489e+00\n",
      "  9.72083097e+00 9.77042704e+00 9.82002312e+00 9.86961920e+00\n",
      "  9.91921527e+00 9.96881135e+00]\n",
      " [1.07637705e-03 9.26639202e-04 7.04395501e-04 5.99304186e-04\n",
      "  5.43724861e-04 5.03576051e-04 4.71786879e-04 4.46287271e-04\n",
      "  4.34674368e-04 4.34738188e-04 4.29960736e-04 4.24814400e-04\n",
      "  4.16828401e-04 4.11678980e-04 4.12144924e-04 4.15329203e-04\n",
      "  4.13313428e-04 4.10307922e-04 4.15363093e-04 4.13321812e-04\n",
      "  4.10510700e-04 4.09989697e-04 4.20086294e-04 4.16959836e-04\n",
      "  4.19033957e-04 4.27251170e-04 4.22563941e-04 4.24975110e-04\n",
      "  4.35229983e-04 4.43777267e-04 4.52703736e-04 4.65749542e-04\n",
      "  4.70145058e-04 4.71294067e-04 4.82575140e-04 4.92833947e-04\n",
      "  5.03579473e-04 5.09176554e-04 5.19913571e-04 5.24967556e-04\n",
      "  5.34491976e-04 5.41032768e-04 5.52447243e-04 5.72663292e-04\n",
      "  5.89597884e-04 5.93816787e-04 6.01594458e-04 6.09154013e-04\n",
      "  6.19479300e-04 6.21255750e-04 6.29247798e-04 6.33916962e-04\n",
      "  6.43585959e-04 6.52660431e-04 6.61241604e-04 6.65931153e-04\n",
      "  6.87674212e-04 7.02229874e-04 7.21801129e-04 7.32843357e-04\n",
      "  7.59005487e-04 7.71552765e-04 7.81064086e-04 7.96227831e-04\n",
      "  8.09170219e-04 8.30956932e-04 8.48321320e-04 8.65873589e-04\n",
      "  8.84547242e-04 9.12713977e-04 9.23375955e-04 9.60201431e-04\n",
      "  9.93874534e-04 1.03973468e-03 1.07261165e-03 1.11086346e-03\n",
      "  1.15388290e-03 1.21488216e-03 1.26702236e-03 1.33760216e-03\n",
      "  1.39971403e-03 1.47157502e-03 1.55372756e-03 1.65323961e-03\n",
      "  1.72530881e-03 1.82950580e-03 1.89839218e-03 2.02335655e-03\n",
      "  2.11903231e-03 2.25140376e-03 2.35692225e-03 2.46469213e-03\n",
      "  2.59470088e-03 2.71566563e-03 2.86488820e-03 2.98581687e-03\n",
      "  3.09770610e-03 3.19440548e-03 3.35563556e-03 3.46131385e-03\n",
      "  3.58979692e-03 3.68916103e-03 3.82437089e-03 3.98231040e-03\n",
      "  4.12081353e-03 4.22721458e-03 4.40423691e-03 4.52543595e-03\n",
      "  4.56953607e-03 4.71217817e-03 4.82867465e-03 4.90412509e-03\n",
      "  5.01803076e-03 5.10642808e-03 5.20475864e-03 5.38556681e-03\n",
      "  5.59557480e-03 5.81747818e-03 6.02299001e-03 6.13515385e-03\n",
      "  6.34561125e-03 6.58391477e-03 6.74694937e-03 6.80818912e-03\n",
      "  6.76056002e-03 6.78601346e-03 6.80034743e-03 6.86210881e-03\n",
      "  6.88252637e-03 6.88985945e-03 6.85140389e-03 6.78314624e-03\n",
      "  6.80464747e-03 6.69143679e-03 6.78593337e-03 6.78826292e-03\n",
      "  6.83233264e-03 6.97135798e-03 7.15167086e-03 7.35778893e-03\n",
      "  7.41320979e-03 7.70196883e-03 7.90032760e-03 8.01967130e-03\n",
      "  8.32006906e-03 8.59455077e-03 8.77572421e-03 8.97406517e-03\n",
      "  9.25427903e-03 9.58723280e-03 9.75073802e-03 1.01856712e-02\n",
      "  1.06351017e-02 1.09377680e-02 1.15499173e-02 1.19899270e-02\n",
      "  1.24801040e-02 1.31401243e-02 1.33216900e-02 1.39386194e-02\n",
      "  1.42631809e-02 1.44519812e-02 1.47229834e-02 1.46376548e-02\n",
      "  1.48077713e-02 1.45558654e-02 1.43276220e-02 1.44215522e-02\n",
      "  1.42025531e-02 1.39838751e-02 1.40240155e-02 1.40875595e-02\n",
      "  1.42056191e-02 1.41687879e-02 1.38422923e-02 1.33654341e-02\n",
      "  1.30930391e-02 1.25827035e-02 1.24012496e-02 1.21703664e-02\n",
      "  1.21160773e-02 1.21614839e-02 1.20654292e-02 1.20025192e-02\n",
      "  1.18311368e-02 1.19608463e-02 1.17266024e-02 1.16215473e-02\n",
      "  1.16178910e-02 1.12737265e-02 1.12266448e-02 1.12233262e-02\n",
      "  1.11711979e-02 1.10451708e-02 1.10143723e-02 1.10353608e-02\n",
      "  1.08700337e-02 1.09667575e-02 1.09442063e-02 1.07195820e-02\n",
      "  1.05515835e-02 1.05626516e-02]]\n"
     ]
    },
    {
     "data": {
      "text/plain": "<Figure size 640x480 with 1 Axes>",
      "image/png": "[encoded data removed]"
     },
     "metadata": {},
     "output_type": "display_data"
    }
   ],
   "source": [
    "csv_file_path = '/home/ben/Schreibtisch/Enstropy Brachet/Brachet/Brachet_1983_tgv3d_enstrophy_Re5000.csv'\n",
    "\n",
    "# Daten aus der CSV-Datei lesen\n",
    "csv_data = []\n",
    "with open(csv_file_path, 'r') as file:\n",
    "    csv_reader = csv.reader(file, delimiter=';')\n",
    "    for row in csv_reader:\n",
    "        csv_data.append(row)\n",
    "\n",
    "csv_data = np.array(csv_data, dtype=float)\n",
    "print(dissipationEkin)\n",
    "\n",
    "plt.plot(dissipationEkin[0,:],dissipationEkin[1,:],color = 'blue')\n",
    "plt.plot(dissipationEns[0,:],dissipationEns[1,:], color = 'green')\n",
    "plt.xlim(0,10)\n",
    "plt.plot(dissipationSij[0,:],dissipationSij[1,:])\n",
    "plt.scatter(csv_data[:, 0], csv_data[:, 1], color='red', label='CSV Data')\n",
    "plt.title('Energy Dissipation')\n",
    "plt.xlabel('Time')\n",
    "plt.ylabel('Energy Dissipation in physical units')\n",
    "plt.show()"
   ],
   "metadata": {
    "collapsed": false,
    "ExecuteTime": {
     "end_time": "2023-12-06T13:04:44.956221753Z",
     "start_time": "2023-12-06T13:04:44.876225330Z"
    }
   }
  },
  {
   "cell_type": "code",
   "execution_count": 7,
   "outputs": [],
   "source": [],
   "metadata": {
    "collapsed": false,
    "ExecuteTime": {
     "end_time": "2023-12-06T13:04:23.552244267Z",
     "start_time": "2023-12-06T13:04:23.550370050Z"
    }
   }
  },
  {
   "cell_type": "code",
   "execution_count": 7,
   "outputs": [],
   "source": [],
   "metadata": {
    "collapsed": false
   }
  }
 ],
 "metadata": {
  "kernelspec": {
   "display_name": "Python 3 (ipykernel)",
   "language": "python",
   "name": "python3"
  },
  "language_info": {
   "codemirror_mode": {
    "name": "ipython",
    "version": 3
   },
   "file_extension": ".py",
   "mimetype": "text/x-python",
   "name": "python",
   "nbconvert_exporter": "python",
   "pygments_lexer": "ipython3",
   "version": "3.11.3"
  }
 },
 "nbformat": 4,
 "nbformat_minor": 1
}
