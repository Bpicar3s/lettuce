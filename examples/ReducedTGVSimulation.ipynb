{
 "cells": [
  {
   "cell_type": "code",
   "execution_count": 1,
   "metadata": {
    "collapsed": true,
    "ExecuteTime": {
     "end_time": "2023-12-16T09:52:18.834678852Z",
     "start_time": "2023-12-16T09:52:17.622344552Z"
    }
   },
   "outputs": [],
   "source": [
    "import lettuce as lt\n",
    "import matplotlib.pyplot as plt\n",
    "import numpy as np\n",
    "import torch\n",
    "import os\n",
    "import csv\n",
    "from argparse import ArgumentParser, ArgumentDefaultsHelpFormatter\n"
   ]
  },
  {
   "cell_type": "code",
   "execution_count": 2,
   "outputs": [
    {
     "name": "stdout",
     "output_type": "stream",
     "text": [
      "ICH FUNKTIONIERE MIT PULLEN\n"
     ]
    }
   ],
   "source": [
    "parser = ArgumentParser(formatter_class=ArgumentDefaultsHelpFormatter)\n",
    "parser.add_argument(\"--vtkdir\", type=str, help=\"name base of vtk files - they are usually in a vtk-subdirectory!\", default=\"./output/\")\n",
    "parser.add_argument(\"--csvdir\", type=str, default=\"./output/\")\n",
    "parser.add_argument(\"--resolution\", type=int, default=32)\n",
    "parser.add_argument(\"--nout\", type=int, default=100)\n",
    "parser.add_argument(\"--nvtk\", type=int, default=200)\n",
    "parser.add_argument(\"--tmax\", type=int, default=10)\n",
    "parser.add_argument(\"--Re\", type=int, default=5000)\n",
    "args, unknown = parser.parse_known_args()\n",
    "args = vars(args)\n",
    "print(\"ICH FUNKTIONIERE MIT PULLEN\")\n",
    "Re=args[\"Re\"]\n",
    "basedir = args[\"vtkdir\"]\n",
    "csvdir = args[\"csvdir\"]\n",
    "res = args[\"resolution\"]\n",
    "nout = args[\"nout\"]\n",
    "nvtk = args[\"nvtk\"]\n",
    "tmax = args[\"tmax\"]\n",
    "\n",
    "\n"
   ],
   "metadata": {
    "collapsed": false,
    "ExecuteTime": {
     "end_time": "2023-12-16T09:52:18.842529773Z",
     "start_time": "2023-12-16T09:52:18.840519299Z"
    }
   }
  },
  {
   "cell_type": "code",
   "execution_count": 3,
   "metadata": {
    "ExecuteTime": {
     "end_time": "2023-12-16T09:52:18.920102696Z",
     "start_time": "2023-12-16T09:52:18.843814632Z"
    }
   },
   "outputs": [
    {
     "name": "stdout",
     "output_type": "stream",
     "text": [
      "7057.009861398938\n",
      "0.50035285049307\n"
     ]
    }
   ],
   "source": [
    "lattice = lt.Lattice(lt.D3Q27, device = \"cuda\", dtype=torch.float64)\n",
    "\n",
    "flow = lt.SuperReducedTaylorGreenVortex3D(resolution=res, reynolds_number=Re, mach_number=0.05, lattice=lattice)\n",
    "print(flow.units.convert_time_to_lu(tmax))\n",
    "collision = lt.BGKCollision(lattice, tau=flow.units.relaxation_parameter_lu)\n",
    "print(flow.units.relaxation_parameter_lu)\n",
    "streaming = lt.StandardStreaming(lattice)\n",
    "simulation = lt.SimulationReducedTGV(flow=flow, lattice=lattice, collision=collision, streaming=streaming)"
   ]
  },
  {
   "cell_type": "code",
   "execution_count": 4,
   "metadata": {
    "ExecuteTime": {
     "end_time": "2023-12-16T09:52:18.921135180Z",
     "start_time": "2023-12-16T09:52:18.916206884Z"
    }
   },
   "outputs": [
    {
     "name": "stdout",
     "output_type": "stream",
     "text": [
      "steps     time     IncompressibleKineticEnergy\n",
      "steps     time     Dissipation_TGV\n"
     ]
    }
   ],
   "source": [
    "interval_vtk=int((flow.units.convert_time_to_lu(tmax))/100)\n",
    "interval_out=int((flow.units.convert_time_to_lu(tmax))/200)\n",
    "Energy = lt.IncompressibleKineticEnergy(lattice, flow)\n",
    "Dissipation_TGV=lt.Dissipation_TGV(lattice, flow)\n",
    "reporter = lt.ObservableReporter(Energy, interval=interval_out, out=None)\n",
    "reporter2= lt.ObservableReporter(Dissipation_TGV, interval=interval_out, out=None)\n",
    "simulation.reporters.append(reporter)\n",
    "simulation.reporters.append(reporter2)\n",
    "simulation.reporters.append(lt.VTKReporter(lattice, flow, interval=interval_vtk, filename_base=basedir+\"out\"))"
   ]
  },
  {
   "cell_type": "code",
   "execution_count": 5,
   "metadata": {
    "ExecuteTime": {
     "end_time": "2023-12-16T09:56:51.972898213Z",
     "start_time": "2023-12-16T09:52:18.922530247Z"
    }
   },
   "outputs": [],
   "source": [
    "simulation.initialize_f_neq()\n",
    "steps = int(flow.units.convert_time_to_lu(tmax))\n",
    "\n",
    "mlups = simulation.step(num_steps=steps)\n",
    "#print(\"Performance in MLUPS:\", mlups)\n"
   ]
  },
  {
   "cell_type": "code",
   "execution_count": 6,
   "outputs": [],
   "source": [
    "energy = np.array(simulation.reporters[0].out)\n",
    "dissipation = np.array(simulation.reporters[1].out)\n",
    "\n",
    "dissipationEkin=np.array([energy[:,1],-1/(np.pi*2)**3*np.gradient(64*energy[:,2],energy[:,1])])\n",
    "dissipationEns=np.array([dissipation[:,1],1/(0.5*np.pi)**3*dissipation[:,3]])\n",
    "dissipationSij=np.array([dissipation[:,1],dissipation[:,2]])\n",
    "\n",
    "with open(csvdir + 'DissipationEkin.csv', 'w', newline='') as file:\n",
    "    writer = csv.writer(file)\n",
    "    writer.writerows(dissipationEkin)\n",
    "with open(csvdir + 'DissipationEnstrophy.csv', 'w', newline='') as file:\n",
    "    writer = csv.writer(file)\n",
    "    writer.writerows(dissipationEns)\n",
    "with open(csvdir + 'DissipationSij.csv', 'w', newline='') as file:\n",
    "    writer = csv.writer(file)\n",
    "    writer.writerows(dissipationSij)"
   ],
   "metadata": {
    "collapsed": false,
    "ExecuteTime": {
     "end_time": "2023-12-16T09:56:52.009402967Z",
     "start_time": "2023-12-16T09:56:52.002385186Z"
    }
   }
  },
  {
   "cell_type": "code",
   "execution_count": 7,
   "outputs": [
    {
     "name": "stdout",
     "output_type": "stream",
     "text": [
      "[[0.00000000e+00 4.95960764e-02 9.91921527e-02 1.48788229e-01\n",
      "  1.98384305e-01 2.47980382e-01 2.97576458e-01 3.47172535e-01\n",
      "  3.96768611e-01 4.46364687e-01 4.95960764e-01 5.45556840e-01\n",
      "  5.95152916e-01 6.44748993e-01 6.94345069e-01 7.43941145e-01\n",
      "  7.93537222e-01 8.43133298e-01 8.92729375e-01 9.42325451e-01\n",
      "  9.91921527e-01 1.04151760e+00 1.09111368e+00 1.14070976e+00\n",
      "  1.19030583e+00 1.23990191e+00 1.28949799e+00 1.33909406e+00\n",
      "  1.38869014e+00 1.43828621e+00 1.48788229e+00 1.53747837e+00\n",
      "  1.58707444e+00 1.63667052e+00 1.68626660e+00 1.73586267e+00\n",
      "  1.78545875e+00 1.83505483e+00 1.88465090e+00 1.93424698e+00\n",
      "  1.98384305e+00 2.03343913e+00 2.08303521e+00 2.13263128e+00\n",
      "  2.18222736e+00 2.23182344e+00 2.28141951e+00 2.33101559e+00\n",
      "  2.38061167e+00 2.43020774e+00 2.47980382e+00 2.52939989e+00\n",
      "  2.57899597e+00 2.62859205e+00 2.67818812e+00 2.72778420e+00\n",
      "  2.77738028e+00 2.82697635e+00 2.87657243e+00 2.92616851e+00\n",
      "  2.97576458e+00 3.02536066e+00 3.07495673e+00 3.12455281e+00\n",
      "  3.17414889e+00 3.22374496e+00 3.27334104e+00 3.32293712e+00\n",
      "  3.37253319e+00 3.42212927e+00 3.47172535e+00 3.52132142e+00\n",
      "  3.57091750e+00 3.62051357e+00 3.67010965e+00 3.71970573e+00\n",
      "  3.76930180e+00 3.81889788e+00 3.86849396e+00 3.91809003e+00\n",
      "  3.96768611e+00 4.01728219e+00 4.06687826e+00 4.11647434e+00\n",
      "  4.16607041e+00 4.21566649e+00 4.26526257e+00 4.31485864e+00\n",
      "  4.36445472e+00 4.41405080e+00 4.46364687e+00 4.51324295e+00\n",
      "  4.56283903e+00 4.61243510e+00 4.66203118e+00 4.71162725e+00\n",
      "  4.76122333e+00 4.81081941e+00 4.86041548e+00 4.91001156e+00\n",
      "  4.95960764e+00 5.00920371e+00 5.05879979e+00 5.10839587e+00\n",
      "  5.15799194e+00 5.20758802e+00 5.25718409e+00 5.30678017e+00\n",
      "  5.35637625e+00 5.40597232e+00 5.45556840e+00 5.50516448e+00\n",
      "  5.55476055e+00 5.60435663e+00 5.65395271e+00 5.70354878e+00\n",
      "  5.75314486e+00 5.80274093e+00 5.85233701e+00 5.90193309e+00\n",
      "  5.95152916e+00 6.00112524e+00 6.05072132e+00 6.10031739e+00\n",
      "  6.14991347e+00 6.19950955e+00 6.24910562e+00 6.29870170e+00\n",
      "  6.34829777e+00 6.39789385e+00 6.44748993e+00 6.49708600e+00\n",
      "  6.54668208e+00 6.59627816e+00 6.64587423e+00 6.69547031e+00\n",
      "  6.74506639e+00 6.79466246e+00 6.84425854e+00 6.89385461e+00\n",
      "  6.94345069e+00 6.99304677e+00 7.04264284e+00 7.09223892e+00\n",
      "  7.14183500e+00 7.19143107e+00 7.24102715e+00 7.29062323e+00\n",
      "  7.34021930e+00 7.38981538e+00 7.43941145e+00 7.48900753e+00\n",
      "  7.53860361e+00 7.58819968e+00 7.63779576e+00 7.68739184e+00\n",
      "  7.73698791e+00 7.78658399e+00 7.83618007e+00 7.88577614e+00\n",
      "  7.93537222e+00 7.98496829e+00 8.03456437e+00 8.08416045e+00\n",
      "  8.13375652e+00 8.18335260e+00 8.23294868e+00 8.28254475e+00\n",
      "  8.33214083e+00 8.38173691e+00 8.43133298e+00 8.48092906e+00\n",
      "  8.53052513e+00 8.58012121e+00 8.62971729e+00 8.67931336e+00\n",
      "  8.72890944e+00 8.77850552e+00 8.82810159e+00 8.87769767e+00\n",
      "  8.92729375e+00 8.97688982e+00 9.02648590e+00 9.07608197e+00\n",
      "  9.12567805e+00 9.17527413e+00 9.22487020e+00 9.27446628e+00\n",
      "  9.32406236e+00 9.37365843e+00 9.42325451e+00 9.47285059e+00\n",
      "  9.52244666e+00 9.57204274e+00 9.62163881e+00 9.67123489e+00\n",
      "  9.72083097e+00 9.77042704e+00 9.82002312e+00 9.86961920e+00\n",
      "  9.91921527e+00 9.96881135e+00]\n",
      " [1.47419005e-04 1.48065079e-04 1.49663390e-04 1.50370617e-04\n",
      "  1.51176746e-04 1.53342361e-04 1.52961098e-04 1.51865960e-04\n",
      "  1.52114583e-04 1.53601681e-04 1.56204709e-04 1.58420624e-04\n",
      "  1.58458128e-04 1.57464148e-04 1.59159267e-04 1.61989614e-04\n",
      "  1.65580808e-04 1.67180132e-04 1.67204048e-04 1.67782235e-04\n",
      "  1.71144992e-04 1.75129419e-04 1.78203254e-04 1.79911839e-04\n",
      "  1.80593153e-04 1.83536120e-04 1.87976453e-04 1.92400176e-04\n",
      "  1.94951201e-04 1.97295603e-04 1.99893848e-04 2.04234194e-04\n",
      "  2.09521272e-04 2.13765220e-04 2.16618417e-04 2.20106863e-04\n",
      "  2.24853383e-04 2.30006163e-04 2.35740427e-04 2.40291084e-04\n",
      "  2.44000430e-04 2.49332655e-04 2.55531460e-04 2.61668576e-04\n",
      "  2.67632133e-04 2.73162836e-04 2.78738867e-04 2.85662892e-04\n",
      "  2.93134445e-04 3.00428872e-04 3.07240765e-04 3.14326833e-04\n",
      "  3.22367162e-04 3.30590702e-04 3.39630436e-04 3.48374365e-04\n",
      "  3.56850823e-04 3.66295120e-04 3.76500868e-04 3.86641557e-04\n",
      "  3.97662315e-04 4.08512199e-04 4.19789629e-04 4.32218135e-04\n",
      "  4.45014465e-04 4.58555471e-04 4.72883650e-04 4.87941031e-04\n",
      "  5.04366279e-04 5.22136862e-04 5.41467956e-04 5.63114530e-04\n",
      "  5.86644941e-04 6.13799530e-04 6.44486856e-04 6.78997176e-04\n",
      "  7.18385689e-04 7.62616025e-04 8.11149310e-04 8.65378321e-04\n",
      "  9.23183166e-04 9.85390256e-04 1.05080786e-03 1.12230190e-03\n",
      "  1.19469439e-03 1.27262695e-03 1.34923974e-03 1.41682910e-03\n",
      "  1.48961947e-03 1.52882543e-03 1.58923881e-03 1.64296439e-03\n",
      "  1.70446041e-03 1.78186358e-03 1.85714467e-03 1.96020930e-03\n",
      "  2.03573344e-03 2.15701202e-03 2.22662650e-03 2.31736981e-03\n",
      "  2.38185301e-03 2.45040160e-03 2.52919459e-03 2.56992910e-03\n",
      "  2.68240634e-03 2.73566670e-03 2.79469521e-03 2.82562176e-03\n",
      "  2.86427141e-03 2.82504252e-03 2.85270512e-03 2.84796836e-03\n",
      "  2.85078785e-03 2.90059280e-03 2.95790450e-03 3.04840388e-03\n",
      "  3.11651526e-03 3.26196492e-03 3.34342398e-03 3.48325706e-03\n",
      "  3.60200770e-03 3.68469962e-03 3.78465685e-03 3.87776382e-03\n",
      "  4.04651620e-03 4.20531673e-03 4.42405235e-03 4.62715432e-03\n",
      "  4.80502004e-03 4.89487802e-03 4.95405701e-03 5.03198914e-03\n",
      "  5.05685613e-03 5.07902421e-03 5.16533717e-03 5.22133006e-03\n",
      "  5.31848761e-03 5.38997246e-03 5.44847647e-03 5.55966754e-03\n",
      "  5.71617448e-03 5.89550649e-03 6.03041330e-03 6.28005590e-03\n",
      "  6.53096905e-03 6.68725968e-03 6.82851172e-03 7.01055211e-03\n",
      "  7.13541065e-03 7.29903351e-03 7.42359088e-03 7.50181476e-03\n",
      "  7.75162415e-03 7.84706436e-03 8.16233887e-03 8.32553258e-03\n",
      "  8.61865297e-03 9.08944205e-03 9.55916618e-03 1.02410706e-02\n",
      "  1.04729007e-02 1.07429365e-02 1.07876691e-02 1.10268144e-02\n",
      "  1.12669498e-02 1.15704194e-02 1.17169388e-02 1.20137729e-02\n",
      "  1.24830631e-02 1.28000978e-02 1.33674640e-02 1.35636635e-02\n",
      "  1.38754184e-02 1.38704436e-02 1.38169888e-02 1.39989834e-02\n",
      "  1.38617728e-02 1.37384465e-02 1.32521649e-02 1.28504070e-02\n",
      "  1.23459946e-02 1.20938874e-02 1.19476248e-02 1.16323694e-02\n",
      "  1.15937497e-02 1.13325008e-02 1.12623756e-02 1.11821929e-02\n",
      "  1.09222073e-02 1.10289685e-02 1.11113803e-02 1.10863272e-02\n",
      "  1.11647643e-02 1.11520186e-02 1.12712221e-02 1.14208877e-02\n",
      "  1.15273042e-02 1.17664613e-02 1.20735945e-02 1.19579581e-02\n",
      "  1.20869577e-02 1.24101980e-02]]\n"
     ]
    },
    {
     "data": {
      "text/plain": "<Figure size 640x480 with 1 Axes>",
      "image/png": "[encoded data removed]"
     },
     "metadata": {},
     "output_type": "display_data"
    }
   ],
   "source": [
    "csv_file_path = '/home/ben/Schreibtisch/Enstropy Brachet/Brachet/Brachet_1983_tgv3d_enstrophy_Re400.csv'\n",
    "\n",
    "# Daten aus der CSV-Datei lesen\n",
    "csv_data = []\n",
    "with open(csv_file_path, 'r') as file:\n",
    "    csv_reader = csv.reader(file, delimiter=';')\n",
    "    for row in csv_reader:\n",
    "        csv_data.append(row)\n",
    "\n",
    "csv_data = np.array(csv_data, dtype=float)\n",
    "print(dissipationEkin)\n",
    "\n",
    "plt.plot(dissipationEkin[0,:],dissipationEkin[1,:],color = 'blue')\n",
    "plt.plot(dissipationEns[0,:],dissipationEns[1,:], color = 'green')\n",
    "plt.xlim(0,10)\n",
    "plt.plot(dissipationSij[0,:],dissipationSij[1,:])\n",
    "plt.scatter(csv_data[:, 0], csv_data[:, 1], color='red', label='CSV Data')\n",
    "plt.title('Energy Dissipation')\n",
    "plt.xlabel('Time')\n",
    "plt.ylabel('Energy Dissipation in physical units')\n",
    "plt.show()"
   ],
   "metadata": {
    "collapsed": false,
    "ExecuteTime": {
     "end_time": "2023-12-16T09:56:52.104838660Z",
     "start_time": "2023-12-16T09:56:52.002770972Z"
    }
   }
  },
  {
   "cell_type": "code",
   "execution_count": 7,
   "outputs": [],
   "source": [],
   "metadata": {
    "collapsed": false,
    "ExecuteTime": {
     "end_time": "2023-12-16T09:56:52.109092700Z",
     "start_time": "2023-12-16T09:56:52.104210365Z"
    }
   }
  },
  {
   "cell_type": "code",
   "execution_count": 7,
   "outputs": [],
   "source": [],
   "metadata": {
    "collapsed": false,
    "ExecuteTime": {
     "end_time": "2023-12-16T09:56:52.109509830Z",
     "start_time": "2023-12-16T09:56:52.106673106Z"
    }
   }
  }
 ],
 "metadata": {
  "kernelspec": {
   "display_name": "Python 3 (ipykernel)",
   "language": "python",
   "name": "python3"
  },
  "language_info": {
   "codemirror_mode": {
    "name": "ipython",
    "version": 3
   },
   "file_extension": ".py",
   "mimetype": "text/x-python",
   "name": "python",
   "nbconvert_exporter": "python",
   "pygments_lexer": "ipython3",
   "version": "3.11.3"
  }
 },
 "nbformat": 4,
 "nbformat_minor": 1
}
