{
 "cells": [
  {
   "cell_type": "code",
   "execution_count": 1,
   "metadata": {
    "collapsed": true,
    "ExecuteTime": {
     "end_time": "2023-12-01T13:44:25.657574006Z",
     "start_time": "2023-12-01T13:44:24.584543724Z"
    }
   },
   "outputs": [],
   "source": [
    "import lettuce as lt\n",
    "import matplotlib.pyplot as plt\n",
    "import numpy as np\n",
    "import torch\n",
    "import os\n",
    "import csv\n",
    "from argparse import ArgumentParser, ArgumentDefaultsHelpFormatter\n"
   ]
  },
  {
   "cell_type": "code",
   "execution_count": 2,
   "outputs": [],
   "source": [
    "parser = ArgumentParser(formatter_class=ArgumentDefaultsHelpFormatter)\n",
    "parser.add_argument(\"--vtkdir\", type=str, help=\"name base of vtk files - they are usually in a vtk-subdirectory!\", default=\"./output/\")\n",
    "parser.add_argument(\"--csvdir\", type=str, default=\"./output/\")\n",
    "parser.add_argument(\"--resolution\", type=int, default=64)\n",
    "parser.add_argument(\"--nout\", type=int, default=10)\n",
    "parser.add_argument(\"--nvtk\", type=int, default=200)\n",
    "parser.add_argument(\"--tmax\", type=int, default=10)\n",
    "parser.add_argument(\"--Re\", type=int, default=100)\n",
    "args, unknown = parser.parse_known_args()\n",
    "args = vars(args)\n",
    "\n",
    "Re=args[\"Re\"]\n",
    "basedir = args[\"vtkdir\"]\n",
    "csvdir = args[\"csvdir\"]\n",
    "res = args[\"resolution\"]\n",
    "nout = args[\"nout\"]\n",
    "nvtk = args[\"nvtk\"]\n",
    "tmax = args[\"tmax\"]\n",
    "\n",
    "\n"
   ],
   "metadata": {
    "collapsed": false,
    "ExecuteTime": {
     "end_time": "2023-12-01T13:44:25.662530808Z",
     "start_time": "2023-12-01T13:44:25.660636353Z"
    }
   }
  },
  {
   "cell_type": "code",
   "execution_count": 3,
   "metadata": {
    "ExecuteTime": {
     "end_time": "2023-12-01T13:44:25.896278995Z",
     "start_time": "2023-12-01T13:44:25.663106588Z"
    }
   },
   "outputs": [
    {
     "name": "stdout",
     "output_type": "stream",
     "text": [
      "14114.019722797875\n",
      "0.5352850493069947\n"
     ]
    }
   ],
   "source": [
    "lattice = lt.Lattice(lt.D3Q27, device = \"cuda\", dtype=torch.float64)\n",
    "\n",
    "flow = lt.SuperReducedTaylorGreenVortex3D(resolution=res, reynolds_number=Re, mach_number=0.05, lattice=lattice)\n",
    "print(flow.units.convert_time_to_lu(tmax))\n",
    "collision = lt.KCBCollision3D(lattice, tau=flow.units.relaxation_parameter_lu)\n",
    "print(flow.units.relaxation_parameter_lu)\n",
    "streaming = lt.StandardStreaming(lattice)\n",
    "simulation = lt.SimulationReducedTGV(flow=flow, lattice=lattice, collision=collision, streaming=streaming)"
   ]
  },
  {
   "cell_type": "code",
   "execution_count": 4,
   "metadata": {
    "ExecuteTime": {
     "end_time": "2023-12-01T13:44:25.900684237Z",
     "start_time": "2023-12-01T13:44:25.897896211Z"
    }
   },
   "outputs": [
    {
     "name": "stdout",
     "output_type": "stream",
     "text": [
      "steps     time     IncompressibleKineticEnergy\n",
      "steps     time     Dissipation_TGV\n"
     ]
    }
   ],
   "source": [
    "interval_vtk=int((flow.units.convert_time_to_lu(tmax))/2)\n",
    "interval_out=int((flow.units.convert_time_to_lu(tmax))/200)\n",
    "Energy = lt.IncompressibleKineticEnergy(lattice, flow)\n",
    "Dissipation_TGV=lt.Dissipation_TGV(lattice, flow)\n",
    "reporter = lt.ObservableReporter(Energy, interval=interval_out, out=None)\n",
    "reporter2= lt.ObservableReporter(Dissipation_TGV, interval=interval_out, out=None)\n",
    "simulation.reporters.append(reporter)\n",
    "simulation.reporters.append(reporter2)\n",
    "simulation.reporters.append(lt.VTKReporter(lattice, flow, interval=interval_vtk, filename_base=basedir+\"out\"))"
   ]
  },
  {
   "cell_type": "code",
   "execution_count": 5,
   "metadata": {
    "ExecuteTime": {
     "end_time": "2023-12-01T13:51:40.911643882Z",
     "start_time": "2023-12-01T13:44:25.901543119Z"
    }
   },
   "outputs": [],
   "source": [
    "simulation.initialize_f_neq()\n",
    "steps = int(flow.units.convert_time_to_lu(tmax))\n",
    "mlups = simulation.step(num_steps=steps)\n",
    "#print(\"Performance in MLUPS:\", mlups)\n"
   ]
  },
  {
   "cell_type": "code",
   "execution_count": 6,
   "outputs": [],
   "source": [
    "energy = np.array(simulation.reporters[0].out)\n",
    "dissipation = np.array(simulation.reporters[1].out)\n",
    "\n",
    "dissipationEkin=np.array([energy[:,1],-1/(np.pi*2)**3*np.gradient(64*energy[:,2],energy[:,1])])\n",
    "dissipationEns=np.array([dissipation[:,1],1/(0.5*np.pi)**3*dissipation[:,3]])\n",
    "dissipationSij=np.array([dissipation[:,1],dissipation[:,2]])\n",
    "\n",
    "with open(csvdir + 'DissipationEkin.csv', 'w', newline='') as file:\n",
    "    writer = csv.writer(file)\n",
    "    writer.writerows(dissipationEkin)\n",
    "with open(csvdir + 'DissipationEnstrophy.csv', 'w', newline='') as file:\n",
    "    writer = csv.writer(file)\n",
    "    writer.writerows(dissipationEns)\n",
    "with open(csvdir + 'DissipationSij.csv', 'w', newline='') as file:\n",
    "    writer = csv.writer(file)\n",
    "    writer.writerows(dissipationSij)"
   ],
   "metadata": {
    "collapsed": false,
    "ExecuteTime": {
     "end_time": "2023-12-01T13:51:40.956734121Z",
     "start_time": "2023-12-01T13:51:40.956396242Z"
    }
   }
  },
  {
   "cell_type": "code",
   "execution_count": 7,
   "outputs": [
    {
     "name": "stdout",
     "output_type": "stream",
     "text": [
      "[[0.00000000e+00 4.95960764e-02 9.91921527e-02 1.48788229e-01\n",
      "  1.98384305e-01 2.47980382e-01 2.97576458e-01 3.47172535e-01\n",
      "  3.96768611e-01 4.46364687e-01 4.95960764e-01 5.45556840e-01\n",
      "  5.95152916e-01 6.44748993e-01 6.94345069e-01 7.43941145e-01\n",
      "  7.93537222e-01 8.43133298e-01 8.92729375e-01 9.42325451e-01\n",
      "  9.91921527e-01 1.04151760e+00 1.09111368e+00 1.14070976e+00\n",
      "  1.19030583e+00 1.23990191e+00 1.28949799e+00 1.33909406e+00\n",
      "  1.38869014e+00 1.43828621e+00 1.48788229e+00 1.53747837e+00\n",
      "  1.58707444e+00 1.63667052e+00 1.68626660e+00 1.73586267e+00\n",
      "  1.78545875e+00 1.83505483e+00 1.88465090e+00 1.93424698e+00\n",
      "  1.98384305e+00 2.03343913e+00 2.08303521e+00 2.13263128e+00\n",
      "  2.18222736e+00 2.23182344e+00 2.28141951e+00 2.33101559e+00\n",
      "  2.38061167e+00 2.43020774e+00 2.47980382e+00 2.52939989e+00\n",
      "  2.57899597e+00 2.62859205e+00 2.67818812e+00 2.72778420e+00\n",
      "  2.77738028e+00 2.82697635e+00 2.87657243e+00 2.92616851e+00\n",
      "  2.97576458e+00 3.02536066e+00 3.07495673e+00 3.12455281e+00\n",
      "  3.17414889e+00 3.22374496e+00 3.27334104e+00 3.32293712e+00\n",
      "  3.37253319e+00 3.42212927e+00 3.47172535e+00 3.52132142e+00\n",
      "  3.57091750e+00 3.62051357e+00 3.67010965e+00 3.71970573e+00\n",
      "  3.76930180e+00 3.81889788e+00 3.86849396e+00 3.91809003e+00\n",
      "  3.96768611e+00 4.01728219e+00 4.06687826e+00 4.11647434e+00\n",
      "  4.16607041e+00 4.21566649e+00 4.26526257e+00 4.31485864e+00\n",
      "  4.36445472e+00 4.41405080e+00 4.46364687e+00 4.51324295e+00\n",
      "  4.56283903e+00 4.61243510e+00 4.66203118e+00 4.71162725e+00\n",
      "  4.76122333e+00 4.81081941e+00 4.86041548e+00 4.91001156e+00\n",
      "  4.95960764e+00 5.00920371e+00 5.05879979e+00 5.10839587e+00\n",
      "  5.15799194e+00 5.20758802e+00 5.25718409e+00 5.30678017e+00\n",
      "  5.35637625e+00 5.40597232e+00 5.45556840e+00 5.50516448e+00\n",
      "  5.55476055e+00 5.60435663e+00 5.65395271e+00 5.70354878e+00\n",
      "  5.75314486e+00 5.80274093e+00 5.85233701e+00 5.90193309e+00\n",
      "  5.95152916e+00 6.00112524e+00 6.05072132e+00 6.10031739e+00\n",
      "  6.14991347e+00 6.19950955e+00 6.24910562e+00 6.29870170e+00\n",
      "  6.34829777e+00 6.39789385e+00 6.44748993e+00 6.49708600e+00\n",
      "  6.54668208e+00 6.59627816e+00 6.64587423e+00 6.69547031e+00\n",
      "  6.74506639e+00 6.79466246e+00 6.84425854e+00 6.89385461e+00\n",
      "  6.94345069e+00 6.99304677e+00 7.04264284e+00 7.09223892e+00\n",
      "  7.14183500e+00 7.19143107e+00 7.24102715e+00 7.29062323e+00\n",
      "  7.34021930e+00 7.38981538e+00 7.43941145e+00 7.48900753e+00\n",
      "  7.53860361e+00 7.58819968e+00 7.63779576e+00 7.68739184e+00\n",
      "  7.73698791e+00 7.78658399e+00 7.83618007e+00 7.88577614e+00\n",
      "  7.93537222e+00 7.98496829e+00 8.03456437e+00 8.08416045e+00\n",
      "  8.13375652e+00 8.18335260e+00 8.23294868e+00 8.28254475e+00\n",
      "  8.33214083e+00 8.38173691e+00 8.43133298e+00 8.48092906e+00\n",
      "  8.53052513e+00 8.58012121e+00 8.62971729e+00 8.67931336e+00\n",
      "  8.72890944e+00 8.77850552e+00 8.82810159e+00 8.87769767e+00\n",
      "  8.92729375e+00 8.97688982e+00 9.02648590e+00 9.07608197e+00\n",
      "  9.12567805e+00 9.17527413e+00 9.22487020e+00 9.27446628e+00\n",
      "  9.32406236e+00 9.37365843e+00 9.42325451e+00 9.47285059e+00\n",
      "  9.52244666e+00 9.57204274e+00 9.62163881e+00 9.67123489e+00\n",
      "  9.72083097e+00 9.77042704e+00 9.82002312e+00 9.86961920e+00\n",
      "  9.91921527e+00 9.96881135e+00]\n",
      " [7.61066210e-03 7.64532838e-03 7.67225265e-03 7.65872721e-03\n",
      "  7.64621256e-03 7.63732430e-03 7.63573949e-03 7.63474694e-03\n",
      "  7.63551104e-03 7.64406387e-03 7.65368871e-03 7.66442608e-03\n",
      "  7.68218382e-03 7.70269196e-03 7.72324310e-03 7.75007627e-03\n",
      "  7.78130536e-03 7.81151081e-03 7.84782417e-03 7.88863152e-03\n",
      "  7.92946398e-03 7.97409925e-03 8.02507806e-03 8.07551117e-03\n",
      "  8.12896773e-03 8.18904081e-03 8.24900334e-03 8.31122386e-03\n",
      "  8.37913463e-03 8.44871675e-03 8.51837189e-03 8.59437117e-03\n",
      "  8.67175093e-03 8.74910521e-03 8.83122863e-03 8.91601338e-03\n",
      "  8.99984901e-03 9.08706360e-03 9.17796071e-03 9.26690666e-03\n",
      "  9.35843940e-03 9.45332169e-03 9.54656434e-03 9.64062925e-03\n",
      "  9.73822227e-03 9.83415072e-03 9.92934602e-03 1.00279533e-02\n",
      "  1.01248870e-02 1.02203484e-02 1.03178204e-02 1.04146038e-02\n",
      "  1.05086519e-02 1.06039199e-02 1.06989903e-02 1.07904744e-02\n",
      "  1.08823796e-02 1.09741685e-02 1.10624718e-02 1.11496048e-02\n",
      "  1.12374032e-02 1.13212071e-02 1.14032992e-02 1.14857479e-02\n",
      "  1.15645956e-02 1.16409825e-02 1.17173790e-02 1.17908033e-02\n",
      "  1.18608828e-02 1.19308681e-02 1.19982322e-02 1.20620347e-02\n",
      "  1.21249937e-02 1.21861287e-02 1.22433054e-02 1.22991423e-02\n",
      "  1.23537557e-02 1.24042138e-02 1.24529037e-02 1.25006884e-02\n",
      "  1.25444865e-02 1.25859795e-02 1.26267734e-02 1.26639172e-02\n",
      "  1.26982317e-02 1.27319061e-02 1.27623204e-02 1.27896096e-02\n",
      "  1.28159268e-02 1.28396296e-02 1.28598571e-02 1.28787091e-02\n",
      "  1.28955881e-02 1.29086348e-02 1.29200709e-02 1.29297284e-02\n",
      "  1.29357151e-02 1.29393842e-02 1.29417630e-02 1.29403318e-02\n",
      "  1.29363248e-02 1.29309464e-02 1.29220132e-02 1.29101869e-02\n",
      "  1.28967645e-02 1.28802492e-02 1.28603510e-02 1.28388697e-02\n",
      "  1.28144293e-02 1.27866349e-02 1.27567840e-02 1.27245583e-02\n",
      "  1.26887149e-02 1.26506972e-02 1.26105650e-02 1.25668690e-02\n",
      "  1.25208159e-02 1.24729179e-02 1.24216106e-02 1.23678010e-02\n",
      "  1.23123604e-02 1.22538211e-02 1.21926472e-02 1.21300265e-02\n",
      "  1.20646557e-02 1.19966918e-02 1.19272926e-02 1.18556787e-02\n",
      "  1.17814746e-02 1.17058589e-02 1.16286169e-02 1.15487649e-02\n",
      "  1.14676958e-02 1.13852746e-02 1.13007005e-02 1.12146610e-02\n",
      "  1.11279438e-02 1.10391258e-02 1.09491124e-02 1.08585424e-02\n",
      "  1.07663934e-02 1.06730353e-02 1.05793425e-02 1.04845789e-02\n",
      "  1.03885749e-02 1.02925195e-02 1.01956710e-02 1.00978960e-02\n",
      "  9.99996179e-03 9.90184041e-03 9.80278937e-03 9.70375335e-03\n",
      "  9.60481977e-03 9.50518973e-03 9.40559824e-03 9.30639016e-03\n",
      "  9.20674144e-03 9.10712449e-03 9.00813016e-03 8.90894680e-03\n",
      "  8.80980546e-03 8.71145373e-03 8.61314319e-03 8.51495967e-03\n",
      "  8.41755790e-03 8.32057847e-03 8.22366200e-03 8.12761536e-03\n",
      "  8.03221878e-03 7.93694335e-03 7.84253838e-03 7.74896094e-03\n",
      "  7.65566572e-03 7.56307769e-03 7.47162843e-03 7.38043281e-03\n",
      "  7.29002224e-03 7.20072782e-03 7.11195014e-03 7.02380054e-03\n",
      "  6.93686876e-03 6.85060617e-03 6.76490212e-03 6.68044194e-03\n",
      "  6.59676652e-03 6.51368235e-03 6.43171107e-03 6.35076313e-03\n",
      "  6.27032258e-03 6.19096864e-03 6.11272447e-03 6.03502802e-03\n",
      "  5.95831974e-03 5.88279079e-03 5.80788015e-03 5.73382992e-03\n",
      "  5.66102130e-03 5.58888411e-03 5.51752308e-03 5.44739326e-03\n",
      "  5.37801522e-03 5.34341861e-03]]\n"
     ]
    },
    {
     "data": {
      "text/plain": "<Figure size 640x480 with 1 Axes>",
      "image/png": "[encoded data removed]"
     },
     "metadata": {},
     "output_type": "display_data"
    }
   ],
   "source": [
    "csv_file_path = '/home/ben/Schreibtisch/Enstropy Brachet/Brachet/Brachet_1983_tgv3d_enstrophy_Re100.csv'\n",
    "\n",
    "# Daten aus der CSV-Datei lesen\n",
    "csv_data = []\n",
    "with open(csv_file_path, 'r') as file:\n",
    "    csv_reader = csv.reader(file, delimiter=';')\n",
    "    for row in csv_reader:\n",
    "        csv_data.append(row)\n",
    "\n",
    "csv_data = np.array(csv_data, dtype=float)\n",
    "print(dissipationEkin)\n",
    "\n",
    "plt.plot(dissipationEkin[0,:],dissipationEkin[1,:],color = 'blue')\n",
    "plt.plot(dissipationEns[0,:],dissipationEns[1,:], color = 'green')\n",
    "plt.xlim(0,10)\n",
    "plt.plot(dissipationSij[0,:],dissipationSij[1,:])\n",
    "plt.scatter(csv_data[:, 0], csv_data[:, 1], color='red', label='CSV Data')\n",
    "plt.title('Energy Dissipation')\n",
    "plt.xlabel('Time')\n",
    "plt.ylabel('Energy Dissipation in physical units')\n",
    "plt.show()"
   ],
   "metadata": {
    "collapsed": false,
    "ExecuteTime": {
     "end_time": "2023-12-01T13:51:41.044254594Z",
     "start_time": "2023-12-01T13:51:40.956597337Z"
    }
   }
  },
  {
   "cell_type": "code",
   "execution_count": 7,
   "outputs": [],
   "source": [],
   "metadata": {
    "collapsed": false,
    "ExecuteTime": {
     "end_time": "2023-12-01T13:51:41.045720678Z",
     "start_time": "2023-12-01T13:51:41.045153603Z"
    }
   }
  },
  {
   "cell_type": "code",
   "execution_count": 7,
   "outputs": [],
   "source": [],
   "metadata": {
    "collapsed": false,
    "ExecuteTime": {
     "end_time": "2023-12-01T13:51:41.047600321Z",
     "start_time": "2023-12-01T13:51:41.046289321Z"
    }
   }
  }
 ],
 "metadata": {
  "kernelspec": {
   "display_name": "Python 3 (ipykernel)",
   "language": "python",
   "name": "python3"
  },
  "language_info": {
   "codemirror_mode": {
    "name": "ipython",
    "version": 3
   },
   "file_extension": ".py",
   "mimetype": "text/x-python",
   "name": "python",
   "nbconvert_exporter": "python",
   "pygments_lexer": "ipython3",
   "version": "3.11.3"
  }
 },
 "nbformat": 4,
 "nbformat_minor": 1
}
