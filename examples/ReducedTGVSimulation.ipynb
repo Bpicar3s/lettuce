{
 "cells": [
  {
   "cell_type": "code",
   "execution_count": 1,
   "metadata": {
    "collapsed": true,
    "ExecuteTime": {
     "end_time": "2023-11-24T15:28:12.536937722Z",
     "start_time": "2023-11-24T15:28:11.379096Z"
    }
   },
   "outputs": [],
   "source": [
    "import lettuce as lt\n",
    "import matplotlib.pyplot as plt\n",
    "import numpy as np\n",
    "import torch\n",
    "import os\n",
    "import csv\n",
    "from argparse import ArgumentParser, ArgumentDefaultsHelpFormatter\n"
   ]
  },
  {
   "cell_type": "code",
   "execution_count": 6,
   "outputs": [],
   "source": [
    "parser = ArgumentParser(formatter_class=ArgumentDefaultsHelpFormatter)\n",
    "parser.add_argument(\"--vtkdir\", type=str, help=\"name base of vtk files - they are usually in a vtk-subdirectory!\", default=\"./output/\")\n",
    "parser.add_argument(\"--csvdir\", type=str, default=\"./output/\")\n",
    "parser.add_argument(\"--resolution\", type=int, default=16)\n",
    "parser.add_argument(\"--nout\", type=int, default=10)\n",
    "parser.add_argument(\"--nvtk\", type=int, default=200)\n",
    "parser.add_argument(\"--tmax\", type=int, default=10)\n",
    "parser.add_argument(\"--Re\", type=int, default=100)\n",
    "args, unknown = parser.parse_known_args()\n",
    "args = vars(args)\n",
    "#args = vars(parser.parse_args())\n",
    "Re=args[\"Re\"]\n",
    "basedir = args[\"vtkdir\"]\n",
    "csvdir = args[\"csvdir\"]\n",
    "res = args[\"resolution\"]\n",
    "nout = args[\"nout\"]\n",
    "nvtk = args[\"nvtk\"]\n",
    "tmax = args[\"tmax\"]\n",
    "#print(args)\n",
    "\n",
    "#print(unknown)"
   ],
   "metadata": {
    "collapsed": false,
    "ExecuteTime": {
     "end_time": "2023-11-24T15:36:55.042384978Z",
     "start_time": "2023-11-24T15:36:55.032419363Z"
    }
   }
  },
  {
   "cell_type": "code",
   "execution_count": 7,
   "metadata": {
    "ExecuteTime": {
     "end_time": "2023-11-24T15:36:55.535862908Z",
     "start_time": "2023-11-24T15:36:55.486313277Z"
    }
   },
   "outputs": [
    {
     "name": "stdout",
     "output_type": "stream",
     "text": [
      "3528.504930699469\n",
      "0.5088212623267486\n"
     ]
    }
   ],
   "source": [
    "lattice = lt.Lattice(lt.D3Q27, device = \"cpu\", dtype=torch.float64)\n",
    "flow = lt.SuperReducedTaylorGreenVortex3D(resolution=res, reynolds_number=Re, mach_number=0.05, lattice=lattice)\n",
    "print(flow.units.convert_time_to_lu(tmax))\n",
    "collision = lt.KBCCollision3D(lattice, tau=flow.units.relaxation_parameter_lu)\n",
    "print(flow.units.relaxation_parameter_lu)\n",
    "streaming = lt.StandardStreaming(lattice)\n",
    "simulation = lt.SimulationReducedTGV(flow=flow, lattice=lattice, collision=collision, streaming=streaming)"
   ]
  },
  {
   "cell_type": "code",
   "execution_count": 8,
   "metadata": {
    "ExecuteTime": {
     "end_time": "2023-11-24T15:36:57.207602159Z",
     "start_time": "2023-11-24T15:36:57.197875185Z"
    }
   },
   "outputs": [
    {
     "name": "stdout",
     "output_type": "stream",
     "text": [
      "steps     time     IncompressibleKineticEnergy\n",
      "steps     time     Dissipation_TGV\n"
     ]
    }
   ],
   "source": [
    "interval_vtk=int((flow.units.convert_time_to_lu(tmax))/100)\n",
    "interval_out=int((flow.units.convert_time_to_lu(tmax))/200)\n",
    "Energy = lt.IncompressibleKineticEnergy(lattice, flow)\n",
    "Dissipation_TGV=lt.Dissipation_TGV(lattice, flow)\n",
    "reporter = lt.ObservableReporter(Energy, interval=interval_out, out=None)\n",
    "reporter2= lt.ObservableReporter(Dissipation_TGV, interval=interval_out, out=None)\n",
    "simulation.reporters.append(reporter)\n",
    "simulation.reporters.append(reporter2)\n",
    "simulation.reporters.append(lt.VTKReporter(lattice, flow, interval=interval_vtk, filename_base=basedir+\"out\"))"
   ]
  },
  {
   "cell_type": "code",
   "execution_count": 5,
   "metadata": {
    "ExecuteTime": {
     "end_time": "2023-11-24T15:28:16.634305430Z",
     "start_time": "2023-11-24T15:28:16.580241966Z"
    }
   },
   "outputs": [
    {
     "ename": "NameError",
     "evalue": "name 'simulation' is not defined",
     "output_type": "error",
     "traceback": [
      "\u001B[0;31m---------------------------------------------------------------------------\u001B[0m",
      "\u001B[0;31mNameError\u001B[0m                                 Traceback (most recent call last)",
      "Cell \u001B[0;32mIn[5], line 1\u001B[0m\n\u001B[0;32m----> 1\u001B[0m \u001B[43msimulation\u001B[49m\u001B[38;5;241m.\u001B[39minitialize_f_neq()\n\u001B[1;32m      2\u001B[0m steps \u001B[38;5;241m=\u001B[39m \u001B[38;5;28mint\u001B[39m(flow\u001B[38;5;241m.\u001B[39munits\u001B[38;5;241m.\u001B[39mconvert_time_to_lu(tmax))\n\u001B[1;32m      3\u001B[0m mlups \u001B[38;5;241m=\u001B[39m simulation\u001B[38;5;241m.\u001B[39mstep(num_steps\u001B[38;5;241m=\u001B[39msteps)\n",
      "\u001B[0;31mNameError\u001B[0m: name 'simulation' is not defined"
     ]
    }
   ],
   "source": [
    "simulation.initialize_f_neq()\n",
    "steps = int(flow.units.convert_time_to_lu(tmax))\n",
    "mlups = simulation.step(num_steps=steps)\n",
    "print(\"Performance in MLUPS:\", mlups)\n",
    "#rho_start,u_start,f_start=simulation.startwerte()"
   ]
  },
  {
   "cell_type": "code",
   "execution_count": 6,
   "outputs": [
    {
     "ename": "NameError",
     "evalue": "name 'simulation' is not defined",
     "output_type": "error",
     "traceback": [
      "\u001B[0;31m---------------------------------------------------------------------------\u001B[0m",
      "\u001B[0;31mNameError\u001B[0m                                 Traceback (most recent call last)",
      "Cell \u001B[0;32mIn[6], line 1\u001B[0m\n\u001B[0;32m----> 1\u001B[0m energy \u001B[38;5;241m=\u001B[39m np\u001B[38;5;241m.\u001B[39marray(\u001B[43msimulation\u001B[49m\u001B[38;5;241m.\u001B[39mreporters[\u001B[38;5;241m0\u001B[39m]\u001B[38;5;241m.\u001B[39mout)\n\u001B[1;32m      2\u001B[0m \u001B[38;5;28mprint\u001B[39m(energy\u001B[38;5;241m.\u001B[39mshape)\n\u001B[1;32m      4\u001B[0m \u001B[38;5;66;03m#save_directory = outputdir\u001B[39;00m\n\u001B[1;32m      5\u001B[0m \u001B[38;5;66;03m#file_name = \"FullTGV.pkl\"\u001B[39;00m\n\u001B[1;32m      6\u001B[0m \u001B[38;5;66;03m#file_path = os.path.join(save_directory, file_name)\u001B[39;00m\n\u001B[1;32m      7\u001B[0m \u001B[38;5;66;03m#simulation.save_checkpoint(file_path)\u001B[39;00m\n",
      "\u001B[0;31mNameError\u001B[0m: name 'simulation' is not defined"
     ]
    }
   ],
   "source": [
    "energy = np.array(simulation.reporters[0].out)\n",
    "dissipation = np.array(simulation.reporters[1].out)\n",
    "\n",
    "dissipationEkin=[energy[:,1],-1/(np.pi*2)**3*np.gradient(64*energy[:,2],energy[:,1])]\n",
    "dissipationEns=[dissipation[:,1],1/(0.5*np.pi)**3*dissipation[:,3]]\n",
    "dissipationSij=[dissipation[:,1],dissipation[:,2]]\n",
    "\n",
    "with open(csvdir + 'DissipationEkin.csv', 'w', newline='') as file:\n",
    "    writer = csv.writer(file)\n",
    "    writer.writerows(dissipationEkin)\n",
    "with open(csvdir + 'DissipationEnstrophy.csv', 'w', newline='') as file:\n",
    "    writer = csv.writer(file)\n",
    "    writer.writerows(dissipationEns)\n",
    "with open(csvdir + 'DissipationSij.csv', 'w', newline='') as file:\n",
    "    writer = csv.writer(file)\n",
    "    writer.writerows(dissipationSij)\n",
    "#save_directory = outputdir\n",
    "#file_name = \"FullTGV.pkl\"\n",
    "#file_path = os.path.join(save_directory, file_name)\n",
    "#simulation.save_checkpoint(file_path)\n",
    "\n",
    "#csv_file_path = 'Brachet/Brachet_1983_tgv3d_enstrophy_Re' + str(Re) + '.csv'\n",
    "\n",
    "# Daten aus der CSV-Datei lesen\n",
    "#csv_data = []\n",
    "#FullTGV_DisEns=[]\n",
    "#FullTGV_DisEkin=[]\n",
    "#FullTGV_DisSij=[]\n",
    "#with open(csv_file_path, 'r') as file:\n",
    "#    csv_reader = csv.reader(file, delimiter=';')\n",
    "#    for row in csv_reader:\n",
    "#        csv_data.append(row)\n",
    "\n",
    "#with open('FullTGV/DisEns-Rey' + str(Re) + '-Res' + str(res) + '-BGK.csv', 'r') as file:\n",
    " #   csv_reader = csv.reader(file, delimiter=';')\n",
    "#    for row in csv_reader:\n",
    " #       FullTGV_DisEns.append(row)\n",
    "\n",
    "#with open('FullTGV/DisEkin-Rey' + str(Re) + '-Res' + str(res) + '-BGK.csv', 'r') as file:\n",
    "#    csv_reader = csv.reader(file, delimiter=';')\n",
    "#    for row in csv_reader:\n",
    "#        FullTGV_DisEkin.append(row)#\n",
    "#\n",
    "#with open('FullTGV/DisSij-Rey' + str(Re) + '-Res' + str(res) + '-BGK.csv', 'r') as file:\n",
    "#    csv_reader = csv.reader(file, delimiter=';')\n",
    "#    for row in csv_reader:\n",
    "#        FullTGV_DisSij.append(row)\n",
    "\n",
    "#csv_data = np.array(csv_data, dtype=float)\n",
    "#FullTGV_DisEns= np.array(FullTGV_DisEns, dtype=float)\n",
    "#FullTGV_DisEkin= np.array(FullTGV_DisEkin, dtype=float)\n",
    "#FullTGV_DisSij= np.array(FullTGV_DisSij, dtype=float)\n",
    "\n",
    "\n",
    "#plt.figure(1)\n",
    "#plt.scatter(csv_data[:, 0], csv_data[:, 1], color='red', label='Brachet')\n",
    "#plt.plot(energy[:,1],-1/(np.pi*2)**3*np.gradient(64*energy[:,2],energy[:,1]),color = 'blue', label='Reduced')\n",
    "#plt.plot(FullTGV_DisEkin[:,0],FullTGV_DisEkin[:,1],color='green', label='Full')\n",
    "#plt.xlim(0,10)\n",
    "#plt.ylim(0,0.02)\n",
    "#plt.legend()\n",
    "#title = 'Dissipation trough kinetic energy'\n",
    "#plt.title(title)\n",
    "#plt.savefig(imdir + title)\n",
    "\n",
    "#plt.figure(2)\n",
    "#plt.scatter(csv_data[:, 0], csv_data[:, 1], color='red', label='Brachet')\n",
    "#plt.plot(dissipation[5:,1],1/(0.5*np.pi)**3*dissipation[5:,3], color = 'blue', label='Reduced')\n",
    "#plt.plot(FullTGV_DisEns[:,0],FullTGV_DisEns[:,1],color='green', label= 'Full')\n",
    "#plt.xlim(0,10)\n",
    "#plt.ylim(0,0.02)\n",
    "#plt.legend()\n",
    "#title='Dissipation trough enstrophy'\n",
    "#plt.title(title)\n",
    "#plt.savefig(imdir + title)\n",
    "\n",
    "#plt.figure(3)\n",
    "#plt.scatter(csv_data[:, 0], csv_data[:, 1], color='red', label='Brachet')\n",
    "#plt.plot(dissipation[3:,1],dissipation[3:,2], color = 'blue',label='Reduced')\n",
    "#plt.plot(FullTGV_DisSij[:,0],FullTGV_DisSij[:,1],color = 'green',label='Full')\n",
    "#plt.legend()\n",
    "#plt.xlim(0,10)\n",
    "#plt.ylim(0,0.02)\n",
    "#title='Dissipation trough shear moments'\n",
    "#plt.title(title)\n",
    "#plt.savefig(imdir + title)\n",
    "\n",
    "#plt.show()\n",
    "#plt.close(\"all\")"
   ],
   "metadata": {
    "collapsed": false,
    "ExecuteTime": {
     "end_time": "2023-11-03T16:01:41.196804006Z",
     "start_time": "2023-11-03T16:01:41.141142950Z"
    }
   }
  },
  {
   "cell_type": "code",
   "execution_count": null,
   "metadata": {
    "ExecuteTime": {
     "start_time": "2023-11-03T14:49:08.599898124Z"
    }
   },
   "outputs": [],
   "source": [
    "# u = flow.units.convert_velocity_to_pu(lattice.u(simulation.f)).numpy()\n",
    "# u_norm = np.linalg.norm(u,axis=0)\n",
    "# plt.imshow(u_norm)\n",
    "# plt.show()\n",
    "# plt.close()"
   ]
  }
 ],
 "metadata": {
  "kernelspec": {
   "display_name": "Python 3 (ipykernel)",
   "language": "python",
   "name": "python3"
  },
  "language_info": {
   "codemirror_mode": {
    "name": "ipython",
    "version": 3
   },
   "file_extension": ".py",
   "mimetype": "text/x-python",
   "name": "python",
   "nbconvert_exporter": "python",
   "pygments_lexer": "ipython3",
   "version": "3.11.3"
  }
 },
 "nbformat": 4,
 "nbformat_minor": 1
}
