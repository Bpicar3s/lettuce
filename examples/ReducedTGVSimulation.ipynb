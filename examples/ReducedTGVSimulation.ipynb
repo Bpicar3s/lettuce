{
 "cells": [
  {
   "cell_type": "code",
   "execution_count": 1,
   "metadata": {
    "collapsed": true,
    "ExecuteTime": {
     "end_time": "2023-12-13T14:11:33.897259179Z",
     "start_time": "2023-12-13T14:11:32.750497579Z"
    }
   },
   "outputs": [],
   "source": [
    "import lettuce as lt\n",
    "import matplotlib.pyplot as plt\n",
    "import numpy as np\n",
    "import torch\n",
    "import os\n",
    "import csv\n",
    "from argparse import ArgumentParser, ArgumentDefaultsHelpFormatter\n"
   ]
  },
  {
   "cell_type": "code",
   "execution_count": 2,
   "outputs": [
    {
     "name": "stdout",
     "output_type": "stream",
     "text": [
      "ICH FUNKTIONIERE MIT PULLEN\n"
     ]
    }
   ],
   "source": [
    "parser = ArgumentParser(formatter_class=ArgumentDefaultsHelpFormatter)\n",
    "parser.add_argument(\"--vtkdir\", type=str, help=\"name base of vtk files - they are usually in a vtk-subdirectory!\", default=\"./output/\")\n",
    "parser.add_argument(\"--csvdir\", type=str, default=\"./output/\")\n",
    "parser.add_argument(\"--resolution\", type=int, default=10)\n",
    "parser.add_argument(\"--nout\", type=int, default=100)\n",
    "parser.add_argument(\"--nvtk\", type=int, default=200)\n",
    "parser.add_argument(\"--tmax\", type=int, default=10)\n",
    "parser.add_argument(\"--Re\", type=int, default=400)\n",
    "args, unknown = parser.parse_known_args()\n",
    "args = vars(args)\n",
    "print(\"ICH FUNKTIONIERE MIT PULLEN\")\n",
    "Re=args[\"Re\"]\n",
    "basedir = args[\"vtkdir\"]\n",
    "csvdir = args[\"csvdir\"]\n",
    "res = args[\"resolution\"]\n",
    "nout = args[\"nout\"]\n",
    "nvtk = args[\"nvtk\"]\n",
    "tmax = args[\"tmax\"]\n",
    "\n",
    "\n"
   ],
   "metadata": {
    "collapsed": false,
    "ExecuteTime": {
     "end_time": "2023-12-13T14:11:33.903797647Z",
     "start_time": "2023-12-13T14:11:33.899451479Z"
    }
   }
  },
  {
   "cell_type": "code",
   "execution_count": 3,
   "metadata": {
    "ExecuteTime": {
     "end_time": "2023-12-13T14:11:33.943125782Z",
     "start_time": "2023-12-13T14:11:33.904587308Z"
    }
   },
   "outputs": [
    {
     "name": "stdout",
     "output_type": "stream",
     "text": [
      "2205.315581687168\n",
      "0.5013783222385545\n"
     ]
    }
   ],
   "source": [
    "lattice = lt.Lattice(lt.D3Q27, device = \"cpu\", dtype=torch.float64)\n",
    "\n",
    "flow = lt.SuperReducedTaylorGreenVortex3D(resolution=res, reynolds_number=Re, mach_number=0.05, lattice=lattice)\n",
    "print(flow.units.convert_time_to_lu(tmax))\n",
    "collision = lt.BGKCollision(lattice, tau=flow.units.relaxation_parameter_lu)\n",
    "print(flow.units.relaxation_parameter_lu)\n",
    "streaming = lt.StandardStreaming(lattice)\n",
    "simulation = lt.SimulationReducedTGV(flow=flow, lattice=lattice, collision=collision, streaming=streaming)"
   ]
  },
  {
   "cell_type": "code",
   "execution_count": 4,
   "metadata": {
    "ExecuteTime": {
     "end_time": "2023-12-13T14:11:33.943513678Z",
     "start_time": "2023-12-13T14:11:33.937536248Z"
    }
   },
   "outputs": [
    {
     "name": "stdout",
     "output_type": "stream",
     "text": [
      "steps     time     IncompressibleKineticEnergy\n",
      "steps     time     Dissipation_TGV\n"
     ]
    }
   ],
   "source": [
    "interval_vtk=int((flow.units.convert_time_to_lu(tmax))/200)\n",
    "interval_out=int((flow.units.convert_time_to_lu(tmax))/200)\n",
    "Energy = lt.IncompressibleKineticEnergy(lattice, flow)\n",
    "Dissipation_TGV=lt.Dissipation_TGV(lattice, flow)\n",
    "reporter = lt.ObservableReporter(Energy, interval=interval_out, out=None)\n",
    "reporter2= lt.ObservableReporter(Dissipation_TGV, interval=interval_out, out=None)\n",
    "simulation.reporters.append(reporter)\n",
    "simulation.reporters.append(reporter2)\n",
    "simulation.reporters.append(lt.VTKReporter(lattice, flow, interval=interval_vtk, filename_base=basedir+\"out\"))"
   ]
  },
  {
   "cell_type": "code",
   "execution_count": 5,
   "metadata": {
    "ExecuteTime": {
     "end_time": "2023-12-13T14:11:38.608661276Z",
     "start_time": "2023-12-13T14:11:33.937780287Z"
    }
   },
   "outputs": [],
   "source": [
    "simulation.initialize_f_neq()\n",
    "steps = int(flow.units.convert_time_to_lu(tmax))\n",
    "mlups = simulation.step(num_steps=steps)\n",
    "#print(\"Performance in MLUPS:\", mlups)\n"
   ]
  },
  {
   "cell_type": "code",
   "execution_count": 6,
   "outputs": [],
   "source": [
    "energy = np.array(simulation.reporters[0].out)\n",
    "dissipation = np.array(simulation.reporters[1].out)\n",
    "\n",
    "dissipationEkin=np.array([energy[:,1],-1/(np.pi*2)**3*np.gradient(64*energy[:,2],energy[:,1])])\n",
    "dissipationEns=np.array([dissipation[:,1],1/(0.5*np.pi)**3*dissipation[:,3]])\n",
    "dissipationSij=np.array([dissipation[:,1],dissipation[:,2]])\n",
    "\n",
    "with open(csvdir + 'DissipationEkin.csv', 'w', newline='') as file:\n",
    "    writer = csv.writer(file)\n",
    "    writer.writerows(dissipationEkin)\n",
    "with open(csvdir + 'DissipationEnstrophy.csv', 'w', newline='') as file:\n",
    "    writer = csv.writer(file)\n",
    "    writer.writerows(dissipationEns)\n",
    "with open(csvdir + 'DissipationSij.csv', 'w', newline='') as file:\n",
    "    writer = csv.writer(file)\n",
    "    writer.writerows(dissipationSij)"
   ],
   "metadata": {
    "collapsed": false,
    "ExecuteTime": {
     "end_time": "2023-12-13T14:11:38.614344564Z",
     "start_time": "2023-12-13T14:11:38.612511462Z"
    }
   }
  },
  {
   "cell_type": "code",
   "execution_count": 7,
   "outputs": [
    {
     "name": "stdout",
     "output_type": "stream",
     "text": [
      "[[0.00000000e+00 4.98794825e-02 9.97589650e-02 1.49638448e-01\n",
      "  1.99517930e-01 2.49397413e-01 2.99276895e-01 3.49156378e-01\n",
      "  3.99035860e-01 4.48915343e-01 4.98794825e-01 5.48674308e-01\n",
      "  5.98553790e-01 6.48433273e-01 6.98312755e-01 7.48192238e-01\n",
      "  7.98071720e-01 8.47951203e-01 8.97830685e-01 9.47710168e-01\n",
      "  9.97589650e-01 1.04746913e+00 1.09734862e+00 1.14722810e+00\n",
      "  1.19710758e+00 1.24698706e+00 1.29686655e+00 1.34674603e+00\n",
      "  1.39662551e+00 1.44650499e+00 1.49638448e+00 1.54626396e+00\n",
      "  1.59614344e+00 1.64602292e+00 1.69590241e+00 1.74578189e+00\n",
      "  1.79566137e+00 1.84554085e+00 1.89542034e+00 1.94529982e+00\n",
      "  1.99517930e+00 2.04505878e+00 2.09493827e+00 2.14481775e+00\n",
      "  2.19469723e+00 2.24457671e+00 2.29445620e+00 2.34433568e+00\n",
      "  2.39421516e+00 2.44409464e+00 2.49397413e+00 2.54385361e+00\n",
      "  2.59373309e+00 2.64361257e+00 2.69349206e+00 2.74337154e+00\n",
      "  2.79325102e+00 2.84313050e+00 2.89300999e+00 2.94288947e+00\n",
      "  2.99276895e+00 3.04264843e+00 3.09252792e+00 3.14240740e+00\n",
      "  3.19228688e+00 3.24216636e+00 3.29204585e+00 3.34192533e+00\n",
      "  3.39180481e+00 3.44168429e+00 3.49156378e+00 3.54144326e+00\n",
      "  3.59132274e+00 3.64120222e+00 3.69108171e+00 3.74096119e+00\n",
      "  3.79084067e+00 3.84072015e+00 3.89059964e+00 3.94047912e+00\n",
      "  3.99035860e+00 4.04023808e+00 4.09011757e+00 4.13999705e+00\n",
      "  4.18987653e+00 4.23975601e+00 4.28963550e+00 4.33951498e+00\n",
      "  4.38939446e+00 4.43927394e+00 4.48915343e+00 4.53903291e+00\n",
      "  4.58891239e+00 4.63879187e+00 4.68867136e+00 4.73855084e+00\n",
      "  4.78843032e+00 4.83830980e+00 4.88818929e+00 4.93806877e+00\n",
      "  4.98794825e+00 5.03782773e+00 5.08770722e+00 5.13758670e+00\n",
      "  5.18746618e+00 5.23734566e+00 5.28722515e+00 5.33710463e+00\n",
      "  5.38698411e+00 5.43686359e+00 5.48674308e+00 5.53662256e+00\n",
      "  5.58650204e+00 5.63638152e+00 5.68626101e+00 5.73614049e+00\n",
      "  5.78601997e+00 5.83589945e+00 5.88577894e+00 5.93565842e+00\n",
      "  5.98553790e+00 6.03541738e+00 6.08529687e+00 6.13517635e+00\n",
      "  6.18505583e+00 6.23493531e+00 6.28481480e+00 6.33469428e+00\n",
      "  6.38457376e+00 6.43445324e+00 6.48433273e+00 6.53421221e+00\n",
      "  6.58409169e+00 6.63397117e+00 6.68385066e+00 6.73373014e+00\n",
      "  6.78360962e+00 6.83348910e+00 6.88336859e+00 6.93324807e+00\n",
      "  6.98312755e+00 7.03300703e+00 7.08288652e+00 7.13276600e+00\n",
      "  7.18264548e+00 7.23252496e+00 7.28240445e+00 7.33228393e+00\n",
      "  7.38216341e+00 7.43204289e+00 7.48192238e+00 7.53180186e+00\n",
      "  7.58168134e+00 7.63156083e+00 7.68144031e+00 7.73131979e+00\n",
      "  7.78119927e+00 7.83107876e+00 7.88095824e+00 7.93083772e+00\n",
      "  7.98071720e+00 8.03059669e+00 8.08047617e+00 8.13035565e+00\n",
      "  8.18023513e+00 8.23011462e+00 8.27999410e+00 8.32987358e+00\n",
      "  8.37975306e+00 8.42963255e+00 8.47951203e+00 8.52939151e+00\n",
      "  8.57927099e+00 8.62915048e+00 8.67902996e+00 8.72890944e+00\n",
      "  8.77878892e+00 8.82866841e+00 8.87854789e+00 8.92842737e+00\n",
      "  8.97830685e+00 9.02818634e+00 9.07806582e+00 9.12794530e+00\n",
      "  9.17782478e+00 9.22770427e+00 9.27758375e+00 9.32746323e+00\n",
      "  9.37734271e+00 9.42722220e+00 9.47710168e+00 9.52698116e+00\n",
      "  9.57686064e+00 9.62674013e+00 9.67661961e+00 9.72649909e+00\n",
      "  9.77637857e+00 9.82625806e+00 9.87613754e+00 9.92601702e+00\n",
      "  9.97589650e+00]\n",
      " [1.79621491e-03 1.84292056e-03 1.93148893e-03 1.89218908e-03\n",
      "  1.86513679e-03 1.95833658e-03 1.92801479e-03 1.89544870e-03\n",
      "  1.95502815e-03 1.94166081e-03 1.94491967e-03 2.01594662e-03\n",
      "  1.99400728e-03 1.97029313e-03 2.02813783e-03 2.03757061e-03\n",
      "  2.05633971e-03 2.10635835e-03 2.09221430e-03 2.09026947e-03\n",
      "  2.15169192e-03 2.17839735e-03 2.19834326e-03 2.23863836e-03\n",
      "  2.23826034e-03 2.26083737e-03 2.32526928e-03 2.35877305e-03\n",
      "  2.38078419e-03 2.41941327e-03 2.44067199e-03 2.48022700e-03\n",
      "  2.54690507e-03 2.58216390e-03 2.61132486e-03 2.65699707e-03\n",
      "  2.69781356e-03 2.75003806e-03 2.81514403e-03 2.85647647e-03\n",
      "  2.89529815e-03 2.95389168e-03 3.00856504e-03 3.06974722e-03\n",
      "  3.13454378e-03 3.18449526e-03 3.23693827e-03 3.30550694e-03\n",
      "  3.37178955e-03 3.43735755e-03 3.50577404e-03 3.56527370e-03\n",
      "  3.63097766e-03 3.70689371e-03 3.78048423e-03 3.85107815e-03\n",
      "  3.92379879e-03 3.99477892e-03 4.06987411e-03 4.15276101e-03\n",
      "  4.23126465e-03 4.30876515e-03 4.38881815e-03 4.47025857e-03\n",
      "  4.55541422e-03 4.64452366e-03 4.73115338e-03 4.81770332e-03\n",
      "  4.90936575e-03 5.00198007e-03 5.09921362e-03 5.19785822e-03\n",
      "  5.29626377e-03 5.39729144e-03 5.50279903e-03 5.61130360e-03\n",
      "  5.72290053e-03 5.83741702e-03 5.95292376e-03 6.07401617e-03\n",
      "  6.19937779e-03 6.32926841e-03 6.46264630e-03 6.60039268e-03\n",
      "  6.74185024e-03 6.88887727e-03 7.04198240e-03 7.19799804e-03\n",
      "  7.35844821e-03 7.52244323e-03 7.68944231e-03 7.85935813e-03\n",
      "  8.03255601e-03 8.20466306e-03 8.37730178e-03 8.54972051e-03\n",
      "  8.71997135e-03 8.88884355e-03 9.05541677e-03 9.21790591e-03\n",
      "  9.37701489e-03 9.53353571e-03 9.68625043e-03 9.83569085e-03\n",
      "  9.98183495e-03 1.01242867e-02 1.02626923e-02 1.03978518e-02\n",
      "  1.05290949e-02 1.06549237e-02 1.07760090e-02 1.08917743e-02\n",
      "  1.10010237e-02 1.11051151e-02 1.12033412e-02 1.12957343e-02\n",
      "  1.13829899e-02 1.14665252e-02 1.15459123e-02 1.16231666e-02\n",
      "  1.16982163e-02 1.17721687e-02 1.18449463e-02 1.19173125e-02\n",
      "  1.19893609e-02 1.20599471e-02 1.21295214e-02 1.21968169e-02\n",
      "  1.22610150e-02 1.23211808e-02 1.23767222e-02 1.24256174e-02\n",
      "  1.24677410e-02 1.25019178e-02 1.25271006e-02 1.25431865e-02\n",
      "  1.25493633e-02 1.25453412e-02 1.25311069e-02 1.25065683e-02\n",
      "  1.24720519e-02 1.24273407e-02 1.23734891e-02 1.23101209e-02\n",
      "  1.22383061e-02 1.21583753e-02 1.20712119e-02 1.19770234e-02\n",
      "  1.18772611e-02 1.17725009e-02 1.16631986e-02 1.15514240e-02\n",
      "  1.14370792e-02 1.13218381e-02 1.12062462e-02 1.10918484e-02\n",
      "  1.09786157e-02 1.08681039e-02 1.07607006e-02 1.06567053e-02\n",
      "  1.05569881e-02 1.04617086e-02 1.03714640e-02 1.02858170e-02\n",
      "  1.02061428e-02 1.01315069e-02 1.00626087e-02 9.99942009e-03\n",
      "  9.94188061e-03 9.88968847e-03 9.84274788e-03 9.80092957e-03\n",
      "  9.76303523e-03 9.72952810e-03 9.69911208e-03 9.67165742e-03\n",
      "  9.64637813e-03 9.62329233e-03 9.60170005e-03 9.58143288e-03\n",
      "  9.56283185e-03 9.54515916e-03 9.52897316e-03 9.51387199e-03\n",
      "  9.49998563e-03 9.48660147e-03 9.47385585e-03 9.46070062e-03\n",
      "  9.44625182e-03 9.43008418e-03 9.41055228e-03 9.38706465e-03\n",
      "  9.35836207e-03 9.32408832e-03 9.28303556e-03 9.23557979e-03\n",
      "  9.18138227e-03 9.12057285e-03 9.05396990e-03 8.98204900e-03\n",
      "  8.94518245e-03]]\n"
     ]
    },
    {
     "data": {
      "text/plain": "<Figure size 640x480 with 1 Axes>",
      "image/png": "[encoded data removed]"
     },
     "metadata": {},
     "output_type": "display_data"
    }
   ],
   "source": [
    "csv_file_path = '/home/ben/Schreibtisch/Enstropy Brachet/Brachet/Brachet_1983_tgv3d_enstrophy_Re400.csv'\n",
    "\n",
    "# Daten aus der CSV-Datei lesen\n",
    "csv_data = []\n",
    "with open(csv_file_path, 'r') as file:\n",
    "    csv_reader = csv.reader(file, delimiter=';')\n",
    "    for row in csv_reader:\n",
    "        csv_data.append(row)\n",
    "\n",
    "csv_data = np.array(csv_data, dtype=float)\n",
    "print(dissipationEkin)\n",
    "\n",
    "plt.plot(dissipationEkin[0,:],dissipationEkin[1,:],color = 'blue')\n",
    "plt.plot(dissipationEns[0,:],dissipationEns[1,:], color = 'green')\n",
    "plt.xlim(0,10)\n",
    "plt.plot(dissipationSij[0,:],dissipationSij[1,:])\n",
    "plt.scatter(csv_data[:, 0], csv_data[:, 1], color='red', label='CSV Data')\n",
    "plt.title('Energy Dissipation')\n",
    "plt.xlabel('Time')\n",
    "plt.ylabel('Energy Dissipation in physical units')\n",
    "plt.show()"
   ],
   "metadata": {
    "collapsed": false,
    "ExecuteTime": {
     "end_time": "2023-12-13T14:11:38.700531386Z",
     "start_time": "2023-12-13T14:11:38.617007884Z"
    }
   }
  },
  {
   "cell_type": "code",
   "execution_count": 7,
   "outputs": [],
   "source": [],
   "metadata": {
    "collapsed": false,
    "ExecuteTime": {
     "end_time": "2023-12-13T14:11:38.805573780Z",
     "start_time": "2023-12-13T14:11:38.701700595Z"
    }
   }
  },
  {
   "cell_type": "code",
   "execution_count": 7,
   "outputs": [],
   "source": [],
   "metadata": {
    "collapsed": false,
    "ExecuteTime": {
     "end_time": "2023-12-13T14:11:38.808418411Z",
     "start_time": "2023-12-13T14:11:38.742709520Z"
    }
   }
  }
 ],
 "metadata": {
  "kernelspec": {
   "display_name": "Python 3 (ipykernel)",
   "language": "python",
   "name": "python3"
  },
  "language_info": {
   "codemirror_mode": {
    "name": "ipython",
    "version": 3
   },
   "file_extension": ".py",
   "mimetype": "text/x-python",
   "name": "python",
   "nbconvert_exporter": "python",
   "pygments_lexer": "ipython3",
   "version": "3.11.3"
  }
 },
 "nbformat": 4,
 "nbformat_minor": 1
}
