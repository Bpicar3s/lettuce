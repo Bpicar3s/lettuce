{
 "cells": [
  {
   "cell_type": "code",
   "execution_count": 8,
   "metadata": {
    "collapsed": true,
    "ExecuteTime": {
     "end_time": "2024-08-02T12:53:12.432245613Z",
     "start_time": "2024-08-02T12:53:12.364990066Z"
    }
   },
   "outputs": [],
   "source": [
    "import lettuce as lt\n",
    "import matplotlib.pyplot as plt\n",
    "import numpy as np\n",
    "import torch\n",
    "import os\n",
    "import csv\n",
    "from argparse import ArgumentParser, ArgumentDefaultsHelpFormatter\n"
   ]
  },
  {
   "cell_type": "code",
   "execution_count": 9,
   "outputs": [
    {
     "name": "stdout",
     "output_type": "stream",
     "text": [
      "ICH FUNKTIONIERE MIT PULLEN\n"
     ]
    }
   ],
   "source": [
    "parser = ArgumentParser(formatter_class=ArgumentDefaultsHelpFormatter)\n",
    "parser.add_argument(\"--vtkdir\", type=str, help=\"name base of vtk files - they are usually in a vtk-subdirectory!\", default=\"./output/\")\n",
    "parser.add_argument(\"--csvdir\", type=str, default=\"./output/\")\n",
    "parser.add_argument(\"--resolution\", type=int, default=8)\n",
    "parser.add_argument(\"--nout\", type=int, default=100)\n",
    "parser.add_argument(\"--nvtk\", type=int, default=200)\n",
    "parser.add_argument(\"--tmax\", type=int, default=10)\n",
    "parser.add_argument(\"--Re\", type=int, default=100)\n",
    "parser.add_argument(\"--collision_operator\", type=str, default=\"BGK\")\n",
    "parser.add_argument(\"--Precision\", type=str, default=\"K.A.\")\n",
    "args, unknown = parser.parse_known_args()\n",
    "args = vars(args)\n",
    "print(\"ICH FUNKTIONIERE MIT PULLEN\")\n",
    "Re=args[\"Re\"]\n",
    "basedir = args[\"vtkdir\"]\n",
    "csvdir = args[\"csvdir\"]\n",
    "res = args[\"resolution\"]\n",
    "nout = args[\"nout\"]\n",
    "nvtk = args[\"nvtk\"]\n",
    "tmax = args[\"tmax\"]\n",
    "Precision= args[\"Precision\"]\n",
    "collision_operator = args[\"collision_operator\"]\n",
    "\n"
   ],
   "metadata": {
    "collapsed": false,
    "ExecuteTime": {
     "end_time": "2024-08-02T12:53:12.432707593Z",
     "start_time": "2024-08-02T12:53:12.409838946Z"
    }
   }
  },
  {
   "cell_type": "code",
   "execution_count": null,
   "outputs": [],
   "source": [
    "def parse_precision(value):\n",
    "    if value == \"double\":\n",
    "        print(\"32\")\n",
    "        return torch.float32\n",
    "    elif value == \"single\":\n",
    "        print(\"64\")\n",
    "        return torch.float64"
   ],
   "metadata": {
    "collapsed": false
   }
  },
  {
   "cell_type": "code",
   "execution_count": 10,
   "metadata": {
    "ExecuteTime": {
     "end_time": "2024-08-02T12:53:12.432978937Z",
     "start_time": "2024-08-02T12:53:12.410116903Z"
    }
   },
   "outputs": [
    {
     "name": "stdout",
     "output_type": "stream",
     "text": [
      "1764.2524653497344\n",
      "0.5044106311633744\n"
     ]
    }
   ],
   "source": [
    "lattice = lt.Lattice(lt.D3Q27, device = \"cuda\", dtype=parse_precision(Precision))\n",
    "flow = lt.SuperReducedTaylorGreenVortex3D(resolution=res, reynolds_number=Re, mach_number=0.05, lattice=lattice)\n",
    "print(flow.units.convert_time_to_lu(tmax))\n",
    "\n",
    "\n",
    "# Konstruktion des Funktionsnamens\n",
    "function_name = f\"{collision_operator}Collision\"\n",
    "\n",
    "if collision_operator == \"BGK\":\n",
    "    collision=lt.BGKCollision(lattice, tau=flow.units.relaxation_parameter_lu)\n",
    "elif collision_operator == \"KBC\":\n",
    "    collision=lt.KBCCollision3D(lattice, tau=flow.units.relaxation_parameter_lu)\n",
    "\n",
    "print(flow.units.relaxation_parameter_lu)\n",
    "streaming = lt.StandardStreaming(lattice)\n",
    "simulation = lt.SimulationReducedTGV(flow=flow, lattice=lattice, collision=collision, streaming=streaming)\n"
   ]
  },
  {
   "cell_type": "code",
   "execution_count": 11,
   "metadata": {
    "ExecuteTime": {
     "end_time": "2024-08-02T12:53:12.433137530Z",
     "start_time": "2024-08-02T12:53:12.410251890Z"
    }
   },
   "outputs": [
    {
     "name": "stdout",
     "output_type": "stream",
     "text": [
      "steps     time     IncompressibleKineticEnergy\n",
      "steps     time     Dissipation_TGV\n"
     ]
    }
   ],
   "source": [
    "interval_vtk=int((flow.units.convert_time_to_lu(tmax))/1)\n",
    "interval_out=int((flow.units.convert_time_to_lu(tmax))/500)\n",
    "Energy = lt.IncompressibleKineticEnergy(lattice, flow)\n",
    "Dissipation_TGV=lt.Dissipation_TGV(lattice, flow)\n",
    "reporter = lt.ObservableReporter(Energy, interval=interval_out, out=None)\n",
    "reporter2= lt.ObservableReporter(Dissipation_TGV, interval=interval_out, out=None)\n",
    "simulation.reporters.append(reporter)\n",
    "simulation.reporters.append(reporter2)\n",
    "simulation.reporters.append(lt.VTKReporter(lattice, flow, interval=interval_vtk, filename_base=basedir+\"out\"))"
   ]
  },
  {
   "cell_type": "code",
   "execution_count": 12,
   "metadata": {
    "ExecuteTime": {
     "end_time": "2024-08-02T12:53:18.233491118Z",
     "start_time": "2024-08-02T12:53:12.410378061Z"
    }
   },
   "outputs": [],
   "source": [
    "simulation.initialize_f_neq()\n",
    "steps = int(flow.units.convert_time_to_lu(tmax))\n",
    "mlups = simulation.step(num_steps=steps)\n",
    "#print(\"Performance in MLUPS:\", mlups)\n"
   ]
  },
  {
   "cell_type": "code",
   "execution_count": 13,
   "outputs": [
    {
     "name": "stdout",
     "output_type": "stream",
     "text": [
      "589 0.017004369039695794\n"
     ]
    }
   ],
   "source": [
    "energy = np.array(simulation.reporters[0].out)\n",
    "dissipation = np.array(simulation.reporters[1].out)\n",
    "dEdt=np.zeros(len(energy[:,2]))\n",
    "dt=energy[1,1]-energy[0,1]\n",
    "nmax=len(energy[:,2])\n",
    "print(nmax,dt)\n",
    "for i in range(len(energy[:,2])):\n",
    "    if i == 0:\n",
    "        dEdt[i] = (energy[1,2] - energy[0,2]) / dt\n",
    "    elif i == 1:\n",
    "        dEdt[i] = (energy[2,2] - energy[0,2]) / 2/dt\n",
    "    elif i == 2:\n",
    "        dEdt[i] = (1/12*energy[0,2] - 2/3*energy[1,2] + 2/3*energy[3,2] - 1/12*energy[4,2]) / dt\n",
    "    elif i >= (nmax-3):\n",
    "        if i == (nmax-3):\n",
    "            dEdt[i] = (1/12*energy[nmax-5,2] - 2/3*energy[nmax-4,2] + 2/3*energy[nmax-2,2] - 1/12*energy[nmax-1,2]) / dt\n",
    "        elif i == (nmax-2):\n",
    "            dEdt[i] = (energy[nmax-1,2] - energy[nmax-3,2]) /2/ dt\n",
    "        elif i == (nmax-1):\n",
    "            dEdt[i] = (energy[nmax-1,2] - energy[nmax-2,2]) /dt\n",
    "    elif i < (nmax-3):\n",
    "        dEdt[i] = (-1/60*energy[i-3,2] + 3/20*energy[i-2,2] - 3/4*energy[i-1,2] + 3/4*energy[i+1,2] - 3/20*energy[i+2,2] + 1/60*energy[i+3,2]) / dt\n",
    "#dissipationEkin=np.array([energy[:,1],-1/(np.pi*2)**3*np.gradient(energy[:,2],energy[:,1])])\n",
    "\n",
    "dissipationEkin=np.array([energy[:,1],-dEdt/(np.pi*0.5)**3])\n",
    "\n",
    "dissipationEns=np.array([dissipation[:,1],1/(0.5*np.pi)**3*dissipation[:,3]])\n",
    "dissipationSij=np.array([dissipation[:,1],dissipation[:,2]])\n",
    "\n",
    "with open(csvdir + 'DissipationEkin.csv', 'w', newline='') as file:\n",
    "    writer = csv.writer(file)\n",
    "    writer.writerows(dissipationEkin)\n",
    "with open(csvdir + 'DissipationEnstrophy.csv', 'w', newline='') as file:\n",
    "    writer = csv.writer(file)\n",
    "    writer.writerows(dissipationEns)\n",
    "with open(csvdir + 'DissipationSij.csv', 'w', newline='') as file:\n",
    "    writer = csv.writer(file)\n",
    "    writer.writerows(dissipationSij)"
   ],
   "metadata": {
    "collapsed": false,
    "ExecuteTime": {
     "end_time": "2024-08-02T12:53:18.286126057Z",
     "start_time": "2024-08-02T12:53:18.239822215Z"
    }
   }
  },
  {
   "cell_type": "code",
   "execution_count": 14,
   "outputs": [
    {
     "name": "stdout",
     "output_type": "stream",
     "text": [
      "[31.00627668 30.98637017 30.94494655 30.91905664 30.88492593 30.85313604\n",
      " 30.82370436 30.78761398 30.76230758 30.72305382 30.6985206  30.66138688\n",
      " 30.63319551 30.5999317  30.56826489 30.53830377 30.50313342 30.47622896\n",
      " 30.43956116 30.41206752 30.37757029 30.34737855 30.31504265 30.28298032\n",
      " 30.25248124 30.21860713 30.18954858 30.15503717 30.1254218  30.09171944\n",
      " 30.06109256 30.02849802 29.99652243 29.96555563 29.93175905 29.90171068\n",
      " 29.8677202  29.83704119 29.80394387 29.77225699 29.73992821 29.70719713\n",
      " 29.67563407 29.64225224 29.61079205 29.57749347 29.54566452 29.51243315\n",
      " 29.48023515 29.44726148 29.41433093 29.38201729 29.34847021 29.31629994\n",
      " 29.28256867 29.24999938 29.21640092 29.18334683 29.15019022 29.11655124\n",
      " 29.08351729 29.04956739 29.01626805 28.982329   28.948857   28.91485185\n",
      " 28.8810621  28.84700849 28.81279214 28.77879943 28.74433441 28.7102919\n",
      " 28.6755926  28.64129689 28.606493   28.57178203 28.53703785 28.50197684\n",
      " 28.46716149 28.4319196  28.3968474  28.36140694 28.32604067 28.29046005\n",
      " 28.25485195 28.21916003 28.18328405 28.14736642 28.11119001 28.07509786\n",
      " 28.03871455 28.00243645 27.9658846  27.92923033 27.89246711 27.85549463\n",
      " 27.81857072 27.78141683 27.74427262 27.70687733 27.66939214 27.63175297\n",
      " 27.5939886  27.55614234 27.51815282 27.48006853 27.44179223 27.40344054\n",
      " 27.36488111 27.32626604 27.28749116 27.24860594 27.2095885  27.17038101\n",
      " 27.13107796 27.09158425 27.05203902 27.01234204 26.9725266  26.93254955\n",
      " 26.89239329 26.85210463 26.81167914 26.77116036 26.73049662 26.68970885\n",
      " 26.64874093 26.60763585 26.56637678 26.52499854 26.4834981  26.44184489\n",
      " 26.40006051 26.35809503 26.3160084  26.27377959 26.23143361 26.18895654\n",
      " 26.14632607 26.10354576 26.06059869 26.01751751 25.9743035  25.93098072\n",
      " 25.88752805 25.84393274 25.80017077 25.75625382 25.71220224 25.66802758\n",
      " 25.62374152 25.57930929 25.53473531 25.49000711 25.44514566 25.4001619\n",
      " 25.35505408 25.30982014 25.26443822 25.2189123  25.17324343 25.12745159\n",
      " 25.0815461  25.03552849 24.98938213 24.94309343 24.89666053 24.85008994\n",
      " 24.8034026  24.75660326 24.70969538 24.66266314 24.61550051 24.56820406\n",
      " 24.52078082 24.47324637 24.42560269 24.37784802 24.32996855 24.28196089\n",
      " 24.23383216 24.18559703 24.13726528 24.08883106 24.04028099 23.99160411\n",
      " 23.94280549 23.89389612 23.84489254 23.79579755 23.74660696 23.69730923\n",
      " 23.64789671 23.59837106 23.54874123 23.4990211  23.44921451 23.39931472\n",
      " 23.34931227 23.29920471 23.24900165 23.1987131  23.14834315 23.09788456\n",
      " 23.04733028 22.99667699 22.94593112 22.8951007  22.84419648 22.79322115\n",
      " 22.74216778 22.69102527 22.63978877 22.58846415 22.53706481 22.4855997\n",
      " 22.43406813 22.38246295 22.33077982 22.27901783 22.22718255 22.17527924\n",
      " 22.12331296 22.07128223 22.01918272 21.96701107 21.91477093 21.86247026\n",
      " 21.81011825 21.75771419 21.70524938 21.65271595 21.60011415 21.54745262\n",
      " 21.49474345 21.4419912  21.38919308 21.33634187 21.2834337  21.23046916\n",
      " 21.17745368 21.12439349 21.07129369 21.01815276 20.96496647 20.91173237\n",
      " 20.85845375 20.80513797 20.75179032 20.69840761 20.64498356 20.59151581\n",
      " 20.53800818 20.48446798 20.43090237 20.37731337 20.32369798 20.27005004\n",
      " 20.21636572 20.16264735 20.1089029  20.05514002 20.00136044 19.94755979\n",
      " 19.89373466 19.83988614 19.78601778 19.73213311 19.67823354 19.62431802\n",
      " 19.57038633 19.51643978 19.4624797  19.4085088  19.3545314  19.30055036\n",
      " 19.2465646  19.19256905 19.13855979 19.08454    19.03051872 18.97650437\n",
      " 18.92249748 18.86849171 18.81448208 18.76046939 18.70645838 18.65245547\n",
      " 18.59846345 18.54448063 18.49050457 18.4365351  18.38257574 18.32863273\n",
      " 18.27470872 18.22080078 18.16690425 18.11301906 18.05915065 18.00530495\n",
      " 17.95148401 17.89768797 17.84391629 17.79016937 17.73644734 17.68274906\n",
      " 17.62907495 17.57543003 17.52181979 17.46824687 17.41470943 17.36120387\n",
      " 17.3077295  17.25429093 17.20089383 17.14754009 17.0942266  17.04095071\n",
      " 16.98771421 16.93452314 16.88138331 16.82829614 16.77525783 16.72226444\n",
      " 16.66931554 16.61641532 16.56357026 16.51078541 16.45806007 16.40539065\n",
      " 16.35277592 16.3002187  16.24772242 16.19528877 16.14291711 16.09060802\n",
      " 16.03836431 15.98618862 15.9340811  15.88204163 15.83007185 15.77817465\n",
      " 15.72635032 15.67459736 15.62291524 15.5713063  15.5197753  15.46832658\n",
      " 15.41696022 15.36567404 15.31446605 15.26333592 15.21228629 15.16132187\n",
      " 15.11044571 15.05965834 15.00895823 14.95834456 14.90781857 14.857383\n",
      " 14.80704045 14.75679149 14.70663424 14.65656839 14.60659601 14.55672045\n",
      " 14.506945   14.45727053 14.40769524 14.35821783 14.30883794 14.25955668\n",
      " 14.21037707 14.16130296 14.11233639 14.06347646 14.01472069 13.96606879\n",
      " 13.91752293 13.86908592 13.82075886 13.77254081 13.72443145 13.676433\n",
      " 13.62854745 13.5807754  13.53311697 13.48557235 13.43814187 13.390826\n",
      " 13.34362452 13.2965376  13.24956718 13.20271648 13.15598745 13.10937945\n",
      " 13.06288982 13.0165166  12.97026048 12.92412515 12.8781145  12.83222924\n",
      " 12.78646706 12.74082597 12.69530604 12.64991017 12.60464182 12.55950098\n",
      " 12.51448436 12.4695897  12.42481839 12.38017509 12.33566359 12.29128296\n",
      " 12.24702926 12.20290038 12.15889798 12.11502507 12.07128237 12.02766919\n",
      " 11.98418571 11.94083316 11.89761287 11.85452456 11.81156592 11.7687361\n",
      " 11.72603678 11.68347016 11.64103749 11.59873805 11.55656977 11.51453218\n",
      " 11.47262744 11.43085844 11.38922543 11.34772516 11.30635434 11.26511327\n",
      " 11.22400599 11.18303712 11.14220692 11.10151117 11.06094615 11.0205118\n",
      " 10.98021116 10.94004749 10.90002071 10.86012799 10.82036777 10.78074149\n",
      " 10.74125146 10.70189811 10.66267967 10.62359447 10.58464253 10.54582521\n",
      " 10.50714318 10.46859582 10.43018282 10.39190522 10.35376382 10.31575795\n",
      " 10.27788592 10.24014603 10.20253798 10.16506385 10.1277262  10.09052558\n",
      " 10.05346011 10.01652686  9.97972446  9.94305472  9.90652031  9.87012146\n",
      "  9.83385574  9.79772086  9.76171715  9.72584692  9.69011181  9.65451132\n",
      "  9.61904291  9.58370442  9.54849593  9.51341851  9.47847317  9.44366072\n",
      "  9.40898083  9.37443248  9.34001479  9.30572665  9.27156739  9.23753752\n",
      "  9.20363804  9.1698694   9.13623076  9.1027209   9.06933935  9.03608627\n",
      "  9.00296222  8.9699673   8.93710022  8.90435972  8.87174531  8.83925711\n",
      "  8.80689627  8.77466396  8.74255959  8.7105813   8.67872728  8.64699677\n",
      "  8.61539032  8.58390894  8.55255323  8.52132293  8.49021709  8.45923461\n",
      "  8.42837437  8.39763594  8.3670202   8.3365279   8.30615819  8.2759095\n",
      "  8.24578069  8.21577197  8.18588499  8.15612073  8.12647768  8.09695311\n",
      "  8.0675453   8.03825461  8.00908285  7.98003131  7.9510994   7.92228523\n",
      "  7.89358734  7.86500549  7.83653982  7.80819017  7.7799563   7.75183785\n",
      "  7.72383442  7.69594604  7.66817238  7.64051253  7.61296603  7.58553277\n",
      "  7.55821259  7.53100514  7.50390932  7.47692379  7.45004864  7.42328539\n",
      "  7.39663527  7.37009716  7.34366798  7.31734546  7.29112978  7.26502313\n",
      "  7.23902733  7.21314135  7.18736246  7.16168913  7.13612154  7.11066089\n",
      "  7.0853078   7.06006088  7.03491808  7.00987865  6.9849433   6.96011304\n",
      "  6.93538779  6.91076647  6.88624785  6.86183118  6.83751632  6.81330297\n",
      "  6.78919035  6.76517836  6.74126767  6.71745858  6.69375052  6.6701419\n",
      "  6.64663077  6.6232166   6.5999007   6.57668428  6.55356688  6.5305465\n",
      "  6.50762134]\n"
     ]
    },
    {
     "data": {
      "text/plain": "<Figure size 640x480 with 1 Axes>",
      "image/png": "[encoded data removed]"
     },
     "metadata": {},
     "output_type": "display_data"
    }
   ],
   "source": [
    "csv_file_path = '/home/ben/Schreibtisch/Enstropy Brachet/Brachet/Brachet_1983_tgv3d_enstrophy_Re100.csv'\n",
    "\n",
    "# Daten aus der CSV-Datei lesen\n",
    "csv_data = []\n",
    "with open(csv_file_path, 'r') as file:\n",
    "    csv_reader = csv.reader(file, delimiter=';')\n",
    "    for row in csv_reader:\n",
    "        csv_data.append(row)\n",
    "\n",
    "csv_data = np.array(csv_data, dtype=float)\n",
    "print(64*energy[:,2])\n",
    "\n",
    "plt.plot(dissipationEkin[0,:],dissipationEkin[1,:],color = 'blue')\n",
    "plt.plot(dissipationEns[0,:],dissipationEns[1,:], color = 'green')\n",
    "plt.xlim(0,10)\n",
    "plt.plot(dissipationSij[0,:],dissipationSij[1,:])\n",
    "plt.scatter(csv_data[:, 0], csv_data[:, 1], color='red', label='CSV Data')\n",
    "#plt.plot(energy[:,1],energy[:,2]*64)\n",
    "plt.title('Energy Dissipation')\n",
    "plt.xlabel('Time')\n",
    "plt.ylabel('Energy Dissipation in physical units')\n",
    "plt.show()"
   ],
   "metadata": {
    "collapsed": false,
    "ExecuteTime": {
     "end_time": "2024-08-02T12:53:18.336442916Z",
     "start_time": "2024-08-02T12:53:18.285722091Z"
    }
   }
  },
  {
   "cell_type": "code",
   "execution_count": 14,
   "outputs": [],
   "source": [],
   "metadata": {
    "collapsed": false,
    "ExecuteTime": {
     "end_time": "2024-08-02T12:53:18.431324008Z",
     "start_time": "2024-08-02T12:53:18.326754251Z"
    }
   }
  },
  {
   "cell_type": "code",
   "execution_count": 14,
   "outputs": [],
   "source": [],
   "metadata": {
    "collapsed": false,
    "ExecuteTime": {
     "end_time": "2024-08-02T12:53:18.446845129Z",
     "start_time": "2024-08-02T12:53:18.369804622Z"
    }
   }
  }
 ],
 "metadata": {
  "kernelspec": {
   "display_name": "Python 3 (ipykernel)",
   "language": "python",
   "name": "python3"
  },
  "language_info": {
   "codemirror_mode": {
    "name": "ipython",
    "version": 3
   },
   "file_extension": ".py",
   "mimetype": "text/x-python",
   "name": "python",
   "nbconvert_exporter": "python",
   "pygments_lexer": "ipython3",
   "version": "3.11.3"
  }
 },
 "nbformat": 4,
 "nbformat_minor": 1
}
