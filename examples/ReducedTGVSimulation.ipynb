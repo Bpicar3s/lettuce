{
 "cells": [
  {
   "cell_type": "code",
   "execution_count": 1,
   "metadata": {
    "collapsed": true
   },
   "outputs": [],
   "source": [
    "import lettuce as lt\n",
    "import matplotlib.pyplot as plt\n",
    "import numpy as np\n",
    "import torch\n",
    "import os\n",
    "import csv\n",
    "from argparse import ArgumentParser, ArgumentDefaultsHelpFormatter\n"
   ]
  },
  {
   "cell_type": "code",
   "execution_count": 2,
   "outputs": [
    {
     "name": "stdout",
     "output_type": "stream",
     "text": [
      "ICH FUNKTIONIERE MIT PULLEN\n"
     ]
    }
   ],
   "source": [
    "parser = ArgumentParser(formatter_class=ArgumentDefaultsHelpFormatter)\n",
    "parser.add_argument(\"--vtkdir\", type=str, help=\"name base of vtk files - they are usually in a vtk-subdirectory!\", default=\"./output/\")\n",
    "parser.add_argument(\"--csvdir\", type=str, default=\"./output/\")\n",
    "parser.add_argument(\"--resolution\", type=int, default=10)\n",
    "parser.add_argument(\"--nout\", type=int, default=100)\n",
    "parser.add_argument(\"--nvtk\", type=int, default=200)\n",
    "parser.add_argument(\"--tmax\", type=int, default=10)\n",
    "parser.add_argument(\"--Re\", type=int, default=100)\n",
    "parser.add_argument(\"--collision_operator\", type=str, default=\"BGK\")\n",
    "parser.add_argument(\"--Precision\", type=str, default=\"K.A.\")\n",
    "parser.add_argument(\"--Mach\", type=float, default=0.1)\n",
    "args, unknown = parser.parse_known_args()\n",
    "args = vars(args)\n",
    "print(\"ICH FUNKTIONIERE MIT PULLEN\")\n",
    "Re=args[\"Re\"]\n",
    "basedir = args[\"vtkdir\"]\n",
    "csvdir = args[\"csvdir\"]\n",
    "res = args[\"resolution\"]\n",
    "nout = args[\"nout\"]\n",
    "nvtk = args[\"nvtk\"]\n",
    "tmax = args[\"tmax\"]\n",
    "Precision= args[\"Precision\"]\n",
    "collision_operator = args[\"collision_operator\"]\n",
    "Mach= args[\"Mach\"]\n"
   ],
   "metadata": {
    "collapsed": false
   }
  },
  {
   "cell_type": "code",
   "execution_count": 3,
   "metadata": {},
   "outputs": [
    {
     "name": "stdout",
     "output_type": "stream",
     "text": [
      "K.A.\n",
      "3528.504930699469\n",
      "torch.int64\n",
      "\n",
      "torch.float64\n",
      "torch.float64\n"
     ]
    }
   ],
   "source": [
    "print(Precision)\n",
    "lattice = lt.Lattice(lt.D3Q27, device = \"cuda\", dtype=torch.float32 if Precision == \"Single\" else torch.float64)\n",
    "flow = lt.SuperReducedTaylorGreenVortex3D(resolution=res, reynolds_number=Re, mach_number=Mach, lattice=lattice)\n",
    "print(flow.units.convert_time_to_lu(tmax))\n",
    "tensor=torch.tensor(1)\n",
    "print(tensor.dtype)\n",
    "\n",
    "# Konstruktion des Funktionsnamens\n",
    "function_name = f\"{collision_operator}Collision\"\n",
    "\n",
    "if collision_operator == \"BGK\":\n",
    "    collision=lt.BGKCollision(lattice, tau=flow.units.relaxation_parameter_lu)\n",
    "elif collision_operator == \"KBC\":\n",
    "    collision=lt.KBCCollision3D(lattice, tau=flow.units.relaxation_parameter_lu)\n",
    "\n",
    "print()\n",
    "streaming = lt.StandardStreaming(lattice)\n",
    "simulation = lt.SimulationReducedTGV(flow=flow, lattice=lattice, collision=collision, streaming=streaming)\n"
   ]
  },
  {
   "cell_type": "code",
   "execution_count": 4,
   "metadata": {},
   "outputs": [
    {
     "name": "stdout",
     "output_type": "stream",
     "text": [
      "steps     time     IncompressibleKineticEnergy\n",
      "steps     time     Dissipation_TGV\n",
      "steps     time     EnergySpectrum\n",
      "steps     time     SymmetryReporter\n"
     ]
    },
    {
     "name": "stderr",
     "output_type": "stream",
     "text": [
      "/home/ben/anaconda3/envs/lettuce/lib/python3.11/site-packages/torch/functional.py:504: UserWarning: torch.meshgrid: in an upcoming release, it will be required to pass the indexing argument. (Triggered internally at /opt/conda/conda-bld/pytorch_1695392035891/work/aten/src/ATen/native/TensorShape.cpp:3526.)\n",
      "  return _VF.meshgrid(tensors, **kwargs)  # type: ignore[attr-defined]\n"
     ]
    }
   ],
   "source": [
    "interval_vtk=int((flow.units.convert_time_to_lu(tmax))/20)\n",
    "interval_out=int((flow.units.convert_time_to_lu(tmax))/500)\n",
    "Energy = lt.IncompressibleKineticEnergy(lattice, flow)\n",
    "Dissipation_TGV=lt.Dissipation_TGV(lattice, flow)\n",
    "Energyspectrum= lt.EnergySpectrum(lattice, flow)\n",
    "reporter = lt.ObservableReporter(Energy, interval=interval_out, out=None)\n",
    "reporter2= lt.ObservableReporter(Dissipation_TGV, interval=interval_out, out=None)\n",
    "simulation.reporters.append(reporter)\n",
    "simulation.reporters.append(reporter2)\n",
    "reporter3=lt.ObservableReporter(Energyspectrum, interval=interval_out, out=None)\n",
    "simulation.reporters.append(reporter3)\n",
    "simulation.reporters.append(lt.VTKReporter(lattice, flow, interval=interval_vtk, filename_base=basedir+\"out\"))"
   ]
  },
  {
   "cell_type": "code",
   "execution_count": 5,
   "metadata": {},
   "outputs": [
    {
     "name": "stdout",
     "output_type": "stream",
     "text": [
      "torch.float64\n",
      "torch.float64\n"
     ]
    },
    {
     "ename": "TypeError",
     "evalue": "zeros(): argument 'size' failed to unpack the object at pos 2 with error \"type must be tuple of ints,but got float\"",
     "output_type": "error",
     "traceback": [
      "\u001B[0;31m---------------------------------------------------------------------------\u001B[0m",
      "\u001B[0;31mTypeError\u001B[0m                                 Traceback (most recent call last)",
      "Cell \u001B[0;32mIn[5], line 3\u001B[0m\n\u001B[1;32m      1\u001B[0m simulation\u001B[38;5;241m.\u001B[39minitialize_f_neq()\n\u001B[1;32m      2\u001B[0m steps \u001B[38;5;241m=\u001B[39m \u001B[38;5;28mint\u001B[39m(flow\u001B[38;5;241m.\u001B[39munits\u001B[38;5;241m.\u001B[39mconvert_time_to_lu(tmax))\n\u001B[0;32m----> 3\u001B[0m mlups \u001B[38;5;241m=\u001B[39m \u001B[43msimulation\u001B[49m\u001B[38;5;241;43m.\u001B[39;49m\u001B[43mstep\u001B[49m\u001B[43m(\u001B[49m\u001B[43mnum_steps\u001B[49m\u001B[38;5;241;43m=\u001B[39;49m\u001B[43msteps\u001B[49m\u001B[43m)\u001B[49m\n\u001B[1;32m      4\u001B[0m \u001B[38;5;66;03m#print(\"Performance in MLUPS:\", mlups)\u001B[39;00m\n",
      "File \u001B[0;32m~/lettuce/lettuce/simulation_reducedTGV.py:74\u001B[0m, in \u001B[0;36mSimulationReducedTGV.step\u001B[0;34m(self, num_steps)\u001B[0m\n\u001B[1;32m     71\u001B[0m start \u001B[38;5;241m=\u001B[39m timer()\n\u001B[1;32m     73\u001B[0m \u001B[38;5;28;01mif\u001B[39;00m \u001B[38;5;28mself\u001B[39m\u001B[38;5;241m.\u001B[39mi \u001B[38;5;241m==\u001B[39m \u001B[38;5;241m0\u001B[39m:\n\u001B[0;32m---> 74\u001B[0m     \u001B[38;5;28;43mself\u001B[39;49m\u001B[38;5;241;43m.\u001B[39;49m\u001B[43m_report\u001B[49m\u001B[43m(\u001B[49m\u001B[43m)\u001B[49m\n\u001B[1;32m     75\u001B[0m \u001B[38;5;28;01mfor\u001B[39;00m _ \u001B[38;5;129;01min\u001B[39;00m \u001B[38;5;28mrange\u001B[39m(num_steps):\n\u001B[1;32m     76\u001B[0m     \u001B[38;5;28mself\u001B[39m\u001B[38;5;241m.\u001B[39mi \u001B[38;5;241m+\u001B[39m\u001B[38;5;241m=\u001B[39m \u001B[38;5;241m1\u001B[39m\n",
      "File \u001B[0;32m~/lettuce/lettuce/simulation_reducedTGV.py:97\u001B[0m, in \u001B[0;36mSimulationReducedTGV._report\u001B[0;34m(self)\u001B[0m\n\u001B[1;32m     95\u001B[0m \u001B[38;5;28;01mdef\u001B[39;00m \u001B[38;5;21m_report\u001B[39m(\u001B[38;5;28mself\u001B[39m):\n\u001B[1;32m     96\u001B[0m     \u001B[38;5;28;01mfor\u001B[39;00m reporter \u001B[38;5;129;01min\u001B[39;00m \u001B[38;5;28mself\u001B[39m\u001B[38;5;241m.\u001B[39mreporters:\n\u001B[0;32m---> 97\u001B[0m         \u001B[43mreporter\u001B[49m\u001B[43m(\u001B[49m\u001B[38;5;28;43mself\u001B[39;49m\u001B[38;5;241;43m.\u001B[39;49m\u001B[43mi\u001B[49m\u001B[43m,\u001B[49m\u001B[43m \u001B[49m\u001B[38;5;28;43mself\u001B[39;49m\u001B[38;5;241;43m.\u001B[39;49m\u001B[43mflow\u001B[49m\u001B[38;5;241;43m.\u001B[39;49m\u001B[43munits\u001B[49m\u001B[38;5;241;43m.\u001B[39;49m\u001B[43mconvert_time_to_pu\u001B[49m\u001B[43m(\u001B[49m\u001B[38;5;28;43mself\u001B[39;49m\u001B[38;5;241;43m.\u001B[39;49m\u001B[43mi\u001B[49m\u001B[43m)\u001B[49m\u001B[43m,\u001B[49m\u001B[43m \u001B[49m\u001B[38;5;28;43mself\u001B[39;49m\u001B[38;5;241;43m.\u001B[39;49m\u001B[43mf\u001B[49m\u001B[43m)\u001B[49m\n",
      "File \u001B[0;32m~/lettuce/lettuce/reporters.py:138\u001B[0m, in \u001B[0;36mObservableReporter.__call__\u001B[0;34m(self, i, t, f)\u001B[0m\n\u001B[1;32m    136\u001B[0m \u001B[38;5;28;01mdef\u001B[39;00m \u001B[38;5;21m__call__\u001B[39m(\u001B[38;5;28mself\u001B[39m, i, t, f):\n\u001B[1;32m    137\u001B[0m     \u001B[38;5;28;01mif\u001B[39;00m i \u001B[38;5;241m%\u001B[39m \u001B[38;5;28mself\u001B[39m\u001B[38;5;241m.\u001B[39minterval \u001B[38;5;241m==\u001B[39m \u001B[38;5;241m0\u001B[39m:\n\u001B[0;32m--> 138\u001B[0m         observed \u001B[38;5;241m=\u001B[39m \u001B[38;5;28mself\u001B[39m\u001B[38;5;241m.\u001B[39mobservable\u001B[38;5;241m.\u001B[39mlattice\u001B[38;5;241m.\u001B[39mconvert_to_numpy(\u001B[38;5;28;43mself\u001B[39;49m\u001B[38;5;241;43m.\u001B[39;49m\u001B[43mobservable\u001B[49m\u001B[43m(\u001B[49m\u001B[43mf\u001B[49m\u001B[43m)\u001B[49m)\n\u001B[1;32m    139\u001B[0m         \u001B[38;5;28;01massert\u001B[39;00m \u001B[38;5;28mlen\u001B[39m(observed\u001B[38;5;241m.\u001B[39mshape) \u001B[38;5;241m<\u001B[39m \u001B[38;5;241m2\u001B[39m\n\u001B[1;32m    140\u001B[0m         \u001B[38;5;28;01mif\u001B[39;00m \u001B[38;5;28mlen\u001B[39m(observed\u001B[38;5;241m.\u001B[39mshape) \u001B[38;5;241m==\u001B[39m \u001B[38;5;241m0\u001B[39m:\n",
      "File \u001B[0;32m~/lettuce/lettuce/observables.py:243\u001B[0m, in \u001B[0;36mSymmetryReporter.__call__\u001B[0;34m(self, f)\u001B[0m\n\u001B[1;32m    241\u001B[0m u \u001B[38;5;241m=\u001B[39m \u001B[38;5;28mself\u001B[39m\u001B[38;5;241m.\u001B[39mlattice\u001B[38;5;241m.\u001B[39mu(f)\n\u001B[1;32m    242\u001B[0m n\u001B[38;5;241m=\u001B[39mu\u001B[38;5;241m.\u001B[39msize()[\u001B[38;5;241m1\u001B[39m]\n\u001B[0;32m--> 243\u001B[0m u_new\u001B[38;5;241m=\u001B[39m\u001B[43mtorch\u001B[49m\u001B[38;5;241;43m.\u001B[39;49m\u001B[43mzeros\u001B[49m\u001B[43m(\u001B[49m\u001B[38;5;241;43m3\u001B[39;49m\u001B[43m,\u001B[49m\u001B[43mn\u001B[49m\u001B[38;5;241;43m/\u001B[39;49m\u001B[38;5;241;43m2\u001B[39;49m\u001B[43m,\u001B[49m\u001B[43mn\u001B[49m\u001B[38;5;241;43m/\u001B[39;49m\u001B[38;5;241;43m2\u001B[39;49m\u001B[43m,\u001B[49m\u001B[43mn\u001B[49m\u001B[38;5;241;43m/\u001B[39;49m\u001B[38;5;241;43m2\u001B[39;49m\u001B[43m)\u001B[49m\n\u001B[1;32m    244\u001B[0m u_new[:,:n\u001B[38;5;241m/\u001B[39m\u001B[38;5;241m4\u001B[39m,:n\u001B[38;5;241m/\u001B[39m\u001B[38;5;241m4\u001B[39m,:n\u001B[38;5;241m/\u001B[39m\u001B[38;5;241m4\u001B[39m] \u001B[38;5;241m=\u001B[39m u[:,:n\u001B[38;5;241m/\u001B[39m\u001B[38;5;241m4\u001B[39m,:n\u001B[38;5;241m/\u001B[39m\u001B[38;5;241m4\u001B[39m,:n\u001B[38;5;241m/\u001B[39m\u001B[38;5;241m4\u001B[39m]\n\u001B[1;32m    246\u001B[0m u_new[\u001B[38;5;241m0\u001B[39m, :n\u001B[38;5;241m/\u001B[39m\u001B[38;5;241m4\u001B[39m, n\u001B[38;5;241m/\u001B[39m\u001B[38;5;241m2\u001B[39m:n\u001B[38;5;241m/\u001B[39m\u001B[38;5;241m4\u001B[39m,:n\u001B[38;5;241m/\u001B[39m\u001B[38;5;241m4\u001B[39m] \u001B[38;5;241m=\u001B[39m \u001B[38;5;241m-\u001B[39m\u001B[38;5;241m1\u001B[39m \u001B[38;5;241m*\u001B[39m torch\u001B[38;5;241m.\u001B[39mflip(torch\u001B[38;5;241m.\u001B[39mtranspose(u[\u001B[38;5;241m1\u001B[39m,:n\u001B[38;5;241m/\u001B[39m\u001B[38;5;241m4\u001B[39m,:n\u001B[38;5;241m/\u001B[39m\u001B[38;5;241m4\u001B[39m,:n\u001B[38;5;241m/\u001B[39m\u001B[38;5;241m4\u001B[39m], \u001B[38;5;241m0\u001B[39m, \u001B[38;5;241m1\u001B[39m), [\u001B[38;5;241m0\u001B[39m])\n",
      "\u001B[0;31mTypeError\u001B[0m: zeros(): argument 'size' failed to unpack the object at pos 2 with error \"type must be tuple of ints,but got float\""
     ]
    }
   ],
   "source": [
    "simulation.initialize_f_neq()\n",
    "steps = int(flow.units.convert_time_to_lu(tmax))\n",
    "mlups = simulation.step(num_steps=1)\n",
    "#print(\"Performance in MLUPS:\", mlups)\n"
   ]
  },
  {
   "cell_type": "code",
   "execution_count": null,
   "outputs": [],
   "source": [
    "energy = np.array(simulation.reporters[0].out)\n",
    "dissipation = np.array(simulation.reporters[1].out)\n",
    "dEdt=np.zeros(len(energy[:,2]))\n",
    "dt=energy[1,1]-energy[0,1]\n",
    "nmax=len(energy[:,2])\n",
    "print(nmax,dt)\n",
    "for i in range(len(energy[:,2])):\n",
    "    if i == 0:\n",
    "        dEdt[i] = (energy[1,2] - energy[0,2]) / dt\n",
    "    elif i == 1:\n",
    "        dEdt[i] = (energy[2,2] - energy[0,2]) / 2/dt\n",
    "    elif i == 2:\n",
    "        dEdt[i] = (1/12*energy[0,2] - 2/3*energy[1,2] + 2/3*energy[3,2] - 1/12*energy[4,2]) / dt\n",
    "    elif i >= (nmax-3):\n",
    "        if i == (nmax-3):\n",
    "            dEdt[i] = (1/12*energy[nmax-5,2] - 2/3*energy[nmax-4,2] + 2/3*energy[nmax-2,2] - 1/12*energy[nmax-1,2]) / dt\n",
    "        elif i == (nmax-2):\n",
    "            dEdt[i] = (energy[nmax-1,2] - energy[nmax-3,2]) /2/ dt\n",
    "        elif i == (nmax-1):\n",
    "            dEdt[i] = (energy[nmax-1,2] - energy[nmax-2,2]) /dt\n",
    "    elif i < (nmax-3):\n",
    "        dEdt[i] = (-1/60*energy[i-3,2] + 3/20*energy[i-2,2] - 3/4*energy[i-1,2] + 3/4*energy[i+1,2] - 3/20*energy[i+2,2] + 1/60*energy[i+3,2]) / dt\n",
    "#dissipationEkin=np.array([energy[:,1],-1/(np.pi*2)**3*np.gradient(energy[:,2],energy[:,1])])\n",
    "\n",
    "dissipationEkin=np.array([energy[:,1],-dEdt/(np.pi*0.5)**3])\n",
    "\n",
    "dissipationEns=np.array([dissipation[:,1],1/(0.5*np.pi)**3*dissipation[:,3]])\n",
    "dissipationSij=np.array([dissipation[:,1],dissipation[:,2]])\n",
    "\n",
    "with open(csvdir + 'DissipationEkin.csv', 'w', newline='') as file:\n",
    "    writer = csv.writer(file)\n",
    "    writer.writerows(dissipationEkin)\n",
    "with open(csvdir + 'DissipationEnstrophy.csv', 'w', newline='') as file:\n",
    "    writer = csv.writer(file)\n",
    "    writer.writerows(dissipationEns)\n",
    "with open(csvdir + 'DissipationSij.csv', 'w', newline='') as file:\n",
    "    writer = csv.writer(file)\n",
    "    writer.writerows(dissipationSij)"
   ],
   "metadata": {
    "collapsed": false
   }
  },
  {
   "cell_type": "code",
   "execution_count": null,
   "outputs": [],
   "source": [
    "csv_file_path = '/home/ben/Schreibtisch/Enstropy Brachet/Brachet/Brachet_1983_tgv3d_enstrophy_Re100.csv'\n",
    "\n",
    "# Daten aus der CSV-Datei lesen\n",
    "csv_data = []\n",
    "with open(csv_file_path, 'r') as file:\n",
    "    csv_reader = csv.reader(file, delimiter=';')\n",
    "    for row in csv_reader:\n",
    "        csv_data.append(row)\n",
    "\n",
    "csv_data = np.array(csv_data, dtype=float)\n",
    "print(64*energy[:,2])\n",
    "\n",
    "plt.plot(dissipationEkin[0,:],dissipationEkin[1,:],color = 'blue')\n",
    "plt.plot(dissipationEns[0,:],dissipationEns[1,:], color = 'green')\n",
    "plt.xlim(0,10)\n",
    "plt.plot(dissipationSij[0,:],dissipationSij[1,:])\n",
    "plt.scatter(csv_data[:, 0], csv_data[:, 1], color='red', label='CSV Data')\n",
    "#plt.plot(energy[:,1],energy[:,2]*64)\n",
    "plt.title('Energy Dissipation')\n",
    "plt.xlabel('Time')\n",
    "plt.ylabel('Energy Dissipation in physical units')\n",
    "plt.show()"
   ],
   "metadata": {
    "collapsed": false
   }
  },
  {
   "cell_type": "code",
   "execution_count": null,
   "outputs": [],
   "source": [
    "energy=np.array(simulation.reporters[2].out)\n",
    "print(energy)"
   ],
   "metadata": {
    "collapsed": false
   }
  },
  {
   "cell_type": "code",
   "execution_count": null,
   "outputs": [],
   "source": [
    "plt.plot(energy[50,2:])\n",
    "print(energy.shape)\n",
    "print(energy[2,:])"
   ],
   "metadata": {
    "collapsed": false
   }
  },
  {
   "cell_type": "code",
   "execution_count": null,
   "outputs": [],
   "source": [],
   "metadata": {
    "collapsed": false
   }
  }
 ],
 "metadata": {
  "kernelspec": {
   "display_name": "Python 3 (ipykernel)",
   "language": "python",
   "name": "python3"
  },
  "language_info": {
   "codemirror_mode": {
    "name": "ipython",
    "version": 3
   },
   "file_extension": ".py",
   "mimetype": "text/x-python",
   "name": "python",
   "nbconvert_exporter": "python",
   "pygments_lexer": "ipython3",
   "version": "3.11.3"
  }
 },
 "nbformat": 4,
 "nbformat_minor": 1
}
