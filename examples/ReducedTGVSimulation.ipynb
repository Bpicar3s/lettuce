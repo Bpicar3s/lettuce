{
 "cells": [
  {
   "cell_type": "code",
   "execution_count": 1,
   "metadata": {
    "collapsed": true,
    "ExecuteTime": {
     "end_time": "2024-07-26T10:55:42.033621067Z",
     "start_time": "2024-07-26T10:55:41.033760408Z"
    }
   },
   "outputs": [],
   "source": [
    "import lettuce as lt\n",
    "import matplotlib.pyplot as plt\n",
    "import numpy as np\n",
    "import torch\n",
    "import os\n",
    "import csv\n",
    "from argparse import ArgumentParser, ArgumentDefaultsHelpFormatter\n"
   ]
  },
  {
   "cell_type": "code",
   "execution_count": 2,
   "outputs": [
    {
     "name": "stdout",
     "output_type": "stream",
     "text": [
      "ICH FUNKTIONIERE MIT PULLEN\n"
     ]
    }
   ],
   "source": [
    "parser = ArgumentParser(formatter_class=ArgumentDefaultsHelpFormatter)\n",
    "parser.add_argument(\"--vtkdir\", type=str, help=\"name base of vtk files - they are usually in a vtk-subdirectory!\", default=\"./output/\")\n",
    "parser.add_argument(\"--csvdir\", type=str, default=\"./output/\")\n",
    "parser.add_argument(\"--resolution\", type=int, default=16)\n",
    "parser.add_argument(\"--nout\", type=int, default=100)\n",
    "parser.add_argument(\"--nvtk\", type=int, default=200)\n",
    "parser.add_argument(\"--tmax\", type=int, default=10)\n",
    "parser.add_argument(\"--Re\", type=int, default=100)\n",
    "parser.add_argument(\"--collision_operator\", type=str, default=\"BGK\")\n",
    "args, unknown = parser.parse_known_args()\n",
    "args = vars(args)\n",
    "print(\"ICH FUNKTIONIERE MIT PULLEN\")\n",
    "Re=args[\"Re\"]\n",
    "basedir = args[\"vtkdir\"]\n",
    "csvdir = args[\"csvdir\"]\n",
    "res = args[\"resolution\"]\n",
    "nout = args[\"nout\"]\n",
    "nvtk = args[\"nvtk\"]\n",
    "tmax = args[\"tmax\"]\n",
    "collision_operator = args[\"collision_operator\"]\n",
    "\n"
   ],
   "metadata": {
    "collapsed": false,
    "ExecuteTime": {
     "end_time": "2024-07-26T10:55:42.041023004Z",
     "start_time": "2024-07-26T10:55:42.036846248Z"
    }
   }
  },
  {
   "cell_type": "code",
   "execution_count": 3,
   "metadata": {
    "ExecuteTime": {
     "end_time": "2024-07-26T10:55:42.092121626Z",
     "start_time": "2024-07-26T10:55:42.041510850Z"
    }
   },
   "outputs": [
    {
     "name": "stdout",
     "output_type": "stream",
     "text": [
      "3528.504930699469\n",
      "0.5088212623267486\n"
     ]
    }
   ],
   "source": [
    "lattice = lt.Lattice(lt.D3Q27, device = \"cpu\", dtype=torch.float32)\n",
    "flow = lt.SuperReducedTaylorGreenVortex3D(resolution=res, reynolds_number=Re, mach_number=0.05, lattice=lattice)\n",
    "print(flow.units.convert_time_to_lu(tmax))\n",
    "\n",
    "\n",
    "# Konstruktion des Funktionsnamens\n",
    "function_name = f\"{collision_operator}Collision\"\n",
    "\n",
    "if collision_operator == \"BGK\":\n",
    "    collision=lt.BGKCollision(lattice, tau=flow.units.relaxation_parameter_lu)\n",
    "elif collision_operator == \"KBC\":\n",
    "    collision=lt.KBCCollision3D(lattice, tau=flow.units.relaxation_parameter_lu)\n",
    "\n",
    "print(flow.units.relaxation_parameter_lu)\n",
    "streaming = lt.StandardStreaming(lattice)\n",
    "simulation = lt.SimulationReducedTGV(flow=flow, lattice=lattice, collision=collision, streaming=streaming)\n"
   ]
  },
  {
   "cell_type": "code",
   "execution_count": 4,
   "metadata": {
    "ExecuteTime": {
     "end_time": "2024-07-26T10:55:42.094234245Z",
     "start_time": "2024-07-26T10:55:42.092394869Z"
    }
   },
   "outputs": [
    {
     "name": "stdout",
     "output_type": "stream",
     "text": [
      "steps     time     IncompressibleKineticEnergy\n",
      "steps     time     Dissipation_TGV\n"
     ]
    }
   ],
   "source": [
    "interval_vtk=int((flow.units.convert_time_to_lu(tmax))/1)\n",
    "interval_out=int((flow.units.convert_time_to_lu(tmax))/500)\n",
    "Energy = lt.IncompressibleKineticEnergy(lattice, flow)\n",
    "Dissipation_TGV=lt.Dissipation_TGV(lattice, flow)\n",
    "reporter = lt.ObservableReporter(Energy, interval=interval_out, out=None)\n",
    "reporter2= lt.ObservableReporter(Dissipation_TGV, interval=interval_out, out=None)\n",
    "simulation.reporters.append(reporter)\n",
    "simulation.reporters.append(reporter2)\n",
    "simulation.reporters.append(lt.VTKReporter(lattice, flow, interval=interval_vtk, filename_base=basedir+\"out\"))"
   ]
  },
  {
   "cell_type": "code",
   "execution_count": 5,
   "metadata": {
    "ExecuteTime": {
     "end_time": "2024-07-26T10:55:51.685819826Z",
     "start_time": "2024-07-26T10:55:42.094989357Z"
    }
   },
   "outputs": [],
   "source": [
    "simulation.initialize_f_neq()\n",
    "steps = int(flow.units.convert_time_to_lu(tmax))\n",
    "mlups = simulation.step(num_steps=steps)\n",
    "#print(\"Performance in MLUPS:\", mlups)\n"
   ]
  },
  {
   "cell_type": "code",
   "execution_count": 6,
   "outputs": [
    {
     "name": "stdout",
     "output_type": "stream",
     "text": [
      "505 0.01983843054631176\n"
     ]
    }
   ],
   "source": [
    "energy = np.array(simulation.reporters[0].out)\n",
    "dissipation = np.array(simulation.reporters[1].out)\n",
    "dEdt=np.zeros(len(energy[:,2]))\n",
    "dt=energy[1,1]-energy[0,1]\n",
    "nmax=len(energy[:,2])\n",
    "print(nmax,dt)\n",
    "for i in range(len(energy[:,2])):\n",
    "    if i == 0:\n",
    "        dEdt[i] = (energy[1,2] - energy[0,2]) / dt\n",
    "    elif i == 1:\n",
    "        dEdt[i] = (energy[2,2] - energy[0,2]) / 2/dt\n",
    "    elif i == 2:\n",
    "        dEdt[i] = (1/12*energy[0,2] - 2/3*energy[1,2] + 2/3*energy[3,2] - 1/12*energy[4,2]) / dt\n",
    "    elif i >= (nmax-3):\n",
    "        if i == (nmax-3):\n",
    "            dEdt[i] = (1/12*energy[nmax-5,2] - 2/3*energy[nmax-4,2] + 2/3*energy[nmax-2,2] - 1/12*energy[nmax-1,2]) / dt\n",
    "        elif i == (nmax-2):\n",
    "            dEdt[i] = (energy[nmax-1,2] - energy[nmax-3,2]) /2/ dt\n",
    "        elif i == (nmax-1):\n",
    "            dEdt[i] = (energy[nmax-1,2] - energy[nmax-2,2]) /dt\n",
    "    elif i < (nmax-3):\n",
    "        dEdt[i] = (-1/60*energy[i-3,2] + 3/20*energy[i-2,2] - 3/4*energy[i-1,2] + 3/4*energy[i+1,2] - 3/20*energy[i+2,2] + 1/60*energy[i+3,2]) / dt\n",
    "#dissipationEkin=np.array([energy[:,1],-1/(np.pi*2)**3*np.gradient(energy[:,2],energy[:,1])])\n",
    "\n",
    "dissipationEkin=np.array([energy[:,1],-dEdt/(np.pi*0.5)**3])\n",
    "\n",
    "dissipationEns=np.array([dissipation[:,1],1/(0.5*np.pi)**3*dissipation[:,3]])\n",
    "dissipationSij=np.array([dissipation[:,1],dissipation[:,2]])\n",
    "\n",
    "with open(csvdir + 'DissipationEkin.csv', 'w', newline='') as file:\n",
    "    writer = csv.writer(file)\n",
    "    writer.writerows(dissipationEkin)\n",
    "with open(csvdir + 'DissipationEnstrophy.csv', 'w', newline='') as file:\n",
    "    writer = csv.writer(file)\n",
    "    writer.writerows(dissipationEns)\n",
    "with open(csvdir + 'DissipationSij.csv', 'w', newline='') as file:\n",
    "    writer = csv.writer(file)\n",
    "    writer.writerows(dissipationSij)"
   ],
   "metadata": {
    "collapsed": false,
    "ExecuteTime": {
     "end_time": "2024-07-26T10:55:51.694518666Z",
     "start_time": "2024-07-26T10:55:51.690395453Z"
    }
   }
  },
  {
   "cell_type": "code",
   "execution_count": 7,
   "outputs": [
    {
     "name": "stdout",
     "output_type": "stream",
     "text": [
      "[31.0062809  30.97751045 30.93684578 30.90089417 30.86393356 30.82723045\n",
      " 30.79123878 30.75302315 30.71780586 30.68029404 30.64393616 30.60717392\n",
      " 30.57063103 30.53406906 30.49723053 30.46086693 30.42407799 30.38751602\n",
      " 30.3508358  30.31420326 30.27754402 30.24086189 30.20422554 30.16747856\n",
      " 30.13072586 30.09393311 30.05715752 30.02034378 29.98348045 29.9465847\n",
      " 29.90964699 29.87267303 29.83564568 29.79856491 29.76143074 29.72426033\n",
      " 29.68703842 29.64975929 29.6124115  29.57499313 29.53751564 29.49996376\n",
      " 29.46232605 29.42463684 29.38689423 29.34907341 29.31114006 29.27310944\n",
      " 29.2349987  29.19682312 29.15856934 29.12020111 29.08172989 29.04317284\n",
      " 29.00453377 28.96577835 28.92690086 28.88790321 28.84881401 28.80962563\n",
      " 28.77033615 28.73091316 28.69137001 28.65170097 28.61190033 28.57196999\n",
      " 28.53192139 28.49175644 28.45145988 28.41101837 28.37042809 28.32970047\n",
      " 28.28884506 28.24784279 28.20668411 28.16538239 28.12394524 28.08237076\n",
      " 28.04063225 27.99872017 27.95664024 27.91440773 27.87203598 27.82951164\n",
      " 27.78681374 27.74393654 27.7008934  27.65768242 27.61430168 27.57075119\n",
      " 27.52702141 27.48312569 27.43905258 27.39481163 27.35038757 27.30576706\n",
      " 27.26096535 27.21597481 27.17081833 27.12548256 27.0799675  27.03424835\n",
      " 26.98833466 26.94223595 26.8959446  26.84947205 26.80281258 26.75596619\n",
      " 26.70891953 26.66167259 26.61424065 26.56661034 26.51877975 26.47075081\n",
      " 26.42253304 26.37413216 26.32553291 26.27673912 26.22774124 26.17853355\n",
      " 26.12913513 26.07954788 26.02977943 25.97981453 25.92964745 25.87927628\n",
      " 25.82871628 25.77796555 25.72701645 25.67587471 25.62454414 25.57302666\n",
      " 25.52131844 25.46941185 25.41731453 25.36502266 25.31254196 25.25987625\n",
      " 25.20703316 25.15400696 25.10079956 25.0473938  24.99380112 24.94002342\n",
      " 24.88606834 24.8319416  24.77763748 24.72315025 24.66849136 24.613657\n",
      " 24.55865288 24.50346947 24.44811249 24.39258575 24.3368988  24.28105164\n",
      " 24.22503853 24.16885185 24.11250496 24.0559864  23.99931335 23.94249153\n",
      " 23.88551331 23.82838821 23.77109718 23.71365929 23.65606689 23.59832764\n",
      " 23.54044533 23.48241234 23.42424583 23.36593819 23.3074894  23.24890137\n",
      " 23.19017601 23.13131142 23.07230568 23.0131855  22.95393753 22.8945694\n",
      " 22.83506393 22.77543068 22.71567535 22.65580177 22.59581375 22.53570366\n",
      " 22.47548485 22.41515541 22.35471153 22.29416275 22.23350525 22.17273521\n",
      " 22.11185837 22.05089378 21.98983383 21.92867851 21.86741638 21.80606079\n",
      " 21.74460983 21.68306351 21.62143707 21.55973434 21.49794579 21.43606758\n",
      " 21.37410736 21.31206894 21.24995232 21.18775558 21.12549019 21.0631485\n",
      " 21.0007515  20.93828392 20.87574577 20.81314278 20.75047302 20.68774223\n",
      " 20.62495613 20.56212234 20.49923325 20.43628883 20.37328911 20.31024361\n",
      " 20.24715042 20.18400192 20.12081718 20.05760002 19.99434471 19.93104935\n",
      " 19.86771393 19.80434036 19.740942   19.67750549 19.61404228 19.55056381\n",
      " 19.48706245 19.42353821 19.35998535 19.29640961 19.23282814 19.1692276\n",
      " 19.10562134 19.04200745 18.97838593 18.91475105 18.85112    18.7874794\n",
      " 18.72383881 18.66019821 18.59655952 18.5329361  18.46932602 18.40571976\n",
      " 18.34211159 18.27853203 18.21496391 18.15141106 18.08787727 18.02437592\n",
      " 17.96090126 17.89744759 17.83401489 17.77061653 17.70724869 17.64391518\n",
      " 17.58062935 17.51737595 17.45416832 17.39100075 17.32787704 17.26480293\n",
      " 17.20177269 17.13879395 17.07587242 17.01301193 16.95020485 16.88745689\n",
      " 16.82476616 16.76214409 16.69958878 16.63710022 16.57468224 16.51233864\n",
      " 16.45007133 16.38788223 16.32576752 16.263731   16.2017765  16.13990593\n",
      " 16.07812691 16.01643753 15.95483494 15.89333153 15.83191681 15.77060032\n",
      " 15.7093811  15.64825439 15.58724499 15.52633953 15.46554184 15.40484333\n",
      " 15.34425545 15.28378677 15.22342968 15.16318321 15.10305882 15.04305267\n",
      " 14.98316765 14.92341137 14.86377239 14.80425644 14.74486542 14.68561268\n",
      " 14.62649345 14.56750774 14.50865173 14.44993019 14.39134884 14.33290958\n",
      " 14.27460289 14.21643925 14.15842342 14.10056019 14.04283905 13.98526001\n",
      " 13.9278307  13.87056065 13.81344032 13.75647163 13.69965839 13.64300251\n",
      " 13.5865097  13.53017426 13.47399521 13.41797543 13.36212158 13.30643368\n",
      " 13.25091362 13.19555283 13.14035702 13.08533478 13.03048706 12.97580624\n",
      " 12.92128563 12.86694813 12.8127861  12.75880146 12.70498562 12.65134525\n",
      " 12.59788418 12.54460335 12.49149609 12.43857002 12.3858223  12.33325863\n",
      " 12.28087425 12.22866917 12.176651   12.12481213 12.07316113 12.02169418\n",
      " 11.97041607 11.91931915 11.86840916 11.8176899  11.76715279 11.71680164\n",
      " 11.66663742 11.61666679 11.56689072 11.51730442 11.46790123 11.41868401\n",
      " 11.36966228 11.32083035 11.272192   11.22374535 11.17549133 11.12743092\n",
      " 11.07956028 11.03188133 10.98439121 10.93709373 10.88999557 10.84308624\n",
      " 10.79637051 10.7498455  10.70351887 10.65738297 10.61143684 10.56568432\n",
      " 10.52012444 10.47476196 10.42959499 10.38461971 10.33983612 10.29524136\n",
      " 10.25083923 10.20663261 10.16261387 10.11879444 10.07516861 10.03173161\n",
      "  9.98848724  9.94542885  9.9025631   9.85988903  9.81740475  9.77511597\n",
      "  9.73301983  9.69110966  9.64938736  9.6078558   9.56651306  9.5253582\n",
      "  9.48439217  9.4436121   9.40302086  9.36262035  9.32240295  9.28237247\n",
      "  9.24252796  9.20287418  9.16340351  9.12411499  9.08501339  9.04609585\n",
      "  9.0073576   8.96880627  8.93043327  8.89224339  8.85423946  8.81641674\n",
      "  8.7787714   8.74131012  8.70402241  8.66691589  8.62998867  8.59323883\n",
      "  8.55666542  8.52027321  8.48405647  8.44801426  8.41214561  8.37644958\n",
      "  8.34093094  8.305583    8.27040958  8.23540688  8.20057964  8.16592312\n",
      "  8.13143539  8.09711552  8.06296158  8.0289793   7.99516869  7.9615221\n",
      "  7.9280405   7.89472628  7.8615756   7.8285923   7.7957716   7.76311541\n",
      "  7.73061991  7.69828987  7.66612196  7.63411188  7.60226011  7.57056761\n",
      "  7.53903389  7.50765896  7.47644377  7.44538498  7.41448212  7.38373375\n",
      "  7.35313845  7.32269812  7.29241228  7.26227903  7.23229837  7.20246887\n",
      "  7.17278957  7.14326     7.11387968  7.08464575  7.05555964  7.0266223\n",
      "  6.9978323   6.96918631  6.94068861  6.91233301  6.88412094  6.85605145\n",
      "  6.82812452  6.8003397   6.77269411  6.74519062  6.71782398  6.69059706\n",
      "  6.66350651  6.63655472  6.60973883  6.58305931  6.55651569  6.53010607\n",
      "  6.50383234]\n"
     ]
    },
    {
     "data": {
      "text/plain": "<Figure size 640x480 with 1 Axes>",
      "image/png": "[encoded data removed]"
     },
     "metadata": {},
     "output_type": "display_data"
    }
   ],
   "source": [
    "csv_file_path = '/home/ben/Schreibtisch/Enstropy Brachet/Brachet/Brachet_1983_tgv3d_enstrophy_Re100.csv'\n",
    "\n",
    "# Daten aus der CSV-Datei lesen\n",
    "csv_data = []\n",
    "with open(csv_file_path, 'r') as file:\n",
    "    csv_reader = csv.reader(file, delimiter=';')\n",
    "    for row in csv_reader:\n",
    "        csv_data.append(row)\n",
    "\n",
    "csv_data = np.array(csv_data, dtype=float)\n",
    "print(64*energy[:,2])\n",
    "\n",
    "plt.plot(dissipationEkin[0,:],dissipationEkin[1,:],color = 'blue')\n",
    "plt.plot(dissipationEns[0,:],dissipationEns[1,:], color = 'green')\n",
    "plt.xlim(0,10)\n",
    "plt.plot(dissipationSij[0,:],dissipationSij[1,:])\n",
    "plt.scatter(csv_data[:, 0], csv_data[:, 1], color='red', label='CSV Data')\n",
    "#plt.plot(energy[:,1],energy[:,2]*64)\n",
    "plt.title('Energy Dissipation')\n",
    "plt.xlabel('Time')\n",
    "plt.ylabel('Energy Dissipation in physical units')\n",
    "plt.show()"
   ],
   "metadata": {
    "collapsed": false,
    "ExecuteTime": {
     "end_time": "2024-07-26T10:55:51.792485732Z",
     "start_time": "2024-07-26T10:55:51.695777353Z"
    }
   }
  },
  {
   "cell_type": "code",
   "execution_count": 7,
   "outputs": [],
   "source": [],
   "metadata": {
    "collapsed": false,
    "ExecuteTime": {
     "end_time": "2024-07-26T10:55:51.793580983Z",
     "start_time": "2024-07-26T10:55:51.791917300Z"
    }
   }
  },
  {
   "cell_type": "code",
   "execution_count": 7,
   "outputs": [],
   "source": [],
   "metadata": {
    "collapsed": false,
    "ExecuteTime": {
     "end_time": "2024-07-26T10:55:51.795515503Z",
     "start_time": "2024-07-26T10:55:51.793714481Z"
    }
   }
  }
 ],
 "metadata": {
  "kernelspec": {
   "display_name": "Python 3 (ipykernel)",
   "language": "python",
   "name": "python3"
  },
  "language_info": {
   "codemirror_mode": {
    "name": "ipython",
    "version": 3
   },
   "file_extension": ".py",
   "mimetype": "text/x-python",
   "name": "python",
   "nbconvert_exporter": "python",
   "pygments_lexer": "ipython3",
   "version": "3.11.3"
  }
 },
 "nbformat": 4,
 "nbformat_minor": 1
}
