{
 "cells": [
  {
   "cell_type": "markdown",
   "metadata": {},
   "source": [
    "# A first example\n",
    "This is a first example of how to use lettuce.\n",
    "A two dimensional Taylor Green vortex is initialized and simulated for 10000 steps. Afterwards the energy and the velocity field is plotted."
   ]
  },
  {
   "cell_type": "code",
   "execution_count": 1,
   "outputs": [],
   "source": [
    "import os\n",
    "import lettuce as lt\n",
    "import matplotlib.pyplot as plt\n",
    "import numpy as np\n",
    "import torch"
   ],
   "metadata": {
    "collapsed": false,
    "ExecuteTime": {
     "end_time": "2023-07-26T08:49:16.201793990Z",
     "start_time": "2023-07-26T08:49:15.312603286Z"
    }
   }
  },
  {
   "cell_type": "markdown",
   "metadata": {},
   "source": [
    "## Setup\n",
    "* for running on GPU: device = \"cuda\". CUDA drivers are required!\n",
    "* dtype=torch.float32 for single precision - float64 for double precision\n",
    "* select collision model (here BGKCollision) - try also KBCCollision or RegularizedCollision"
   ]
  },
  {
   "cell_type": "code",
   "execution_count": 2,
   "metadata": {
    "ExecuteTime": {
     "end_time": "2023-07-26T08:49:16.209044799Z",
     "start_time": "2023-07-26T08:49:16.204757791Z"
    }
   },
   "outputs": [
    {
     "name": "stdout",
     "output_type": "stream",
     "text": [
      "3528.5049306994692\n",
      "0.5277128129211021\n"
     ]
    }
   ],
   "source": [
    "lattice = lt.Lattice(lt.D2Q9, device = \"cpu\", dtype=torch.float64)\n",
    "flow = lt.TaylorGreenVortex2D(resolution=32, reynolds_number=100, mach_number=0.05, lattice=lattice)\n",
    "print(flow.units.convert_time_to_lu(20))\n",
    "collision = lt.RegularizedCollision(lattice, tau=flow.units.relaxation_parameter_lu)\n",
    "print(flow.units.relaxation_parameter_lu)\n",
    "streaming = lt.StandardStreaming(lattice)\n",
    "simulation = lt.SimulationReducedTGV(flow=flow, lattice=lattice, collision=collision, streaming=streaming)"
   ]
  },
  {
   "cell_type": "markdown",
   "metadata": {},
   "source": [
    "* Reporters will grab the results in between simulation steps (see reporters.py and simulation.py)\n",
    "* Output: Column 1: simulation steps, Column 2: time in LU, Column 3: kinetic energy in PU\n",
    "* Output: separate VTK-file with ux,uy,(uz) and p for every 100. time step in ./output"
   ]
  },
  {
   "cell_type": "code",
   "execution_count": 3,
   "metadata": {
    "ExecuteTime": {
     "end_time": "2023-07-26T08:49:16.238562099Z",
     "start_time": "2023-07-26T08:49:16.209253697Z"
    }
   },
   "outputs": [
    {
     "name": "stdout",
     "output_type": "stream",
     "text": [
      "steps     time     IncompressibleKineticEnergyBd\n"
     ]
    }
   ],
   "source": [
    "Energy = lt.IncompressibleKineticEnergyBd(lattice, flow)\n",
    "reporter = lt.ObservableReporter(Energy, interval=100, out=None)\n",
    "simulation.reporters.append(reporter)\n",
    "simulation.reporters.append(lt.VTKReporter(lattice, flow, interval=100, filename_base=\"./output\"))"
   ]
  },
  {
   "cell_type": "markdown",
   "metadata": {},
   "source": [
    "## Run simulation"
   ]
  },
  {
   "cell_type": "code",
   "execution_count": 4,
   "metadata": {
    "ExecuteTime": {
     "end_time": "2023-07-26T08:49:17.704505355Z",
     "start_time": "2023-07-26T08:49:16.223887645Z"
    }
   },
   "outputs": [
    {
     "name": "stdout",
     "output_type": "stream",
     "text": [
      "Performance in MLUPS: 2.4519787722511897\n",
      "tensor([[[1.0000, 1.0000, 1.0000,  ..., 1.0000, 1.0000, 1.0000],\n",
      "         [1.0000, 1.0000, 1.0000,  ..., 1.0000, 1.0000, 1.0000],\n",
      "         [1.0000, 1.0000, 1.0000,  ..., 1.0000, 1.0000, 1.0000],\n",
      "         ...,\n",
      "         [1.0000, 1.0000, 1.0000,  ..., 1.0000, 1.0000, 1.0000],\n",
      "         [1.0000, 1.0000, 1.0000,  ..., 1.0000, 1.0000, 1.0000],\n",
      "         [1.0000, 1.0000, 1.0000,  ..., 1.0000, 1.0000, 1.0000]]],\n",
      "       dtype=torch.float64)\n",
      "rho_start\n",
      "tensor([[[0.9988, 0.9989, 0.9990,  ..., 0.9990, 0.9989, 0.9988],\n",
      "         [0.9989, 0.9990, 0.9991,  ..., 0.9991, 0.9990, 0.9989],\n",
      "         [0.9990, 0.9991, 0.9993,  ..., 0.9993, 0.9991, 0.9990],\n",
      "         ...,\n",
      "         [0.9990, 0.9991, 0.9993,  ..., 0.9993, 0.9991, 0.9990],\n",
      "         [0.9989, 0.9990, 0.9991,  ..., 0.9991, 0.9990, 0.9989],\n",
      "         [0.9988, 0.9989, 0.9990,  ..., 0.9990, 0.9989, 0.9988]]],\n",
      "       dtype=torch.float64)\n",
      "u_start\n",
      "tensor([[[ 0.0028,  0.0083,  0.0135,  ..., -0.0135, -0.0083, -0.0028],\n",
      "         [ 0.0027,  0.0080,  0.0130,  ..., -0.0130, -0.0080, -0.0027],\n",
      "         [ 0.0025,  0.0074,  0.0120,  ..., -0.0120, -0.0074, -0.0025],\n",
      "         ...,\n",
      "         [ 0.0025,  0.0074,  0.0120,  ..., -0.0120, -0.0074, -0.0025],\n",
      "         [ 0.0027,  0.0080,  0.0130,  ..., -0.0130, -0.0080, -0.0027],\n",
      "         [ 0.0028,  0.0083,  0.0135,  ..., -0.0135, -0.0083, -0.0028]],\n",
      "\n",
      "        [[-0.0028, -0.0027, -0.0025,  ..., -0.0025, -0.0027, -0.0028],\n",
      "         [-0.0083, -0.0080, -0.0074,  ..., -0.0074, -0.0080, -0.0083],\n",
      "         [-0.0135, -0.0130, -0.0120,  ..., -0.0120, -0.0130, -0.0135],\n",
      "         ...,\n",
      "         [ 0.0135,  0.0130,  0.0120,  ...,  0.0120,  0.0130,  0.0135],\n",
      "         [ 0.0083,  0.0080,  0.0074,  ...,  0.0074,  0.0080,  0.0083],\n",
      "         [ 0.0028,  0.0027,  0.0025,  ...,  0.0025,  0.0027,  0.0028]]],\n",
      "       dtype=torch.float64)\n",
      "f_start\n",
      "tensor([[[0.4439, 0.4439, 0.4439,  ..., 0.4439, 0.4439, 0.4439],\n",
      "         [0.4439, 0.4439, 0.4439,  ..., 0.4439, 0.4439, 0.4439],\n",
      "         [0.4439, 0.4439, 0.4439,  ..., 0.4439, 0.4439, 0.4439],\n",
      "         ...,\n",
      "         [0.4439, 0.4439, 0.4439,  ..., 0.4439, 0.4439, 0.4439],\n",
      "         [0.4439, 0.4439, 0.4439,  ..., 0.4439, 0.4439, 0.4439],\n",
      "         [0.4439, 0.4439, 0.4439,  ..., 0.4439, 0.4439, 0.4439]],\n",
      "\n",
      "        [[0.1119, 0.1138, 0.1156,  ..., 0.1066, 0.1082, 0.1100],\n",
      "         [0.1119, 0.1137, 0.1154,  ..., 0.1067, 0.1083, 0.1101],\n",
      "         [0.1118, 0.1135, 0.1151,  ..., 0.1071, 0.1085, 0.1101],\n",
      "         ...,\n",
      "         [0.1118, 0.1135, 0.1151,  ..., 0.1071, 0.1085, 0.1101],\n",
      "         [0.1119, 0.1137, 0.1154,  ..., 0.1067, 0.1083, 0.1101],\n",
      "         [0.1119, 0.1138, 0.1156,  ..., 0.1066, 0.1082, 0.1100]],\n",
      "\n",
      "        [[0.1100, 0.1101, 0.1101,  ..., 0.1101, 0.1101, 0.1100],\n",
      "         [0.1082, 0.1083, 0.1085,  ..., 0.1085, 0.1083, 0.1082],\n",
      "         [0.1066, 0.1067, 0.1071,  ..., 0.1071, 0.1067, 0.1066],\n",
      "         ...,\n",
      "         [0.1156, 0.1154, 0.1151,  ..., 0.1151, 0.1154, 0.1156],\n",
      "         [0.1138, 0.1137, 0.1135,  ..., 0.1135, 0.1137, 0.1138],\n",
      "         [0.1119, 0.1119, 0.1118,  ..., 0.1118, 0.1119, 0.1119]],\n",
      "\n",
      "        ...,\n",
      "\n",
      "        [[0.0273, 0.0268, 0.0264,  ..., 0.0287, 0.0282, 0.0277],\n",
      "         [0.0268, 0.0264, 0.0261,  ..., 0.0282, 0.0277, 0.0273],\n",
      "         [0.0264, 0.0261, 0.0258,  ..., 0.0277, 0.0273, 0.0268],\n",
      "         ...,\n",
      "         [0.0287, 0.0282, 0.0277,  ..., 0.0298, 0.0295, 0.0291],\n",
      "         [0.0282, 0.0277, 0.0273,  ..., 0.0295, 0.0291, 0.0287],\n",
      "         [0.0277, 0.0273, 0.0268,  ..., 0.0291, 0.0287, 0.0282]],\n",
      "\n",
      "        [[0.0277, 0.0273, 0.0268,  ..., 0.0291, 0.0287, 0.0282],\n",
      "         [0.0282, 0.0277, 0.0273,  ..., 0.0295, 0.0291, 0.0287],\n",
      "         [0.0287, 0.0282, 0.0277,  ..., 0.0298, 0.0295, 0.0291],\n",
      "         ...,\n",
      "         [0.0264, 0.0261, 0.0258,  ..., 0.0277, 0.0273, 0.0268],\n",
      "         [0.0268, 0.0264, 0.0261,  ..., 0.0282, 0.0277, 0.0273],\n",
      "         [0.0273, 0.0268, 0.0264,  ..., 0.0287, 0.0282, 0.0277]],\n",
      "\n",
      "        [[0.0282, 0.0287, 0.0291,  ..., 0.0268, 0.0273, 0.0277],\n",
      "         [0.0287, 0.0291, 0.0295,  ..., 0.0273, 0.0277, 0.0282],\n",
      "         [0.0291, 0.0295, 0.0298,  ..., 0.0277, 0.0282, 0.0287],\n",
      "         ...,\n",
      "         [0.0268, 0.0273, 0.0277,  ..., 0.0258, 0.0261, 0.0264],\n",
      "         [0.0273, 0.0277, 0.0282,  ..., 0.0261, 0.0264, 0.0268],\n",
      "         [0.0277, 0.0282, 0.0287,  ..., 0.0264, 0.0268, 0.0273]]],\n",
      "       dtype=torch.float64)\n"
     ]
    }
   ],
   "source": [
    "#simulation.initialize_f_neq()\n",
    "mlups = simulation.step(num_steps=3500)\n",
    "print(\"Performance in MLUPS:\", mlups)\n",
    "print(simulation.lattice.rho(simulation.f))\n",
    "rho_start,u_start,f_start=simulation.startwerte()\n",
    "print(\"rho_start\")\n",
    "print(rho_start)\n",
    "print(\"u_start\")\n",
    "print(u_start)\n",
    "print(\"f_start\")\n",
    "print(f_start)"
   ]
  },
  {
   "cell_type": "markdown",
   "metadata": {},
   "source": [
    "## Post process\n",
    "### Energy Reporter\n",
    "* Grab output of kinetic energy reporter"
   ]
  },
  {
   "cell_type": "code",
   "execution_count": 5,
   "metadata": {
    "ExecuteTime": {
     "end_time": "2023-07-26T08:49:17.891555207Z",
     "start_time": "2023-07-26T08:49:17.696636184Z"
    }
   },
   "outputs": [
    {
     "name": "stdout",
     "output_type": "stream",
     "text": [
      "(36, 3)\n"
     ]
    },
    {
     "data": {
      "text/plain": "<Figure size 640x480 with 1 Axes>",
      "image/png": "[encoded data removed]"
     },
     "metadata": {},
     "output_type": "display_data"
    }
   ],
   "source": [
    "energy = np.array(simulation.reporters[0].out)\n",
    "print(energy.shape)\n",
    "plt.plot(energy[:,1],energy[:,2])\n",
    "plt.title('Kinetic energy')\n",
    "plt.xlabel('Time')\n",
    "plt.ylabel('Energy in physical units')\n",
    "plt.show()\n",
    "save_directory = \"/home/ben/Resultate Reduced TGV\"\n",
    "file_name = \"FullTGV.pkl\"\n",
    "file_path = os.path.join(save_directory, file_name)\n",
    "simulation.save_checkpoint(file_path)\n"
   ]
  },
  {
   "cell_type": "markdown",
   "metadata": {},
   "source": [
    "### Velocity\n",
    "We calculate the speed in Lettuce units depending on the last 'f'. Then we convert this velocity into physical units. For further investigations the tensor must be converted into a Numpy-Array. The norm of the fractions in x and y direction is plotted afterwards."
   ]
  },
  {
   "cell_type": "code",
   "execution_count": 6,
   "metadata": {
    "ExecuteTime": {
     "end_time": "2023-07-26T08:49:17.892081968Z",
     "start_time": "2023-07-26T08:49:17.840603148Z"
    }
   },
   "outputs": [
    {
     "data": {
      "text/plain": "<Figure size 640x480 with 1 Axes>",
      "image/png": "[encoded data removed]"
     },
     "metadata": {},
     "output_type": "display_data"
    }
   ],
   "source": [
    "u = flow.units.convert_velocity_to_pu(lattice.u(simulation.f)).numpy()\n",
    "u_norm = np.linalg.norm(u,axis=0)\n",
    "plt.imshow(u_norm)\n",
    "plt.show()"
   ]
  },
  {
   "cell_type": "code",
   "execution_count": 6,
   "metadata": {
    "ExecuteTime": {
     "end_time": "2023-07-26T08:49:17.930469282Z",
     "start_time": "2023-07-26T08:49:17.869993254Z"
    }
   },
   "outputs": [],
   "source": []
  }
 ],
 "metadata": {
  "kernelspec": {
   "display_name": "Python 3 (ipykernel)",
   "language": "python",
   "name": "python3"
  },
  "language_info": {
   "codemirror_mode": {
    "name": "ipython",
    "version": 3
   },
   "file_extension": ".py",
   "mimetype": "text/x-python",
   "name": "python",
   "nbconvert_exporter": "python",
   "pygments_lexer": "ipython3",
   "version": "3.11.3"
  }
 },
 "nbformat": 4,
 "nbformat_minor": 4
}
