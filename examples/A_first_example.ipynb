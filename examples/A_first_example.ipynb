{
 "cells": [
  {
   "cell_type": "markdown",
   "metadata": {},
   "source": [
    "# A first example\n",
    "This is a first example of how to use lettuce.\n",
    "A two dimensional Taylor Green vortex is initialized and simulated for 10000 steps. Afterwards the energy and the velocity field is plotted."
   ]
  },
  {
   "cell_type": "code",
   "execution_count": 2,
   "outputs": [],
   "source": [
    "import os\n",
    "import lettuce as lt\n",
    "import matplotlib.pyplot as plt\n",
    "import numpy as np\n",
    "import torch\n",
    "import csv"
   ],
   "metadata": {
    "collapsed": false,
    "ExecuteTime": {
     "end_time": "2023-11-08T12:53:16.362349525Z",
     "start_time": "2023-11-08T12:53:14.994626159Z"
    }
   }
  },
  {
   "cell_type": "markdown",
   "metadata": {},
   "source": [
    "## Setup\n",
    "* for running on GPU: device = \"cuda\". CUDA drivers are required!\n",
    "* dtype=torch.float32 for single precision - float64 for double precision\n",
    "* select collision model (here BGKCollision) - try also KBCCollision or RegularizedCollision"
   ]
  },
  {
   "cell_type": "code",
   "execution_count": 3,
   "metadata": {
    "ExecuteTime": {
     "end_time": "2023-11-08T12:53:17.741828943Z",
     "start_time": "2023-11-08T12:53:17.708399553Z"
    }
   },
   "outputs": [
    {
     "name": "stdout",
     "output_type": "stream",
     "text": [
      "1764.2524653497344\n",
      "0.5000735105193895\n"
     ]
    }
   ],
   "source": [
    "lattice = lt.Lattice(lt.D3Q19, device = \"cpu\", dtype=torch.float64)\n",
    "flow = lt.TaylorGreenVortex3D(resolution=16, reynolds_number=3000, mach_number=0.05, lattice=lattice)\n",
    "print(flow.units.convert_time_to_lu(20))\n",
    "collision = lt.BGKCollision(lattice, tau=flow.units.relaxation_parameter_lu)\n",
    "print(flow.units.relaxation_parameter_lu)\n",
    "streaming = lt.StandardStreaming(lattice)\n",
    "simulation = lt.Simulation(flow=flow, lattice=lattice, collision=collision, streaming=streaming)"
   ]
  },
  {
   "cell_type": "markdown",
   "metadata": {},
   "source": [
    "* Reporters will grab the results in between simulation steps (see reporters.py and simulation.py)\n",
    "* Output: Column 1: simulation steps, Column 2: time in LU, Column 3: kinetic energy in PU\n",
    "* Output: separate VTK-file with ux,uy,(uz) and p for every 100. time step in ./output"
   ]
  },
  {
   "cell_type": "code",
   "execution_count": 4,
   "metadata": {
    "ExecuteTime": {
     "end_time": "2023-11-08T12:53:19.014878488Z",
     "start_time": "2023-11-08T12:53:19.005051327Z"
    }
   },
   "outputs": [
    {
     "name": "stdout",
     "output_type": "stream",
     "text": [
      "steps     time     IncompressibleKineticEnergy\n",
      "steps     time     Dissipation_sij\n",
      "steps     time     Enstrophy\n"
     ]
    }
   ],
   "source": [
    "Energy = lt.IncompressibleKineticEnergy(lattice, flow)\n",
    "Dissipation=lt.Dissipation_sij(lattice, flow)\n",
    "Enstrophy=lt.Enstrophy(lattice, flow)\n",
    "reporter = lt.ObservableReporter(Energy, interval=10, out=None)\n",
    "reporter2 = lt.ObservableReporter(Dissipation,interval = 10, out=None)\n",
    "reporter3= lt.ObservableReporter(Enstrophy, interval=10, out=None)\n",
    "simulation.reporters.append(reporter)\n",
    "simulation.reporters.append(reporter2)\n",
    "simulation.reporters.append(reporter3)\n",
    "simulation.reporters.append(lt.VTKReporter(lattice, flow, interval=10, filename_base=\"./output\"))"
   ]
  },
  {
   "cell_type": "markdown",
   "metadata": {},
   "source": [
    "## Run simulation"
   ]
  },
  {
   "cell_type": "code",
   "execution_count": 5,
   "metadata": {
    "ExecuteTime": {
     "end_time": "2023-11-08T12:53:23.569385855Z",
     "start_time": "2023-11-08T12:53:22.083488830Z"
    }
   },
   "outputs": [
    {
     "name": "stdout",
     "output_type": "stream",
     "text": [
      "Performance in MLUPS: 2.2260103512182297\n",
      "tensor([[[[0.9995, 0.9994, 1.0003,  ..., 1.0003, 0.9994, 0.9995],\n",
      "          [0.9992, 1.0003, 1.0006,  ..., 1.0003, 0.9999, 0.9998],\n",
      "          [0.9999, 0.9998, 0.9995,  ..., 1.0003, 0.9993, 1.0009],\n",
      "          ...,\n",
      "          [0.9999, 0.9998, 0.9995,  ..., 1.0003, 0.9993, 1.0009],\n",
      "          [0.9992, 1.0003, 1.0006,  ..., 1.0003, 0.9999, 0.9998],\n",
      "          [0.9995, 0.9994, 1.0003,  ..., 1.0003, 0.9994, 0.9995]],\n",
      "\n",
      "         [[0.9998, 0.9999, 1.0003,  ..., 1.0006, 1.0003, 0.9992],\n",
      "          [0.9998, 0.9979, 0.9992,  ..., 0.9992, 0.9979, 0.9998],\n",
      "          [0.9996, 0.9992, 0.9990,  ..., 1.0001, 0.9997, 1.0005],\n",
      "          ...,\n",
      "          [0.9996, 0.9992, 0.9990,  ..., 1.0001, 0.9997, 1.0005],\n",
      "          [0.9998, 0.9979, 0.9992,  ..., 0.9992, 0.9979, 0.9998],\n",
      "          [0.9998, 0.9999, 1.0003,  ..., 1.0006, 1.0003, 0.9992]],\n",
      "\n",
      "         [[1.0009, 0.9993, 1.0003,  ..., 0.9995, 0.9998, 0.9999],\n",
      "          [1.0005, 0.9997, 1.0001,  ..., 0.9990, 0.9992, 0.9996],\n",
      "          [1.0003, 1.0000, 1.0004,  ..., 1.0004, 1.0000, 1.0003],\n",
      "          ...,\n",
      "          [1.0003, 1.0000, 1.0004,  ..., 1.0004, 1.0000, 1.0003],\n",
      "          [1.0005, 0.9997, 1.0001,  ..., 0.9990, 0.9992, 0.9996],\n",
      "          [1.0009, 0.9993, 1.0003,  ..., 0.9995, 0.9998, 0.9999]],\n",
      "\n",
      "         ...,\n",
      "\n",
      "         [[1.0009, 0.9993, 1.0003,  ..., 0.9995, 0.9998, 0.9999],\n",
      "          [1.0005, 0.9997, 1.0001,  ..., 0.9990, 0.9992, 0.9996],\n",
      "          [1.0003, 1.0000, 1.0004,  ..., 1.0004, 1.0000, 1.0003],\n",
      "          ...,\n",
      "          [1.0003, 1.0000, 1.0004,  ..., 1.0004, 1.0000, 1.0003],\n",
      "          [1.0005, 0.9997, 1.0001,  ..., 0.9990, 0.9992, 0.9996],\n",
      "          [1.0009, 0.9993, 1.0003,  ..., 0.9995, 0.9998, 0.9999]],\n",
      "\n",
      "         [[0.9998, 0.9999, 1.0003,  ..., 1.0006, 1.0003, 0.9992],\n",
      "          [0.9998, 0.9979, 0.9992,  ..., 0.9992, 0.9979, 0.9998],\n",
      "          [0.9996, 0.9992, 0.9990,  ..., 1.0001, 0.9997, 1.0005],\n",
      "          ...,\n",
      "          [0.9996, 0.9992, 0.9990,  ..., 1.0001, 0.9997, 1.0005],\n",
      "          [0.9998, 0.9979, 0.9992,  ..., 0.9992, 0.9979, 0.9998],\n",
      "          [0.9998, 0.9999, 1.0003,  ..., 1.0006, 1.0003, 0.9992]],\n",
      "\n",
      "         [[0.9995, 0.9994, 1.0003,  ..., 1.0003, 0.9994, 0.9995],\n",
      "          [0.9992, 1.0003, 1.0006,  ..., 1.0003, 0.9999, 0.9998],\n",
      "          [0.9999, 0.9998, 0.9995,  ..., 1.0003, 0.9993, 1.0009],\n",
      "          ...,\n",
      "          [0.9999, 0.9998, 0.9995,  ..., 1.0003, 0.9993, 1.0009],\n",
      "          [0.9992, 1.0003, 1.0006,  ..., 1.0003, 0.9999, 0.9998],\n",
      "          [0.9995, 0.9994, 1.0003,  ..., 1.0003, 0.9994, 0.9995]]]],\n",
      "       dtype=torch.float64)\n"
     ]
    }
   ],
   "source": [
    "simulation.initialize_f_neq()\n",
    "mlups = simulation.step(num_steps=800)\n",
    "print(\"Performance in MLUPS:\", mlups)\n",
    "print(simulation.lattice.rho(simulation.f))\n",
    "\n"
   ]
  },
  {
   "cell_type": "markdown",
   "metadata": {},
   "source": [
    "## Post process\n",
    "### Energy Reporter\n",
    "* Grab output of kinetic energy reporter"
   ]
  },
  {
   "cell_type": "code",
   "execution_count": 6,
   "metadata": {
    "ExecuteTime": {
     "end_time": "2023-11-08T12:53:27.266850928Z",
     "start_time": "2023-11-08T12:53:27.057008985Z"
    }
   },
   "outputs": [
    {
     "data": {
      "text/plain": "<Figure size 640x480 with 1 Axes>",
      "image/png": "[encoded data removed]"
     },
     "metadata": {},
     "output_type": "display_data"
    }
   ],
   "source": [
    "energy = np.array(simulation.reporters[0].out)\n",
    "dissipation = np.array(simulation.reporters[1].out)\n",
    "enstrophy=np.array(simulation.reporters[2].out)\n",
    "\n",
    "save_directory = \"/home/ben/Resultate Reduced TGV\"\n",
    "file_name = \"FullTGV.pkl\"\n",
    "file_path = os.path.join(save_directory, file_name)\n",
    "simulation.save_checkpoint(file_path)\n",
    "\n",
    "csv_file_path = '/home/ben/Schreibtisch/Enstropy Brachet/Brachet/Brachet_1983_tgv3d_enstrophy_Re3000.csv'\n",
    "\n",
    "# Daten aus der CSV-Datei lesen\n",
    "csv_data = []\n",
    "with open(csv_file_path, 'r') as file:\n",
    "    csv_reader = csv.reader(file, delimiter=';')\n",
    "    for row in csv_reader:\n",
    "        csv_data.append(row)\n",
    "\n",
    "csv_data = np.array(csv_data, dtype=float)\n",
    "DisEkin=np.column_stack((energy[:,1],-1/(np.pi*2)**3*np.gradient(energy[:,2],energy[:,1])))\n",
    "\n",
    "DisEns=np.column_stack((enstrophy[:,1],flow.units.viscosity_pu/(np.pi*2)**3*enstrophy[:,2]))\n",
    "\n",
    "DisSij=np.column_stack((dissipation[:,1],dissipation[:,2]))\n",
    "\n",
    "np.savetxt('/home/ben/Schreibtisch/ErgebnisseMP1/FullTGV/DisEns-Rey3000-Res64-BGK.csv',DisEns,delimiter=';')\n",
    "np.savetxt('/home/ben/Schreibtisch/ErgebnisseMP1/FullTGV/DisEkin-Rey3000-Res64-BGK.csv',DisEkin,delimiter=';')\n",
    "np.savetxt('/home/ben/Schreibtisch/ErgebnisseMP1/FullTGV/DisSij-Rey3000-Res64-BGK.csv',DisSij,delimiter=';')\n",
    "\n",
    "\n",
    "\n",
    "#print(energy.shape)\n",
    "#plt.plot(energy[:,1],energy[:,2])\n",
    "#plt.plot(energy[5:-1,1],-1/((np.pi*2)**3)*np.diff(energy[5:,2])/np.diff(energy[5:,1]))\n",
    "plt.plot(energy[2:,1],-1/(np.pi*2)**3*np.gradient(energy[2:,2],energy[2:,1]),color = 'blue')\n",
    "plt.plot(dissipation[3:,1],dissipation[3:,2], color = 'green')\n",
    "plt.xlim(0,10)\n",
    "plt.plot(enstrophy[:,1],flow.units.viscosity_pu/(np.pi*2)**3*enstrophy[:,2])\n",
    "plt.scatter(csv_data[:, 0], csv_data[:, 1], color='red', label='CSV Data')\n",
    "plt.title('Energy Dissipation')\n",
    "plt.xlabel('Time')\n",
    "plt.ylabel('Energy Dissipation in physical units')\n",
    "plt.show()\n",
    "\n"
   ]
  },
  {
   "cell_type": "markdown",
   "metadata": {},
   "source": [
    "### Velocity\n",
    "We calculate the speed in Lettuce units depending on the last 'f'. Then we convert this velocity into physical units. For further investigations the tensor must be converted into a Numpy-Array. The norm of the fractions in x and y direction is plotted afterwards."
   ]
  },
  {
   "cell_type": "code",
   "execution_count": null,
   "metadata": {},
   "outputs": [],
   "source": [
    "u = flow.units.convert_velocity_to_pu(lattice.u(simulation.f)).numpy()\n",
    "u_norm = np.linalg.norm(u,axis=0)\n",
    "plt.imshow(u_norm)\n",
    "plt.show()"
   ]
  },
  {
   "cell_type": "code",
   "execution_count": null,
   "metadata": {},
   "outputs": [],
   "source": []
  }
 ],
 "metadata": {
  "kernelspec": {
   "display_name": "Python 3 (ipykernel)",
   "language": "python",
   "name": "python3"
  },
  "language_info": {
   "codemirror_mode": {
    "name": "ipython",
    "version": 3
   },
   "file_extension": ".py",
   "mimetype": "text/x-python",
   "name": "python",
   "nbconvert_exporter": "python",
   "pygments_lexer": "ipython3",
   "version": "3.11.3"
  }
 },
 "nbformat": 4,
 "nbformat_minor": 4
}
