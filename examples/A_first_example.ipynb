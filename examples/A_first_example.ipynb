{
 "cells": [
  {
   "cell_type": "markdown",
   "metadata": {},
   "source": [
    "# A first example\n",
    "This is a first example of how to use lettuce.\n",
    "A two dimensional Taylor Green vortex is initialized and simulated for 10000 steps. Afterwards the energy and the velocity field is plotted."
   ]
  },
  {
   "cell_type": "code",
   "execution_count": 1,
   "outputs": [],
   "source": [
    "import os\n",
    "import lettuce as lt\n",
    "import matplotlib.pyplot as plt\n",
    "import numpy as np\n",
    "import torch\n",
    "import csv"
   ],
   "metadata": {
    "collapsed": false,
    "ExecuteTime": {
     "end_time": "2023-10-27T15:02:48.659418530Z",
     "start_time": "2023-10-27T15:02:46.654892050Z"
    }
   }
  },
  {
   "cell_type": "markdown",
   "metadata": {},
   "source": [
    "## Setup\n",
    "* for running on GPU: device = \"cuda\". CUDA drivers are required!\n",
    "* dtype=torch.float32 for single precision - float64 for double precision\n",
    "* select collision model (here BGKCollision) - try also KBCCollision or RegularizedCollision"
   ]
  },
  {
   "cell_type": "code",
   "execution_count": 2,
   "metadata": {
    "ExecuteTime": {
     "end_time": "2023-10-27T15:02:49.030191984Z",
     "start_time": "2023-10-27T15:02:48.700139195Z"
    }
   },
   "outputs": [
    {
     "ename": "RuntimeError",
     "evalue": "CUDA unknown error - this may be due to an incorrectly set up environment, e.g. changing env variable CUDA_VISIBLE_DEVICES after program start. Setting the available devices to be zero.",
     "output_type": "error",
     "traceback": [
      "\u001B[0;31m---------------------------------------------------------------------------\u001B[0m",
      "\u001B[0;31mRuntimeError\u001B[0m                              Traceback (most recent call last)",
      "Cell \u001B[0;32mIn[2], line 1\u001B[0m\n\u001B[0;32m----> 1\u001B[0m lattice \u001B[38;5;241m=\u001B[39m lt\u001B[38;5;241m.\u001B[39mLattice(lt\u001B[38;5;241m.\u001B[39mD3Q19, device \u001B[38;5;241m=\u001B[39m \u001B[38;5;124m\"\u001B[39m\u001B[38;5;124mcuda\u001B[39m\u001B[38;5;124m\"\u001B[39m, dtype\u001B[38;5;241m=\u001B[39mtorch\u001B[38;5;241m.\u001B[39mfloat64)\n\u001B[1;32m      2\u001B[0m flow \u001B[38;5;241m=\u001B[39m lt\u001B[38;5;241m.\u001B[39mTaylorGreenVortex3D(resolution\u001B[38;5;241m=\u001B[39m\u001B[38;5;241m64\u001B[39m, reynolds_number\u001B[38;5;241m=\u001B[39m\u001B[38;5;241m3000\u001B[39m, mach_number\u001B[38;5;241m=\u001B[39m\u001B[38;5;241m0.05\u001B[39m, lattice\u001B[38;5;241m=\u001B[39mlattice)\n\u001B[1;32m      3\u001B[0m \u001B[38;5;28mprint\u001B[39m(flow\u001B[38;5;241m.\u001B[39munits\u001B[38;5;241m.\u001B[39mconvert_time_to_lu(\u001B[38;5;241m20\u001B[39m))\n",
      "File \u001B[0;32m~/lettuce/lettuce/lattices.py:27\u001B[0m, in \u001B[0;36mLattice.__init__\u001B[0;34m(self, stencil, device, dtype)\u001B[0m\n\u001B[1;32m     25\u001B[0m \u001B[38;5;28mself\u001B[39m\u001B[38;5;241m.\u001B[39mdevice \u001B[38;5;241m=\u001B[39m device\n\u001B[1;32m     26\u001B[0m \u001B[38;5;28mself\u001B[39m\u001B[38;5;241m.\u001B[39mdtype \u001B[38;5;241m=\u001B[39m dtype\n\u001B[0;32m---> 27\u001B[0m \u001B[38;5;28mself\u001B[39m\u001B[38;5;241m.\u001B[39me \u001B[38;5;241m=\u001B[39m \u001B[38;5;28mself\u001B[39m\u001B[38;5;241m.\u001B[39mconvert_to_tensor(stencil\u001B[38;5;241m.\u001B[39me)\n\u001B[1;32m     28\u001B[0m \u001B[38;5;28mself\u001B[39m\u001B[38;5;241m.\u001B[39mw \u001B[38;5;241m=\u001B[39m \u001B[38;5;28mself\u001B[39m\u001B[38;5;241m.\u001B[39mconvert_to_tensor(stencil\u001B[38;5;241m.\u001B[39mw)\n\u001B[1;32m     29\u001B[0m \u001B[38;5;28mself\u001B[39m\u001B[38;5;241m.\u001B[39mcs \u001B[38;5;241m=\u001B[39m \u001B[38;5;28mself\u001B[39m\u001B[38;5;241m.\u001B[39mconvert_to_tensor(stencil\u001B[38;5;241m.\u001B[39mcs)\n",
      "File \u001B[0;32m~/lettuce/lettuce/lattices.py:55\u001B[0m, in \u001B[0;36mLattice.convert_to_tensor\u001B[0;34m(self, array)\u001B[0m\n\u001B[1;32m     53\u001B[0m     \u001B[38;5;28;01mreturn\u001B[39;00m torch\u001B[38;5;241m.\u001B[39mtensor(array, device\u001B[38;5;241m=\u001B[39m\u001B[38;5;28mself\u001B[39m\u001B[38;5;241m.\u001B[39mdevice, dtype\u001B[38;5;241m=\u001B[39mtorch\u001B[38;5;241m.\u001B[39mbool)\n\u001B[1;32m     54\u001B[0m \u001B[38;5;28;01melse\u001B[39;00m:\n\u001B[0;32m---> 55\u001B[0m     \u001B[38;5;28;01mreturn\u001B[39;00m torch\u001B[38;5;241m.\u001B[39mtensor(array, device\u001B[38;5;241m=\u001B[39m\u001B[38;5;28mself\u001B[39m\u001B[38;5;241m.\u001B[39mdevice, dtype\u001B[38;5;241m=\u001B[39m\u001B[38;5;28mself\u001B[39m\u001B[38;5;241m.\u001B[39mdtype)\n",
      "File \u001B[0;32m~/anaconda3/envs/lettuce/lib/python3.11/site-packages/torch/cuda/__init__.py:247\u001B[0m, in \u001B[0;36m_lazy_init\u001B[0;34m()\u001B[0m\n\u001B[1;32m    245\u001B[0m \u001B[38;5;28;01mif\u001B[39;00m \u001B[38;5;124m'\u001B[39m\u001B[38;5;124mCUDA_MODULE_LOADING\u001B[39m\u001B[38;5;124m'\u001B[39m \u001B[38;5;129;01mnot\u001B[39;00m \u001B[38;5;129;01min\u001B[39;00m os\u001B[38;5;241m.\u001B[39menviron:\n\u001B[1;32m    246\u001B[0m     os\u001B[38;5;241m.\u001B[39menviron[\u001B[38;5;124m'\u001B[39m\u001B[38;5;124mCUDA_MODULE_LOADING\u001B[39m\u001B[38;5;124m'\u001B[39m] \u001B[38;5;241m=\u001B[39m \u001B[38;5;124m'\u001B[39m\u001B[38;5;124mLAZY\u001B[39m\u001B[38;5;124m'\u001B[39m\n\u001B[0;32m--> 247\u001B[0m torch\u001B[38;5;241m.\u001B[39m_C\u001B[38;5;241m.\u001B[39m_cuda_init()\n\u001B[1;32m    248\u001B[0m \u001B[38;5;66;03m# Some of the queued calls may reentrantly call _lazy_init();\u001B[39;00m\n\u001B[1;32m    249\u001B[0m \u001B[38;5;66;03m# we need to just return without initializing in that case.\u001B[39;00m\n\u001B[1;32m    250\u001B[0m \u001B[38;5;66;03m# However, we must not let any *other* threads in!\u001B[39;00m\n\u001B[1;32m    251\u001B[0m _tls\u001B[38;5;241m.\u001B[39mis_initializing \u001B[38;5;241m=\u001B[39m \u001B[38;5;28;01mTrue\u001B[39;00m\n",
      "\u001B[0;31mRuntimeError\u001B[0m: CUDA unknown error - this may be due to an incorrectly set up environment, e.g. changing env variable CUDA_VISIBLE_DEVICES after program start. Setting the available devices to be zero."
     ]
    }
   ],
   "source": [
    "lattice = lt.Lattice(lt.D3Q19, device = \"cpu\", dtype=torch.float64)\n",
    "flow = lt.TaylorGreenVortex3D(resolution=64, reynolds_number=3000, mach_number=0.05, lattice=lattice)\n",
    "print(flow.units.convert_time_to_lu(20))\n",
    "collision = lt.BGKCollision(lattice, tau=flow.units.relaxation_parameter_lu)\n",
    "print(flow.units.relaxation_parameter_lu)\n",
    "streaming = lt.StandardStreaming(lattice)\n",
    "simulation = lt.Simulation(flow=flow, lattice=lattice, collision=collision, streaming=streaming)"
   ]
  },
  {
   "cell_type": "markdown",
   "metadata": {},
   "source": [
    "* Reporters will grab the results in between simulation steps (see reporters.py and simulation.py)\n",
    "* Output: Column 1: simulation steps, Column 2: time in LU, Column 3: kinetic energy in PU\n",
    "* Output: separate VTK-file with ux,uy,(uz) and p for every 100. time step in ./output"
   ]
  },
  {
   "cell_type": "code",
   "execution_count": null,
   "metadata": {},
   "outputs": [],
   "source": [
    "Energy = lt.IncompressibleKineticEnergy(lattice, flow)\n",
    "Dissipation=lt.Dissipation_sij(lattice, flow)\n",
    "Enstrophy=lt.Enstrophy(lattice, flow)\n",
    "reporter = lt.ObservableReporter(Energy, interval=10, out=None)\n",
    "reporter2 = lt.ObservableReporter(Dissipation,interval = 10, out=None)\n",
    "reporter3= lt.ObservableReporter(Enstrophy, interval=10, out=None)\n",
    "simulation.reporters.append(reporter)\n",
    "simulation.reporters.append(reporter2)\n",
    "simulation.reporters.append(reporter3)\n",
    "simulation.reporters.append(lt.VTKReporter(lattice, flow, interval=10, filename_base=\"./output\"))"
   ]
  },
  {
   "cell_type": "markdown",
   "metadata": {},
   "source": [
    "## Run simulation"
   ]
  },
  {
   "cell_type": "code",
   "execution_count": null,
   "metadata": {},
   "outputs": [],
   "source": [
    "simulation.initialize_f_neq()\n",
    "mlups = simulation.step(num_steps=3500)\n",
    "print(\"Performance in MLUPS:\", mlups)\n",
    "print(simulation.lattice.rho(simulation.f))\n",
    "\n"
   ]
  },
  {
   "cell_type": "markdown",
   "metadata": {},
   "source": [
    "## Post process\n",
    "### Energy Reporter\n",
    "* Grab output of kinetic energy reporter"
   ]
  },
  {
   "cell_type": "code",
   "execution_count": null,
   "metadata": {},
   "outputs": [],
   "source": [
    "energy = np.array(simulation.reporters[0].out)\n",
    "dissipation = np.array(simulation.reporters[1].out)\n",
    "enstrophy=np.array(simulation.reporters[2].out)\n",
    "\n",
    "save_directory = \"/home/ben/Resultate Reduced TGV\"\n",
    "file_name = \"FullTGV.pkl\"\n",
    "file_path = os.path.join(save_directory, file_name)\n",
    "simulation.save_checkpoint(file_path)\n",
    "\n",
    "csv_file_path = '/home/ben/Schreibtisch/Enstropy Brachet/Brachet/Brachet_1983_tgv3d_enstrophy_Re3000.csv'\n",
    "\n",
    "# Daten aus der CSV-Datei lesen\n",
    "csv_data = []\n",
    "with open(csv_file_path, 'r') as file:\n",
    "    csv_reader = csv.reader(file, delimiter=';')\n",
    "    for row in csv_reader:\n",
    "        csv_data.append(row)\n",
    "\n",
    "csv_data = np.array(csv_data, dtype=float)\n",
    "DisEkin=np.column_stack((energy[:,1],-1/(np.pi*2)**3*np.gradient(energy[:,2],energy[:,1])))\n",
    "\n",
    "DisEns=np.column_stack((enstrophy[:,1],flow.units.viscosity_pu/(np.pi*2)**3*enstrophy[:,2]))\n",
    "\n",
    "DisSij=np.column_stack((dissipation[:,1],dissipation[:,2]))\n",
    "\n",
    "np.savetxt('/home/ben/Schreibtisch/ErgebnisseMP1/FullTGV/DisEns-Rey3000-Res64-BGK.csv',DisEns,delimiter=';')\n",
    "np.savetxt('/home/ben/Schreibtisch/ErgebnisseMP1/FullTGV/DisEkin-Rey3000-Res64-BGK.csv',DisEkin,delimiter=';')\n",
    "np.savetxt('/home/ben/Schreibtisch/ErgebnisseMP1/FullTGV/DisSij-Rey3000-Res64-BGK.csv',DisSij,delimiter=';')\n",
    "\n",
    "\n",
    "\n",
    "#print(energy.shape)\n",
    "#plt.plot(energy[:,1],energy[:,2])\n",
    "#plt.plot(energy[5:-1,1],-1/((np.pi*2)**3)*np.diff(energy[5:,2])/np.diff(energy[5:,1]))\n",
    "plt.plot(energy[2:,1],-1/(np.pi*2)**3*np.gradient(energy[2:,2],energy[2:,1]),color = 'blue')\n",
    "plt.plot(dissipation[3:,1],dissipation[3:,2], color = 'green')\n",
    "plt.xlim(0,10)\n",
    "plt.plot(enstrophy[:,1],flow.units.viscosity_pu/(np.pi*2)**3*enstrophy[:,2])\n",
    "plt.scatter(csv_data[:, 0], csv_data[:, 1], color='red', label='CSV Data')\n",
    "plt.title('Energy Dissipation')\n",
    "plt.xlabel('Time')\n",
    "plt.ylabel('Energy Dissipation in physical units')\n",
    "plt.show()\n",
    "\n"
   ]
  },
  {
   "cell_type": "markdown",
   "metadata": {},
   "source": [
    "### Velocity\n",
    "We calculate the speed in Lettuce units depending on the last 'f'. Then we convert this velocity into physical units. For further investigations the tensor must be converted into a Numpy-Array. The norm of the fractions in x and y direction is plotted afterwards."
   ]
  },
  {
   "cell_type": "code",
   "execution_count": null,
   "metadata": {},
   "outputs": [],
   "source": [
    "u = flow.units.convert_velocity_to_pu(lattice.u(simulation.f)).numpy()\n",
    "u_norm = np.linalg.norm(u,axis=0)\n",
    "plt.imshow(u_norm)\n",
    "plt.show()"
   ]
  },
  {
   "cell_type": "code",
   "execution_count": null,
   "metadata": {},
   "outputs": [],
   "source": []
  }
 ],
 "metadata": {
  "kernelspec": {
   "display_name": "Python 3 (ipykernel)",
   "language": "python",
   "name": "python3"
  },
  "language_info": {
   "codemirror_mode": {
    "name": "ipython",
    "version": 3
   },
   "file_extension": ".py",
   "mimetype": "text/x-python",
   "name": "python",
   "nbconvert_exporter": "python",
   "pygments_lexer": "ipython3",
   "version": "3.11.3"
  }
 },
 "nbformat": 4,
 "nbformat_minor": 4
}
