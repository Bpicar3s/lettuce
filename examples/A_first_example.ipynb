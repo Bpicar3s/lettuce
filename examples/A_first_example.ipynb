{
 "cells": [
  {
   "cell_type": "markdown",
   "metadata": {},
   "source": [
    "# A first example\n",
    "This is a first example of how to use lettuce.\n",
    "A two dimensional Taylor Green vortex is initialized and simulated for 10000 steps. Afterwards the energy and the velocity field is plotted."
   ]
  },
  {
   "cell_type": "code",
   "execution_count": 10,
   "metadata": {
    "ExecuteTime": {
     "end_time": "2023-06-28T08:20:27.724980108Z",
     "start_time": "2023-06-28T08:20:27.697843151Z"
    }
   },
   "outputs": [],
   "source": [
    "import lettuce as lt\n",
    "import matplotlib.pyplot as plt\n",
    "import numpy as np\n",
    "import torch"
   ]
  },
  {
   "cell_type": "code",
   "execution_count": 10,
   "outputs": [],
   "source": [],
   "metadata": {
    "collapsed": false,
    "ExecuteTime": {
     "end_time": "2023-06-28T08:20:27.726215870Z",
     "start_time": "2023-06-28T08:20:27.706456487Z"
    }
   }
  },
  {
   "cell_type": "markdown",
   "metadata": {},
   "source": [
    "## Setup\n",
    "* for running on GPU: device = \"cuda\". CUDA drivers are required!\n",
    "* dtype=torch.float32 for single precision - float64 for double precision\n",
    "* select collision model (here BGKCollision) - try also KBCCollision or RegularizedCollision"
   ]
  },
  {
   "cell_type": "code",
   "execution_count": 11,
   "metadata": {
    "ExecuteTime": {
     "end_time": "2023-06-28T08:20:27.848105830Z",
     "start_time": "2023-06-28T08:20:27.710564302Z"
    }
   },
   "outputs": [
    {
     "ename": "TypeError",
     "evalue": "'numpy.float64' object is not iterable",
     "output_type": "error",
     "traceback": [
      "\u001B[0;31m---------------------------------------------------------------------------\u001B[0m",
      "\u001B[0;31mTypeError\u001B[0m                                 Traceback (most recent call last)",
      "Cell \u001B[0;32mIn[11], line 5\u001B[0m\n\u001B[1;32m      3\u001B[0m collision \u001B[38;5;241m=\u001B[39m lt\u001B[38;5;241m.\u001B[39mBGKCollision(lattice, tau\u001B[38;5;241m=\u001B[39mflow\u001B[38;5;241m.\u001B[39munits\u001B[38;5;241m.\u001B[39mrelaxation_parameter_lu)\n\u001B[1;32m      4\u001B[0m streaming \u001B[38;5;241m=\u001B[39m lt\u001B[38;5;241m.\u001B[39mStandardStreaming(lattice)\n\u001B[0;32m----> 5\u001B[0m simulation \u001B[38;5;241m=\u001B[39m lt\u001B[38;5;241m.\u001B[39mSimulation(flow\u001B[38;5;241m=\u001B[39mflow, lattice\u001B[38;5;241m=\u001B[39mlattice, collision\u001B[38;5;241m=\u001B[39mcollision, streaming\u001B[38;5;241m=\u001B[39mstreaming)\n",
      "File \u001B[0;32m~/lettuce/lettuce/simulation.py:34\u001B[0m, in \u001B[0;36mSimulation.__init__\u001B[0;34m(self, flow, lattice, collision, streaming)\u001B[0m\n\u001B[1;32m     31\u001B[0m \u001B[38;5;28mself\u001B[39m\u001B[38;5;241m.\u001B[39mstreaming \u001B[38;5;241m=\u001B[39m streaming\n\u001B[1;32m     32\u001B[0m \u001B[38;5;28mself\u001B[39m\u001B[38;5;241m.\u001B[39mi \u001B[38;5;241m=\u001B[39m \u001B[38;5;241m0\u001B[39m\n\u001B[0;32m---> 34\u001B[0m grid \u001B[38;5;241m=\u001B[39m flow\u001B[38;5;241m.\u001B[39mgrid\n\u001B[1;32m     35\u001B[0m p, u \u001B[38;5;241m=\u001B[39m flow\u001B[38;5;241m.\u001B[39minitial_solution(grid)\n\u001B[1;32m     36\u001B[0m \u001B[38;5;28;01massert\u001B[39;00m \u001B[38;5;28mlist\u001B[39m(p\u001B[38;5;241m.\u001B[39mshape) \u001B[38;5;241m==\u001B[39m [\u001B[38;5;241m1\u001B[39m] \u001B[38;5;241m+\u001B[39m \u001B[38;5;28mlist\u001B[39m(grid[\u001B[38;5;241m0\u001B[39m]\u001B[38;5;241m.\u001B[39mshape), \\\n\u001B[1;32m     37\u001B[0m     LettuceException(\u001B[38;5;124mf\u001B[39m\u001B[38;5;124m\"\u001B[39m\u001B[38;5;124mWrong dimension of initial pressure field. \u001B[39m\u001B[38;5;124m\"\u001B[39m\n\u001B[1;32m     38\u001B[0m                      \u001B[38;5;124mf\u001B[39m\u001B[38;5;124m\"\u001B[39m\u001B[38;5;124mExpected \u001B[39m\u001B[38;5;132;01m{\u001B[39;00m[\u001B[38;5;241m1\u001B[39m]\u001B[38;5;250m \u001B[39m\u001B[38;5;241m+\u001B[39m\u001B[38;5;250m \u001B[39m\u001B[38;5;28mlist\u001B[39m(grid[\u001B[38;5;241m0\u001B[39m]\u001B[38;5;241m.\u001B[39mshape)\u001B[38;5;132;01m}\u001B[39;00m\u001B[38;5;124m, \u001B[39m\u001B[38;5;124m\"\u001B[39m\n\u001B[1;32m     39\u001B[0m                      \u001B[38;5;124mf\u001B[39m\u001B[38;5;124m\"\u001B[39m\u001B[38;5;124mbut got \u001B[39m\u001B[38;5;132;01m{\u001B[39;00m\u001B[38;5;28mlist\u001B[39m(p\u001B[38;5;241m.\u001B[39mshape)\u001B[38;5;132;01m}\u001B[39;00m\u001B[38;5;124m.\u001B[39m\u001B[38;5;124m\"\u001B[39m)\n",
      "File \u001B[0;32m~/lettuce/lettuce/flows/taylorgreen.py:98\u001B[0m, in \u001B[0;36mReducedTaylorGreenVortex2D.grid\u001B[0;34m(self)\u001B[0m\n\u001B[1;32m     96\u001B[0m x, dx \u001B[38;5;241m=\u001B[39m np\u001B[38;5;241m.\u001B[39mlinspace(\u001B[38;5;241m0\u001B[39m, \u001B[38;5;241m2\u001B[39m \u001B[38;5;241m*\u001B[39m np\u001B[38;5;241m.\u001B[39mpi, num\u001B[38;5;241m=\u001B[39m\u001B[38;5;28mself\u001B[39m\u001B[38;5;241m.\u001B[39mresolution, endpoint\u001B[38;5;241m=\u001B[39m\u001B[38;5;28;01mFalse\u001B[39;00m, retstep\u001B[38;5;241m=\u001B[39m\u001B[38;5;28;01mTrue\u001B[39;00m)\n\u001B[1;32m     97\u001B[0m x \u001B[38;5;241m=\u001B[39m x \u001B[38;5;241m+\u001B[39m dx \u001B[38;5;241m/\u001B[39m \u001B[38;5;241m2\u001B[39m\n\u001B[0;32m---> 98\u001B[0m x\u001B[38;5;241m=\u001B[39mnp\u001B[38;5;241m.\u001B[39mconcatenate(\u001B[38;5;241m-\u001B[39mdx\u001B[38;5;241m/\u001B[39m\u001B[38;5;241m2\u001B[39m,x,np\u001B[38;5;241m.\u001B[39mpi\u001B[38;5;241m+\u001B[39mdx\u001B[38;5;241m/\u001B[39m\u001B[38;5;241m2\u001B[39m)\n\u001B[1;32m     99\u001B[0m y, dy \u001B[38;5;241m=\u001B[39m np\u001B[38;5;241m.\u001B[39mlinspace(\u001B[38;5;241m0\u001B[39m, \u001B[38;5;241m2\u001B[39m \u001B[38;5;241m*\u001B[39m np\u001B[38;5;241m.\u001B[39mpi, num\u001B[38;5;241m=\u001B[39m\u001B[38;5;28mself\u001B[39m\u001B[38;5;241m.\u001B[39mresolution, endpoint\u001B[38;5;241m=\u001B[39m\u001B[38;5;28;01mFalse\u001B[39;00m, retstep\u001B[38;5;241m=\u001B[39m\u001B[38;5;28;01mTrue\u001B[39;00m)\n\u001B[1;32m    100\u001B[0m y \u001B[38;5;241m=\u001B[39m y \u001B[38;5;241m+\u001B[39m dy \u001B[38;5;241m/\u001B[39m \u001B[38;5;241m2\u001B[39m\n",
      "File \u001B[0;32m<__array_function__ internals>:180\u001B[0m, in \u001B[0;36mconcatenate\u001B[0;34m(*args, **kwargs)\u001B[0m\n",
      "File \u001B[0;32m~/anaconda3/envs/lettuce/lib/python3.11/site-packages/numpy/core/multiarray.py:248\u001B[0m, in \u001B[0;36mconcatenate\u001B[0;34m(arrays, axis, out, dtype, casting)\u001B[0m\n\u001B[1;32m    154\u001B[0m \u001B[38;5;250m\u001B[39m\u001B[38;5;124;03m\"\"\"\u001B[39;00m\n\u001B[1;32m    155\u001B[0m \u001B[38;5;124;03mconcatenate((a1, a2, ...), axis=0, out=None, dtype=None, casting=\"same_kind\")\u001B[39;00m\n\u001B[1;32m    156\u001B[0m \n\u001B[0;32m   (...)\u001B[0m\n\u001B[1;32m    244\u001B[0m \n\u001B[1;32m    245\u001B[0m \u001B[38;5;124;03m\"\"\"\u001B[39;00m\n\u001B[1;32m    246\u001B[0m \u001B[38;5;28;01mif\u001B[39;00m out \u001B[38;5;129;01mis\u001B[39;00m \u001B[38;5;129;01mnot\u001B[39;00m \u001B[38;5;28;01mNone\u001B[39;00m:\n\u001B[1;32m    247\u001B[0m     \u001B[38;5;66;03m# optimize for the typical case where only arrays is provided\u001B[39;00m\n\u001B[0;32m--> 248\u001B[0m     arrays \u001B[38;5;241m=\u001B[39m \u001B[38;5;28mlist\u001B[39m(arrays)\n\u001B[1;32m    249\u001B[0m     arrays\u001B[38;5;241m.\u001B[39mappend(out)\n\u001B[1;32m    250\u001B[0m \u001B[38;5;28;01mreturn\u001B[39;00m arrays\n",
      "\u001B[0;31mTypeError\u001B[0m: 'numpy.float64' object is not iterable"
     ]
    }
   ],
   "source": [
    "lattice = lt.Lattice(lt.D2Q9, device = \"cpu\", dtype=torch.float32)\n",
    "flow = lt.ReducedTaylorGreenVortex2D(resolution=128, reynolds_number=2000, mach_number=0.05, lattice=lattice)\n",
    "collision = lt.BGKCollision(lattice, tau=flow.units.relaxation_parameter_lu)\n",
    "streaming = lt.StandardStreaming(lattice)\n",
    "simulation = lt.Simulation(flow=flow, lattice=lattice, collision=collision, streaming=streaming)"
   ]
  },
  {
   "cell_type": "markdown",
   "metadata": {},
   "source": [
    "* Reporters will grab the results in between simulation steps (see reporters.py and simulation.py)\n",
    "* Output: Column 1: simulation steps, Column 2: time in LU, Column 3: kinetic energy in PU\n",
    "* Output: separate VTK-file with ux,uy,(uz) and p for every 100. time step in ./output"
   ]
  },
  {
   "cell_type": "code",
   "execution_count": null,
   "metadata": {},
   "outputs": [],
   "source": [
    "Energy = lt.IncompressibleKineticEnergy(lattice, flow)\n",
    "reporter = lt.ObservableReporter(Energy, interval=1000, out=None)\n",
    "simulation.reporters.append(reporter)\n",
    "simulation.reporters.append(lt.VTKReporter(lattice, flow, interval=50, filename_base=\"./output\"))"
   ]
  },
  {
   "cell_type": "markdown",
   "metadata": {},
   "source": [
    "## Run simulation"
   ]
  },
  {
   "cell_type": "code",
   "execution_count": null,
   "metadata": {},
   "outputs": [],
   "source": [
    "simulation.initialize_f_neq()\n",
    "mlups = simulation.step(num_steps=10000)\n",
    "print(\"Performance in MLUPS:\", mlups)"
   ]
  },
  {
   "cell_type": "markdown",
   "metadata": {},
   "source": [
    "## Post process\n",
    "### Energy Reporter\n",
    "* Grab output of kinetic energy reporter"
   ]
  },
  {
   "cell_type": "code",
   "execution_count": null,
   "metadata": {},
   "outputs": [],
   "source": [
    "energy = np.array(simulation.reporters[0].out)\n",
    "print(energy.shape)\n",
    "plt.plot(energy[:,1],energy[:,2])\n",
    "plt.title('Kinetic energy')\n",
    "plt.xlabel('Time')\n",
    "plt.ylabel('Energy in physical units')\n",
    "plt.show()"
   ]
  },
  {
   "cell_type": "markdown",
   "metadata": {},
   "source": [
    "### Velocity\n",
    "We calculate the speed in Lettuce units depending on the last 'f'. Then we convert this velocity into physical units. For further investigations the tensor must be converted into a Numpy-Array. The norm of the fractions in x and y direction is plotted afterwards."
   ]
  },
  {
   "cell_type": "code",
   "execution_count": null,
   "metadata": {},
   "outputs": [],
   "source": [
    "u = flow.units.convert_velocity_to_pu(lattice.u(simulation.f)).numpy()\n",
    "u_norm = np.linalg.norm(u,axis=0)\n",
    "plt.imshow(u_norm)\n",
    "plt.show()"
   ]
  },
  {
   "cell_type": "code",
   "execution_count": null,
   "outputs": [],
   "source": [],
   "metadata": {
    "collapsed": false
   }
  }
 ],
 "metadata": {
  "kernelspec": {
   "display_name": "Python 3",
   "language": "python",
   "name": "python3"
  },
  "language_info": {
   "codemirror_mode": {
    "name": "ipython",
    "version": 3
   },
   "file_extension": ".py",
   "mimetype": "text/x-python",
   "name": "python",
   "nbconvert_exporter": "python",
   "pygments_lexer": "ipython3",
   "version": "3.8.5"
  }
 },
 "nbformat": 4,
 "nbformat_minor": 4
}
