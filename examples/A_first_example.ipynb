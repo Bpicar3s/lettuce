{
 "cells": [
  {
   "cell_type": "markdown",
   "metadata": {},
   "source": [
    "# A first example\n",
    "This is a first example of how to use lettuce.\n",
    "A two dimensional Taylor Green vortex is initialized and simulated for 10000 steps. Afterwards the energy and the velocity field is plotted."
   ]
  },
  {
   "cell_type": "code",
   "execution_count": 1,
   "outputs": [],
   "source": [
    "import os\n",
    "import lettuce as lt\n",
    "import matplotlib.pyplot as plt\n",
    "import numpy as np\n",
    "import torch\n",
    "import csv"
   ],
   "metadata": {
    "collapsed": false,
    "ExecuteTime": {
     "end_time": "2023-10-04T14:59:19.124723815Z",
     "start_time": "2023-10-04T14:59:18.204040419Z"
    }
   }
  },
  {
   "cell_type": "markdown",
   "metadata": {},
   "source": [
    "## Setup\n",
    "* for running on GPU: device = \"cuda\". CUDA drivers are required!\n",
    "* dtype=torch.float32 for single precision - float64 for double precision\n",
    "* select collision model (here BGKCollision) - try also KBCCollision or RegularizedCollision"
   ]
  },
  {
   "cell_type": "code",
   "execution_count": 2,
   "metadata": {
    "ExecuteTime": {
     "end_time": "2023-10-04T14:59:19.302027778Z",
     "start_time": "2023-10-04T14:59:19.148086380Z"
    }
   },
   "outputs": [
    {
     "name": "stdout",
     "output_type": "stream",
     "text": [
      "1764.2524653497344\n",
      "0.5022053155816871\n"
     ]
    }
   ],
   "source": [
    "lattice = lt.Lattice(lt.D3Q19, device = \"cuda\", dtype=torch.float64)\n",
    "flow = lt.TaylorGreenVortex3D(resolution=16, reynolds_number=100, mach_number=0.05, lattice=lattice)\n",
    "print(flow.units.convert_time_to_lu(20))\n",
    "collision = lt.RegularizedCollision(lattice, tau=flow.units.relaxation_parameter_lu)\n",
    "print(flow.units.relaxation_parameter_lu)\n",
    "streaming = lt.StandardStreaming(lattice)\n",
    "simulation = lt.SimulationReducedTGV(flow=flow, lattice=lattice, collision=collision, streaming=streaming)"
   ]
  },
  {
   "cell_type": "markdown",
   "metadata": {},
   "source": [
    "* Reporters will grab the results in between simulation steps (see reporters.py and simulation.py)\n",
    "* Output: Column 1: simulation steps, Column 2: time in LU, Column 3: kinetic energy in PU\n",
    "* Output: separate VTK-file with ux,uy,(uz) and p for every 100. time step in ./output"
   ]
  },
  {
   "cell_type": "code",
   "execution_count": 3,
   "metadata": {
    "ExecuteTime": {
     "end_time": "2023-10-04T14:59:19.305131913Z",
     "start_time": "2023-10-04T14:59:19.303416407Z"
    }
   },
   "outputs": [
    {
     "name": "stdout",
     "output_type": "stream",
     "text": [
      "steps     time     IncompressibleKineticEnergy\n",
      "steps     time     Dissipation_TGV\n"
     ]
    }
   ],
   "source": [
    "Energy = lt.IncompressibleKineticEnergy(lattice, flow)\n",
    "Dissipation=lt.Dissipation_TGV(lattice, flow)\n",
    "reporter = lt.ObservableReporter(Energy, interval=10, out=None)\n",
    "reporter2 = lt.ObservableReporter(Dissipation,interval = 10, out=None)\n",
    "simulation.reporters.append(reporter)\n",
    "simulation.reporters.append(reporter2)\n",
    "simulation.reporters.append(lt.VTKReporter(lattice, flow, interval=10, filename_base=\"./output\"))"
   ]
  },
  {
   "cell_type": "markdown",
   "metadata": {},
   "source": [
    "## Run simulation"
   ]
  },
  {
   "cell_type": "code",
   "execution_count": 4,
   "metadata": {
    "ExecuteTime": {
     "end_time": "2023-10-04T14:59:19.655056732Z",
     "start_time": "2023-10-04T14:59:19.306511939Z"
    }
   },
   "outputs": [
    {
     "name": "stderr",
     "output_type": "stream",
     "text": [
      "/home/ben/anaconda3/envs/lettuce/lib/python3.11/site-packages/torch/functional.py:504: UserWarning: torch.meshgrid: in an upcoming release, it will be required to pass the indexing argument. (Triggered internally at /opt/conda/conda-bld/pytorch_1682343995622/work/aten/src/ATen/native/TensorShape.cpp:3483.)\n",
      "  return _VF.meshgrid(tensors, **kwargs)  # type: ignore[attr-defined]\n"
     ]
    },
    {
     "ename": "TypeError",
     "evalue": "expected Tensor as element 0 in argument 0, but got tuple",
     "output_type": "error",
     "traceback": [
      "\u001B[0;31m---------------------------------------------------------------------------\u001B[0m",
      "\u001B[0;31mTypeError\u001B[0m                                 Traceback (most recent call last)",
      "Cell \u001B[0;32mIn[4], line 2\u001B[0m\n\u001B[1;32m      1\u001B[0m \u001B[38;5;66;03m#simulation.initialize_f_neq()\u001B[39;00m\n\u001B[0;32m----> 2\u001B[0m mlups \u001B[38;5;241m=\u001B[39m simulation\u001B[38;5;241m.\u001B[39mstep(num_steps\u001B[38;5;241m=\u001B[39m\u001B[38;5;241m3300\u001B[39m)\n\u001B[1;32m      3\u001B[0m \u001B[38;5;28mprint\u001B[39m(\u001B[38;5;124m\"\u001B[39m\u001B[38;5;124mPerformance in MLUPS:\u001B[39m\u001B[38;5;124m\"\u001B[39m, mlups)\n\u001B[1;32m      4\u001B[0m \u001B[38;5;28mprint\u001B[39m(simulation\u001B[38;5;241m.\u001B[39mlattice\u001B[38;5;241m.\u001B[39mrho(simulation\u001B[38;5;241m.\u001B[39mf))\n",
      "File \u001B[0;32m~/lettuce/lettuce/simulation_reducedTGV.py:74\u001B[0m, in \u001B[0;36mSimulationReducedTGV.step\u001B[0;34m(self, num_steps)\u001B[0m\n\u001B[1;32m     72\u001B[0m start \u001B[38;5;241m=\u001B[39m timer()\n\u001B[1;32m     73\u001B[0m \u001B[38;5;28;01mif\u001B[39;00m \u001B[38;5;28mself\u001B[39m\u001B[38;5;241m.\u001B[39mi \u001B[38;5;241m==\u001B[39m \u001B[38;5;241m0\u001B[39m:\n\u001B[0;32m---> 74\u001B[0m     \u001B[38;5;28mself\u001B[39m\u001B[38;5;241m.\u001B[39m_report()\n\u001B[1;32m     75\u001B[0m \u001B[38;5;28;01mfor\u001B[39;00m _ \u001B[38;5;129;01min\u001B[39;00m \u001B[38;5;28mrange\u001B[39m(num_steps):\n\u001B[1;32m     76\u001B[0m     \u001B[38;5;28mself\u001B[39m\u001B[38;5;241m.\u001B[39mi \u001B[38;5;241m+\u001B[39m\u001B[38;5;241m=\u001B[39m \u001B[38;5;241m1\u001B[39m\n",
      "File \u001B[0;32m~/lettuce/lettuce/simulation_reducedTGV.py:94\u001B[0m, in \u001B[0;36mSimulationReducedTGV._report\u001B[0;34m(self)\u001B[0m\n\u001B[1;32m     92\u001B[0m \u001B[38;5;28;01mdef\u001B[39;00m \u001B[38;5;21m_report\u001B[39m(\u001B[38;5;28mself\u001B[39m):\n\u001B[1;32m     93\u001B[0m     \u001B[38;5;28;01mfor\u001B[39;00m reporter \u001B[38;5;129;01min\u001B[39;00m \u001B[38;5;28mself\u001B[39m\u001B[38;5;241m.\u001B[39mreporters:\n\u001B[0;32m---> 94\u001B[0m         reporter(\u001B[38;5;28mself\u001B[39m\u001B[38;5;241m.\u001B[39mi, \u001B[38;5;28mself\u001B[39m\u001B[38;5;241m.\u001B[39mflow\u001B[38;5;241m.\u001B[39munits\u001B[38;5;241m.\u001B[39mconvert_time_to_pu(\u001B[38;5;28mself\u001B[39m\u001B[38;5;241m.\u001B[39mi), \u001B[38;5;28mself\u001B[39m\u001B[38;5;241m.\u001B[39mf)\n",
      "File \u001B[0;32m~/lettuce/lettuce/reporters.py:138\u001B[0m, in \u001B[0;36mObservableReporter.__call__\u001B[0;34m(self, i, t, f)\u001B[0m\n\u001B[1;32m    136\u001B[0m \u001B[38;5;28;01mdef\u001B[39;00m \u001B[38;5;21m__call__\u001B[39m(\u001B[38;5;28mself\u001B[39m, i, t, f):\n\u001B[1;32m    137\u001B[0m     \u001B[38;5;28;01mif\u001B[39;00m i \u001B[38;5;241m%\u001B[39m \u001B[38;5;28mself\u001B[39m\u001B[38;5;241m.\u001B[39minterval \u001B[38;5;241m==\u001B[39m \u001B[38;5;241m0\u001B[39m:\n\u001B[0;32m--> 138\u001B[0m         observed \u001B[38;5;241m=\u001B[39m \u001B[38;5;28mself\u001B[39m\u001B[38;5;241m.\u001B[39mobservable\u001B[38;5;241m.\u001B[39mlattice\u001B[38;5;241m.\u001B[39mconvert_to_numpy(\u001B[38;5;28mself\u001B[39m\u001B[38;5;241m.\u001B[39mobservable(f))\n\u001B[1;32m    139\u001B[0m         \u001B[38;5;28;01massert\u001B[39;00m \u001B[38;5;28mlen\u001B[39m(observed\u001B[38;5;241m.\u001B[39mshape) \u001B[38;5;241m<\u001B[39m \u001B[38;5;241m2\u001B[39m\n\u001B[1;32m    140\u001B[0m         \u001B[38;5;28;01mif\u001B[39;00m \u001B[38;5;28mlen\u001B[39m(observed\u001B[38;5;241m.\u001B[39mshape) \u001B[38;5;241m==\u001B[39m \u001B[38;5;241m0\u001B[39m:\n",
      "File \u001B[0;32m~/lettuce/lettuce/observables.py:197\u001B[0m, in \u001B[0;36mDissipation_TGV.__call__\u001B[0;34m(self, f)\u001B[0m\n\u001B[1;32m    195\u001B[0m grid\u001B[38;5;241m=\u001B[39mtorch\u001B[38;5;241m.\u001B[39mmeshgrid(x, y, z)\n\u001B[1;32m    196\u001B[0m u\u001B[38;5;241m=\u001B[39mu\u001B[38;5;241m.\u001B[39mrequires_grad_()\n\u001B[0;32m--> 197\u001B[0m dux\u001B[38;5;241m=\u001B[39mtorch\u001B[38;5;241m.\u001B[39mstack([torch\u001B[38;5;241m.\u001B[39mgradient(u[i],spacing\u001B[38;5;241m=\u001B[39mdx,dim\u001B[38;5;241m=\u001B[39m\u001B[38;5;241m0\u001B[39m) \u001B[38;5;28;01mfor\u001B[39;00m i \u001B[38;5;129;01min\u001B[39;00m \u001B[38;5;28mrange\u001B[39m(\u001B[38;5;241m3\u001B[39m)])\n\u001B[1;32m    198\u001B[0m duy \u001B[38;5;241m=\u001B[39m torch\u001B[38;5;241m.\u001B[39mstack([torch\u001B[38;5;241m.\u001B[39mgradient(u[i], spacing\u001B[38;5;241m=\u001B[39mdx,dim\u001B[38;5;241m=\u001B[39m\u001B[38;5;241m1\u001B[39m) \u001B[38;5;28;01mfor\u001B[39;00m i \u001B[38;5;129;01min\u001B[39;00m \u001B[38;5;28mrange\u001B[39m(\u001B[38;5;241m3\u001B[39m)])\n\u001B[1;32m    199\u001B[0m duz \u001B[38;5;241m=\u001B[39m torch\u001B[38;5;241m.\u001B[39mstack([torch\u001B[38;5;241m.\u001B[39mgradient(u[i], spacing\u001B[38;5;241m=\u001B[39mdx,dim\u001B[38;5;241m=\u001B[39m\u001B[38;5;241m2\u001B[39m) \u001B[38;5;28;01mfor\u001B[39;00m i \u001B[38;5;129;01min\u001B[39;00m \u001B[38;5;28mrange\u001B[39m(\u001B[38;5;241m3\u001B[39m)])\n",
      "\u001B[0;31mTypeError\u001B[0m: expected Tensor as element 0 in argument 0, but got tuple"
     ]
    }
   ],
   "source": [
    "#simulation.initialize_f_neq()\n",
    "mlups = simulation.step(num_steps=3300)\n",
    "print(\"Performance in MLUPS:\", mlups)\n",
    "print(simulation.lattice.rho(simulation.f))\n",
    "rho_start,u_start,f_start=simulation.startwerte()\n",
    "print(\"rho_start\")\n",
    "print(rho_start)\n",
    "print(\"u_start\")\n",
    "print(u_start)\n",
    "print(\"f_start\")\n",
    "print(f_start)"
   ]
  },
  {
   "cell_type": "markdown",
   "metadata": {},
   "source": [
    "## Post process\n",
    "### Energy Reporter\n",
    "* Grab output of kinetic energy reporter"
   ]
  },
  {
   "cell_type": "code",
   "execution_count": null,
   "metadata": {},
   "outputs": [],
   "source": [
    "energy = np.array(simulation.reporters[0].out)\n",
    "print(energy.shape)\n",
    "\n",
    "save_directory = \"/home/ben/Resultate Reduced TGV\"\n",
    "file_name = \"FullTGV.pkl\"\n",
    "file_path = os.path.join(save_directory, file_name)\n",
    "simulation.save_checkpoint(file_path)\n",
    "\n",
    "csv_file_path = '/home/ben/Schreibtisch/Enstropy Brachet/Brachet/Brachet_1983_tgv3d_enstrophy_Re100.csv'\n",
    "\n",
    "# Daten aus der CSV-Datei lesen\n",
    "csv_data = []\n",
    "with open(csv_file_path, 'r') as file:\n",
    "    csv_reader = csv.reader(file, delimiter=';')\n",
    "    for row in csv_reader:\n",
    "        csv_data.append(row)\n",
    "\n",
    "csv_data = np.array(csv_data, dtype=float)\n",
    "\n",
    "dissipation = np.array(simulation.reporters[1].out)\n",
    "#print(energy.shape)\n",
    "#plt.plot(energy[:,1],energy[:,2])\n",
    "#plt.plot(energy[5:-1,1],-1/((np.pi*2)**3)*np.diff(energy[5:,2])/np.diff(energy[5:,1]))\n",
    "plt.plot(energy[2:,1],-1/(np.pi*2)**3*np.gradient(energy[2:,2],energy[2:,1]),color = 'blue')\n",
    "plt.plot(dissipation[:,1],dissipation[:,2], color = 'green')\n",
    "#plt.plot(enstrophy[:,1],1/(np.pi*2)**3*1/100*enstrophy[:,2])\n",
    "plt.scatter(csv_data[:, 0], csv_data[:, 1], color='red', label='CSV Data')\n",
    "plt.title('Energy Dissipation')\n",
    "plt.xlabel('Time')\n",
    "plt.ylabel('Energy Dissipation in physical units')\n",
    "plt.show()\n",
    "\n"
   ]
  },
  {
   "cell_type": "markdown",
   "metadata": {},
   "source": [
    "### Velocity\n",
    "We calculate the speed in Lettuce units depending on the last 'f'. Then we convert this velocity into physical units. For further investigations the tensor must be converted into a Numpy-Array. The norm of the fractions in x and y direction is plotted afterwards."
   ]
  },
  {
   "cell_type": "code",
   "execution_count": null,
   "metadata": {},
   "outputs": [],
   "source": [
    "u = flow.units.convert_velocity_to_pu(lattice.u(simulation.f)).numpy()\n",
    "u_norm = np.linalg.norm(u,axis=0)\n",
    "plt.imshow(u_norm)\n",
    "plt.show()"
   ]
  },
  {
   "cell_type": "code",
   "execution_count": null,
   "metadata": {},
   "outputs": [],
   "source": []
  }
 ],
 "metadata": {
  "kernelspec": {
   "display_name": "Python 3 (ipykernel)",
   "language": "python",
   "name": "python3"
  },
  "language_info": {
   "codemirror_mode": {
    "name": "ipython",
    "version": 3
   },
   "file_extension": ".py",
   "mimetype": "text/x-python",
   "name": "python",
   "nbconvert_exporter": "python",
   "pygments_lexer": "ipython3",
   "version": "3.11.3"
  }
 },
 "nbformat": 4,
 "nbformat_minor": 4
}
