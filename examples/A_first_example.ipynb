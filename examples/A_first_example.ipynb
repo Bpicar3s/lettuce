{
 "cells": [
  {
   "cell_type": "markdown",
   "metadata": {},
   "source": [
    "# A first example\n",
    "This is a first example of how to use lettuce.\n",
    "A two dimensional Taylor Green vortex is initialized and simulated for 10000 steps. Afterwards the energy and the velocity field is plotted."
   ]
  },
  {
   "cell_type": "code",
   "execution_count": 1,
   "outputs": [],
   "source": [
    "import os\n",
    "import lettuce as lt\n",
    "import matplotlib.pyplot as plt\n",
    "import numpy as np\n",
    "import torch\n",
    "import csv"
   ],
   "metadata": {
    "collapsed": false,
    "ExecuteTime": {
     "end_time": "2024-01-26T12:25:33.716467546Z",
     "start_time": "2024-01-26T12:25:32.602513700Z"
    }
   }
  },
  {
   "cell_type": "markdown",
   "metadata": {},
   "source": [
    "## Setup\n",
    "* for running on GPU: device = \"cuda\". CUDA drivers are required!\n",
    "* dtype=torch.float32 for single precision - float64 for double precision\n",
    "* select collision model (here BGKCollision) - try also KBCCollision or RegularizedCollision"
   ]
  },
  {
   "cell_type": "code",
   "execution_count": 2,
   "metadata": {
    "ExecuteTime": {
     "end_time": "2024-01-26T12:25:33.855428667Z",
     "start_time": "2024-01-26T12:25:33.759512129Z"
    }
   },
   "outputs": [
    {
     "name": "stdout",
     "output_type": "stream",
     "text": [
      "352.8504930699469\n",
      "0.5088212623267486\n"
     ]
    }
   ],
   "source": [
    "lattice = lt.Lattice(lt.D3Q19, device = \"cpu\", dtype=torch.float64)\n",
    "#flow = lt.ReducedTaylorGreenVortex2D(resolution=128, reynolds_number=1000, mach_number=0.05, lattice=lattice)\n",
    "flow = lt.TaylorGreenVortex3D(resolution=64, reynolds_number=100, mach_number=0.05, lattice=lattice)\n",
    "print(flow.units.convert_time_to_lu(1))\n",
    "collision = lt.BGKCollision(lattice, tau=flow.units.relaxation_parameter_lu)\n",
    "print(flow.units.relaxation_parameter_lu)\n",
    "streaming = lt.StandardStreaming(lattice)\n",
    "#simulation = lt.SimulationReducedTGV(flow=flow, lattice=lattice, collision=collision, streaming=streaming)\n",
    "simulation = lt.Simulation(flow=flow, lattice=lattice, collision=collision, streaming=streaming)"
   ]
  },
  {
   "cell_type": "markdown",
   "metadata": {},
   "source": [
    "* Reporters will grab the results in between simulation steps (see reporters.py and simulation.py)\n",
    "* Output: Column 1: simulation steps, Column 2: time in LU, Column 3: kinetic energy in PU\n",
    "* Output: separate VTK-file with ux,uy,(uz) and p for every 100. time step in ./output"
   ]
  },
  {
   "cell_type": "code",
   "execution_count": 3,
   "metadata": {
    "ExecuteTime": {
     "end_time": "2024-01-26T12:25:33.859099275Z",
     "start_time": "2024-01-26T12:25:33.856281157Z"
    }
   },
   "outputs": [
    {
     "name": "stdout",
     "output_type": "stream",
     "text": [
      "steps     time     IncompressibleKineticEnergy\n",
      "steps     time     Dissipation_sij\n",
      "steps     time     Enstrophy\n"
     ]
    }
   ],
   "source": [
    "Energy = lt.IncompressibleKineticEnergy(lattice, flow)\n",
    "Dissipation=lt.Dissipation_sij(lattice, flow)\n",
    "Enstrophy=lt.Enstrophy(lattice, flow)\n",
    "reporter = lt.ObservableReporter(Energy, interval=10, out=None)\n",
    "reporter2 = lt.ObservableReporter(Dissipation,interval = 10, out=None)\n",
    "reporter3= lt.ObservableReporter(Enstrophy, interval=10, out=None)\n",
    "simulation.reporters.append(reporter)\n",
    "simulation.reporters.append(reporter2)\n",
    "simulation.reporters.append(reporter3)\n",
    "simulation.reporters.append(lt.VTKReporter(lattice, flow, interval=10, filename_base=\"./output\"))"
   ]
  },
  {
   "cell_type": "markdown",
   "metadata": {},
   "source": [
    "## Run simulation"
   ]
  },
  {
   "cell_type": "code",
   "execution_count": 4,
   "metadata": {
    "ExecuteTime": {
     "end_time": "2024-01-26T12:25:35.586703011Z",
     "start_time": "2024-01-26T12:25:33.859449286Z"
    }
   },
   "outputs": [
    {
     "name": "stdout",
     "output_type": "stream",
     "text": [
      "Performance in MLUPS: 1.5438519077772168\n",
      "tensor([[[[1.0003, 1.0003, 1.0003,  ..., 1.0003, 1.0003, 1.0003],\n",
      "          [1.0003, 1.0003, 1.0003,  ..., 1.0003, 1.0003, 1.0003],\n",
      "          [1.0003, 1.0003, 1.0003,  ..., 1.0003, 1.0003, 1.0003],\n",
      "          ...,\n",
      "          [1.0003, 1.0003, 1.0003,  ..., 1.0003, 1.0003, 1.0003],\n",
      "          [1.0003, 1.0003, 1.0003,  ..., 1.0003, 1.0003, 1.0003],\n",
      "          [1.0003, 1.0003, 1.0003,  ..., 1.0003, 1.0003, 1.0003]],\n",
      "\n",
      "         [[1.0003, 1.0003, 1.0003,  ..., 1.0003, 1.0003, 1.0003],\n",
      "          [1.0003, 1.0003, 1.0003,  ..., 1.0003, 1.0003, 1.0003],\n",
      "          [1.0003, 1.0003, 1.0003,  ..., 1.0003, 1.0003, 1.0003],\n",
      "          ...,\n",
      "          [1.0003, 1.0003, 1.0003,  ..., 1.0003, 1.0003, 1.0003],\n",
      "          [1.0003, 1.0003, 1.0003,  ..., 1.0003, 1.0003, 1.0003],\n",
      "          [1.0003, 1.0003, 1.0003,  ..., 1.0003, 1.0003, 1.0003]],\n",
      "\n",
      "         [[1.0003, 1.0003, 1.0003,  ..., 1.0003, 1.0003, 1.0003],\n",
      "          [1.0003, 1.0003, 1.0003,  ..., 1.0003, 1.0003, 1.0003],\n",
      "          [1.0003, 1.0003, 1.0003,  ..., 1.0003, 1.0003, 1.0003],\n",
      "          ...,\n",
      "          [1.0003, 1.0003, 1.0003,  ..., 1.0003, 1.0003, 1.0003],\n",
      "          [1.0003, 1.0003, 1.0003,  ..., 1.0003, 1.0003, 1.0003],\n",
      "          [1.0003, 1.0003, 1.0003,  ..., 1.0003, 1.0003, 1.0003]],\n",
      "\n",
      "         ...,\n",
      "\n",
      "         [[1.0003, 1.0003, 1.0003,  ..., 1.0003, 1.0003, 1.0003],\n",
      "          [1.0003, 1.0003, 1.0003,  ..., 1.0003, 1.0003, 1.0003],\n",
      "          [1.0003, 1.0003, 1.0003,  ..., 1.0003, 1.0003, 1.0003],\n",
      "          ...,\n",
      "          [1.0003, 1.0003, 1.0003,  ..., 1.0003, 1.0003, 1.0003],\n",
      "          [1.0003, 1.0003, 1.0003,  ..., 1.0003, 1.0003, 1.0003],\n",
      "          [1.0003, 1.0003, 1.0003,  ..., 1.0003, 1.0003, 1.0003]],\n",
      "\n",
      "         [[1.0003, 1.0003, 1.0003,  ..., 1.0003, 1.0003, 1.0003],\n",
      "          [1.0003, 1.0003, 1.0003,  ..., 1.0003, 1.0003, 1.0003],\n",
      "          [1.0003, 1.0003, 1.0003,  ..., 1.0003, 1.0003, 1.0003],\n",
      "          ...,\n",
      "          [1.0003, 1.0003, 1.0003,  ..., 1.0003, 1.0003, 1.0003],\n",
      "          [1.0003, 1.0003, 1.0003,  ..., 1.0003, 1.0003, 1.0003],\n",
      "          [1.0003, 1.0003, 1.0003,  ..., 1.0003, 1.0003, 1.0003]],\n",
      "\n",
      "         [[1.0003, 1.0003, 1.0003,  ..., 1.0003, 1.0003, 1.0003],\n",
      "          [1.0003, 1.0003, 1.0003,  ..., 1.0003, 1.0003, 1.0003],\n",
      "          [1.0003, 1.0003, 1.0003,  ..., 1.0003, 1.0003, 1.0003],\n",
      "          ...,\n",
      "          [1.0003, 1.0003, 1.0003,  ..., 1.0003, 1.0003, 1.0003],\n",
      "          [1.0003, 1.0003, 1.0003,  ..., 1.0003, 1.0003, 1.0003],\n",
      "          [1.0003, 1.0003, 1.0003,  ..., 1.0003, 1.0003, 1.0003]]]],\n",
      "       dtype=torch.float64)\n"
     ]
    }
   ],
   "source": [
    "#simulation.initialize_f_neq()\n",
    "mlups = simulation.step(num_steps=10)\n",
    "print(\"Performance in MLUPS:\", mlups)\n",
    "print(simulation.lattice.rho(simulation.f))\n",
    "\n"
   ]
  },
  {
   "cell_type": "markdown",
   "metadata": {},
   "source": [
    "## Post process\n",
    "### Energy Reporter\n",
    "* Grab output of kinetic energy reporter"
   ]
  },
  {
   "cell_type": "code",
   "execution_count": 5,
   "metadata": {
    "ExecuteTime": {
     "end_time": "2024-01-26T12:25:35.876302110Z",
     "start_time": "2024-01-26T12:25:35.590635257Z"
    }
   },
   "outputs": [
    {
     "ename": "IndexError",
     "evalue": "index 0 is out of bounds for axis 0 with size 0",
     "output_type": "error",
     "traceback": [
      "\u001B[0;31m---------------------------------------------------------------------------\u001B[0m",
      "\u001B[0;31mIndexError\u001B[0m                                Traceback (most recent call last)",
      "Cell \u001B[0;32mIn[5], line 35\u001B[0m\n\u001B[1;32m     24\u001B[0m DisSij\u001B[38;5;241m=\u001B[39mnp\u001B[38;5;241m.\u001B[39mcolumn_stack((dissipation[:,\u001B[38;5;241m1\u001B[39m],dissipation[:,\u001B[38;5;241m2\u001B[39m]))\n\u001B[1;32m     26\u001B[0m \u001B[38;5;66;03m#np.savetxt('/home/ben/Schreibtisch/ErgebnisseMP1/FullTGV/DisEns-Rey3000-Res64-BGK.csv',DisEns,delimiter=';')\u001B[39;00m\n\u001B[1;32m     27\u001B[0m \u001B[38;5;66;03m#np.savetxt('/home/ben/Schreibtisch/ErgebnisseMP1/FullTGV/DisEkin-Rey3000-Res64-BGK.csv',DisEkin,delimiter=';')\u001B[39;00m\n\u001B[1;32m     28\u001B[0m \u001B[38;5;66;03m#np.savetxt('/home/ben/Schreibtisch/ErgebnisseMP1/FullTGV/DisSij-Rey3000-Res64-BGK.csv',DisSij,delimiter=';')\u001B[39;00m\n\u001B[0;32m   (...)\u001B[0m\n\u001B[1;32m     33\u001B[0m \u001B[38;5;66;03m#plt.plot(energy[:,1],energy[:,2])\u001B[39;00m\n\u001B[1;32m     34\u001B[0m \u001B[38;5;66;03m#plt.plot(energy[5:-1,1],-1/((np.pi*2)**3)*np.diff(energy[5:,2])/np.diff(energy[5:,1]))\u001B[39;00m\n\u001B[0;32m---> 35\u001B[0m plt\u001B[38;5;241m.\u001B[39mplot(energy[\u001B[38;5;241m2\u001B[39m:,\u001B[38;5;241m1\u001B[39m],\u001B[38;5;241m-\u001B[39m\u001B[38;5;241m1\u001B[39m\u001B[38;5;241m/\u001B[39m(np\u001B[38;5;241m.\u001B[39mpi\u001B[38;5;241m*\u001B[39m\u001B[38;5;241m2\u001B[39m)\u001B[38;5;241m*\u001B[39m\u001B[38;5;241m*\u001B[39m\u001B[38;5;241m3\u001B[39m\u001B[38;5;241m*\u001B[39m\u001B[43mnp\u001B[49m\u001B[38;5;241;43m.\u001B[39;49m\u001B[43mgradient\u001B[49m\u001B[43m(\u001B[49m\u001B[43menergy\u001B[49m\u001B[43m[\u001B[49m\u001B[38;5;241;43m2\u001B[39;49m\u001B[43m:\u001B[49m\u001B[43m,\u001B[49m\u001B[38;5;241;43m2\u001B[39;49m\u001B[43m]\u001B[49m\u001B[43m,\u001B[49m\u001B[43menergy\u001B[49m\u001B[43m[\u001B[49m\u001B[38;5;241;43m2\u001B[39;49m\u001B[43m:\u001B[49m\u001B[43m,\u001B[49m\u001B[38;5;241;43m1\u001B[39;49m\u001B[43m]\u001B[49m\u001B[43m)\u001B[49m,color \u001B[38;5;241m=\u001B[39m \u001B[38;5;124m'\u001B[39m\u001B[38;5;124mblue\u001B[39m\u001B[38;5;124m'\u001B[39m)\n\u001B[1;32m     36\u001B[0m plt\u001B[38;5;241m.\u001B[39mplot(dissipation[\u001B[38;5;241m3\u001B[39m:,\u001B[38;5;241m1\u001B[39m],dissipation[\u001B[38;5;241m3\u001B[39m:,\u001B[38;5;241m2\u001B[39m], color \u001B[38;5;241m=\u001B[39m \u001B[38;5;124m'\u001B[39m\u001B[38;5;124mgreen\u001B[39m\u001B[38;5;124m'\u001B[39m)\n\u001B[1;32m     37\u001B[0m plt\u001B[38;5;241m.\u001B[39mxlim(\u001B[38;5;241m0\u001B[39m,\u001B[38;5;241m10\u001B[39m)\n",
      "File \u001B[0;32m~/anaconda3/envs/lettuce/lib/python3.11/site-packages/numpy/lib/function_base.py:1182\u001B[0m, in \u001B[0;36mgradient\u001B[0;34m(f, axis, edge_order, *varargs)\u001B[0m\n\u001B[1;32m   1179\u001B[0m diffx \u001B[38;5;241m=\u001B[39m np\u001B[38;5;241m.\u001B[39mdiff(distances)\n\u001B[1;32m   1180\u001B[0m \u001B[38;5;66;03m# if distances are constant reduce to the scalar case\u001B[39;00m\n\u001B[1;32m   1181\u001B[0m \u001B[38;5;66;03m# since it brings a consistent speedup\u001B[39;00m\n\u001B[0;32m-> 1182\u001B[0m \u001B[38;5;28;01mif\u001B[39;00m (diffx \u001B[38;5;241m==\u001B[39m \u001B[43mdiffx\u001B[49m\u001B[43m[\u001B[49m\u001B[38;5;241;43m0\u001B[39;49m\u001B[43m]\u001B[49m)\u001B[38;5;241m.\u001B[39mall():\n\u001B[1;32m   1183\u001B[0m     diffx \u001B[38;5;241m=\u001B[39m diffx[\u001B[38;5;241m0\u001B[39m]\n\u001B[1;32m   1184\u001B[0m dx[i] \u001B[38;5;241m=\u001B[39m diffx\n",
      "\u001B[0;31mIndexError\u001B[0m: index 0 is out of bounds for axis 0 with size 0"
     ]
    }
   ],
   "source": [
    "energy = np.array(simulation.reporters[0].out)\n",
    "dissipation = np.array(simulation.reporters[1].out)\n",
    "enstrophy=np.array(simulation.reporters[2].out)\n",
    "\n",
    "save_directory = \"/home/ben/Resultate Reduced TGV\"\n",
    "file_name = \"FullTGV.pkl\"\n",
    "file_path = os.path.join(save_directory, file_name)\n",
    "simulation.save_checkpoint(file_path)\n",
    "\n",
    "csv_file_path = '/home/ben/Schreibtisch/Enstropy Brachet/Brachet/Brachet_1983_tgv3d_enstrophy_Re100.csv'\n",
    "\n",
    "# Daten aus der CSV-Datei lesen\n",
    "csv_data = []\n",
    "with open(csv_file_path, 'r') as file:\n",
    "    csv_reader = csv.reader(file, delimiter=';')\n",
    "    for row in csv_reader:\n",
    "        csv_data.append(row)\n",
    "\n",
    "csv_data = np.array(csv_data, dtype=float)\n",
    "DisEkin=np.column_stack((energy[:,1],-1/(np.pi*2)**3*np.gradient(energy[:,2],energy[:,1])))\n",
    "\n",
    "DisEns=np.column_stack((enstrophy[:,1],flow.units.viscosity_pu/(np.pi*2)**3*enstrophy[:,2]))\n",
    "\n",
    "DisSij=np.column_stack((dissipation[:,1],dissipation[:,2]))\n",
    "\n",
    "#np.savetxt('/home/ben/Schreibtisch/ErgebnisseMP1/FullTGV/DisEns-Rey3000-Res64-BGK.csv',DisEns,delimiter=';')\n",
    "#np.savetxt('/home/ben/Schreibtisch/ErgebnisseMP1/FullTGV/DisEkin-Rey3000-Res64-BGK.csv',DisEkin,delimiter=';')\n",
    "#np.savetxt('/home/ben/Schreibtisch/ErgebnisseMP1/FullTGV/DisSij-Rey3000-Res64-BGK.csv',DisSij,delimiter=';')\n",
    "\n",
    "\n",
    "\n",
    "#print(energy.shape)\n",
    "#plt.plot(energy[:,1],energy[:,2])\n",
    "#plt.plot(energy[5:-1,1],-1/((np.pi*2)**3)*np.diff(energy[5:,2])/np.diff(energy[5:,1]))\n",
    "plt.plot(energy[2:,1],-1/(np.pi*2)**3*np.gradient(energy[2:,2],energy[2:,1]),color = 'blue')\n",
    "plt.plot(dissipation[3:,1],dissipation[3:,2], color = 'green')\n",
    "plt.xlim(0,10)\n",
    "plt.plot(enstrophy[:,1],flow.units.viscosity_pu/(np.pi*2)**3*enstrophy[:,2])\n",
    "plt.scatter(csv_data[:, 0], csv_data[:, 1], color='red', label='CSV Data')\n",
    "plt.title('Energy Dissipation')\n",
    "plt.xlabel('Time')\n",
    "plt.ylabel('Energy Dissipation in physical units')\n",
    "plt.show()\n",
    "\n"
   ]
  },
  {
   "cell_type": "code",
   "execution_count": null,
   "outputs": [],
   "source": [],
   "metadata": {
    "collapsed": false
   }
  },
  {
   "cell_type": "markdown",
   "metadata": {},
   "source": [
    "### Velocity\n",
    "We calculate the speed in Lettuce units depending on the last 'f'. Then we convert this velocity into physical units. For further investigations the tensor must be converted into a Numpy-Array. The norm of the fractions in x and y direction is plotted afterwards."
   ]
  },
  {
   "cell_type": "code",
   "execution_count": null,
   "metadata": {},
   "outputs": [],
   "source": [
    "u = flow.units.convert_velocity_to_pu(lattice.u(simulation.f)).numpy()\n",
    "u_norm = np.linalg.norm(u,axis=0)\n",
    "plt.imshow(u_norm)\n",
    "plt.show()"
   ]
  },
  {
   "cell_type": "code",
   "execution_count": null,
   "metadata": {},
   "outputs": [],
   "source": []
  }
 ],
 "metadata": {
  "kernelspec": {
   "display_name": "Python 3 (ipykernel)",
   "language": "python",
   "name": "python3"
  },
  "language_info": {
   "codemirror_mode": {
    "name": "ipython",
    "version": 3
   },
   "file_extension": ".py",
   "mimetype": "text/x-python",
   "name": "python",
   "nbconvert_exporter": "python",
   "pygments_lexer": "ipython3",
   "version": "3.11.3"
  }
 },
 "nbformat": 4,
 "nbformat_minor": 4
}
