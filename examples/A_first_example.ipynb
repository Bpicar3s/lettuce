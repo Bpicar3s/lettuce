{
 "cells": [
  {
   "cell_type": "markdown",
   "metadata": {},
   "source": [
    "# A first example\n",
    "This is a first example of how to use lettuce.\n",
    "A two dimensional Taylor Green vortex is initialized and simulated for 10000 steps. Afterwards the energy and the velocity field is plotted."
   ]
  },
  {
   "cell_type": "code",
   "execution_count": 1,
   "metadata": {
    "ExecuteTime": {
     "end_time": "2023-06-28T08:35:05.519602377Z",
     "start_time": "2023-06-28T08:35:04.671673591Z"
    }
   },
   "outputs": [],
   "source": [
    "import lettuce as lt\n",
    "import matplotlib.pyplot as plt\n",
    "import numpy as np\n",
    "import torch"
   ]
  },
  {
   "cell_type": "code",
   "execution_count": 1,
   "outputs": [],
   "source": [],
   "metadata": {
    "collapsed": false,
    "ExecuteTime": {
     "end_time": "2023-06-28T08:35:05.522666297Z",
     "start_time": "2023-06-28T08:35:05.521122269Z"
    }
   }
  },
  {
   "cell_type": "markdown",
   "metadata": {},
   "source": [
    "## Setup\n",
    "* for running on GPU: device = \"cuda\". CUDA drivers are required!\n",
    "* dtype=torch.float32 for single precision - float64 for double precision\n",
    "* select collision model (here BGKCollision) - try also KBCCollision or RegularizedCollision"
   ]
  },
  {
   "cell_type": "code",
   "execution_count": 2,
   "metadata": {
    "ExecuteTime": {
     "end_time": "2023-06-28T08:35:05.843638085Z",
     "start_time": "2023-06-28T08:35:05.524338806Z"
    }
   },
   "outputs": [
    {
     "ename": "AssertionError",
     "evalue": "",
     "output_type": "error",
     "traceback": [
      "\u001B[0;31m---------------------------------------------------------------------------\u001B[0m",
      "\u001B[0;31mAssertionError\u001B[0m                            Traceback (most recent call last)",
      "Cell \u001B[0;32mIn[2], line 5\u001B[0m\n\u001B[1;32m      3\u001B[0m collision \u001B[38;5;241m=\u001B[39m lt\u001B[38;5;241m.\u001B[39mBGKCollision(lattice, tau\u001B[38;5;241m=\u001B[39mflow\u001B[38;5;241m.\u001B[39munits\u001B[38;5;241m.\u001B[39mrelaxation_parameter_lu)\n\u001B[1;32m      4\u001B[0m streaming \u001B[38;5;241m=\u001B[39m lt\u001B[38;5;241m.\u001B[39mStandardStreaming(lattice)\n\u001B[0;32m----> 5\u001B[0m simulation \u001B[38;5;241m=\u001B[39m lt\u001B[38;5;241m.\u001B[39mSimulation(flow\u001B[38;5;241m=\u001B[39mflow, lattice\u001B[38;5;241m=\u001B[39mlattice, collision\u001B[38;5;241m=\u001B[39mcollision, streaming\u001B[38;5;241m=\u001B[39mstreaming)\n",
      "File \u001B[0;32m~/lettuce/lettuce/simulation.py:59\u001B[0m, in \u001B[0;36mSimulation.__init__\u001B[0;34m(self, flow, lattice, collision, streaming)\u001B[0m\n\u001B[1;32m     57\u001B[0m \u001B[38;5;28;01mfor\u001B[39;00m boundary \u001B[38;5;129;01min\u001B[39;00m \u001B[38;5;28mself\u001B[39m\u001B[38;5;241m.\u001B[39m_boundaries:\n\u001B[1;32m     58\u001B[0m     \u001B[38;5;28;01mif\u001B[39;00m \u001B[38;5;28mhasattr\u001B[39m(boundary, \u001B[38;5;124m\"\u001B[39m\u001B[38;5;124mmake_no_collision_mask\u001B[39m\u001B[38;5;124m\"\u001B[39m):\n\u001B[0;32m---> 59\u001B[0m         \u001B[38;5;28mself\u001B[39m\u001B[38;5;241m.\u001B[39mno_collision_mask \u001B[38;5;241m=\u001B[39m \u001B[38;5;28mself\u001B[39m\u001B[38;5;241m.\u001B[39mno_collision_mask \u001B[38;5;241m|\u001B[39m boundary\u001B[38;5;241m.\u001B[39mmake_no_collision_mask(\u001B[38;5;28mself\u001B[39m\u001B[38;5;241m.\u001B[39mf\u001B[38;5;241m.\u001B[39mshape)\n\u001B[1;32m     60\u001B[0m     \u001B[38;5;28;01mif\u001B[39;00m \u001B[38;5;28mhasattr\u001B[39m(boundary, \u001B[38;5;124m\"\u001B[39m\u001B[38;5;124mmake_no_stream_mask\u001B[39m\u001B[38;5;124m\"\u001B[39m):\n\u001B[1;32m     61\u001B[0m         no_stream_mask \u001B[38;5;241m=\u001B[39m no_stream_mask \u001B[38;5;241m|\u001B[39m boundary\u001B[38;5;241m.\u001B[39mmake_no_stream_mask(\u001B[38;5;28mself\u001B[39m\u001B[38;5;241m.\u001B[39mf\u001B[38;5;241m.\u001B[39mshape)\n",
      "File \u001B[0;32m~/lettuce/lettuce/boundary.py:190\u001B[0m, in \u001B[0;36mSlipBoundary.make_no_collision_mask\u001B[0;34m(self, f_shape)\u001B[0m\n\u001B[1;32m    189\u001B[0m \u001B[38;5;28;01mdef\u001B[39;00m \u001B[38;5;21mmake_no_collision_mask\u001B[39m(\u001B[38;5;28mself\u001B[39m, f_shape):\n\u001B[0;32m--> 190\u001B[0m     \u001B[38;5;28;01massert\u001B[39;00m \u001B[38;5;28mself\u001B[39m\u001B[38;5;241m.\u001B[39mmask\u001B[38;5;241m.\u001B[39mshape \u001B[38;5;241m==\u001B[39m f_shape[\u001B[38;5;241m1\u001B[39m:]\n\u001B[1;32m    191\u001B[0m     \u001B[38;5;28;01mreturn\u001B[39;00m \u001B[38;5;28mself\u001B[39m\u001B[38;5;241m.\u001B[39mmask\n",
      "\u001B[0;31mAssertionError\u001B[0m: "
     ]
    }
   ],
   "source": [
    "lattice = lt.Lattice(lt.D2Q9, device = \"cpu\", dtype=torch.float32)\n",
    "flow = lt.ReducedTaylorGreenVortex2D(resolution=128, reynolds_number=2000, mach_number=0.05, lattice=lattice)\n",
    "collision = lt.BGKCollision(lattice, tau=flow.units.relaxation_parameter_lu)\n",
    "streaming = lt.StandardStreaming(lattice)\n",
    "simulation = lt.Simulation(flow=flow, lattice=lattice, collision=collision, streaming=streaming)"
   ]
  },
  {
   "cell_type": "markdown",
   "metadata": {},
   "source": [
    "* Reporters will grab the results in between simulation steps (see reporters.py and simulation.py)\n",
    "* Output: Column 1: simulation steps, Column 2: time in LU, Column 3: kinetic energy in PU\n",
    "* Output: separate VTK-file with ux,uy,(uz) and p for every 100. time step in ./output"
   ]
  },
  {
   "cell_type": "code",
   "execution_count": null,
   "metadata": {},
   "outputs": [],
   "source": [
    "Energy = lt.IncompressibleKineticEnergy(lattice, flow)\n",
    "reporter = lt.ObservableReporter(Energy, interval=1000, out=None)\n",
    "simulation.reporters.append(reporter)\n",
    "simulation.reporters.append(lt.VTKReporter(lattice, flow, interval=50, filename_base=\"./output\"))"
   ]
  },
  {
   "cell_type": "markdown",
   "metadata": {},
   "source": [
    "## Run simulation"
   ]
  },
  {
   "cell_type": "code",
   "execution_count": null,
   "metadata": {},
   "outputs": [],
   "source": [
    "simulation.initialize_f_neq()\n",
    "mlups = simulation.step(num_steps=10000)\n",
    "print(\"Performance in MLUPS:\", mlups)"
   ]
  },
  {
   "cell_type": "markdown",
   "metadata": {},
   "source": [
    "## Post process\n",
    "### Energy Reporter\n",
    "* Grab output of kinetic energy reporter"
   ]
  },
  {
   "cell_type": "code",
   "execution_count": null,
   "metadata": {},
   "outputs": [],
   "source": [
    "energy = np.array(simulation.reporters[0].out)\n",
    "print(energy.shape)\n",
    "plt.plot(energy[:,1],energy[:,2])\n",
    "plt.title('Kinetic energy')\n",
    "plt.xlabel('Time')\n",
    "plt.ylabel('Energy in physical units')\n",
    "plt.show()"
   ]
  },
  {
   "cell_type": "markdown",
   "metadata": {},
   "source": [
    "### Velocity\n",
    "We calculate the speed in Lettuce units depending on the last 'f'. Then we convert this velocity into physical units. For further investigations the tensor must be converted into a Numpy-Array. The norm of the fractions in x and y direction is plotted afterwards."
   ]
  },
  {
   "cell_type": "code",
   "execution_count": null,
   "metadata": {},
   "outputs": [],
   "source": [
    "u = flow.units.convert_velocity_to_pu(lattice.u(simulation.f)).numpy()\n",
    "u_norm = np.linalg.norm(u,axis=0)\n",
    "plt.imshow(u_norm)\n",
    "plt.show()"
   ]
  },
  {
   "cell_type": "code",
   "execution_count": null,
   "outputs": [],
   "source": [],
   "metadata": {
    "collapsed": false
   }
  }
 ],
 "metadata": {
  "kernelspec": {
   "display_name": "Python 3",
   "language": "python",
   "name": "python3"
  },
  "language_info": {
   "codemirror_mode": {
    "name": "ipython",
    "version": 3
   },
   "file_extension": ".py",
   "mimetype": "text/x-python",
   "name": "python",
   "nbconvert_exporter": "python",
   "pygments_lexer": "ipython3",
   "version": "3.8.5"
  }
 },
 "nbformat": 4,
 "nbformat_minor": 4
}
