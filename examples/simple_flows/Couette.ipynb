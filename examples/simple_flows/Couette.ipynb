{
 "cells": [
  {
   "cell_type": "markdown",
   "metadata": {},
   "source": [
    "# Couette flow example\n",
    "This is an example of using the Couette flow\n",
    "A two dimensional Couette flow is initialized and simulated. Afterwards the energy and the velocity field is plotted."
   ]
  },
  {
   "cell_type": "code",
   "metadata": {
    "ExecuteTime": {
     "end_time": "2024-08-06T10:43:19.074913Z",
     "start_time": "2024-08-06T10:43:18.138659Z"
    }
   },
   "source": [
    "import lettuce as lt\n",
    "import matplotlib.pyplot as plt\n",
    "import numpy as np"
   ],
   "outputs": [
    {
     "ename": "ImportError",
     "evalue": "cannot import name 'AntiBounceBackOutlet' from partially initialized module 'lettuce' (most likely due to a circular import) (/home/philipp/lettuce/lettuce/__init__.py)",
     "output_type": "error",
     "traceback": [
      "\u001B[0;31m---------------------------------------------------------------------------\u001B[0m",
      "\u001B[0;31mImportError\u001B[0m                               Traceback (most recent call last)",
      "Cell \u001B[0;32mIn[1], line 1\u001B[0m\n\u001B[0;32m----> 1\u001B[0m \u001B[38;5;28;01mimport\u001B[39;00m \u001B[38;5;21;01mlettuce\u001B[39;00m \u001B[38;5;28;01mas\u001B[39;00m \u001B[38;5;21;01mlt\u001B[39;00m\n\u001B[1;32m      2\u001B[0m \u001B[38;5;28;01mimport\u001B[39;00m \u001B[38;5;21;01mmatplotlib\u001B[39;00m\u001B[38;5;21;01m.\u001B[39;00m\u001B[38;5;21;01mpyplot\u001B[39;00m \u001B[38;5;28;01mas\u001B[39;00m \u001B[38;5;21;01mplt\u001B[39;00m\n\u001B[1;32m      3\u001B[0m \u001B[38;5;28;01mimport\u001B[39;00m \u001B[38;5;21;01mnumpy\u001B[39;00m \u001B[38;5;28;01mas\u001B[39;00m \u001B[38;5;21;01mnp\u001B[39;00m\n",
      "File \u001B[0;32m~/lettuce/lettuce/__init__.py:18\u001B[0m\n\u001B[1;32m     15\u001B[0m \u001B[38;5;28;01mfrom\u001B[39;00m \u001B[38;5;21;01m.\u001B[39;00m\u001B[38;5;21;01m_simulation\u001B[39;00m \u001B[38;5;28;01mimport\u001B[39;00m \u001B[38;5;241m*\u001B[39m\n\u001B[1;32m     17\u001B[0m \u001B[38;5;28;01mimport\u001B[39;00m \u001B[38;5;21;01mlettuce\u001B[39;00m\u001B[38;5;21;01m.\u001B[39;00m\u001B[38;5;21;01mutil\u001B[39;00m\n\u001B[0;32m---> 18\u001B[0m \u001B[38;5;28;01mimport\u001B[39;00m \u001B[38;5;21;01mlettuce\u001B[39;00m\u001B[38;5;21;01m.\u001B[39;00m\u001B[38;5;21;01mext\u001B[39;00m\n\u001B[1;32m     20\u001B[0m \u001B[38;5;28;01mfrom\u001B[39;00m \u001B[38;5;21;01mlettuce\u001B[39;00m\u001B[38;5;21;01m.\u001B[39;00m\u001B[38;5;21;01mutil\u001B[39;00m \u001B[38;5;28;01mimport\u001B[39;00m \u001B[38;5;241m*\u001B[39m\n\u001B[1;32m     21\u001B[0m \u001B[38;5;28;01mfrom\u001B[39;00m \u001B[38;5;21;01mlettuce\u001B[39;00m\u001B[38;5;21;01m.\u001B[39;00m\u001B[38;5;21;01mext\u001B[39;00m \u001B[38;5;28;01mimport\u001B[39;00m \u001B[38;5;241m*\u001B[39m\n",
      "File \u001B[0;32m~/lettuce/lettuce/ext/__init__.py:5\u001B[0m\n\u001B[1;32m      3\u001B[0m \u001B[38;5;28;01mfrom\u001B[39;00m \u001B[38;5;21;01m.\u001B[39;00m\u001B[38;5;21;01m_force\u001B[39;00m \u001B[38;5;28;01mimport\u001B[39;00m \u001B[38;5;241m*\u001B[39m\n\u001B[1;32m      4\u001B[0m \u001B[38;5;28;01mfrom\u001B[39;00m \u001B[38;5;21;01m.\u001B[39;00m\u001B[38;5;21;01m_collision\u001B[39;00m \u001B[38;5;28;01mimport\u001B[39;00m \u001B[38;5;241m*\u001B[39m\n\u001B[0;32m----> 5\u001B[0m \u001B[38;5;28;01mfrom\u001B[39;00m \u001B[38;5;21;01m.\u001B[39;00m\u001B[38;5;21;01m_boundary\u001B[39;00m \u001B[38;5;28;01mimport\u001B[39;00m \u001B[38;5;241m*\u001B[39m\n\u001B[1;32m      6\u001B[0m \u001B[38;5;28;01mfrom\u001B[39;00m \u001B[38;5;21;01m.\u001B[39;00m\u001B[38;5;21;01m_flows\u001B[39;00m \u001B[38;5;28;01mimport\u001B[39;00m \u001B[38;5;241m*\u001B[39m\n\u001B[1;32m      7\u001B[0m \u001B[38;5;28;01mfrom\u001B[39;00m \u001B[38;5;21;01m.\u001B[39;00m\u001B[38;5;21;01m_reporter\u001B[39;00m \u001B[38;5;28;01mimport\u001B[39;00m \u001B[38;5;241m*\u001B[39m\n",
      "File \u001B[0;32m~/lettuce/lettuce/ext/_boundary/__init__.py:4\u001B[0m\n\u001B[1;32m      2\u001B[0m \u001B[38;5;28;01mfrom\u001B[39;00m \u001B[38;5;21;01m.\u001B[39;00m\u001B[38;5;21;01mbounce_back_boundary\u001B[39;00m \u001B[38;5;28;01mimport\u001B[39;00m BounceBackBoundary\n\u001B[1;32m      3\u001B[0m \u001B[38;5;28;01mfrom\u001B[39;00m \u001B[38;5;21;01m.\u001B[39;00m\u001B[38;5;21;01mequilibrium_boundary_pu\u001B[39;00m \u001B[38;5;28;01mimport\u001B[39;00m EquilibriumBoundaryPU\n\u001B[0;32m----> 4\u001B[0m \u001B[38;5;28;01mfrom\u001B[39;00m \u001B[38;5;21;01m.\u001B[39;00m\u001B[38;5;21;01mequilibrium_outlet_p\u001B[39;00m \u001B[38;5;28;01mimport\u001B[39;00m EquilibriumOutletP\n\u001B[1;32m      6\u001B[0m __all__ \u001B[38;5;241m=\u001B[39m [\n\u001B[1;32m      7\u001B[0m     \u001B[38;5;124m'\u001B[39m\u001B[38;5;124mAntiBounceBackOutlet\u001B[39m\u001B[38;5;124m'\u001B[39m,\n\u001B[1;32m      8\u001B[0m     \u001B[38;5;124m'\u001B[39m\u001B[38;5;124mBounceBackBoundary\u001B[39m\u001B[38;5;124m'\u001B[39m,\n\u001B[1;32m      9\u001B[0m     \u001B[38;5;124m'\u001B[39m\u001B[38;5;124mEquilibriumBoundaryPU\u001B[39m\u001B[38;5;124m'\u001B[39m,\n\u001B[1;32m     10\u001B[0m     \u001B[38;5;124m'\u001B[39m\u001B[38;5;124mEquilibriumOutletP\u001B[39m\u001B[38;5;124m'\u001B[39m\n\u001B[1;32m     11\u001B[0m ]\n",
      "File \u001B[0;32m~/lettuce/lettuce/ext/_boundary/equilibrium_outlet_p.py:8\u001B[0m\n\u001B[1;32m      4\u001B[0m \u001B[38;5;28;01mimport\u001B[39;00m \u001B[38;5;21;01mtorch\u001B[39;00m\n\u001B[1;32m      6\u001B[0m __all__ \u001B[38;5;241m=\u001B[39m [\u001B[38;5;124m'\u001B[39m\u001B[38;5;124mEquilibriumOutletP\u001B[39m\u001B[38;5;124m'\u001B[39m]\n\u001B[0;32m----> 8\u001B[0m \u001B[38;5;28;01mfrom\u001B[39;00m \u001B[38;5;21;01m.\u001B[39;00m\u001B[38;5;21;01m.\u001B[39;00m\u001B[38;5;21;01m.\u001B[39;00m \u001B[38;5;28;01mimport\u001B[39;00m Flow, Context, AntiBounceBackOutlet\n\u001B[1;32m     11\u001B[0m \u001B[38;5;28;01mclass\u001B[39;00m \u001B[38;5;21;01mEquilibriumOutletP\u001B[39;00m(AntiBounceBackOutlet):\n\u001B[1;32m     12\u001B[0m \u001B[38;5;250m    \u001B[39m\u001B[38;5;124;03m\"\"\"Equilibrium outlet with constant pressure.\u001B[39;00m\n\u001B[1;32m     13\u001B[0m \u001B[38;5;124;03m    \"\"\"\u001B[39;00m\n",
      "\u001B[0;31mImportError\u001B[0m: cannot import name 'AntiBounceBackOutlet' from partially initialized module 'lettuce' (most likely due to a circular import) (/home/philipp/lettuce/lettuce/__init__.py)"
     ]
    }
   ],
   "execution_count": 1
  },
  {
   "cell_type": "markdown",
   "metadata": {},
   "source": [
    "## Setup\n",
    "* for running on GPU: device = \"cuda\". CUDA drivers are required!\n",
    "* dtype=torch.float32 for single precision - float64 for double precision\n",
    "* select collision model (here BGKCollision) - try also KBCCollision or RegularizedCollision\n",
    "\n",
    "### Code:\n",
    "* Reporters will grab the results in between simulation steps (see reporters.py and simulation.py)\n",
    "* Output: Column 1: simulation steps, Column 2: time in LU, Column 3: kinetic energy in PU\n",
    "* Output: separate VTK-file with ux,uy,(uz) and p for every 100. time step in ./output"
   ]
  },
  {
   "cell_type": "code",
   "metadata": {
    "ExecuteTime": {
     "end_time": "2024-08-06T10:43:20.029417Z",
     "start_time": "2024-08-06T10:43:20.013929Z"
    }
   },
   "source": [
    "nmax     = 200000\n",
    "nconsole = 1000\n",
    "nreport  = 100\n",
    "epsilon  = 0.001 # convergence condition: .1 % relative change\n",
    "\n",
    "context = lt.Context()\n",
    "flow = lt.CouetteFlow2D(resolution=16, reynolds_number=100, mach_number=0.1,\n",
    "                        context=context)\n",
    "collision = lt.BGKCollision(tau=flow.units.relaxation_parameter_lu)\n",
    "simulation = lt.Simulation(flow=flow, collision=collision, reporter=[])\n",
    "\n",
    "Energy = lt.IncompressibleKineticEnergy(flow)\n",
    "energy_reporter_internal = lt.ObservableReporter(Energy, interval=nreport, out=None)\n",
    "simulation.reporter.append(energy_reporter_internal)\n",
    "simulation.reporter.append(lt.ObservableReporter(Energy, interval=nconsole)) # print energy\n",
    "simulation.reporter.append(lt.VTKReporter(interval=nreport, filename_base=\"./data/couette\"))"
   ],
   "outputs": [
    {
     "ename": "NameError",
     "evalue": "name 'lt' is not defined",
     "output_type": "error",
     "traceback": [
      "\u001B[0;31m---------------------------------------------------------------------------\u001B[0m",
      "\u001B[0;31mNameError\u001B[0m                                 Traceback (most recent call last)",
      "Cell \u001B[0;32mIn[2], line 6\u001B[0m\n\u001B[1;32m      3\u001B[0m nreport  \u001B[38;5;241m=\u001B[39m \u001B[38;5;241m100\u001B[39m\n\u001B[1;32m      4\u001B[0m epsilon  \u001B[38;5;241m=\u001B[39m \u001B[38;5;241m0.001\u001B[39m \u001B[38;5;66;03m# convergence condition: .1 % relative change\u001B[39;00m\n\u001B[0;32m----> 6\u001B[0m context \u001B[38;5;241m=\u001B[39m \u001B[43mlt\u001B[49m\u001B[38;5;241m.\u001B[39mContext(device \u001B[38;5;241m=\u001B[39m torch\u001B[38;5;241m.\u001B[39mdevice(\u001B[38;5;124m\"\u001B[39m\u001B[38;5;124mcuda\u001B[39m\u001B[38;5;124m\"\u001B[39m), dtype\u001B[38;5;241m=\u001B[39mtorch\n\u001B[1;32m      7\u001B[0m                    \u001B[38;5;241m.\u001B[39mfloat64, use_native\u001B[38;5;241m=\u001B[39m\u001B[38;5;28;01mFalse\u001B[39;00m)\n\u001B[1;32m      8\u001B[0m flow \u001B[38;5;241m=\u001B[39m lt\u001B[38;5;241m.\u001B[39mCouetteFlow2D(resolution\u001B[38;5;241m=\u001B[39m\u001B[38;5;241m16\u001B[39m, reynolds_number\u001B[38;5;241m=\u001B[39m\u001B[38;5;241m100\u001B[39m, mach_number\u001B[38;5;241m=\u001B[39m\u001B[38;5;241m0.1\u001B[39m,\n\u001B[1;32m      9\u001B[0m                         context\u001B[38;5;241m=\u001B[39mcontext)\n\u001B[1;32m     10\u001B[0m collision \u001B[38;5;241m=\u001B[39m lt\u001B[38;5;241m.\u001B[39mBGKCollision(tau\u001B[38;5;241m=\u001B[39mflow\u001B[38;5;241m.\u001B[39munits\u001B[38;5;241m.\u001B[39mrelaxation_parameter_lu)\n",
      "\u001B[0;31mNameError\u001B[0m: name 'lt' is not defined"
     ]
    }
   ],
   "execution_count": 2
  },
  {
   "cell_type": "markdown",
   "metadata": {},
   "source": [
    "## Run simulation"
   ]
  },
  {
   "cell_type": "code",
   "metadata": {
    "ExecuteTime": {
     "end_time": "2024-08-06T10:43:21.440235Z",
     "start_time": "2024-08-06T10:43:21.429288Z"
    }
   },
   "source": [
    "energy_new = 0\n",
    "mlups = 0\n",
    "iterations = int(nmax//nconsole)\n",
    "for _ in range(iterations):\n",
    "    energy_old = energy_new\n",
    "    energy_new = Energy(flow.f).mean()\n",
    "    mlups += simulation(nconsole)\n",
    "    if abs((energy_new - energy_old)/energy_new) < epsilon:\n",
    "        print(\"CONVERGENCE! Less than \", epsilon*100, \" % relative change\")\n",
    "        break\n",
    "print(\"avg MLUPS: \", mlups/iterations)"
   ],
   "outputs": [
    {
     "ename": "NameError",
     "evalue": "name 'Energy' is not defined",
     "output_type": "error",
     "traceback": [
      "\u001B[0;31m---------------------------------------------------------------------------\u001B[0m",
      "\u001B[0;31mNameError\u001B[0m                                 Traceback (most recent call last)",
      "Cell \u001B[0;32mIn[3], line 6\u001B[0m\n\u001B[1;32m      4\u001B[0m \u001B[38;5;28;01mfor\u001B[39;00m _ \u001B[38;5;129;01min\u001B[39;00m \u001B[38;5;28mrange\u001B[39m(iterations):\n\u001B[1;32m      5\u001B[0m     energy_old \u001B[38;5;241m=\u001B[39m energy_new\n\u001B[0;32m----> 6\u001B[0m     energy_new \u001B[38;5;241m=\u001B[39m \u001B[43mEnergy\u001B[49m(flow\u001B[38;5;241m.\u001B[39mf)\u001B[38;5;241m.\u001B[39mmean()\n\u001B[1;32m      7\u001B[0m     mlups \u001B[38;5;241m+\u001B[39m\u001B[38;5;241m=\u001B[39m simulation(nconsole)\n\u001B[1;32m      8\u001B[0m     \u001B[38;5;28;01mif\u001B[39;00m \u001B[38;5;28mabs\u001B[39m((energy_new \u001B[38;5;241m-\u001B[39m energy_old)\u001B[38;5;241m/\u001B[39menergy_new) \u001B[38;5;241m<\u001B[39m epsilon:\n",
      "\u001B[0;31mNameError\u001B[0m: name 'Energy' is not defined"
     ]
    }
   ],
   "execution_count": 3
  },
  {
   "cell_type": "markdown",
   "metadata": {},
   "source": [
    "## Post process\n",
    "### Energy Reporter\n",
    "* Grab output of kinetic energy reporter"
   ]
  },
  {
   "cell_type": "code",
   "metadata": {
    "ExecuteTime": {
     "end_time": "2024-08-06T09:40:27.925430Z",
     "start_time": "2024-08-06T09:40:27.909452Z"
    }
   },
   "source": [
    "energy = np.array(simulation.reporter[0].out)\n",
    "print(energy.shape)\n",
    "plt.plot(energy[:,1],energy[:,2])\n",
    "plt.title('Kinetic energy')\n",
    "plt.xlabel('Time')\n",
    "plt.ylabel('Energy in physical units')\n",
    "plt.show()"
   ],
   "outputs": [
    {
     "ename": "NameError",
     "evalue": "name 'np' is not defined",
     "output_type": "error",
     "traceback": [
      "\u001B[0;31m---------------------------------------------------------------------------\u001B[0m",
      "\u001B[0;31mNameError\u001B[0m                                 Traceback (most recent call last)",
      "Cell \u001B[0;32mIn[4], line 1\u001B[0m\n\u001B[0;32m----> 1\u001B[0m energy \u001B[38;5;241m=\u001B[39m \u001B[43mnp\u001B[49m\u001B[38;5;241m.\u001B[39marray(simulation\u001B[38;5;241m.\u001B[39mreporter[\u001B[38;5;241m0\u001B[39m]\u001B[38;5;241m.\u001B[39mout)\n\u001B[1;32m      2\u001B[0m \u001B[38;5;28mprint\u001B[39m(energy\u001B[38;5;241m.\u001B[39mshape)\n\u001B[1;32m      3\u001B[0m plt\u001B[38;5;241m.\u001B[39mplot(energy[:,\u001B[38;5;241m1\u001B[39m],energy[:,\u001B[38;5;241m2\u001B[39m])\n",
      "\u001B[0;31mNameError\u001B[0m: name 'np' is not defined"
     ]
    }
   ],
   "execution_count": 4
  },
  {
   "cell_type": "markdown",
   "metadata": {},
   "source": [
    "### Velocity\n",
    "We calculate the speed in Lettuce units depending on the last 'f'. Then we convert this velocity into physical units. For further investigations the tensor must be converted into a Numpy-Array. The norm of the fractions in x and y direction is plotted afterwards."
   ]
  },
  {
   "cell_type": "code",
   "metadata": {
    "ExecuteTime": {
     "end_time": "2024-08-06T09:40:28.813079Z",
     "start_time": "2024-08-06T09:40:28.799479Z"
    }
   },
   "source": [
    "u_x = context.convert_to_ndarray(flow.u_pu)[0]\n",
    "plt.imshow(u_x.transpose())\n",
    "plt.colorbar()\n",
    "plt.show()"
   ],
   "outputs": [
    {
     "ename": "NameError",
     "evalue": "name 'context' is not defined",
     "output_type": "error",
     "traceback": [
      "\u001B[0;31m---------------------------------------------------------------------------\u001B[0m",
      "\u001B[0;31mNameError\u001B[0m                                 Traceback (most recent call last)",
      "Cell \u001B[0;32mIn[5], line 1\u001B[0m\n\u001B[0;32m----> 1\u001B[0m u_x \u001B[38;5;241m=\u001B[39m \u001B[43mcontext\u001B[49m\u001B[38;5;241m.\u001B[39mconvert_to_ndarray(flow\u001B[38;5;241m.\u001B[39mu_pu)[\u001B[38;5;241m0\u001B[39m]\n\u001B[1;32m      2\u001B[0m plt\u001B[38;5;241m.\u001B[39mimshow(u_x\u001B[38;5;241m.\u001B[39mtranspose())\n\u001B[1;32m      3\u001B[0m plt\u001B[38;5;241m.\u001B[39mcolorbar()\n",
      "\u001B[0;31mNameError\u001B[0m: name 'context' is not defined"
     ]
    }
   ],
   "execution_count": 5
  },
  {
   "metadata": {},
   "cell_type": "code",
   "outputs": [],
   "execution_count": null,
   "source": ""
  }
 ],
 "metadata": {
  "kernelspec": {
   "display_name": "Python 3 (ipykernel)",
   "language": "python",
   "name": "python3"
  },
  "language_info": {
   "codemirror_mode": {
    "name": "ipython",
    "version": 3
   },
   "file_extension": ".py",
   "mimetype": "text/x-python",
   "name": "python",
   "nbconvert_exporter": "python",
   "pygments_lexer": "ipython3",
   "version": "3.10.10"
  }
 },
 "nbformat": 4,
 "nbformat_minor": 4
}
