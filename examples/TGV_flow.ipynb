{
 "cells": [
  {
   "cell_type": "code",
   "execution_count": 1,
   "metadata": {
    "collapsed": true,
    "ExecuteTime": {
     "end_time": "2024-08-02T14:04:03.486088400Z",
     "start_time": "2024-08-02T14:04:02.541413888Z"
    }
   },
   "outputs": [],
   "source": [
    "import lettuce as lt\n",
    "import matplotlib.pyplot as plt\n",
    "import numpy as np\n",
    "import torch\n",
    "import os\n",
    "import csv\n",
    "from argparse import ArgumentParser, ArgumentDefaultsHelpFormatter"
   ]
  },
  {
   "cell_type": "code",
   "execution_count": 8,
   "outputs": [
    {
     "name": "stdout",
     "output_type": "stream",
     "text": [
      "ICH FUNKTIONIERE MIT PULLEN\n",
      "BGK\n",
      "12.1\n"
     ]
    }
   ],
   "source": [
    "parser = ArgumentParser(formatter_class=ArgumentDefaultsHelpFormatter)\n",
    "parser.add_argument(\"--vtkdir\", type=str, help=\"name base of vtk files - they are usually in a vtk-subdirectory!\", default=\"./output/\")\n",
    "parser.add_argument(\"--csvdir\", type=str, default=\"./output/\")\n",
    "parser.add_argument(\"--resolution\", type=int, default=32)\n",
    "parser.add_argument(\"--nout\", type=int, default=100)\n",
    "parser.add_argument(\"--nvtk\", type=int, default=200)\n",
    "parser.add_argument(\"--tmax\", type=int, default=10)\n",
    "parser.add_argument(\"--Re\", type=int, default=100)\n",
    "parser.add_argument(\"--collision_operator\", type=str, default=\"BGK\")\n",
    "parser.add_argument(\"--Precision\", type=str, default=\"single\")\n",
    "args, unknown = parser.parse_known_args()\n",
    "args = vars(args)\n",
    "print(\"ICH FUNKTIONIERE MIT PULLEN\")\n",
    "Re=args[\"Re\"]\n",
    "basedir = args[\"vtkdir\"]\n",
    "csvdir = args[\"csvdir\"]\n",
    "res = args[\"resolution\"]\n",
    "nout = args[\"nout\"]\n",
    "nvtk = args[\"nvtk\"]\n",
    "tmax = args[\"tmax\"]\n",
    "Precision= args[\"Precision\"]\n",
    "collision_operator = args[\"collision_operator\"]\n",
    "print(collision_operator)\n",
    "print(torch.version.cuda)"
   ],
   "metadata": {
    "collapsed": false,
    "ExecuteTime": {
     "end_time": "2024-08-02T14:06:52.995610711Z",
     "start_time": "2024-08-02T14:06:52.983395704Z"
    }
   }
  },
  {
   "cell_type": "code",
   "execution_count": 3,
   "outputs": [
    {
     "name": "stdout",
     "output_type": "stream",
     "text": [
      "1764.2524653497344\n",
      "0.5044106311633744\n"
     ]
    }
   ],
   "source": [
    "lattice = lt.Lattice(lt.D3Q27, device = \"cuda\", dtype=torch.float32 if Precision == \"single\" else torch.float64)\n",
    "flow = lt.TaylorGreenVortex3D(resolution=res, reynolds_number=Re, mach_number=0.05, lattice=lattice)\n",
    "print(flow.units.convert_time_to_lu(tmax))\n",
    "\n",
    "\n",
    "# Konstruktion des Funktionsnamens\n",
    "function_name = f\"{collision_operator}Collision\"\n",
    "\n",
    "# Überprüfung, ob die Funktion existiert, und deren Aufruf\n",
    "#if hasattr(lt, function_name):\n",
    "#    collision = getattr(lt, function_name)(lattice, tau=flow.units.relaxation_parameter_lu)\n",
    "#    print(collision_operator)\n",
    "#else:\n",
    "#    print(\":(((\")\n",
    "#    raise ValueError(f\"Collision type {collision_operator} is not supported.\")\n",
    "if collision_operator == \"BGK\":\n",
    "    collision=lt.BGKCollision(lattice, tau=flow.units.relaxation_parameter_lu)\n",
    "elif collision_operator == \"KBC\":\n",
    "    collision=lt.KBCCollision3D(lattice, tau=flow.units.relaxation_parameter_lu)\n",
    "#collision = lt.BGKCollision(lattice, tau=flow.units.relaxation_parameter_lu)\n",
    "#collision=collision_type(lattice, tau=flow.units.relaxation_parameter_lu)\n",
    "print(flow.units.relaxation_parameter_lu)\n",
    "streaming = lt.StandardStreaming(lattice)\n",
    "simulation = lt.Simulation(flow=flow, lattice=lattice, collision=collision, streaming=streaming)\n"
   ],
   "metadata": {
    "collapsed": false,
    "ExecuteTime": {
     "end_time": "2024-08-02T14:04:03.708919600Z",
     "start_time": "2024-08-02T14:04:03.494344708Z"
    }
   }
  },
  {
   "cell_type": "code",
   "execution_count": 4,
   "outputs": [
    {
     "name": "stdout",
     "output_type": "stream",
     "text": [
      "steps     time     IncompressibleKineticEnergy\n",
      "steps     time     Dissipation_sij\n",
      "steps     time     Enstrophy\n",
      "1764\n"
     ]
    }
   ],
   "source": [
    "interval_vtk=int((flow.units.convert_time_to_lu(tmax))/20)\n",
    "interval_out=int((flow.units.convert_time_to_lu(tmax))/500)\n",
    "Energy = lt.IncompressibleKineticEnergy(lattice, flow)\n",
    "Dissipation_TGV=lt.Dissipation_sij(lattice, flow)\n",
    "Enstrophy=lt.Enstrophy(lattice, flow)\n",
    "\n",
    "reporter = lt.ObservableReporter(Energy, interval=interval_out, out=None)\n",
    "reporter2 = lt.ObservableReporter(Dissipation_TGV,interval = interval_out, out=None)\n",
    "reporter3= lt.ObservableReporter(Enstrophy, interval=interval_out, out=None)\n",
    "simulation.reporters.append(reporter)\n",
    "simulation.reporters.append(reporter2)\n",
    "simulation.reporters.append(reporter3)\n",
    "simulation.reporters.append(lt.VTKReporter(lattice, flow, interval=interval_vtk, filename_base=basedir+\"out\"))\n",
    "\n",
    "steps = int(flow.units.convert_time_to_lu(tmax))\n",
    "print(steps)\n",
    "#simulation.reporters.append(lt.VTKReporter(lattice, flow, interval=interval_vtk, filename_base=basedir+\"out\"))"
   ],
   "metadata": {
    "collapsed": false,
    "ExecuteTime": {
     "end_time": "2024-08-02T14:04:03.733491077Z",
     "start_time": "2024-08-02T14:04:03.712673970Z"
    }
   }
  },
  {
   "cell_type": "code",
   "execution_count": 5,
   "outputs": [
    {
     "name": "stdout",
     "output_type": "stream",
     "text": [
      "Performance in MLUPS: 13.540645754782028\n",
      "1764\n"
     ]
    }
   ],
   "source": [
    "simulation.initialize_f_neq()\n",
    "steps = int(flow.units.convert_time_to_lu(tmax))\n",
    "mlups = simulation.step(num_steps=steps)\n",
    "print(\"Performance in MLUPS:\", mlups)\n",
    "print(steps)"
   ],
   "metadata": {
    "collapsed": false,
    "ExecuteTime": {
     "end_time": "2024-08-02T14:04:08.015789322Z",
     "start_time": "2024-08-02T14:04:03.716775598Z"
    }
   }
  },
  {
   "cell_type": "code",
   "execution_count": 6,
   "outputs": [],
   "source": [
    "energy = np.array(simulation.reporters[0].out)\n",
    "dissipation = np.array(simulation.reporters[1].out)\n",
    "enstrophy=np.array(simulation.reporters[2].out)\n",
    "\n",
    "dEdt=np.zeros(len(energy[:,2]))\n",
    "dt=energy[1,1]-energy[0,1]\n",
    "nmax=len(energy[:,2])\n",
    "for i in range(len(energy[:,2])):\n",
    "    if i == 0:\n",
    "        dEdt[i] = (energy[1,2] - energy[0,2]) / dt\n",
    "    elif i == 1:\n",
    "        dEdt[i] = (energy[2,2] - energy[0,2]) / 2/dt\n",
    "    elif i == 2:\n",
    "        dEdt[i] = (1/12*energy[0,2] - 2/3*energy[1,2] + 2/3*energy[3,2] - 1/12*energy[4,2]) / dt\n",
    "    elif i >= (nmax-3):\n",
    "        if i == (nmax-3):\n",
    "            dEdt[i] = (1/12*energy[nmax-5,2] - 2/3*energy[nmax-4,2] + 2/3*energy[nmax-2,2] - 1/12*energy[nmax-1,2]) / dt\n",
    "        elif i == (nmax-2):\n",
    "            dEdt[i] = (energy[nmax-1,2] - energy[nmax-3,2]) /2/ dt\n",
    "        elif i == (nmax-1):\n",
    "            dEdt[i] = (energy[nmax-1,2] - energy[nmax-2,2]) /dt\n",
    "    elif i < (nmax-3):\n",
    "        dEdt[i] = (-1/60*energy[i-3,2] + 3/20*energy[i-2,2] - 3/4*energy[i-1,2] + 3/4*energy[i+1,2] - 3/20*energy[i+2,2] + 1/60*energy[i+3,2]) / dt\n",
    "dissipationEkin=np.array([energy[:,1],-dEdt/(np.pi*2)**3])\n",
    "dissipationEns=np.array([enstrophy[:,1],flow.units.viscosity_pu/(np.pi*2)**3*enstrophy[:,2]])\n",
    "dissipationSij=np.array([dissipation[:,1],dissipation[:,2]])\n",
    "\n",
    "with open(csvdir + 'DissipationEkin.csv', 'w', newline='') as file:\n",
    "    writer = csv.writer(file)\n",
    "    writer.writerows(dissipationEkin)\n",
    "with open(csvdir + 'DissipationEnstrophy.csv', 'w', newline='') as file:\n",
    "    writer = csv.writer(file)\n",
    "    writer.writerows(dissipationEns)\n",
    "with open(csvdir + 'DissipationSij.csv', 'w', newline='') as file:\n",
    "    writer = csv.writer(file)\n",
    "    writer.writerows(dissipationSij)\n",
    "\n",
    "\n"
   ],
   "metadata": {
    "collapsed": false,
    "ExecuteTime": {
     "end_time": "2024-08-02T14:04:08.026324262Z",
     "start_time": "2024-08-02T14:04:08.022812903Z"
    }
   }
  },
  {
   "cell_type": "code",
   "execution_count": 7,
   "outputs": [
    {
     "name": "stdout",
     "output_type": "stream",
     "text": [
      "[31.00628471 30.98639107 30.94498253 30.91911125 30.88499451 30.85321999\n",
      " 30.82380867 30.78773308 30.76244354 30.72320747 30.69869614 30.66157532\n",
      " 30.63340378 30.60015297 30.56850433 30.53855896 30.50340462 30.47651863\n",
      " 30.43986702 30.41239166 30.3779068  30.34773254 30.31541634 30.28336906\n",
      " 30.25289154 30.2190361  30.1899929  30.15550041 30.12590027 30.09221458\n",
      " 30.06160355 30.02903175 29.99707222 29.96612358 29.93233871 29.90231133\n",
      " 29.86834335 29.83767891 29.80460167 29.77292824 29.74061394 29.70789909\n",
      " 29.67635536 29.64299011 29.61155128 29.57826996 29.54645348 29.51323509\n",
      " 29.48105049 29.44809532 29.41518021 29.38288689 29.34935379 29.31719971\n",
      " 29.28347778 29.25091934 29.21734047 29.18430519 29.15116119 29.11753654\n",
      " 29.08451271 29.05057907 29.01729774 28.98337555 28.94992065 28.91592979\n",
      " 28.88215446 28.8481102  28.81390953 28.77993584 28.74548531 28.7114563\n",
      " 28.67677116 28.64248657 28.60769653 28.57300186 28.53827477 28.50323296\n",
      " 28.46842957 28.43320274 28.39814377 28.36272049 28.32736778 28.29180145\n",
      " 28.25620842 28.22053528 28.18466949 28.14876175 28.1125946  28.07652283\n",
      " 28.04015541 28.0038929  27.9673481  27.93070602 27.89395332 27.85700226\n",
      " 27.82009697 27.78295898 27.74582481 27.70843887 27.67096519 27.63333893\n",
      " 27.5955925  27.55776215 27.51979256 27.48172379 27.44345856 27.40511513\n",
      " 27.36657143 27.32797241 27.28921318 27.25034332 27.21133995 27.17214584\n",
      " 27.13285255 27.09337425 27.05384827 27.01416397 26.97436333 26.93439102\n",
      " 26.89424133 26.85396767 26.81355476 26.77305031 26.7324028  26.69161987\n",
      " 26.65066338 26.60956573 26.56831932 26.52696037 26.48547745 26.4438343\n",
      " 26.40205956 26.36010361 26.3180275  26.27581215 26.23347664 26.19101143\n",
      " 26.148386   26.10560989 26.06266594 26.0195961  25.97639847 25.93309021\n",
      " 25.88964653 25.84606171 25.80230331 25.75839424 25.71435356 25.67019844\n",
      " 25.62592316 25.5814991  25.53693199 25.49221039 25.44735527 25.4023838\n",
      " 25.35729027 25.31206703 25.26669121 25.22117043 25.17551231 25.12973404\n",
      " 25.08384132 25.03783607 24.9916935  24.94540977 24.89898109 24.85242081\n",
      " 24.80574226 24.758955   24.71205521 24.66502953 24.61786652 24.57057762\n",
      " 24.52316093 24.47564125 24.42800522 24.38026237 24.33238602 24.28438568\n",
      " 24.23626137 24.18803978 24.1397171  24.09129143 24.0427494  23.99407578\n",
      " 23.94528389 23.89637947 23.84738731 23.79829979 23.74912071 23.69983101\n",
      " 23.65042305 23.60090065 23.55127907 23.50156975 23.4517746  23.40188026\n",
      " 23.35188293 23.30177498 23.25157738 23.20129967 23.15093231 23.10047913\n",
      " 23.04993057 22.99927711 22.94853401 22.89771271 22.84681511 22.79585075\n",
      " 22.74480438 22.69366264 22.64243317 22.59111214 22.53971863 22.48826218\n",
      " 22.43673325 22.38513184 22.33344841 22.28168869 22.22985458 22.17795753\n",
      " 22.12599754 22.0739727  22.02187538 21.96970749 21.91747093 21.86517334\n",
      " 21.81282806 21.76043129 21.70796394 21.65542984 21.60283089 21.55017662\n",
      " 21.49747276 21.44472694 21.39193344 21.33908463 21.28617859 21.23321724\n",
      " 21.18020439 21.12714958 21.07405281 21.02091789 20.96772957 20.91449738\n",
      " 20.8612175  20.80790901 20.75456238 20.70118332 20.64775848 20.59429169\n",
      " 20.54077911 20.48724365 20.43367958 20.38009262 20.32647705 20.27283287\n",
      " 20.21914864 20.16543198 20.11169052 20.05793381 20.00415611 19.95035362\n",
      " 19.89652634 19.84267807 19.78881264 19.73493004 19.68103027 19.62711525\n",
      " 19.57317924 19.51922989 19.465271   19.41129875 19.35732079 19.30334282\n",
      " 19.24935722 19.19536018 19.14134407 19.08732414 19.03330421 18.97929573\n",
      " 18.92528915 18.87128067 18.81727028 18.76325226 18.70924187 18.65524101\n",
      " 18.60124779 18.5472641  18.49328423 18.43931389 18.38534927 18.33140755\n",
      " 18.27748299 18.22357368 18.16967201 18.11578178 18.06191444 18.00806618\n",
      " 17.95424461 17.90044785 17.84667397 17.79292488 17.73919678 17.68549538\n",
      " 17.63181877 17.57817268 17.52456474 17.47098923 17.41744614 17.36393738\n",
      " 17.31045723 17.25701904 17.203619   17.15026474 17.09694481 17.04366112\n",
      " 16.99041939 16.93722534 16.8840847  16.83099556 16.77795792 16.72495079\n",
      " 16.67199707 16.61909103 16.56624603 16.51346016 16.46073151 16.40805817\n",
      " 16.35543633 16.30287552 16.25037575 16.19794083 16.14556503 16.09325027\n",
      " 16.04100609 15.9888258  15.93671227 15.8846674  15.83269691 15.78079605\n",
      " 15.72896767 15.67720699 15.62552261 15.57391071 15.52237606 15.47092533\n",
      " 15.41955566 15.36826229 15.31704712 15.26590919 15.21485615 15.16388512\n",
      " 15.11300373 15.06221104 15.01150417 14.96088123 14.91035461 14.85991478\n",
      " 14.80957031 14.75931644 14.70915508 14.65908337 14.60910797 14.55922699\n",
      " 14.50945377 14.45977306 14.41019249 14.36070919 14.31132317 14.26203918\n",
      " 14.21285725 14.16377831 14.11480904 14.06594372 14.01718235 13.96852207\n",
      " 13.91997242 13.87153435 13.82320309 13.77497864 13.72686386 13.67886162\n",
      " 13.63097095 13.58319664 13.53553486 13.48798466 13.44054794 13.39322662\n",
      " 13.34602356 13.29892731 13.25195408 13.20510006 13.15837002 13.11175728\n",
      " 13.06526279 13.01888084 12.97261906 12.92648029 12.88046837 12.83457947\n",
      " 12.78881073 12.74316311 12.6976366  12.65223598 12.60696602 12.5618248\n",
      " 12.51680279 12.47189808 12.42712116 12.38247108 12.33795452 12.29356861\n",
      " 12.24931049 12.20517349 12.16116714 12.11728859 12.07353878 12.02992058\n",
      " 11.98643017 11.94307232 11.89984894 11.85675144 11.81378555 11.77095032\n",
      " 11.72824383 11.68567276 11.64323521 11.60092926 11.55875587 11.51671124\n",
      " 11.47480392 11.43303299 11.39139366 11.34988689 11.30850697 11.26726055\n",
      " 11.22614765 11.18517876 11.14434624 11.10364628 11.06307411 11.02263451\n",
      " 10.98233318 10.94216919 10.90213585 10.86223888 10.82247257 10.78284264\n",
      " 10.74334621 10.70398998 10.66476536 10.6256752  10.58671665 10.54789448\n",
      " 10.50920486 10.47065067 10.43223572 10.39395332 10.35580635 10.31779671\n",
      " 10.27991867 10.24217319 10.20455837 10.16707897 10.12973785 10.09253216\n",
      " 10.05545998 10.01851845  9.98170853  9.94503593  9.90849876  9.87209511\n",
      "  9.83582401  9.79968357  9.7636776   9.72780418  9.69206238  9.65645885\n",
      "  9.62098408  9.58564091  9.55042744  9.51534653  9.48040009  9.44558334\n",
      "  9.41089821  9.37634563  9.34192085  9.30762672  9.27346039  9.23942566\n",
      "  9.20552063  9.17174911  9.13810539  9.10458755  9.07119942  9.03794193\n",
      "  9.00481415  8.97181511  8.93894196  8.90619469  8.87357426  8.84107971\n",
      "  8.80871391  8.77647781  8.74436855  8.71238422  8.68052197  8.6487875\n",
      "  8.6171751   8.58568954  8.55432892  8.52309227  8.49198055  8.46099567\n",
      "  8.43012905  8.3993845   8.36876202  8.33826733  8.30789375  8.27763844\n",
      "  8.24750423  8.21749115  8.18759823  8.15783215  8.12818623  8.09865475\n",
      "  8.06924343  8.03994846  8.01077557  7.98172283  7.95278692  7.92397022\n",
      "  7.89526415  7.86667728  7.83820724  7.80985355  7.7816143   7.75349236\n",
      "  7.72548389  7.69759321  7.66981506  7.64215326  7.61460352  7.58716631\n",
      "  7.55984592  7.53263474  7.50553322  7.47854424  7.45166302  7.42489624\n",
      "  7.39824486  7.37170172  7.34526539  7.31893396  7.29271555  7.26660633\n",
      "  7.24061012  7.2147212   7.18893528  7.16325808  7.13768768  7.11222553\n",
      "  7.08686972  7.0616188   7.03647232  7.01142836  6.98649073  6.96165705\n",
      "  6.93692732  6.91230202  6.88777971  6.86335802  6.83904028  6.81482172\n",
      "  6.79070425  6.76669121  6.74277639  6.71896458  6.69525194  6.67163849\n",
      "  6.64812088  6.62470388  6.60138559  6.57816744  6.55504656  6.53201914\n",
      "  6.50908804]\n"
     ]
    },
    {
     "data": {
      "text/plain": "<Figure size 640x480 with 1 Axes>",
      "image/png": "[encoded data removed]"
     },
     "metadata": {},
     "output_type": "display_data"
    }
   ],
   "source": [
    "csv_file_path = '/home/ben/Schreibtisch/Enstropy Brachet/Brachet/Brachet_1983_tgv3d_enstrophy_Re100.csv'\n",
    "\n",
    "# Daten aus der CSV-Datei lesen\n",
    "csv_data = []\n",
    "with open(csv_file_path, 'r') as file:\n",
    "    csv_reader = csv.reader(file, delimiter=';')\n",
    "    for row in csv_reader:\n",
    "        csv_data.append(row)\n",
    "\n",
    "csv_data = np.array(csv_data, dtype=float)\n",
    "print(energy[:,2])\n",
    "plt.plot(dissipationEkin[0,:],dissipationEkin[1,:],color = 'blue')\n",
    "plt.plot(dissipationEns[0,:],dissipationEns[1,:], color = 'green')\n",
    "plt.xlim(0,10)\n",
    "plt.plot(dissipationSij[0,:],dissipationSij[1,:])\n",
    "plt.scatter(csv_data[:, 0], csv_data[:, 1], color='red', label='CSV Data')\n",
    "plt.title('Energy Dissipation')\n",
    "#plt.plot(energy[:,1],energy[:,2])\n",
    "plt.xlabel('Time')\n",
    "plt.ylabel('Energy Dissipation in physical units')\n",
    "plt.show()\n",
    "\n"
   ],
   "metadata": {
    "collapsed": false,
    "ExecuteTime": {
     "end_time": "2024-08-02T14:04:08.107441818Z",
     "start_time": "2024-08-02T14:04:08.029630127Z"
    }
   }
  },
  {
   "cell_type": "code",
   "execution_count": 7,
   "outputs": [],
   "source": [],
   "metadata": {
    "collapsed": false,
    "ExecuteTime": {
     "end_time": "2024-08-02T14:04:08.110712982Z",
     "start_time": "2024-08-02T14:04:08.109259557Z"
    }
   }
  },
  {
   "cell_type": "code",
   "execution_count": 7,
   "outputs": [],
   "source": [],
   "metadata": {
    "collapsed": false,
    "ExecuteTime": {
     "end_time": "2024-08-02T14:04:08.198510630Z",
     "start_time": "2024-08-02T14:04:08.153315432Z"
    }
   }
  }
 ],
 "metadata": {
  "kernelspec": {
   "display_name": "Python 3",
   "language": "python",
   "name": "python3"
  },
  "language_info": {
   "codemirror_mode": {
    "name": "ipython",
    "version": 2
   },
   "file_extension": ".py",
   "mimetype": "text/x-python",
   "name": "python",
   "nbconvert_exporter": "python",
   "pygments_lexer": "ipython2",
   "version": "2.7.6"
  }
 },
 "nbformat": 4,
 "nbformat_minor": 0
}
