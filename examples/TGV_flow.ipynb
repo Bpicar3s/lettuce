{
 "cells": [
  {
   "cell_type": "code",
   "execution_count": 1,
   "metadata": {
    "collapsed": true,
    "ExecuteTime": {
     "end_time": "2023-12-18T12:23:38.151112224Z",
     "start_time": "2023-12-18T12:23:34.480195715Z"
    }
   },
   "outputs": [],
   "source": [
    "import lettuce as lt\n",
    "import matplotlib.pyplot as plt\n",
    "import numpy as np\n",
    "import torch\n",
    "import os\n",
    "import csv\n",
    "from argparse import ArgumentParser, ArgumentDefaultsHelpFormatter"
   ]
  },
  {
   "cell_type": "code",
   "execution_count": 2,
   "outputs": [],
   "source": [
    "parser = ArgumentParser(formatter_class=ArgumentDefaultsHelpFormatter)\n",
    "parser.add_argument(\"--vtkdir\", type=str, help=\"name base of vtk files - they are usually in a vtk-subdirectory!\", default=\"./output/\")\n",
    "parser.add_argument(\"--csvdir\", type=str, default=\"./output/\")\n",
    "parser.add_argument(\"--resolution\", type=int, default=64)\n",
    "parser.add_argument(\"--nout\", type=int, default=10)\n",
    "parser.add_argument(\"--nvtk\", type=int, default=200)\n",
    "parser.add_argument(\"--tmax\", type=int, default=10)\n",
    "parser.add_argument(\"--Re\", type=int, default=800)\n",
    "args, unknown = parser.parse_known_args()\n",
    "args = vars(args)\n",
    "#args = vars(parser.parse_args())\n",
    "Re=args[\"Re\"]\n",
    "basedir = args[\"vtkdir\"]\n",
    "csvdir = args[\"csvdir\"]\n",
    "res = args[\"resolution\"]\n",
    "nout = args[\"nout\"]\n",
    "nvtk = args[\"nvtk\"]\n",
    "tmax = args[\"tmax\"]"
   ],
   "metadata": {
    "collapsed": false,
    "ExecuteTime": {
     "end_time": "2023-12-18T12:23:38.159071835Z",
     "start_time": "2023-12-18T12:23:38.127320499Z"
    }
   }
  },
  {
   "cell_type": "code",
   "execution_count": 3,
   "outputs": [],
   "source": [
    "lattice = lt.Lattice(lt.D3Q27, device = \"cpu\", dtype=torch.float64)\n",
    "flow = lt.TaylorGreenVortex3D(resolution=res, reynolds_number=Re, mach_number=0.05, lattice=lattice)\n",
    "collision = lt.BGKCollision(lattice, tau=flow.units.relaxation_parameter_lu)\n",
    "streaming = lt.StandardStreaming(lattice)\n",
    "simulation = lt.Simulation(flow=flow, lattice=lattice, collision=collision, streaming=streaming)"
   ],
   "metadata": {
    "collapsed": false,
    "ExecuteTime": {
     "end_time": "2023-12-18T12:23:38.462231096Z",
     "start_time": "2023-12-18T12:23:38.127732747Z"
    }
   }
  },
  {
   "cell_type": "code",
   "execution_count": 4,
   "outputs": [
    {
     "name": "stdout",
     "output_type": "stream",
     "text": [
      "steps     time     IncompressibleKineticEnergy\n",
      "steps     time     Dissipation_sij\n",
      "steps     time     Enstrophy\n",
      "3528\n"
     ]
    }
   ],
   "source": [
    "interval_vtk=1#int((flow.units.convert_time_to_lu(tmax))/200)\n",
    "interval_out=1#int((flow.units.convert_time_to_lu(tmax))/200)\n",
    "Energy = lt.IncompressibleKineticEnergy(lattice, flow)\n",
    "Dissipation_TGV=lt.Dissipation_sij(lattice, flow)\n",
    "Enstrophy=lt.Enstrophy(lattice, flow)\n",
    "\n",
    "reporter = lt.ObservableReporter(Energy, interval=interval_out, out=None)\n",
    "reporter2 = lt.ObservableReporter(Dissipation_TGV,interval = interval_out, out=None)\n",
    "reporter3= lt.ObservableReporter(Enstrophy, interval=interval_out, out=None)\n",
    "simulation.reporters.append(reporter)\n",
    "simulation.reporters.append(reporter2)\n",
    "simulation.reporters.append(reporter3)\n",
    "simulation.reporters.append(lt.VTKReporter(lattice, flow, interval=interval_vtk, filename_base=basedir+\"out\"))\n",
    "\n",
    "steps = int(flow.units.convert_time_to_lu(tmax))\n",
    "print(steps)\n",
    "#simulation.reporters.append(lt.VTKReporter(lattice, flow, interval=interval_vtk, filename_base=basedir+\"out\"))"
   ],
   "metadata": {
    "collapsed": false,
    "ExecuteTime": {
     "end_time": "2023-12-18T12:23:38.491104378Z",
     "start_time": "2023-12-18T12:23:38.463250657Z"
    }
   }
  },
  {
   "cell_type": "code",
   "execution_count": 5,
   "outputs": [
    {
     "name": "stdout",
     "output_type": "stream",
     "text": [
      "Performance in MLUPS: 0.5831761017277493\n",
      "10\n"
     ]
    }
   ],
   "source": [
    "simulation.initialize_f_neq()\n",
    "steps = int(flow.units.convert_time_to_lu(tmax))\n",
    "steps = 10\n",
    "mlups = simulation.step(num_steps=steps)\n",
    "print(\"Performance in MLUPS:\", mlups)\n",
    "print(steps)"
   ],
   "metadata": {
    "collapsed": false,
    "ExecuteTime": {
     "end_time": "2023-12-18T12:23:43.386699710Z",
     "start_time": "2023-12-18T12:23:38.467075537Z"
    }
   }
  },
  {
   "cell_type": "code",
   "execution_count": 6,
   "outputs": [],
   "source": [
    "energy = np.array(simulation.reporters[0].out)\n",
    "dissipation = np.array(simulation.reporters[1].out)\n",
    "enstrophy=np.array(simulation.reporters[2].out)\n",
    "\n",
    "dissipationEkin=np.array([energy[:,1],-1/(np.pi*2)**3*np.gradient(energy[:,2],energy[:,1])])\n",
    "dissipationEns=np.array([enstrophy[:,1],flow.units.viscosity_pu/(np.pi*2)**3*enstrophy[:,2]])\n",
    "dissipationSij=np.array([dissipation[:,1],dissipation[:,2]])\n",
    "\n",
    "with open(csvdir + 'DissipationEkin.csv', 'w', newline='') as file:\n",
    "    writer = csv.writer(file)\n",
    "    writer.writerows(dissipationEkin)\n",
    "with open(csvdir + 'DissipationEnstrophy.csv', 'w', newline='') as file:\n",
    "    writer = csv.writer(file)\n",
    "    writer.writerows(dissipationEns)\n",
    "with open(csvdir + 'DissipationSij.csv', 'w', newline='') as file:\n",
    "    writer = csv.writer(file)\n",
    "    writer.writerows(dissipationSij)\n",
    "\n",
    "\n"
   ],
   "metadata": {
    "collapsed": false,
    "ExecuteTime": {
     "end_time": "2023-12-18T12:23:43.395746762Z",
     "start_time": "2023-12-18T12:23:43.369282236Z"
    }
   }
  },
  {
   "cell_type": "code",
   "execution_count": 7,
   "outputs": [
    {
     "name": "stdout",
     "output_type": "stream",
     "text": [
      "[0.         0.00283406 0.00566812 0.00850218 0.01133625 0.01417031\n",
      " 0.01700437 0.01983843 0.02267249 0.02550655 0.02834062]\n"
     ]
    },
    {
     "data": {
      "text/plain": "<Figure size 640x480 with 1 Axes>",
      "image/png": "[encoded data removed]"
     },
     "metadata": {},
     "output_type": "display_data"
    }
   ],
   "source": [
    "csv_file_path = '/home/ben/Schreibtisch/Enstropy Brachet/Brachet/Brachet_1983_tgv3d_enstrophy_Re400.csv'\n",
    "\n",
    "# Daten aus der CSV-Datei lesen\n",
    "csv_data = []\n",
    "with open(csv_file_path, 'r') as file:\n",
    "    csv_reader = csv.reader(file, delimiter=';')\n",
    "    for row in csv_reader:\n",
    "        csv_data.append(row)\n",
    "\n",
    "csv_data = np.array(csv_data, dtype=float)\n",
    "print(dissipationEkin[0,:])\n",
    "plt.plot(dissipationEkin[0,:],dissipationEkin[1,:],color = 'blue')\n",
    "plt.plot(dissipationEns[0,:],dissipationEns[1,:], color = 'green')\n",
    "plt.xlim(0,10)\n",
    "plt.plot(dissipationSij[0,:],dissipationSij[1,:])\n",
    "plt.scatter(csv_data[:, 0], csv_data[:, 1], color='red', label='CSV Data')\n",
    "plt.title('Energy Dissipation')\n",
    "plt.xlabel('Time')\n",
    "plt.ylabel('Energy Dissipation in physical units')\n",
    "plt.show()"
   ],
   "metadata": {
    "collapsed": false,
    "ExecuteTime": {
     "end_time": "2023-12-18T12:23:43.646641978Z",
     "start_time": "2023-12-18T12:23:43.387116420Z"
    }
   }
  },
  {
   "cell_type": "code",
   "execution_count": 7,
   "outputs": [],
   "source": [],
   "metadata": {
    "collapsed": false,
    "ExecuteTime": {
     "end_time": "2023-12-18T12:23:43.668215330Z",
     "start_time": "2023-12-18T12:23:43.595605885Z"
    }
   }
  }
 ],
 "metadata": {
  "kernelspec": {
   "display_name": "Python 3",
   "language": "python",
   "name": "python3"
  },
  "language_info": {
   "codemirror_mode": {
    "name": "ipython",
    "version": 2
   },
   "file_extension": ".py",
   "mimetype": "text/x-python",
   "name": "python",
   "nbconvert_exporter": "python",
   "pygments_lexer": "ipython2",
   "version": "2.7.6"
  }
 },
 "nbformat": 4,
 "nbformat_minor": 0
}
