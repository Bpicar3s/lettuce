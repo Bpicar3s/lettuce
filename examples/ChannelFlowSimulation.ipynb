{
 "cells": [
  {
   "cell_type": "code",
   "execution_count": 2,
   "outputs": [],
   "source": [
    "import numpy as np\n",
    "import matplotlib.pyplot as plt\n",
    "import torch\n",
    "import lettuce as lt\n",
    "from lettuce import D2Q9, Lattice, UnitConversion, BGKCollision, StandardStreaming, Simulation, IncompressibleKineticEnergy\n",
    "from argparse import ArgumentParser, ArgumentDefaultsHelpFormatter\n"
   ],
   "metadata": {
    "collapsed": false,
    "ExecuteTime": {
     "end_time": "2025-04-29T14:29:21.108128838Z",
     "start_time": "2025-04-29T14:29:21.065394488Z"
    }
   }
  },
  {
   "cell_type": "code",
   "execution_count": 3,
   "outputs": [
    {
     "name": "stdout",
     "output_type": "stream",
     "text": [
      "ICH FUNKTIONIERE MIT PULLEN\n"
     ]
    }
   ],
   "source": [
    "parser = ArgumentParser(formatter_class=ArgumentDefaultsHelpFormatter)\n",
    "parser.add_argument(\"--vtkdir\", type=str, help=\"name base of vtk files - they are usually in a vtk-subdirectory!\", default=\"./output/\")\n",
    "parser.add_argument(\"--csvdir\", type=str, default=\"./output/\")\n",
    "parser.add_argument(\"--resolutionx\", type=int, default=80)\n",
    "parser.add_argument(\"--resolutiony\", type=int, default=40)\n",
    "parser.add_argument(\"--nout\", type=int, default=100)\n",
    "parser.add_argument(\"--nvtk\", type=int, default=100)\n",
    "parser.add_argument(\"--tmax\", type=int, default=20)\n",
    "parser.add_argument(\"--Re\", type=int, default=180)\n",
    "parser.add_argument(\"--collision_operator\", type=str, default=\"BGK\")\n",
    "parser.add_argument(\"--Precision\", type=str, default=\"Single\")\n",
    "parser.add_argument(\"--Mach\", type=float, default=0.1)\n",
    "args, unknown = parser.parse_known_args()\n",
    "args = vars(args)\n",
    "print(\"ICH FUNKTIONIERE MIT PULLEN\")\n",
    "Re=args[\"Re\"]\n",
    "basedir = args[\"vtkdir\"]\n",
    "csvdir = args[\"csvdir\"]\n",
    "nout = args[\"nout\"]\n",
    "nvtk = args[\"nvtk\"]\n",
    "tmax = args[\"tmax\"]\n",
    "Precision= args[\"Precision\"]\n",
    "collision_operator = args[\"collision_operator\"]\n",
    "Mach = args[\"Mach\"]\n",
    "res_x = args[\"resolutionx\"]\n",
    "res_y = args[\"resolutiony\"]\n",
    "\n",
    "acceleration = np.array([1e-5, 0.0])  # Body Force in x-Richtung (Guo)\n",
    "\n",
    "\n",
    "if Precision == \"Single\":\n",
    "    dtype = torch.float32\n",
    "elif Precision == \"Double\":\n",
    "    dtype = torch.float64\n",
    "elif Precision == \"Half\":\n",
    "    dtype = torch.float16"
   ],
   "metadata": {
    "collapsed": false,
    "ExecuteTime": {
     "end_time": "2025-04-29T14:29:21.509270785Z",
     "start_time": "2025-04-29T14:29:21.506260447Z"
    }
   }
  },
  {
   "cell_type": "code",
   "execution_count": 4,
   "outputs": [
    {
     "name": "stdout",
     "output_type": "stream",
     "text": [
      "steps     time     IncompressibleKineticEnergy\n"
     ]
    },
    {
     "ename": "KeyboardInterrupt",
     "evalue": "",
     "output_type": "error",
     "traceback": [
      "\u001B[0;31m---------------------------------------------------------------------------\u001B[0m",
      "\u001B[0;31mKeyboardInterrupt\u001B[0m                         Traceback (most recent call last)",
      "Cell \u001B[0;32mIn[4], line 57\u001B[0m\n\u001B[1;32m     55\u001B[0m \u001B[38;5;66;03m# --- ▶️ Simulation starten ---\u001B[39;00m\n\u001B[1;32m     56\u001B[0m steps \u001B[38;5;241m=\u001B[39m \u001B[38;5;28mint\u001B[39m(flow\u001B[38;5;241m.\u001B[39munits\u001B[38;5;241m.\u001B[39mconvert_time_to_lu(\u001B[38;5;241m50\u001B[39m))  \u001B[38;5;66;03m# z.B. 5 Sekunden\u001B[39;00m\n\u001B[0;32m---> 57\u001B[0m mlups \u001B[38;5;241m=\u001B[39m \u001B[43msimulation\u001B[49m\u001B[38;5;241;43m.\u001B[39;49m\u001B[43mstep\u001B[49m\u001B[43m(\u001B[49m\u001B[43mnum_steps\u001B[49m\u001B[38;5;241;43m=\u001B[39;49m\u001B[43msteps\u001B[49m\u001B[43m)\u001B[49m\n\u001B[1;32m     58\u001B[0m \u001B[38;5;66;03m# --- 📈 Analyse ---\u001B[39;00m\n\u001B[1;32m     59\u001B[0m u \u001B[38;5;241m=\u001B[39m lattice\u001B[38;5;241m.\u001B[39mu(simulation\u001B[38;5;241m.\u001B[39mf) \u001B[38;5;66;03m# u-Komponente\u001B[39;00m\n",
      "File \u001B[0;32m~/lettuce/lettuce/simulation.py:84\u001B[0m, in \u001B[0;36mSimulation.step\u001B[0;34m(self, num_steps)\u001B[0m\n\u001B[1;32m     81\u001B[0m     \u001B[38;5;28mself\u001B[39m\u001B[38;5;241m.\u001B[39mf \u001B[38;5;241m=\u001B[39m torch\u001B[38;5;241m.\u001B[39mwhere(\u001B[38;5;28mself\u001B[39m\u001B[38;5;241m.\u001B[39mno_collision_mask, \u001B[38;5;28mself\u001B[39m\u001B[38;5;241m.\u001B[39mf, \u001B[38;5;28mself\u001B[39m\u001B[38;5;241m.\u001B[39mcollision(\u001B[38;5;28mself\u001B[39m\u001B[38;5;241m.\u001B[39mf))\n\u001B[1;32m     83\u001B[0m     \u001B[38;5;28;01mfor\u001B[39;00m boundary \u001B[38;5;129;01min\u001B[39;00m \u001B[38;5;28mself\u001B[39m\u001B[38;5;241m.\u001B[39m_boundaries:\n\u001B[0;32m---> 84\u001B[0m         \u001B[38;5;28mself\u001B[39m\u001B[38;5;241m.\u001B[39mf \u001B[38;5;241m=\u001B[39m \u001B[43mboundary\u001B[49m\u001B[43m(\u001B[49m\u001B[38;5;28;43mself\u001B[39;49m\u001B[38;5;241;43m.\u001B[39;49m\u001B[43mf\u001B[49m\u001B[43m)\u001B[49m\n\u001B[1;32m     86\u001B[0m     \u001B[38;5;28mself\u001B[39m\u001B[38;5;241m.\u001B[39m_report()\n\u001B[1;32m     90\u001B[0m end \u001B[38;5;241m=\u001B[39m timer()\n",
      "File \u001B[0;32m~/lettuce/lettuce/boundary.py:34\u001B[0m, in \u001B[0;36mBounceBackBoundary.__call__\u001B[0;34m(self, f)\u001B[0m\n\u001B[1;32m     33\u001B[0m \u001B[38;5;28;01mdef\u001B[39;00m \u001B[38;5;21m__call__\u001B[39m(\u001B[38;5;28mself\u001B[39m, f):\n\u001B[0;32m---> 34\u001B[0m     f \u001B[38;5;241m=\u001B[39m \u001B[43mtorch\u001B[49m\u001B[38;5;241;43m.\u001B[39;49m\u001B[43mwhere\u001B[49m\u001B[43m(\u001B[49m\u001B[38;5;28;43mself\u001B[39;49m\u001B[38;5;241;43m.\u001B[39;49m\u001B[43mmask\u001B[49m\u001B[43m,\u001B[49m\u001B[43m \u001B[49m\u001B[43mf\u001B[49m\u001B[43m[\u001B[49m\u001B[38;5;28;43mself\u001B[39;49m\u001B[38;5;241;43m.\u001B[39;49m\u001B[43mlattice\u001B[49m\u001B[38;5;241;43m.\u001B[39;49m\u001B[43mstencil\u001B[49m\u001B[38;5;241;43m.\u001B[39;49m\u001B[43mopposite\u001B[49m\u001B[43m]\u001B[49m\u001B[43m,\u001B[49m\u001B[43m \u001B[49m\u001B[43mf\u001B[49m\u001B[43m)\u001B[49m  \u001B[38;5;66;03m# \"Punkte an denen self.mask, also randpunkte liegen, werden mit f[] bezogen und andere mit f\"\u001B[39;00m\n\u001B[1;32m     35\u001B[0m     \u001B[38;5;28;01mreturn\u001B[39;00m f\n",
      "\u001B[0;31mKeyboardInterrupt\u001B[0m: "
     ]
    }
   ],
   "source": [
    "\n",
    "# --- 🧱 Lattice & Einheiten ---\n",
    "lattice = Lattice(D2Q9, device=\"cuda\", dtype=dtype)\n",
    "\n",
    "flow = lt.ChannelFlow2D(\n",
    "    resolution_x=res_x,\n",
    "    resolution_y=res_y,\n",
    "    reynolds_number=Re,\n",
    "    mach_number=Mach,\n",
    "    lattice=lattice,\n",
    "    char_length_lu=res_y\n",
    ")\n",
    "\n",
    "# --- 🧱 Wände definieren ---\n",
    "x, y = flow.grid  # physikalische Gitterkoordinaten\n",
    "\n",
    "# y in LU umrechnen (nur nötig, falls du nach physikalischen Einheiten schneiden willst)\n",
    "# Hier reicht aber die Indexierung direkt, da wir die äußersten Zeilen meinen:\n",
    "mask = np.zeros_like(x, dtype=bool)\n",
    "mask[:, 0] = True           # untere Wand (y=0)\n",
    "mask[:, -1] = True          # obere Wand (y=max)\n",
    "\n",
    "# Maske setzen\n",
    "flow.mask = mask\n",
    "\n",
    "p, u = flow.initial_solution(flow.grid)\n",
    "u += 0.01 * np.random.randn(*u.shape)  # kleine zufällige Störung\n",
    "\n",
    "# --- 🌀 Forcing (Guo) ---\n",
    "from lettuce.force import Guo  # dein Guo-Code\n",
    "forcing = Guo(lattice, tau=flow.units.relaxation_parameter_lu, acceleration=acceleration)\n",
    "\n",
    "# --- 🔁 Setup Simulation ---\n",
    "if collision_operator == \"BGK\":\n",
    "    collision=lt.BGKCollision(lattice, tau=round(flow.units.relaxation_parameter_lu,7))\n",
    "elif collision_operator == \"KBC\":\n",
    "    collision=lt.KBCCollision3D(lattice, tau=flow.units.relaxation_parameter_lu)\n",
    "\n",
    "streaming = StandardStreaming(lattice)\n",
    "simulation = Simulation(flow=flow, lattice=lattice, collision=collision, streaming=streaming)\n",
    "\n",
    "# --- 📊 Beobachter ---\n",
    "Energy = IncompressibleKineticEnergy(lattice, flow)\n",
    "reporter = lt.ObservableReporter(Energy, interval=100, out=None)\n",
    "simulation.reporters.append(reporter)\n",
    "\n",
    "vtk_reporter = lt.VTKReporter(\n",
    "    lattice=lattice,\n",
    "    flow=flow,\n",
    "    interval=100,                    # alle 100 Zeitschritte ein VTK-Frame\n",
    "    filename_base=csvdir + \"/output\" # Basisname der Dateien\n",
    ")\n",
    "simulation.reporters.append(vtk_reporter)\n",
    "\n",
    "\n",
    "# --- ▶️ Simulation starten ---\n",
    "steps = int(flow.units.convert_time_to_lu(50))  # z.B. 5 Sekunden\n",
    "mlups = simulation.step(num_steps=steps)\n",
    "# --- 📈 Analyse ---\n",
    "u = lattice.u(simulation.f) # u-Komponente\n",
    "u_mean= torch.mean(u, dim=(1,0))\n",
    "\n",
    "print(u) # Mittelung über x-Richtung\n",
    "\n",
    "# Hole u_x-Komponente (Index 0)\n",
    "u_numpy = u.cpu().numpy()  # [2, res_x, res_y]\n",
    "u_mag = np.sqrt(u_numpy[0]**2 + u_numpy[1]**2)  # Geschwindigkeitbetrag\n",
    "\n",
    "plt.imshow(u_mag.T, origin='lower', extent=[0, 1, 0, 1], aspect='auto')\n",
    "plt.colorbar(label='|u| (m/s)')\n",
    "plt.xlabel(\"x\")\n",
    "plt.ylabel(\"y\")\n",
    "plt.title(\"Geschwindigkeitsbetrag im Kanal\")\n",
    "plt.tight_layout()\n",
    "plt.show()\n"
   ],
   "metadata": {
    "collapsed": false,
    "ExecuteTime": {
     "end_time": "2025-04-29T14:36:55.778926706Z",
     "start_time": "2025-04-29T14:29:22.094784750Z"
    }
   }
  },
  {
   "cell_type": "code",
   "execution_count": null,
   "outputs": [],
   "source": [],
   "metadata": {
    "collapsed": false
   }
  }
 ],
 "metadata": {
  "kernelspec": {
   "display_name": "Python 3",
   "language": "python",
   "name": "python3"
  },
  "language_info": {
   "codemirror_mode": {
    "name": "ipython",
    "version": 2
   },
   "file_extension": ".py",
   "mimetype": "text/x-python",
   "name": "python",
   "nbconvert_exporter": "python",
   "pygments_lexer": "ipython2",
   "version": "2.7.6"
  }
 },
 "nbformat": 4,
 "nbformat_minor": 0
}
