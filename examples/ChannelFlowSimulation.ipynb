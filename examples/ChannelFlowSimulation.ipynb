{
 "cells": [
  {
   "cell_type": "code",
   "execution_count": 1,
   "outputs": [],
   "source": [
    "import numpy as np\n",
    "import matplotlib.pyplot as plt\n",
    "import torch\n",
    "import lettuce as lt\n",
    "from lettuce import D2Q9, Lattice, UnitConversion, BGKCollision, StandardStreaming, Simulation, IncompressibleKineticEnergy\n",
    "from argparse import ArgumentParser, ArgumentDefaultsHelpFormatter\n"
   ],
   "metadata": {
    "collapsed": false,
    "ExecuteTime": {
     "end_time": "2025-04-30T11:20:31.664210025Z",
     "start_time": "2025-04-30T11:20:30.711447051Z"
    }
   }
  },
  {
   "cell_type": "code",
   "execution_count": 2,
   "outputs": [
    {
     "name": "stdout",
     "output_type": "stream",
     "text": [
      "ICH FUNKTIONIERE MIT PULLEN\n"
     ]
    }
   ],
   "source": [
    "parser = ArgumentParser(formatter_class=ArgumentDefaultsHelpFormatter)\n",
    "parser.add_argument(\"--vtkdir\", type=str, help=\"name base of vtk files - they are usually in a vtk-subdirectory!\", default=\"./output/\")\n",
    "parser.add_argument(\"--csvdir\", type=str, default=\"./output/\")\n",
    "parser.add_argument(\"--resolutionx\", type=int, default=80)\n",
    "parser.add_argument(\"--resolutiony\", type=int, default=40)\n",
    "parser.add_argument(\"--nout\", type=int, default=100)\n",
    "parser.add_argument(\"--nvtk\", type=int, default=100)\n",
    "parser.add_argument(\"--tmax\", type=int, default=20)\n",
    "parser.add_argument(\"--Re\", type=int, default=5000)\n",
    "parser.add_argument(\"--collision_operator\", type=str, default=\"BGK\")\n",
    "parser.add_argument(\"--Precision\", type=str, default=\"Single\")\n",
    "parser.add_argument(\"--Mach\", type=float, default=0.1)\n",
    "args, unknown = parser.parse_known_args()\n",
    "args = vars(args)\n",
    "print(\"ICH FUNKTIONIERE MIT PULLEN\")\n",
    "Re=args[\"Re\"]\n",
    "basedir = args[\"vtkdir\"]\n",
    "csvdir = args[\"csvdir\"]\n",
    "nout = args[\"nout\"]\n",
    "nvtk = args[\"nvtk\"]\n",
    "tmax = args[\"tmax\"]\n",
    "Precision= args[\"Precision\"]\n",
    "collision_operator = args[\"collision_operator\"]\n",
    "Mach = args[\"Mach\"]\n",
    "res_x = args[\"resolutionx\"]\n",
    "res_y = args[\"resolutiony\"]\n",
    "\n",
    "acceleration = np.array([1e-5, 0.0])  # Body Force in x-Richtung (Guo)\n",
    "\n",
    "\n",
    "if Precision == \"Single\":\n",
    "    dtype = torch.float32\n",
    "elif Precision == \"Double\":\n",
    "    dtype = torch.float64\n",
    "elif Precision == \"Half\":\n",
    "    dtype = torch.float16"
   ],
   "metadata": {
    "collapsed": false,
    "ExecuteTime": {
     "end_time": "2025-04-30T11:20:31.670607382Z",
     "start_time": "2025-04-30T11:20:31.668412953Z"
    }
   }
  },
  {
   "cell_type": "code",
   "execution_count": 3,
   "outputs": [
    {
     "name": "stdout",
     "output_type": "stream",
     "text": [
      "steps     time     IncompressibleKineticEnergy\n",
      "tensor([[[-2.9800e-06,  4.1259e-03,  1.2177e-02,  ...,  1.1960e-02,\n",
      "           4.0044e-03, -8.3810e-07],\n",
      "         [-2.9278e-06,  4.1236e-03,  1.2172e-02,  ...,  1.1964e-02,\n",
      "           4.0062e-03, -7.6732e-07],\n",
      "         [-3.1327e-06,  4.1210e-03,  1.2167e-02,  ...,  1.1969e-02,\n",
      "           4.0089e-03, -9.0142e-07],\n",
      "         ...,\n",
      "         [-3.1513e-06,  4.1301e-03,  1.2185e-02,  ...,  1.1951e-02,\n",
      "           3.9992e-03, -6.7234e-07],\n",
      "         [-3.2817e-06,  4.1290e-03,  1.2182e-02,  ...,  1.1953e-02,\n",
      "           4.0011e-03, -3.9856e-07],\n",
      "         [-3.1234e-06,  4.1277e-03,  1.2180e-02,  ...,  1.1956e-02,\n",
      "           4.0023e-03, -6.5185e-07]],\n",
      "\n",
      "        [[ 8.3011e-05, -4.1591e-06, -8.4205e-06,  ..., -7.4177e-06,\n",
      "          -4.0243e-06, -1.1206e-04],\n",
      "         [ 8.0862e-05, -5.2073e-06, -1.0132e-05,  ..., -9.3627e-06,\n",
      "          -5.0760e-06, -1.1419e-04],\n",
      "         [ 7.8806e-05, -6.3188e-06, -1.1629e-05,  ..., -1.0839e-05,\n",
      "          -5.3011e-06, -1.1639e-04],\n",
      "         ...,\n",
      "         [ 9.0215e-05, -1.4819e-06, -3.1480e-06,  ..., -3.2743e-06,\n",
      "          -1.5581e-06, -1.0456e-04],\n",
      "         [ 8.7701e-05, -2.2191e-06, -4.7547e-06,  ..., -4.9254e-06,\n",
      "          -2.2058e-06, -1.0692e-04],\n",
      "         [ 8.5119e-05, -3.6992e-06, -6.5625e-06,  ..., -5.9193e-06,\n",
      "          -3.2538e-06, -1.0928e-04]]])\n"
     ]
    },
    {
     "data": {
      "text/plain": "<Figure size 640x480 with 2 Axes>",
      "image/png": "[encoded data removed]"
     },
     "metadata": {},
     "output_type": "display_data"
    }
   ],
   "source": [
    "\n",
    "# --- 🧱 Lattice & Einheiten ---\n",
    "lattice = Lattice(D2Q9, device=\"cpu\", dtype=dtype)\n",
    "\n",
    "flow = lt.ChannelFlow2D(\n",
    "    resolution_x=res_x,\n",
    "    resolution_y=res_y,\n",
    "    reynolds_number=Re,\n",
    "    mach_number=Mach,\n",
    "    lattice=lattice,\n",
    "    char_length_lu=res_y\n",
    ")\n",
    "\n",
    "# --- 🧱 Wände definieren ---\n",
    "x, y = flow.grid  # physikalische Gitterkoordinaten\n",
    "\n",
    "# y in LU umrechnen (nur nötig, falls du nach physikalischen Einheiten schneiden willst)\n",
    "# Hier reicht aber die Indexierung direkt, da wir die äußersten Zeilen meinen:\n",
    "mask = np.zeros_like(x, dtype=bool)\n",
    "mask[:, 0] = True           # untere Wand (y=0)\n",
    "mask[:, -1] = True          # obere Wand (y=max)\n",
    "\n",
    "# Maske setzen\n",
    "flow.mask = mask\n",
    "\n",
    "# --- 🌀 Forcing (Guo) ---\n",
    "from lettuce.force import Guo  # dein Guo-Code\n",
    "forcing = Guo(lattice, tau=flow.units.relaxation_parameter_lu, acceleration=acceleration)\n",
    "\n",
    "# --- 🔁 Setup Simulation ---\n",
    "if collision_operator == \"BGK\":\n",
    "    collision=lt.BGKCollision(lattice, tau=round(flow.units.relaxation_parameter_lu,7))\n",
    "elif collision_operator == \"KBC\":\n",
    "    collision=lt.KBCCollision3D(lattice, tau=flow.units.relaxation_parameter_lu)\n",
    "\n",
    "streaming = StandardStreaming(lattice)\n",
    "simulation = Simulation(flow=flow, lattice=lattice, collision=collision, streaming=streaming)\n",
    "\n",
    "# --- 📊 Beobachter ---\n",
    "Energy = IncompressibleKineticEnergy(lattice, flow)\n",
    "reporter = lt.ObservableReporter(Energy, interval=100, out=None)\n",
    "simulation.reporters.append(reporter)\n",
    "\n",
    "vtk_reporter = lt.VTKReporter(\n",
    "    lattice=lattice,\n",
    "    flow=flow,\n",
    "    interval=100,                    # alle 100 Zeitschritte ein VTK-Frame\n",
    "    filename_base=basedir + \"/output\" # Basisname der Dateien\n",
    ")\n",
    "simulation.reporters.append(vtk_reporter)\n",
    "\n",
    "\n",
    "# --- ▶️ Simulation starten ---\n",
    "steps = int(flow.units.convert_time_to_lu(50))  # z.B. 5 Sekunden\n",
    "mlups = simulation.step(num_steps=steps)\n",
    "# --- 📈 Analyse ---\n",
    "u = lattice.u(simulation.f) # u-Komponente\n",
    "u_mean= torch.mean(u, dim=(1,0))\n",
    "\n",
    "print(u) # Mittelung über x-Richtung\n",
    "\n",
    "# Hole u_x-Komponente (Index 0)\n",
    "u_numpy = u.cpu().numpy()  # [2, res_x, res_y]\n",
    "u_mag = np.sqrt(u_numpy[0]**2 + u_numpy[1]**2)  # Geschwindigkeitbetrag\n",
    "\n",
    "plt.imshow(u_mag.T, origin='lower', extent=[0, 1, 0, 1], aspect='auto')\n",
    "plt.colorbar(label='|u| (m/s)')\n",
    "plt.xlabel(\"x\")\n",
    "plt.ylabel(\"y\")\n",
    "plt.title(\"Geschwindigkeitsbetrag im Kanal\")\n",
    "plt.tight_layout()\n",
    "plt.show()\n"
   ],
   "metadata": {
    "collapsed": false,
    "ExecuteTime": {
     "end_time": "2025-04-30T11:20:49.268230343Z",
     "start_time": "2025-04-30T11:20:31.671963601Z"
    }
   }
  }
 ],
 "metadata": {
  "kernelspec": {
   "display_name": "Python 3",
   "language": "python",
   "name": "python3"
  },
  "language_info": {
   "codemirror_mode": {
    "name": "ipython",
    "version": 2
   },
   "file_extension": ".py",
   "mimetype": "text/x-python",
   "name": "python",
   "nbconvert_exporter": "python",
   "pygments_lexer": "ipython2",
   "version": "2.7.6"
  }
 },
 "nbformat": 4,
 "nbformat_minor": 0
}
