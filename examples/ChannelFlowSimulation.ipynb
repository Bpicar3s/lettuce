{
 "cells": [
  {
   "cell_type": "code",
   "execution_count": 1,
   "outputs": [],
   "source": [
    "import numpy as np\n",
    "import matplotlib.pyplot as plt\n",
    "import torch\n",
    "import lettuce as lt\n",
    "from lettuce import D2Q9, Lattice, UnitConversion, BGKCollision, StandardStreaming, Simulation, IncompressibleKineticEnergy\n",
    "from argparse import ArgumentParser, ArgumentDefaultsHelpFormatter\n"
   ],
   "metadata": {
    "collapsed": false,
    "ExecuteTime": {
     "end_time": "2025-05-09T09:31:32.840724540Z",
     "start_time": "2025-05-09T09:31:31.691182591Z"
    }
   }
  },
  {
   "cell_type": "code",
   "execution_count": 2,
   "outputs": [
    {
     "name": "stdout",
     "output_type": "stream",
     "text": [
      "ICH FUNKTIONIERE MIT PULLEN\n"
     ]
    }
   ],
   "source": [
    "parser = ArgumentParser(formatter_class=ArgumentDefaultsHelpFormatter)\n",
    "parser.add_argument(\"--vtkdir\", type=str, help=\"name base of vtk files - they are usually in a vtk-subdirectory!\", default=\"./output/\")\n",
    "parser.add_argument(\"--csvdir\", type=str, default=\"/home/ben/Schreibtisch/channel\")\n",
    "parser.add_argument(\"--resolutionx\", type=int, default=100)\n",
    "parser.add_argument(\"--resolutiony\", type=int, default=100)\n",
    "parser.add_argument(\"--nout\", type=int, default=100)\n",
    "parser.add_argument(\"--nvtk\", type=int, default=100)\n",
    "parser.add_argument(\"--tmax\", type=int, default=200)\n",
    "parser.add_argument(\"--Re\", type=int, default=5000)\n",
    "parser.add_argument(\"--collision_operator\", type=str, default=\"BGK\")\n",
    "parser.add_argument(\"--Precision\", type=str, default=\"Double\")\n",
    "parser.add_argument(\"--Mach\", type=float, default=0.1)\n",
    "args, unknown = parser.parse_known_args()\n",
    "args = vars(args)\n",
    "print(\"ICH FUNKTIONIERE MIT PULLEN\")\n",
    "Re=args[\"Re\"]\n",
    "basedir = args[\"vtkdir\"]\n",
    "csvdir = args[\"csvdir\"]\n",
    "nout = args[\"nout\"]\n",
    "nvtk = args[\"nvtk\"]\n",
    "tmax = args[\"tmax\"]\n",
    "Precision= args[\"Precision\"]\n",
    "collision_operator = args[\"collision_operator\"]\n",
    "Mach = args[\"Mach\"]\n",
    "res_x = args[\"resolutionx\"]\n",
    "res_y = args[\"resolutiony\"]\n",
    "\n",
    "acceleration = np.array([1e-7, 0.0])  # Body Force in x-Richtung (Guo)\n",
    "\n",
    "\n",
    "if Precision == \"Single\":\n",
    "    dtype = torch.float32\n",
    "elif Precision == \"Double\":\n",
    "    dtype = torch.float64\n",
    "elif Precision == \"Half\":\n",
    "    dtype = torch.float16"
   ],
   "metadata": {
    "collapsed": false,
    "ExecuteTime": {
     "end_time": "2025-05-09T09:31:32.848737030Z",
     "start_time": "2025-05-09T09:31:32.824984948Z"
    }
   }
  },
  {
   "cell_type": "code",
   "execution_count": 3,
   "outputs": [
    {
     "name": "stdout",
     "output_type": "stream",
     "text": [
      "steps     time     IncompressibleKineticEnergy\n",
      "tensor([[[-1.1204e-06,  9.4911e-04,  2.8056e-03,  ...,  2.8062e-03,\n",
      "           9.4931e-04, -1.1206e-06],\n",
      "         [-1.1203e-06,  9.4911e-04,  2.8056e-03,  ...,  2.8062e-03,\n",
      "           9.4931e-04, -1.1206e-06],\n",
      "         [-1.1203e-06,  9.4911e-04,  2.8056e-03,  ...,  2.8062e-03,\n",
      "           9.4931e-04, -1.1206e-06],\n",
      "         ...,\n",
      "         [-1.1203e-06,  9.4911e-04,  2.8056e-03,  ...,  2.8062e-03,\n",
      "           9.4931e-04, -1.1206e-06],\n",
      "         [-1.1204e-06,  9.4911e-04,  2.8056e-03,  ...,  2.8062e-03,\n",
      "           9.4931e-04, -1.1206e-06],\n",
      "         [-1.1204e-06,  9.4911e-04,  2.8056e-03,  ...,  2.8062e-03,\n",
      "           9.4931e-04, -1.1206e-06]],\n",
      "\n",
      "        [[-1.8830e-06, -3.7602e-07, -9.3858e-07,  ...,  1.0063e-06,\n",
      "           4.0315e-07,  5.0128e-06],\n",
      "         [-2.4857e-06, -3.7601e-07, -9.3857e-07,  ...,  1.0063e-06,\n",
      "           4.0315e-07,  2.8009e-06],\n",
      "         [-3.5835e-06, -3.7601e-07, -9.3856e-07,  ...,  1.0063e-06,\n",
      "           4.0315e-07,  3.3887e-06],\n",
      "         ...,\n",
      "         [-4.4793e-06, -3.7603e-07, -9.3860e-07,  ...,  1.0063e-06,\n",
      "           4.0314e-07,  8.6554e-07],\n",
      "         [-1.9753e-06, -3.7602e-07, -9.3859e-07,  ...,  1.0063e-06,\n",
      "           4.0314e-07, -5.5269e-07],\n",
      "         [-3.5901e-07, -3.7602e-07, -9.3859e-07,  ...,  1.0063e-06,\n",
      "           4.0314e-07,  1.6370e-06]]], device='cuda:0', dtype=torch.float64)\n"
     ]
    },
    {
     "data": {
      "text/plain": "<Figure size 640x480 with 2 Axes>",
      "image/png": "[encoded data removed]"
     },
     "metadata": {},
     "output_type": "display_data"
    }
   ],
   "source": [
    "\n",
    "# --- 🧱 Lattice & Einheiten ---\n",
    "lattice = Lattice(D2Q9, device=\"cuda\", dtype=dtype)\n",
    "\n",
    "flow = lt.ChannelFlow2D(\n",
    "    resolution_x=res_x,\n",
    "    resolution_y=res_y,\n",
    "    reynolds_number=Re,\n",
    "    mach_number=Mach,\n",
    "    lattice=lattice,\n",
    "    char_length_lu=res_y\n",
    ")\n",
    "\n",
    "# --- 🧱 Wände definieren ---\n",
    "x, y = flow.grid  # physikalische Gitterkoordinaten\n",
    "\n",
    "# y in LU umrechnen (nur nötig, falls du nach physikalischen Einheiten schneiden willst)\n",
    "# Hier reicht aber die Indexierung direkt, da wir die äußersten Zeilen meinen:\n",
    "mask = np.zeros_like(x, dtype=bool)\n",
    "mask[:, 0] = True           # untere Wand (y=0)\n",
    "mask[:, -1] = True          # obere Wand (y=max)\n",
    "\n",
    "# Maske setzen\n",
    "flow.mask = mask\n",
    "\n",
    "# --- 🌀 Forcing (Guo) ---\n",
    "from lettuce.force import Guo  # dein Guo-Code\n",
    "forcing = Guo(lattice, tau=flow.units.relaxation_parameter_lu, acceleration=acceleration)\n",
    "\n",
    "# --- 🔁 Setup Simulation ---\n",
    "if collision_operator == \"BGK\":\n",
    "    collision=lt.BGKCollision(lattice, tau=flow.units.relaxation_parameter_lu, force = forcing)\n",
    "elif collision_operator == \"KBC\":\n",
    "    collision=lt.KBCCollision3D(lattice, tau=flow.units.relaxation_parameter_lu, force = forcing)\n",
    "\n",
    "streaming = StandardStreaming(lattice)\n",
    "simulation = Simulation(flow=flow, lattice=lattice, collision=collision, streaming=streaming)\n",
    "\n",
    "# --- 📊 Beobachter ---\n",
    "Energy = IncompressibleKineticEnergy(lattice, flow)\n",
    "reporter = lt.ObservableReporter(Energy, interval=100, out=None)\n",
    "simulation.reporters.append(reporter)\n",
    "\n",
    "vtk_reporter = lt.VTKReporter(\n",
    "    lattice=lattice,\n",
    "    flow=flow,\n",
    "    interval=100,                    # alle 100 Zeitschritte ein VTK-Frame\n",
    "    filename_base=basedir + \"/output\" # Basisname der Dateien\n",
    ")\n",
    "simulation.reporters.append(vtk_reporter)\n",
    "\n",
    "simulation.initialize_f_neq\n",
    "\n",
    "# --- ▶️ Simulation starten ---\n",
    "steps = int(flow.units.convert_time_to_lu(tmax))  # z.B. 5 Sekunden\n",
    "mlups = simulation.step(num_steps=steps)\n",
    "# --- 📈 Analyse ---\n",
    "u = lattice.u(simulation.f) # u-Komponente\n",
    "u_mean= torch.mean(u, dim=(1,0))\n",
    "\n",
    "print(u) # Mittelung über x-Richtung\n",
    "\n",
    "# Hole u_x-Komponente (Index 0)\n",
    "u_numpy = u.cpu().numpy()  # [2, res_x, res_y]\n",
    "u_mag = np.sqrt(u_numpy[0]**2 + u_numpy[1]**2)  # Geschwindigkeitbetrag\n",
    "\n",
    "plt.imshow(u_mag.T, origin='lower', extent=[0, 1, 0, 1], aspect='auto')\n",
    "plt.colorbar(label='|u| (m/s)')\n",
    "plt.xlabel(\"x\")\n",
    "plt.ylabel(\"y\")\n",
    "plt.title(\"Geschwindigkeitsbetrag im Kanal\")\n",
    "plt.tight_layout()\n",
    "plt.show()\n"
   ],
   "metadata": {
    "collapsed": false,
    "ExecuteTime": {
     "end_time": "2025-05-09T09:38:43.223746596Z",
     "start_time": "2025-05-09T09:31:32.841096534Z"
    }
   }
  }
 ],
 "metadata": {
  "kernelspec": {
   "display_name": "Python 3",
   "language": "python",
   "name": "python3"
  },
  "language_info": {
   "codemirror_mode": {
    "name": "ipython",
    "version": 2
   },
   "file_extension": ".py",
   "mimetype": "text/x-python",
   "name": "python",
   "nbconvert_exporter": "python",
   "pygments_lexer": "ipython2",
   "version": "2.7.6"
  }
 },
 "nbformat": 4,
 "nbformat_minor": 0
}
