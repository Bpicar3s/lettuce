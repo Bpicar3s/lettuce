{
 "cells": [
  {
   "cell_type": "code",
   "execution_count": 1,
   "outputs": [],
   "source": [
    "import numpy as np\n",
    "import matplotlib.pyplot as plt\n",
    "import torch\n",
    "import lettuce as lt\n",
    "from lettuce import D2Q9, Lattice, UnitConversion, BGKCollision, StandardStreaming, Simulation, IncompressibleKineticEnergy\n",
    "from argparse import ArgumentParser, ArgumentDefaultsHelpFormatter\n"
   ],
   "metadata": {
    "collapsed": false,
    "ExecuteTime": {
     "end_time": "2025-04-30T12:24:23.383719807Z",
     "start_time": "2025-04-30T12:24:22.342948385Z"
    }
   }
  },
  {
   "cell_type": "code",
   "execution_count": 2,
   "outputs": [
    {
     "name": "stdout",
     "output_type": "stream",
     "text": [
      "ICH FUNKTIONIERE MIT PULLEN\n"
     ]
    }
   ],
   "source": [
    "parser = ArgumentParser(formatter_class=ArgumentDefaultsHelpFormatter)\n",
    "parser.add_argument(\"--vtkdir\", type=str, help=\"name base of vtk files - they are usually in a vtk-subdirectory!\", default=\"./output/\")\n",
    "parser.add_argument(\"--csvdir\", type=str, default=\"/home/ben/Schreibtisch/channel\")\n",
    "parser.add_argument(\"--resolutionx\", type=int, default=100)\n",
    "parser.add_argument(\"--resolutiony\", type=int, default=50)\n",
    "parser.add_argument(\"--nout\", type=int, default=100)\n",
    "parser.add_argument(\"--nvtk\", type=int, default=100)\n",
    "parser.add_argument(\"--tmax\", type=int, default=200)\n",
    "parser.add_argument(\"--Re\", type=int, default=1000)\n",
    "parser.add_argument(\"--collision_operator\", type=str, default=\"BGK\")\n",
    "parser.add_argument(\"--Precision\", type=str, default=\"Single\")\n",
    "parser.add_argument(\"--Mach\", type=float, default=0.1)\n",
    "args, unknown = parser.parse_known_args()\n",
    "args = vars(args)\n",
    "print(\"ICH FUNKTIONIERE MIT PULLEN\")\n",
    "Re=args[\"Re\"]\n",
    "basedir = args[\"vtkdir\"]\n",
    "csvdir = args[\"csvdir\"]\n",
    "nout = args[\"nout\"]\n",
    "nvtk = args[\"nvtk\"]\n",
    "tmax = args[\"tmax\"]\n",
    "Precision= args[\"Precision\"]\n",
    "collision_operator = args[\"collision_operator\"]\n",
    "Mach = args[\"Mach\"]\n",
    "res_x = args[\"resolutionx\"]\n",
    "res_y = args[\"resolutiony\"]\n",
    "\n",
    "acceleration = np.array([1e-7, 0.0])  # Body Force in x-Richtung (Guo)\n",
    "\n",
    "\n",
    "if Precision == \"Single\":\n",
    "    dtype = torch.float32\n",
    "elif Precision == \"Double\":\n",
    "    dtype = torch.float64\n",
    "elif Precision == \"Half\":\n",
    "    dtype = torch.float16"
   ],
   "metadata": {
    "collapsed": false,
    "ExecuteTime": {
     "end_time": "2025-04-30T12:24:23.384495578Z",
     "start_time": "2025-04-30T12:24:23.378383867Z"
    }
   }
  },
  {
   "cell_type": "code",
   "execution_count": 3,
   "outputs": [
    {
     "name": "stdout",
     "output_type": "stream",
     "text": [
      "steps     time     IncompressibleKineticEnergy\n",
      "tensor([[[-1.9401e-06,  6.4899e-04,  1.9288e-03,  ...,  1.9288e-03,\n",
      "           6.4912e-04, -1.9624e-06],\n",
      "         [-1.9401e-06,  6.4903e-04,  1.9288e-03,  ...,  1.9291e-03,\n",
      "           6.4924e-04, -1.8340e-06],\n",
      "         [-1.9364e-06,  6.4921e-04,  1.9288e-03,  ...,  1.9291e-03,\n",
      "           6.4902e-04, -1.8861e-06],\n",
      "         ...,\n",
      "         [-1.8991e-06,  6.4888e-04,  1.9282e-03,  ...,  1.9281e-03,\n",
      "           6.4866e-04, -1.8582e-06],\n",
      "         [-1.9159e-06,  6.4892e-04,  1.9287e-03,  ...,  1.9284e-03,\n",
      "           6.4865e-04, -1.8749e-06],\n",
      "         [-1.8358e-06,  6.4890e-04,  1.9288e-03,  ...,  1.9285e-03,\n",
      "           6.4899e-04, -1.9066e-06]],\n",
      "\n",
      "        [[ 4.0094e-04, -4.5154e-07,  3.9951e-07,  ...,  7.8043e-08,\n",
      "           2.4156e-08, -4.0074e-04],\n",
      "         [ 4.0090e-04, -6.1506e-07,  3.5491e-07,  ...,  2.0440e-08,\n",
      "           3.0660e-07, -4.0067e-04],\n",
      "         [ 4.0085e-04, -5.4445e-07,  2.1926e-07,  ...,  3.4748e-07,\n",
      "           3.4005e-07, -4.0073e-04],\n",
      "         ...,\n",
      "         [ 4.0093e-04, -3.4190e-07,  2.8987e-07,  ...,  5.6117e-07,\n",
      "           2.7129e-07, -4.0088e-04],\n",
      "         [ 4.0094e-04, -1.5237e-07,  2.0626e-07,  ...,  2.8616e-07,\n",
      "           2.8802e-07, -4.0086e-04],\n",
      "         [ 4.0092e-04, -1.8582e-07,  4.7569e-07,  ...,  2.0068e-07,\n",
      "           1.8582e-08, -4.0064e-04]]], device='cuda:0')\n"
     ]
    },
    {
     "data": {
      "text/plain": "<Figure size 640x480 with 2 Axes>",
      "image/png": "[encoded data removed]"
     },
     "metadata": {},
     "output_type": "display_data"
    }
   ],
   "source": [
    "\n",
    "# --- 🧱 Lattice & Einheiten ---\n",
    "lattice = Lattice(D2Q9, device=\"cuda\", dtype=dtype)\n",
    "\n",
    "flow = lt.ChannelFlow2D(\n",
    "    resolution_x=res_x,\n",
    "    resolution_y=res_y,\n",
    "    reynolds_number=Re,\n",
    "    mach_number=Mach,\n",
    "    lattice=lattice,\n",
    "    char_length_lu=res_y\n",
    ")\n",
    "\n",
    "# --- 🧱 Wände definieren ---\n",
    "x, y = flow.grid  # physikalische Gitterkoordinaten\n",
    "\n",
    "# y in LU umrechnen (nur nötig, falls du nach physikalischen Einheiten schneiden willst)\n",
    "# Hier reicht aber die Indexierung direkt, da wir die äußersten Zeilen meinen:\n",
    "mask = np.zeros_like(x, dtype=bool)\n",
    "mask[:, 0] = True           # untere Wand (y=0)\n",
    "mask[:, -1] = True          # obere Wand (y=max)\n",
    "\n",
    "# Maske setzen\n",
    "flow.mask = mask\n",
    "\n",
    "# --- 🌀 Forcing (Guo) ---\n",
    "from lettuce.force import Guo  # dein Guo-Code\n",
    "forcing = Guo(lattice, tau=flow.units.relaxation_parameter_lu, acceleration=acceleration)\n",
    "\n",
    "# --- 🔁 Setup Simulation ---\n",
    "if collision_operator == \"BGK\":\n",
    "    collision=lt.BGKCollision(lattice, tau=round(flow.units.relaxation_parameter_lu,7), force = forcing)\n",
    "elif collision_operator == \"KBC\":\n",
    "    collision=lt.KBCCollision3D(lattice, tau=flow.units.relaxation_parameter_lu, force = forcing)\n",
    "\n",
    "streaming = StandardStreaming(lattice)\n",
    "simulation = Simulation(flow=flow, lattice=lattice, collision=collision, streaming=streaming)\n",
    "\n",
    "# --- 📊 Beobachter ---\n",
    "Energy = IncompressibleKineticEnergy(lattice, flow)\n",
    "reporter = lt.ObservableReporter(Energy, interval=100, out=None)\n",
    "simulation.reporters.append(reporter)\n",
    "\n",
    "vtk_reporter = lt.VTKReporter(\n",
    "    lattice=lattice,\n",
    "    flow=flow,\n",
    "    interval=100,                    # alle 100 Zeitschritte ein VTK-Frame\n",
    "    filename_base=basedir + \"/output\" # Basisname der Dateien\n",
    ")\n",
    "simulation.reporters.append(vtk_reporter)\n",
    "\n",
    "\n",
    "# --- ▶️ Simulation starten ---\n",
    "steps = int(flow.units.convert_time_to_lu(tmax))  # z.B. 5 Sekunden\n",
    "mlups = simulation.step(num_steps=steps)\n",
    "# --- 📈 Analyse ---\n",
    "u = lattice.u(simulation.f) # u-Komponente\n",
    "u_mean= torch.mean(u, dim=(1,0))\n",
    "\n",
    "print(u) # Mittelung über x-Richtung\n",
    "\n",
    "# Hole u_x-Komponente (Index 0)\n",
    "u_numpy = u.cpu().numpy()  # [2, res_x, res_y]\n",
    "u_mag = np.sqrt(u_numpy[0]**2 + u_numpy[1]**2)  # Geschwindigkeitbetrag\n",
    "\n",
    "plt.imshow(u_mag.T, origin='lower', extent=[0, 1, 0, 1], aspect='auto')\n",
    "plt.colorbar(label='|u| (m/s)')\n",
    "plt.xlabel(\"x\")\n",
    "plt.ylabel(\"y\")\n",
    "plt.title(\"Geschwindigkeitsbetrag im Kanal\")\n",
    "plt.tight_layout()\n",
    "plt.show()\n"
   ],
   "metadata": {
    "collapsed": false,
    "ExecuteTime": {
     "end_time": "2025-04-30T12:26:21.039631161Z",
     "start_time": "2025-04-30T12:24:23.384937819Z"
    }
   }
  }
 ],
 "metadata": {
  "kernelspec": {
   "display_name": "Python 3",
   "language": "python",
   "name": "python3"
  },
  "language_info": {
   "codemirror_mode": {
    "name": "ipython",
    "version": 2
   },
   "file_extension": ".py",
   "mimetype": "text/x-python",
   "name": "python",
   "nbconvert_exporter": "python",
   "pygments_lexer": "ipython2",
   "version": "2.7.6"
  }
 },
 "nbformat": 4,
 "nbformat_minor": 0
}
