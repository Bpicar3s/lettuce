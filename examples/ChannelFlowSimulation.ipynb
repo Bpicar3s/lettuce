{
 "cells": [
  {
   "cell_type": "code",
   "execution_count": 1,
   "outputs": [],
   "source": [
    "import numpy as np\n",
    "import matplotlib.pyplot as plt\n",
    "import torch\n",
    "import lettuce as lt\n",
    "from lettuce import D2Q9, Lattice, UnitConversion, BGKCollision, StandardStreaming, Simulation, IncompressibleKineticEnergy\n",
    "from argparse import ArgumentParser, ArgumentDefaultsHelpFormatter\n"
   ],
   "metadata": {
    "collapsed": false,
    "ExecuteTime": {
     "end_time": "2025-05-06T14:12:02.030455750Z",
     "start_time": "2025-05-06T14:12:00.894895840Z"
    }
   }
  },
  {
   "cell_type": "code",
   "execution_count": 2,
   "outputs": [
    {
     "name": "stdout",
     "output_type": "stream",
     "text": [
      "ICH FUNKTIONIERE MIT PULLEN\n"
     ]
    }
   ],
   "source": [
    "parser = ArgumentParser(formatter_class=ArgumentDefaultsHelpFormatter)\n",
    "parser.add_argument(\"--vtkdir\", type=str, help=\"name base of vtk files - they are usually in a vtk-subdirectory!\", default=\"./output/\")\n",
    "parser.add_argument(\"--csvdir\", type=str, default=\"/home/ben/Schreibtisch/channel\")\n",
    "parser.add_argument(\"--resolutionx\", type=int, default=100)\n",
    "parser.add_argument(\"--resolutiony\", type=int, default=100)\n",
    "parser.add_argument(\"--nout\", type=int, default=100)\n",
    "parser.add_argument(\"--nvtk\", type=int, default=100)\n",
    "parser.add_argument(\"--tmax\", type=int, default=50)\n",
    "parser.add_argument(\"--Re\", type=int, default=5000)\n",
    "parser.add_argument(\"--collision_operator\", type=str, default=\"BGK\")\n",
    "parser.add_argument(\"--Precision\", type=str, default=\"Double\")\n",
    "parser.add_argument(\"--Mach\", type=float, default=0.1)\n",
    "args, unknown = parser.parse_known_args()\n",
    "args = vars(args)\n",
    "print(\"ICH FUNKTIONIERE MIT PULLEN\")\n",
    "Re=args[\"Re\"]\n",
    "basedir = args[\"vtkdir\"]\n",
    "csvdir = args[\"csvdir\"]\n",
    "nout = args[\"nout\"]\n",
    "nvtk = args[\"nvtk\"]\n",
    "tmax = args[\"tmax\"]\n",
    "Precision= args[\"Precision\"]\n",
    "collision_operator = args[\"collision_operator\"]\n",
    "Mach = args[\"Mach\"]\n",
    "res_x = args[\"resolutionx\"]\n",
    "res_y = args[\"resolutiony\"]\n",
    "\n",
    "acceleration = np.array([1e-7, 0.0])  # Body Force in x-Richtung (Guo)\n",
    "\n",
    "\n",
    "if Precision == \"Single\":\n",
    "    dtype = torch.float32\n",
    "elif Precision == \"Double\":\n",
    "    dtype = torch.float64\n",
    "elif Precision == \"Half\":\n",
    "    dtype = torch.float16"
   ],
   "metadata": {
    "collapsed": false,
    "ExecuteTime": {
     "end_time": "2025-05-06T14:12:02.037195485Z",
     "start_time": "2025-05-06T14:12:02.034749137Z"
    }
   }
  },
  {
   "cell_type": "code",
   "execution_count": 3,
   "outputs": [
    {
     "name": "stdout",
     "output_type": "stream",
     "text": [
      "steps     time     IncompressibleKineticEnergy\n",
      "tensor([[[-2.5002e-06,  2.0947e-03,  6.2347e-03,  ...,  6.2392e-03,\n",
      "           2.0971e-03, -2.4156e-06],\n",
      "         [-2.4994e-06,  2.0946e-03,  6.2346e-03,  ...,  6.2393e-03,\n",
      "           2.0972e-03, -2.4139e-06],\n",
      "         [-2.4984e-06,  2.0946e-03,  6.2345e-03,  ...,  6.2395e-03,\n",
      "           2.0973e-03, -2.4124e-06],\n",
      "         ...,\n",
      "         [-2.5014e-06,  2.0948e-03,  6.2349e-03,  ...,  6.2387e-03,\n",
      "           2.0968e-03, -2.4213e-06],\n",
      "         [-2.5012e-06,  2.0948e-03,  6.2349e-03,  ...,  6.2388e-03,\n",
      "           2.0969e-03, -2.4193e-06],\n",
      "         [-2.5008e-06,  2.0947e-03,  6.2348e-03,  ...,  6.2390e-03,\n",
      "           2.0970e-03, -2.4174e-06]],\n",
      "\n",
      "        [[ 8.8736e-06,  5.5968e-06,  1.3475e-05,  ..., -5.5829e-06,\n",
      "          -2.3931e-06, -4.5117e-06],\n",
      "         [ 8.7561e-06,  5.5944e-06,  1.3468e-05,  ..., -5.5008e-06,\n",
      "          -2.3558e-06, -4.5952e-06],\n",
      "         [ 8.6402e-06,  5.5918e-06,  1.3462e-05,  ..., -5.4115e-06,\n",
      "          -2.3153e-06, -4.6826e-06],\n",
      "         ...,\n",
      "         [ 9.2311e-06,  5.6052e-06,  1.3495e-05,  ..., -5.7827e-06,\n",
      "          -2.4853e-06, -4.2878e-06],\n",
      "         [ 9.1115e-06,  5.6023e-06,  1.3488e-05,  ..., -5.7241e-06,\n",
      "          -2.4580e-06, -4.3577e-06],\n",
      "         [ 8.9922e-06,  5.5997e-06,  1.3482e-05,  ..., -5.6575e-06,\n",
      "          -2.4273e-06, -4.4325e-06]]], device='cuda:0', dtype=torch.float64)\n"
     ]
    },
    {
     "data": {
      "text/plain": "<Figure size 640x480 with 2 Axes>",
      "image/png": "[encoded data removed]"
     },
     "metadata": {},
     "output_type": "display_data"
    }
   ],
   "source": [
    "\n",
    "# --- 🧱 Lattice & Einheiten ---\n",
    "lattice = Lattice(D2Q9, device=\"cuda\", dtype=dtype)\n",
    "\n",
    "flow = lt.ChannelFlow2D(\n",
    "    resolution_x=res_x,\n",
    "    resolution_y=res_y,\n",
    "    reynolds_number=Re,\n",
    "    mach_number=Mach,\n",
    "    lattice=lattice,\n",
    "    char_length_lu=res_y\n",
    ")\n",
    "\n",
    "# --- 🧱 Wände definieren ---\n",
    "x, y = flow.grid  # physikalische Gitterkoordinaten\n",
    "\n",
    "# y in LU umrechnen (nur nötig, falls du nach physikalischen Einheiten schneiden willst)\n",
    "# Hier reicht aber die Indexierung direkt, da wir die äußersten Zeilen meinen:\n",
    "mask = np.zeros_like(x, dtype=bool)\n",
    "mask[:, 0] = True           # untere Wand (y=0)\n",
    "mask[:, -1] = True          # obere Wand (y=max)\n",
    "\n",
    "# Maske setzen\n",
    "flow.mask = mask\n",
    "\n",
    "# --- 🌀 Forcing (Guo) ---\n",
    "from lettuce.force import Guo  # dein Guo-Code\n",
    "forcing = Guo(lattice, tau=flow.units.relaxation_parameter_lu, acceleration=acceleration)\n",
    "\n",
    "# --- 🔁 Setup Simulation ---\n",
    "if collision_operator == \"BGK\":\n",
    "    collision=lt.BGKCollision(lattice, tau=round(flow.units.relaxation_parameter_lu,7), force = forcing)\n",
    "elif collision_operator == \"KBC\":\n",
    "    collision=lt.KBCCollision3D(lattice, tau=flow.units.relaxation_parameter_lu, force = forcing)\n",
    "\n",
    "streaming = StandardStreaming(lattice)\n",
    "simulation = Simulation(flow=flow, lattice=lattice, collision=collision, streaming=streaming)\n",
    "\n",
    "# --- 📊 Beobachter ---\n",
    "Energy = IncompressibleKineticEnergy(lattice, flow)\n",
    "reporter = lt.ObservableReporter(Energy, interval=100, out=None)\n",
    "simulation.reporters.append(reporter)\n",
    "\n",
    "vtk_reporter = lt.VTKReporter(\n",
    "    lattice=lattice,\n",
    "    flow=flow,\n",
    "    interval=100,                    # alle 100 Zeitschritte ein VTK-Frame\n",
    "    filename_base=basedir + \"/output\" # Basisname der Dateien\n",
    ")\n",
    "simulation.reporters.append(vtk_reporter)\n",
    "\n",
    "simulation.initialize_f_neq\n",
    "\n",
    "# --- ▶️ Simulation starten ---\n",
    "steps = int(flow.units.convert_time_to_lu(tmax))  # z.B. 5 Sekunden\n",
    "mlups = simulation.step(num_steps=steps)\n",
    "# --- 📈 Analyse ---\n",
    "u = lattice.u(simulation.f) # u-Komponente\n",
    "u_mean= torch.mean(u, dim=(1,0))\n",
    "\n",
    "print(u) # Mittelung über x-Richtung\n",
    "\n",
    "# Hole u_x-Komponente (Index 0)\n",
    "u_numpy = u.cpu().numpy()  # [2, res_x, res_y]\n",
    "u_mag = np.sqrt(u_numpy[0]**2 + u_numpy[1]**2)  # Geschwindigkeitbetrag\n",
    "\n",
    "plt.imshow(u_mag.T, origin='lower', extent=[0, 1, 0, 1], aspect='auto')\n",
    "plt.colorbar(label='|u| (m/s)')\n",
    "plt.xlabel(\"x\")\n",
    "plt.ylabel(\"y\")\n",
    "plt.title(\"Geschwindigkeitsbetrag im Kanal\")\n",
    "plt.tight_layout()\n",
    "plt.show()\n"
   ],
   "metadata": {
    "collapsed": false,
    "ExecuteTime": {
     "end_time": "2025-05-06T14:13:45.542292462Z",
     "start_time": "2025-05-06T14:12:02.039831370Z"
    }
   }
  }
 ],
 "metadata": {
  "kernelspec": {
   "display_name": "Python 3",
   "language": "python",
   "name": "python3"
  },
  "language_info": {
   "codemirror_mode": {
    "name": "ipython",
    "version": 2
   },
   "file_extension": ".py",
   "mimetype": "text/x-python",
   "name": "python",
   "nbconvert_exporter": "python",
   "pygments_lexer": "ipython2",
   "version": "2.7.6"
  }
 },
 "nbformat": 4,
 "nbformat_minor": 0
}
