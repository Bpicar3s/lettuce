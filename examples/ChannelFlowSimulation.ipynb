{
 "cells": [
  {
   "cell_type": "code",
   "execution_count": 1,
   "outputs": [],
   "source": [
    "import numpy as np\n",
    "import matplotlib.pyplot as plt\n",
    "import torch\n",
    "import lettuce as lt\n",
    "from lettuce import D2Q9, Lattice, UnitConversion, BGKCollision, StandardStreaming, Simulation, IncompressibleKineticEnergy, WallQuantities\n",
    "from argparse import ArgumentParser, ArgumentDefaultsHelpFormatter\n",
    "import csv"
   ],
   "metadata": {
    "collapsed": false,
    "ExecuteTime": {
     "end_time": "2025-06-18T11:37:12.531547700Z",
     "start_time": "2025-06-18T11:37:11.409939710Z"
    }
   }
  },
  {
   "cell_type": "code",
   "execution_count": 2,
   "outputs": [
    {
     "name": "stdout",
     "output_type": "stream",
     "text": [
      "ICH FUNKTIONIERE MIT PULLEN\n"
     ]
    }
   ],
   "source": [
    "parser = ArgumentParser(formatter_class=ArgumentDefaultsHelpFormatter)\n",
    "parser.add_argument(\"--vtkdir\", type=str, help=\"name base of vtk files - they are usually in a vtk-subdirectory!\", default=\"./output/\")\n",
    "parser.add_argument(\"--csvdir\", type=str, default=\"/home/ben/Schreibtisch/channel\")\n",
    "parser.add_argument(\"--h\", type=int, default=10)\n",
    "parser.add_argument(\"--nout\", type=int, default=100)\n",
    "parser.add_argument(\"--nvtk\", type=int, default=100)\n",
    "parser.add_argument(\"--tmax\", type=int, default=100)\n",
    "parser.add_argument(\"--Re\", type=int, default=10000)\n",
    "parser.add_argument(\"--collision_operator\", type=str, default=\"BGK\")\n",
    "parser.add_argument(\"--Precision\", type=str, default=\"Double\")\n",
    "parser.add_argument(\"--Mach\", type=float, default=0.05)\n",
    "parser.add_argument(\"--bbtype\", type=str, default=\"fullway\", choices=[\"halfway\", \"fullway\"],\n",
    "                    help=\"Typ der Bounce-Back-Randbedingung\")\n",
    "args, unknown = parser.parse_known_args()\n",
    "args = vars(args)\n",
    "print(\"ICH FUNKTIONIERE MIT PULLEN\")\n",
    "Re=args[\"Re\"]\n",
    "basedir = args[\"vtkdir\"]\n",
    "csvdir = args[\"csvdir\"]\n",
    "nout = args[\"nout\"]\n",
    "nvtk = args[\"nvtk\"]\n",
    "tmax = args[\"tmax\"]\n",
    "Precision= args[\"Precision\"]\n",
    "bbtype = args[\"bbtype\"]\n",
    "collision_operator = args[\"collision_operator\"]\n",
    "Mach = args[\"Mach\"]\n",
    "h = args[\"h\"]\n",
    "res_y = 2 * h                     # y: volle Kanalhöhe\n",
    "res_x = int(2*np.pi * h)\n",
    "\n",
    "if Precision == \"Single\":\n",
    "    dtype = torch.float32\n",
    "elif Precision == \"Double\":\n",
    "    dtype = torch.float64\n",
    "elif Precision == \"Half\":\n",
    "    dtype = torch.float16"
   ],
   "metadata": {
    "collapsed": false,
    "ExecuteTime": {
     "end_time": "2025-06-18T11:37:12.537646788Z",
     "start_time": "2025-06-18T11:37:12.534231311Z"
    }
   }
  },
  {
   "cell_type": "code",
   "execution_count": 3,
   "outputs": [
    {
     "name": "stdout",
     "output_type": "stream",
     "text": [
      "steps     time     IncompressibleKineticEnergy\n",
      "steps     time     WallQuantities\n",
      "bottom:Retau:52.79658513315855y+:5.279658513315856\n"
     ]
    },
    {
     "ename": "IndexError",
     "evalue": "index 17 is out of bounds for dimension 0 with size 9",
     "output_type": "error",
     "traceback": [
      "\u001B[0;31m---------------------------------------------------------------------------\u001B[0m",
      "\u001B[0;31mIndexError\u001B[0m                                Traceback (most recent call last)",
      "Cell \u001B[0;32mIn[3], line 78\u001B[0m\n\u001B[1;32m     75\u001B[0m \u001B[38;5;66;03m# --- ▶️ Simulation starten ---\u001B[39;00m\n\u001B[1;32m     76\u001B[0m steps \u001B[38;5;241m=\u001B[39m \u001B[38;5;28mint\u001B[39m(flow\u001B[38;5;241m.\u001B[39munits\u001B[38;5;241m.\u001B[39mconvert_time_to_lu(tmax))  \u001B[38;5;66;03m# z.B. 5 Sekunden\u001B[39;00m\n\u001B[0;32m---> 78\u001B[0m mlups \u001B[38;5;241m=\u001B[39m \u001B[43msimulation\u001B[49m\u001B[38;5;241;43m.\u001B[39;49m\u001B[43mstep\u001B[49m\u001B[43m(\u001B[49m\u001B[43mnum_steps\u001B[49m\u001B[38;5;241;43m=\u001B[39;49m\u001B[43msteps\u001B[49m\u001B[43m)\u001B[49m\n\u001B[1;32m     79\u001B[0m \u001B[38;5;66;03m# --- 📈 Analyse ---\u001B[39;00m\n\u001B[1;32m     80\u001B[0m u \u001B[38;5;241m=\u001B[39m lattice\u001B[38;5;241m.\u001B[39mu(simulation\u001B[38;5;241m.\u001B[39mf) \u001B[38;5;66;03m# u-Komponente\u001B[39;00m\n",
      "File \u001B[0;32m~/lettuce/lettuce/simulation.py:84\u001B[0m, in \u001B[0;36mSimulation.step\u001B[0;34m(self, num_steps)\u001B[0m\n\u001B[1;32m     81\u001B[0m     \u001B[38;5;28mself\u001B[39m\u001B[38;5;241m.\u001B[39mf \u001B[38;5;241m=\u001B[39m torch\u001B[38;5;241m.\u001B[39mwhere(\u001B[38;5;28mself\u001B[39m\u001B[38;5;241m.\u001B[39mno_collision_mask, \u001B[38;5;28mself\u001B[39m\u001B[38;5;241m.\u001B[39mf, \u001B[38;5;28mself\u001B[39m\u001B[38;5;241m.\u001B[39mcollision(\u001B[38;5;28mself\u001B[39m\u001B[38;5;241m.\u001B[39mf))\n\u001B[1;32m     83\u001B[0m     \u001B[38;5;28;01mfor\u001B[39;00m boundary \u001B[38;5;129;01min\u001B[39;00m \u001B[38;5;28mself\u001B[39m\u001B[38;5;241m.\u001B[39m_boundaries:\n\u001B[0;32m---> 84\u001B[0m         \u001B[38;5;28mself\u001B[39m\u001B[38;5;241m.\u001B[39mf \u001B[38;5;241m=\u001B[39m \u001B[43mboundary\u001B[49m\u001B[43m(\u001B[49m\u001B[38;5;28;43mself\u001B[39;49m\u001B[38;5;241;43m.\u001B[39;49m\u001B[43mf\u001B[49m\u001B[43m)\u001B[49m\n\u001B[1;32m     86\u001B[0m     \u001B[38;5;28mself\u001B[39m\u001B[38;5;241m.\u001B[39m_report()\n\u001B[1;32m     90\u001B[0m end \u001B[38;5;241m=\u001B[39m timer()\n",
      "File \u001B[0;32m~/lettuce/lettuce/boundary.py:704\u001B[0m, in \u001B[0;36mWallFunctionBoundary.__call__\u001B[0;34m(self, f)\u001B[0m\n\u001B[1;32m    701\u001B[0m \u001B[38;5;28;01mdef\u001B[39;00m \u001B[38;5;21m__call__\u001B[39m(\u001B[38;5;28mself\u001B[39m, f):\n\u001B[1;32m    702\u001B[0m     \u001B[38;5;66;03m# --- 1. Klonen der Originalverteilungen für spätere Korrektur ---\u001B[39;00m\n\u001B[1;32m    703\u001B[0m     \u001B[38;5;28;01mif\u001B[39;00m \u001B[38;5;28mself\u001B[39m\u001B[38;5;241m.\u001B[39mwall \u001B[38;5;241m==\u001B[39m \u001B[38;5;124m'\u001B[39m\u001B[38;5;124mbottom\u001B[39m\u001B[38;5;124m'\u001B[39m:\n\u001B[0;32m--> 704\u001B[0m         f17_old \u001B[38;5;241m=\u001B[39m \u001B[43mf\u001B[49m\u001B[43m[\u001B[49m\u001B[38;5;241;43m17\u001B[39;49m\u001B[43m,\u001B[49m\u001B[38;5;28;43mself\u001B[39;49m\u001B[38;5;241;43m.\u001B[39;49m\u001B[43mmask\u001B[49m\u001B[43m]\u001B[49m\u001B[38;5;241m.\u001B[39mclone()\n\u001B[1;32m    705\u001B[0m         f16_old \u001B[38;5;241m=\u001B[39m f[\u001B[38;5;241m16\u001B[39m,\u001B[38;5;28mself\u001B[39m\u001B[38;5;241m.\u001B[39mmask]\u001B[38;5;241m.\u001B[39mclone()  \u001B[38;5;66;03m# f[16]\u001B[39;00m\n\u001B[1;32m    706\u001B[0m         f10_old \u001B[38;5;241m=\u001B[39m f[\u001B[38;5;241m10\u001B[39m,\u001B[38;5;28mself\u001B[39m\u001B[38;5;241m.\u001B[39mmask]\u001B[38;5;241m.\u001B[39mclone()      \u001B[38;5;66;03m# f[10]\u001B[39;00m\n",
      "\u001B[0;31mIndexError\u001B[0m: index 17 is out of bounds for dimension 0 with size 9"
     ]
    }
   ],
   "source": [
    "\n",
    "# --- 🧱 Lattice & Einheiten ---\n",
    "lattice = Lattice(D2Q9, device=\"cpu\", dtype=dtype)\n",
    "\n",
    "flow = lt.ChannelFlow2D(\n",
    "    resolution_x=res_x,\n",
    "    resolution_y=res_y,\n",
    "    reynolds_number=Re,\n",
    "    mach_number=Mach,\n",
    "    lattice=lattice,\n",
    "    char_length_lu=res_y,\n",
    "    boundary = bbtype\n",
    ")\n",
    "\n",
    "# --- 🧱 Wände definieren ---\n",
    "x, y = flow.grid  # physikalische Gitterkoordinaten\n",
    "\n",
    "# y in LU umrechnen (nur nötig, falls du nach physikalischen Einheiten schneiden willst)\n",
    "# Hier reicht aber die Indexierung direkt, da wir die äußersten Zeilen meinen:\n",
    "mask = np.zeros_like(x, dtype=bool)\n",
    "mask[:, 0] = True           # untere Wand (y=0)\n",
    "mask[:, -1] = True          # obere Wand (y=max)\n",
    "\n",
    "# Maske setzen\n",
    "flow.mask = mask\n",
    "\n",
    "Re_tau = 180\n",
    "\n",
    "nu = flow.units.viscosity_lu\n",
    "\n",
    "u_tau = Re_tau * nu / h\n",
    "\n",
    "# Kraft\n",
    "F_x = u_tau**2 / h\n",
    "\n",
    "# Guo-Force definieren\n",
    "acceleration = [F_x,0]# --- 🌀 Forcing (Guo) ---\n",
    "from lettuce.force import Guo  # dein Guo-Code\n",
    "forcing = Guo(lattice, tau=flow.units.relaxation_parameter_lu, acceleration=acceleration)\n",
    "\n",
    "# --- 🔁 Setup Simulation ---\n",
    "if collision_operator == \"BGK\":\n",
    "    collision=lt.BGKCollision(lattice, tau=flow.units.relaxation_parameter_lu, force = forcing)\n",
    "elif collision_operator == \"KBC\":\n",
    "    collision=lt.KBCCollision2D(lattice, tau=flow.units.relaxation_parameter_lu)\n",
    "elif collision_operator == \"Smag\":\n",
    "    collision=lt.SmagorinskyCollision(lattice, tau=flow.units.relaxation_parameter_lu)\n",
    "\n",
    "streaming = StandardStreaming(lattice)\n",
    "simulation = Simulation(flow=flow, lattice=lattice, collision=collision, streaming=streaming)\n",
    "\n",
    "# --- 📊 Beobachter ---\n",
    "Energy = IncompressibleKineticEnergy(lattice, flow)\n",
    "reporter = lt.ObservableReporter(Energy, interval=100, out=None)\n",
    "simulation.reporters.append(reporter)\n",
    "\n",
    "# ... (Deine anderen Reporter in der 2D-Simulation) ...\n",
    "\n",
    "wq = WallQuantities(lattice,flow,averaging_steps = 1)\n",
    "reporter2 = lt.ObservableReporter(wq, interval=100, out=None)\n",
    "simulation.reporters.append(reporter2)\n",
    "# ... (Starte deine 2D-Simulation) ...\n",
    "\n",
    "steps = int(flow.units.convert_time_to_lu(tmax))\n",
    "\n",
    "vtk_reporter = lt.VTKReporter(\n",
    "    lattice=lattice,\n",
    "    flow=flow,\n",
    "    interval= max(1,int(steps/100)),                    # alle 100 Zeitschritte ein VTK-Frame\n",
    "    filename_base=basedir + \"/output\" # Basisname der Dateien\n",
    ")\n",
    "simulation.reporters.append(vtk_reporter)\n",
    "\n",
    "simulation.initialize_f_neq\n",
    "\n",
    "# --- ▶️ Simulation starten ---\n",
    "steps = int(flow.units.convert_time_to_lu(tmax))  # z.B. 5 Sekunden\n",
    "\n",
    "mlups = simulation.step(num_steps=steps)\n",
    "# --- 📈 Analyse ---\n",
    "u = lattice.u(simulation.f) # u-Komponente\n",
    "u = flow.units.convert_velocity_to_pu(u)\n",
    "u_mean= torch.mean(u, dim=(1,0))\n",
    "\n",
    "print(u) # Mittelung über x-Richtung\n",
    "\n",
    "# Hole u_x-Komponente (Index 0)\n",
    "u_numpy = u.cpu().numpy()  # [2, res_x, res_y]\n",
    "u_mag = np.sqrt(u_numpy[0]**2 + u_numpy[1]**2)  # Geschwindigkeitbetrag\n",
    "\n",
    "plt.imshow(u_mag.T, origin='lower', extent=[0, 1, 0, 1], aspect='auto')\n",
    "plt.colorbar(label='|u| (m/s)')\n",
    "plt.xlabel(\"x\")\n",
    "plt.ylabel(\"y\")\n",
    "plt.title(\"Geschwindigkeitsbetrag im Kanal\")\n",
    "plt.tight_layout()\n",
    "plt.show()\n",
    "\n",
    "wq = np.array(simulation.reporters[1].out)\n",
    "Energy = np.array(simulation.reporters[0].out)\n",
    "\n",
    "with open(csvdir + 'Energy.csv', 'w', newline='') as file:\n",
    "    writer = csv.writer(file)\n",
    "    writer.writerows(Energy)\n",
    "with open(csvdir + 'WallQuantities.csv', 'w', newline='') as file:\n",
    "    writer = csv.writer(file)\n",
    "    writer.writerows(wq)"
   ],
   "metadata": {
    "collapsed": false,
    "ExecuteTime": {
     "end_time": "2025-06-18T11:37:12.777925870Z",
     "start_time": "2025-06-18T11:37:12.541113897Z"
    }
   }
  },
  {
   "cell_type": "code",
   "execution_count": null,
   "outputs": [],
   "source": [
    "import matplotlib.pyplot as plt\n",
    "import numpy as np\n",
    "\n",
    "# Beispiel: Daten laden\n",
    "data = wq\n",
    "time = data[:, 1]\n",
    "re_tau_bottom = data[:, 2]\n",
    "y_plus_bottom = data[:, 3]\n",
    "re_tau_top = data[:, 4]\n",
    "y_plus_top = data[:, 5]\n",
    "\n",
    "plt.figure()\n",
    "plt.plot(time, re_tau_bottom, label=\"Re_tau (bottom)\")\n",
    "plt.plot(time, re_tau_top, label=\"Re_tau (top)\")\n",
    "plt.xlabel(\"Zeit\")\n",
    "plt.ylabel(\"Re_tau\")\n",
    "plt.legend()\n",
    "plt.grid()\n",
    "plt.title(\"Re_tau über die Zeit\")\n",
    "plt.show()\n",
    "\n",
    "plt.figure()\n",
    "plt.plot(time, y_plus_bottom, label=\"y⁺ (bottom)\")\n",
    "plt.plot(time, y_plus_top, label=\"y⁺ (top)\")\n",
    "plt.xlabel(\"Zeit\")\n",
    "plt.ylabel(\"y⁺\")\n",
    "plt.legend()\n",
    "plt.grid()\n",
    "plt.title(\"y⁺ über die Zeit\")\n",
    "plt.show()\n"
   ],
   "metadata": {
    "collapsed": false,
    "ExecuteTime": {
     "start_time": "2025-06-18T11:37:12.775394589Z"
    }
   }
  }
 ],
 "metadata": {
  "kernelspec": {
   "display_name": "Python 3",
   "language": "python",
   "name": "python3"
  },
  "language_info": {
   "codemirror_mode": {
    "name": "ipython",
    "version": 2
   },
   "file_extension": ".py",
   "mimetype": "text/x-python",
   "name": "python",
   "nbconvert_exporter": "python",
   "pygments_lexer": "ipython2",
   "version": "2.7.6"
  }
 },
 "nbformat": 4,
 "nbformat_minor": 0
}
