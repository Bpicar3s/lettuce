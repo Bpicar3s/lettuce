{
 "cells": [
  {
   "cell_type": "markdown",
   "metadata": {},
   "source": [
    "# A first example\n",
    "This is a first example of how to use lettuce.\n",
    "A two dimensional Taylor Green vortex is initialized and simulated for 10000 steps. Afterwards the energy and the velocity field is plotted."
   ]
  },
  {
   "cell_type": "code",
   "metadata": {
    "ExecuteTime": {
     "end_time": "2025-06-30T12:33:57.559765661Z",
     "start_time": "2025-06-30T12:33:56.243117440Z"
    }
   },
   "source": [
    "import lettuce as lt\n",
    "import matplotlib.pyplot as plt\n",
    "import numpy as np\n",
    "import torch"
   ],
   "outputs": [],
   "execution_count": 1
  },
  {
   "cell_type": "markdown",
   "metadata": {},
   "source": [
    "## Setup\n",
    "* for running on GPU: device = \"cuda\". CUDA drivers are required!\n",
    "* dtype=torch.float32 for single precision - float64 for double precision\n",
    "* select collision model (here BGKCollision) - try also KBCCollision or RegularizedCollision"
   ]
  },
  {
   "cell_type": "code",
   "metadata": {
    "ExecuteTime": {
     "end_time": "2025-06-30T12:33:58.288936195Z",
     "start_time": "2025-06-30T12:33:57.601691531Z"
    }
   },
   "source": [
    "context = lt.Context(device=torch.device('cuda:0') if torch.cuda\n",
    "                     .is_available() else torch.device('cpu'),\n",
    "                     dtype=torch.float32, use_native = False)\n",
    "flow = lt.SuperReducedTaylorGreenVortex3D(resolution=4,reynolds_number=100,\n",
    "                            mach_number=0.1, stencil=lt.D3Q27,\n",
    "                            context=context)\n",
    "collision = lt.BGKCollision(tau=flow.units.relaxation_parameter_lu)\n",
    "energyreporter = lt.ObservableReporter(lt.IncompressibleKineticEnergy(flow), interval=100, out=None)\n",
    "simulation = lt.SimulationReducedTGV(flow=flow, collision=collision, reporter=[energyreporter])"
   ],
   "outputs": [
    {
     "name": "stdout",
     "output_type": "stream",
     "text": [
      "steps     time     IncompressibleKineticEnergy\n",
      "[[(2, 1), (12, 13), (14, 11), (16, 17), (18, 15), (20, 25), (22, 23), (24, 21), (26, 19)], [(4, 3), (8, 9), (10, 7), (16, 18), (17, 15), (20, 24), (22, 26), (23, 19), (25, 21)], [(5, 6), (7, 9), (10, 8), (11, 13), (14, 12), (19, 21), (22, 20), (23, 25), (26, 24)], [(6, 5), (8, 14), (9, 11), (12, 10), (13, 7), (20, 22), (21, 19), (24, 23), (25, 26)], [(1, 4), (11, 10), (13, 8), (15, 17), (17, 16), (19, 23), (21, 25), (23, 22), (25, 20)], [(3, 2), (7, 14), (9, 12), (15, 18), (18, 16), (19, 26), (21, 24), (24, 20), (26, 22)]]\n"
     ]
    }
   ],
   "execution_count": 2
  },
  {
   "cell_type": "markdown",
   "metadata": {},
   "source": [
    "* Reporters will grab the results in between simulation steps (see reporters.py and simulation.py)\n",
    "* Output: Column 1: simulation steps, Column 2: time in LU, Column 3: kinetic energy in PU\n",
    "* Output: separate VTK-file with ux,uy,(uz) and p for every 100. time step in ./output"
   ]
  },
  {
   "cell_type": "markdown",
   "metadata": {},
   "source": [
    "## Run simulation"
   ]
  },
  {
   "cell_type": "code",
   "metadata": {
    "ExecuteTime": {
     "end_time": "2025-06-30T12:33:58.365752552Z",
     "start_time": "2025-06-30T12:33:58.290616485Z"
    }
   },
   "source": [
    "mlups = simulation(1)\n",
    "\n",
    "print(\"Performance in MLUPS:\", mlups)\n",
    "\n",
    "print(flow.u_pu)"
   ],
   "outputs": [
    {
     "name": "stdout",
     "output_type": "stream",
     "text": [
      "ich wurde gecalled\n",
      "tensor([[[[ 1.3673e-01,  1.9229e-01,  2.9127e-01,  2.3875e-01],\n",
      "          [ 1.2548e-01,  1.7853e-01,  2.6902e-01,  2.2394e-01],\n",
      "          [ 8.1731e-02,  1.1691e-01,  1.7584e-01,  1.4481e-01],\n",
      "          [ 9.0380e-02,  1.4862e-01,  2.2611e-01,  2.0594e-01]],\n",
      "\n",
      "         [[ 3.7812e-02, -5.6327e-02, -8.1259e-02, -1.8291e-01],\n",
      "          [ 6.0535e-02,  0.0000e+00,  0.0000e+00, -9.0464e-02],\n",
      "          [ 4.0419e-02,  0.0000e+00,  0.0000e+00, -6.0491e-02],\n",
      "          [ 3.7524e-02,  4.0518e-02,  6.0750e-02,  3.5138e-02]],\n",
      "\n",
      "         [[ 5.5621e-02, -8.6307e-02, -1.2607e-01, -2.7825e-01],\n",
      "          [ 9.0531e-02,  0.0000e+00,  0.0000e+00, -1.3549e-01],\n",
      "          [ 6.0446e-02,  0.0000e+00,  0.0000e+00, -9.0597e-02],\n",
      "          [ 5.6344e-02,  6.0610e-02,  9.0820e-02,  5.2948e-02]],\n",
      "\n",
      "         [[-7.2392e-02, -3.3670e-01, -5.0135e-01, -6.6003e-01],\n",
      "          [-5.4725e-02, -2.7418e-01, -4.0812e-01, -5.4316e-01],\n",
      "          [-3.8689e-02, -1.8563e-01, -2.7677e-01, -3.6792e-01],\n",
      "          [ 2.6720e-02,  5.1828e-03,  1.0102e-02, -2.7746e-02]]],\n",
      "\n",
      "\n",
      "        [[[-1.3926e-01, -1.9230e-01, -2.8307e-01, -2.2805e-01],\n",
      "          [-3.4107e-02,  6.4539e-02,  9.9633e-02,  2.0123e-01],\n",
      "          [-5.1918e-02,  9.4521e-02,  1.4445e-01,  2.9658e-01],\n",
      "          [ 6.8386e-02,  3.3240e-01,  4.9998e-01,  6.6222e-01]],\n",
      "\n",
      "         [[-1.2959e-01, -1.8361e-01, -2.7213e-01, -2.2292e-01],\n",
      "          [-6.0535e-02,  0.0000e+00,  0.0000e+00,  9.0464e-02],\n",
      "          [-9.0531e-02,  0.0000e+00,  0.0000e+00,  1.3549e-01],\n",
      "          [ 5.0611e-02,  2.6908e-01,  4.0496e-01,  5.4414e-01]],\n",
      "\n",
      "         [[-8.8674e-02, -1.2515e-01, -1.8603e-01, -1.5402e-01],\n",
      "          [-4.0419e-02,  0.0000e+00,  0.0000e+00,  6.0491e-02],\n",
      "          [-6.0446e-02,  0.0000e+00,  0.0000e+00,  9.0597e-02],\n",
      "          [ 3.1736e-02,  1.7738e-01,  2.6655e-01,  3.5867e-01]],\n",
      "\n",
      "         [[-9.4810e-02, -1.5006e-01, -2.2106e-01, -2.0119e-01],\n",
      "          [-3.8398e-02, -4.0511e-02, -6.0732e-02, -3.7086e-02],\n",
      "          [-5.7217e-02, -6.0604e-02, -9.0805e-02, -5.4898e-02],\n",
      "          [-3.2411e-02, -1.0277e-02, -1.3236e-02,  2.5210e-02]]],\n",
      "\n",
      "\n",
      "        [[[ 1.0400e-02,  2.4149e-08,  0.0000e+00,  1.0375e-02],\n",
      "          [ 4.8498e-02, -8.0549e-09,  8.0498e-09,  6.8885e-02],\n",
      "          [ 3.0382e-02,  8.1157e-09, -7.8945e-09,  4.4222e-02],\n",
      "          [-4.6249e-02, -8.2442e-09,  2.4333e-08, -6.8730e-02]],\n",
      "\n",
      "         [[-3.6704e-02, -8.4945e-11, -2.4400e-08, -5.8463e-02],\n",
      "          [ 2.5502e-03,  0.0000e+00,  0.0000e+00,  2.5487e-03],\n",
      "          [ 7.2589e-08,  0.0000e+00,  0.0000e+00,  6.4524e-08],\n",
      "          [-6.8252e-02,  3.2408e-08, -1.9642e-10, -1.0176e-01]],\n",
      "\n",
      "         [[-2.6533e-02, -8.0030e-09,  8.2312e-09, -4.0981e-02],\n",
      "          [ 5.6458e-08,  0.0000e+00,  0.0000e+00,  6.4524e-08],\n",
      "          [-2.5531e-03,  0.0000e+00,  0.0000e+00, -2.5546e-03],\n",
      "          [-4.7614e-02, -8.2445e-09, -1.6290e-08, -6.9673e-02]],\n",
      "\n",
      "         [[ 4.1291e-02,  1.5881e-08, -8.1883e-09,  6.2334e-02],\n",
      "          [ 5.9843e-02, -1.6264e-08, -1.5961e-08,  9.0268e-02],\n",
      "          [ 3.7893e-02, -8.5070e-11,  8.0812e-09,  5.8570e-02],\n",
      "          [-6.0156e-03,  2.4232e-08,  0.0000e+00, -6.0240e-03]]]],\n",
      "       device='cuda:0')\n",
      "ich wurde gecalled\n",
      "tensor([[[[ 2.0176e-01,  2.5532e-01,  3.8529e-01,  3.4263e-01],\n",
      "          [ 1.8071e-01,  2.2730e-01,  3.4027e-01,  3.0418e-01],\n",
      "          [ 1.1915e-01,  1.5055e-01,  2.2541e-01,  2.0085e-01],\n",
      "          [ 1.1119e-01,  1.4548e-01,  2.2001e-01,  2.1008e-01]],\n",
      "\n",
      "         [[ 7.0581e-02, -4.9448e-02, -7.0951e-02, -1.5087e-01],\n",
      "          [ 9.1830e-02,  0.0000e+00,  0.0000e+00, -6.7594e-02],\n",
      "          [ 6.1547e-02,  0.0000e+00,  0.0000e+00, -4.5409e-02],\n",
      "          [ 4.8716e-02,  3.6105e-02,  5.4122e-02,  3.7697e-02]],\n",
      "\n",
      "         [[ 1.0406e-01, -7.5777e-02, -1.1034e-01, -2.2927e-01],\n",
      "          [ 1.3693e-01,  0.0000e+00,  0.0000e+00, -1.0078e-01],\n",
      "          [ 9.1674e-02,  0.0000e+00,  0.0000e+00, -6.7600e-02],\n",
      "          [ 7.2533e-02,  5.3770e-02,  8.0609e-02,  5.6361e-02]],\n",
      "\n",
      "         [[-1.6628e-02, -2.5965e-01, -3.8574e-01, -5.2966e-01],\n",
      "          [-7.1238e-03, -2.1163e-01, -3.1493e-01, -4.3735e-01],\n",
      "          [-6.4764e-03, -1.4315e-01, -2.1339e-01, -2.9555e-01],\n",
      "          [ 4.3085e-02,  1.0059e-02,  1.6648e-02, -1.3327e-02]]],\n",
      "\n",
      "\n",
      "        [[[-2.0314e-01, -2.5768e-01, -3.8116e-01, -3.3947e-01],\n",
      "          [-6.4065e-02,  5.6493e-02,  8.7517e-02,  1.6413e-01],\n",
      "          [-9.7550e-02,  8.2823e-02,  1.2692e-01,  2.4254e-01],\n",
      "          [ 1.3426e-02,  2.5430e-01,  3.8318e-01,  5.2602e-01]],\n",
      "\n",
      "         [[-1.8620e-01, -2.3929e-01, -3.5729e-01, -3.2169e-01],\n",
      "          [-8.9678e-02,  0.0000e+00,  0.0000e+00,  6.5445e-02],\n",
      "          [-1.3479e-01,  0.0000e+00,  0.0000e+00,  9.8626e-02],\n",
      "          [ 2.6323e-03,  2.0308e-01,  3.0561e-01,  4.2651e-01]],\n",
      "\n",
      "         [[-1.2597e-01, -1.6121e-01, -2.4079e-01, -2.1738e-01],\n",
      "          [-5.9698e-02,  0.0000e+00,  0.0000e+00,  4.3563e-02],\n",
      "          [-8.9829e-02,  0.0000e+00,  0.0000e+00,  6.5752e-02],\n",
      "          [ 9.9249e-05,  1.3402e-01,  2.0144e-01,  2.8199e-01]],\n",
      "\n",
      "         [[-1.1535e-01, -1.5133e-01, -2.2423e-01, -2.1656e-01],\n",
      "          [-4.7051e-02, -3.4858e-02, -5.2137e-02, -3.6993e-02],\n",
      "          [-7.0870e-02, -5.2521e-02, -7.8622e-02, -5.5653e-02],\n",
      "          [-4.8621e-02, -1.8020e-02, -2.5601e-02,  1.9501e-03]]],\n",
      "\n",
      "\n",
      "        [[[ 8.9899e-03, -5.0213e-03, -5.0164e-03,  8.9735e-03],\n",
      "          [ 5.1878e-02, -2.1307e-02, -1.4987e-02,  7.4231e-02],\n",
      "          [ 3.2818e-02, -1.3979e-02, -9.7644e-03,  4.8053e-02],\n",
      "          [-9.5327e-03,  4.6567e-02,  3.1652e-02, -1.3142e-02]],\n",
      "\n",
      "         [[-4.2345e-02,  1.6958e-02,  1.0642e-02, -6.6619e-02],\n",
      "          [ 2.2414e-03,  0.0000e+00,  0.0000e+00,  2.2403e-03],\n",
      "          [ 3.0697e-05,  0.0000e+00,  0.0000e+00,  6.2224e-05],\n",
      "          [-2.8902e-02,  5.9653e-02,  4.0943e-02, -4.2161e-02]],\n",
      "\n",
      "         [[-3.0216e-02,  1.1630e-02,  7.4171e-03, -4.6309e-02],\n",
      "          [-4.9845e-05,  0.0000e+00,  0.0000e+00, -8.1406e-05],\n",
      "          [-2.2349e-03,  0.0000e+00,  0.0000e+00, -2.2361e-03],\n",
      "          [-2.1015e-02,  3.9357e-02,  2.6851e-02, -2.9800e-02]],\n",
      "\n",
      "         [[ 4.8068e-03, -4.3398e-02, -2.8483e-02,  8.2850e-03],\n",
      "          [ 2.2517e-02, -5.3426e-02, -3.4715e-02,  3.4865e-02],\n",
      "          [ 1.3340e-02, -3.6169e-02, -2.3662e-02,  2.1711e-02],\n",
      "          [-4.3549e-03,  2.4320e-03,  2.4346e-03, -4.3585e-03]]]],\n",
      "       device='cuda:0')\n",
      "Performance in MLUPS: 0.0009286314517407226\n",
      "tensor([[[[-2.3550e-01, -3.5339e-01, -5.3290e-01, -5.1716e-01],\n",
      "          [-2.0918e-01, -3.1033e-01, -4.6536e-01, -4.5214e-01],\n",
      "          [-1.3788e-01, -2.0584e-01, -3.0895e-01, -2.9978e-01],\n",
      "          [-1.1721e-01, -1.6458e-01, -2.4936e-01, -2.4507e-01]],\n",
      "\n",
      "         [[-1.6702e-01, -2.2998e-01, -3.4931e-01, -3.4588e-01],\n",
      "          [-1.7325e-01, -2.3665e-01, -3.5618e-01, -3.5353e-01],\n",
      "          [-1.1525e-01, -1.5766e-01, -2.3789e-01, -2.3614e-01],\n",
      "          [-6.6235e-02, -9.0699e-02, -1.3770e-01, -1.3718e-01]],\n",
      "\n",
      "         [[-2.4935e-01, -3.4282e-01, -5.1828e-01, -5.1331e-01],\n",
      "          [-2.5977e-01, -3.5463e-01, -5.3283e-01, -5.2878e-01],\n",
      "          [-1.7305e-01, -2.3649e-01, -3.5593e-01, -3.5323e-01],\n",
      "          [-9.9768e-02, -1.3605e-01, -2.0564e-01, -2.0476e-01]],\n",
      "\n",
      "         [[-1.5623e-01, -2.3465e-01, -3.5500e-01, -3.4459e-01],\n",
      "          [-1.3928e-01, -2.0732e-01, -3.1302e-01, -3.0388e-01],\n",
      "          [-9.1049e-02, -1.3660e-01, -2.0618e-01, -1.9984e-01],\n",
      "          [-7.6776e-02, -1.0797e-01, -1.6401e-01, -1.6090e-01]]],\n",
      "\n",
      "\n",
      "        [[[ 2.3845e-01,  3.5619e-01,  5.2761e-01,  5.1171e-01],\n",
      "          [ 1.6429e-01,  2.2400e-01,  3.2996e-01,  3.2710e-01],\n",
      "          [ 2.4663e-01,  3.3685e-01,  4.9892e-01,  4.9455e-01],\n",
      "          [ 1.6100e-01,  2.4045e-01,  3.5640e-01,  3.4596e-01]],\n",
      "\n",
      "         [[ 2.1627e-01,  3.2291e-01,  4.8151e-01,  4.6774e-01],\n",
      "          [ 1.7497e-01,  2.3804e-01,  3.5408e-01,  3.5110e-01],\n",
      "          [ 2.6150e-01,  3.5603e-01,  5.3073e-01,  5.2636e-01],\n",
      "          [ 1.4537e-01,  2.1645e-01,  3.2148e-01,  3.1282e-01]],\n",
      "\n",
      "         [[ 1.4635e-01,  2.1727e-01,  3.2386e-01,  3.1494e-01],\n",
      "          [ 1.1739e-01,  1.5952e-01,  2.3674e-01,  2.3471e-01],\n",
      "          [ 1.7519e-01,  2.3836e-01,  3.5479e-01,  3.5181e-01],\n",
      "          [ 9.9080e-02,  1.4649e-01,  2.1766e-01,  2.1205e-01]],\n",
      "\n",
      "         [[ 1.2306e-01,  1.7133e-01,  2.5338e-01,  2.5058e-01],\n",
      "          [ 6.8645e-02,  9.1643e-02,  1.3524e-01,  1.3412e-01],\n",
      "          [ 1.0218e-01,  1.3699e-01,  2.0318e-01,  2.0170e-01],\n",
      "          [ 8.4001e-02,  1.1684e-01,  1.7277e-01,  1.7131e-01]]],\n",
      "\n",
      "\n",
      "        [[[-1.0984e-02,  2.0901e-04,  2.0788e-04, -1.0964e-02],\n",
      "          [-5.3314e-02,  1.7867e-02,  1.1545e-02, -7.5659e-02],\n",
      "          [-3.3440e-02,  1.2518e-02,  8.2952e-03, -4.8665e-02],\n",
      "          [ 9.5238e-03, -4.6569e-02, -3.1659e-02,  1.3137e-02]],\n",
      "\n",
      "         [[ 4.0970e-02, -2.0301e-02, -1.3977e-02,  6.5240e-02],\n",
      "          [-3.0633e-03, -1.9835e-03, -1.9815e-03, -3.0607e-03],\n",
      "          [-5.1538e-05, -3.0778e-05, -3.4294e-05, -7.7565e-05],\n",
      "          [ 2.9473e-02, -5.8260e-02, -3.9553e-02,  4.2737e-02]],\n",
      "\n",
      "         [[ 2.9692e-02, -1.2934e-02, -8.7125e-03,  4.5776e-02],\n",
      "          [ 7.7300e-05,  4.7167e-05,  5.2540e-05,  1.0497e-04],\n",
      "          [ 3.0533e-03,  1.9764e-03,  1.9779e-03,  3.0558e-03],\n",
      "          [ 2.2406e-02, -3.5995e-02, -2.3488e-02,  3.1193e-02]],\n",
      "\n",
      "         [[-4.7671e-03,  4.3473e-02,  2.8562e-02, -8.2507e-03],\n",
      "          [-2.1916e-02,  5.4866e-02,  3.6157e-02, -3.4267e-02],\n",
      "          [-1.1941e-02,  3.9544e-02,  2.7039e-02, -2.0311e-02],\n",
      "          [ 6.3214e-03,  2.3173e-03,  2.3185e-03,  6.3284e-03]]]],\n",
      "       device='cuda:0')\n"
     ]
    }
   ],
   "execution_count": 3
  },
  {
   "cell_type": "markdown",
   "metadata": {},
   "source": [
    "## Post process\n",
    "### Energy Reporter\n",
    "* Grab output of kinetic energy reporter"
   ]
  },
  {
   "cell_type": "code",
   "metadata": {
    "ExecuteTime": {
     "end_time": "2025-06-30T12:33:58.449442816Z",
     "start_time": "2025-06-30T12:33:58.366148828Z"
    }
   },
   "source": [
    "energy = np.array(simulation.reporter[0].out)\n",
    "print(energy.shape)\n",
    "plt.plot(energy[:,1],energy[:,2])\n",
    "plt.title('Kinetic energy')\n",
    "plt.xlabel('Time')\n",
    "plt.ylabel('Energy in physical units')\n",
    "plt.show()"
   ],
   "outputs": [
    {
     "name": "stdout",
     "output_type": "stream",
     "text": [
      "(2, 3)\n"
     ]
    },
    {
     "data": {
      "text/plain": "<Figure size 640x480 with 1 Axes>",
      "image/png": "[encoded data removed]"
     },
     "metadata": {},
     "output_type": "display_data"
    }
   ],
   "execution_count": 4
  },
  {
   "cell_type": "markdown",
   "metadata": {},
   "source": [
    "### Velocity\n",
    "We calculate the speed in Lettuce units depending on the last 'f'. Then we convert this velocity into physical units. For further investigations the tensor must be converted into a Numpy-Array. The norm of the fractions in x and y direction is plotted afterwards."
   ]
  },
  {
   "cell_type": "code",
   "metadata": {
    "ExecuteTime": {
     "end_time": "2025-06-30T12:33:58.574597164Z",
     "start_time": "2025-06-30T12:33:58.450791744Z"
    }
   },
   "source": [
    "u = flow.u_pu.cpu().numpy()\n",
    "# Slice bei z = -1\n",
    "ux = u[0, :, :, -1]\n",
    "uy = u[1, :, :, -1]\n",
    "\n",
    "# Norm der xy-Geschwindigkeit (ohne uz)\n",
    "u_xy_norm = np.sqrt(ux**2 + uy**2)\n",
    "\n",
    "# Plot\n",
    "plt.imshow(u_xy_norm.T, origin='lower', cmap='viridis')\n",
    "plt.colorbar(label='|u_xy|')\n",
    "plt.title('Geschwindigkeitsnorm in xy-Ebene bei z = max')\n",
    "plt.xlabel('x')\n",
    "plt.ylabel('y')\n",
    "plt.show()\n"
   ],
   "outputs": [
    {
     "data": {
      "text/plain": "<Figure size 640x480 with 2 Axes>",
      "image/png": "[encoded data removed]"
     },
     "metadata": {},
     "output_type": "display_data"
    }
   ],
   "execution_count": 5
  },
  {
   "metadata": {
    "ExecuteTime": {
     "end_time": "2025-06-30T12:33:58.636966323Z",
     "start_time": "2025-06-30T12:33:58.575082569Z"
    }
   },
   "cell_type": "code",
   "outputs": [],
   "execution_count": 5,
   "source": []
  }
 ],
 "metadata": {
  "kernelspec": {
   "display_name": "Python 3",
   "language": "python",
   "name": "python3"
  },
  "language_info": {
   "codemirror_mode": {
    "name": "ipython",
    "version": 3
   },
   "file_extension": ".py",
   "mimetype": "text/x-python",
   "name": "python",
   "nbconvert_exporter": "python",
   "pygments_lexer": "ipython3",
   "version": "3.8.5"
  }
 },
 "nbformat": 4,
 "nbformat_minor": 4
}
