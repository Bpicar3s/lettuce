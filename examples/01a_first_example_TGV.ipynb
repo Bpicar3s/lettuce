{
 "cells": [
  {
   "cell_type": "markdown",
   "metadata": {},
   "source": [
    "# A first example\n",
    "This is a first example of how to use lettuce.\n",
    "A two dimensional Taylor Green vortex is initialized and simulated for 10000 steps. Afterwards the energy and the velocity field is plotted."
   ]
  },
  {
   "cell_type": "code",
   "metadata": {
    "ExecuteTime": {
     "end_time": "2025-06-30T12:13:20.303436286Z",
     "start_time": "2025-06-30T12:13:19.037262659Z"
    }
   },
   "source": [
    "import lettuce as lt\n",
    "import matplotlib.pyplot as plt\n",
    "import numpy as np\n",
    "import torch"
   ],
   "outputs": [],
   "execution_count": 1
  },
  {
   "cell_type": "markdown",
   "metadata": {},
   "source": [
    "## Setup\n",
    "* for running on GPU: device = \"cuda\". CUDA drivers are required!\n",
    "* dtype=torch.float32 for single precision - float64 for double precision\n",
    "* select collision model (here BGKCollision) - try also KBCCollision or RegularizedCollision"
   ]
  },
  {
   "cell_type": "code",
   "metadata": {
    "ExecuteTime": {
     "end_time": "2025-06-30T12:13:22.046142100Z",
     "start_time": "2025-06-30T12:13:21.417337415Z"
    }
   },
   "source": [
    "context = lt.Context(device=torch.device('cuda:0') if torch.cuda\n",
    "                     .is_available() else torch.device('cpu'),\n",
    "                     dtype=torch.float32, use_native = False)\n",
    "flow = lt.SuperReducedTaylorGreenVortex3D(resolution=12,reynolds_number=100,\n",
    "                            mach_number=0.1, stencil=lt.D3Q27,\n",
    "                            context=context)\n",
    "collision = lt.BGKCollision(tau=flow.units.relaxation_parameter_lu)\n",
    "energyreporter = lt.ObservableReporter(lt.IncompressibleKineticEnergy(flow), interval=100, out=None)\n",
    "simulation = lt.SimulationReducedTGV(flow=flow, collision=collision, reporter=[energyreporter])"
   ],
   "outputs": [
    {
     "name": "stdout",
     "output_type": "stream",
     "text": [
      "steps     time     IncompressibleKineticEnergy\n",
      "[[(2, 1), (12, 13), (14, 11), (16, 17), (18, 15), (20, 25), (22, 23), (24, 21), (26, 19)], [(4, 3), (8, 9), (10, 7), (16, 18), (17, 15), (20, 24), (22, 26), (23, 19), (25, 21)], [(5, 6), (7, 9), (10, 8), (11, 13), (14, 12), (19, 21), (22, 20), (23, 25), (26, 24)], [(6, 5), (8, 14), (9, 11), (12, 10), (13, 7), (20, 22), (21, 19), (24, 23), (25, 26)], [(1, 4), (11, 10), (13, 8), (15, 17), (17, 16), (19, 23), (21, 25), (23, 22), (25, 20)], [(3, 2), (7, 14), (9, 12), (15, 18), (18, 16), (19, 26), (21, 24), (24, 20), (26, 22)]]\n"
     ]
    }
   ],
   "execution_count": 2
  },
  {
   "cell_type": "markdown",
   "metadata": {},
   "source": [
    "* Reporters will grab the results in between simulation steps (see reporters.py and simulation.py)\n",
    "* Output: Column 1: simulation steps, Column 2: time in LU, Column 3: kinetic energy in PU\n",
    "* Output: separate VTK-file with ux,uy,(uz) and p for every 100. time step in ./output"
   ]
  },
  {
   "cell_type": "markdown",
   "metadata": {},
   "source": [
    "## Run simulation"
   ]
  },
  {
   "cell_type": "code",
   "metadata": {
    "ExecuteTime": {
     "end_time": "2025-06-30T12:13:22.122721143Z",
     "start_time": "2025-06-30T12:13:22.047339507Z"
    }
   },
   "source": [
    "mlups = simulation(1)\n",
    "print(\"Performance in MLUPS:\", mlups)\n",
    "print(flow.u_pu)"
   ],
   "outputs": [
    {
     "name": "stdout",
     "output_type": "stream",
     "text": [
      "Performance in MLUPS: 0.10650290201914392\n",
      "tensor([[[[-1.3162e-01, -1.0526e-01, -1.7630e-01,  ..., -5.3194e-01,\n",
      "           -5.5134e-01, -4.6941e-01],\n",
      "          [-1.3253e-01, -1.0524e-01, -1.7598e-01,  ..., -5.2662e-01,\n",
      "           -5.4558e-01, -4.6637e-01],\n",
      "          [-1.2765e-01, -1.0147e-01, -1.6972e-01,  ..., -5.0784e-01,\n",
      "           -5.2612e-01, -4.4963e-01],\n",
      "          ...,\n",
      "          [-3.9350e-02, -3.1801e-02, -5.4533e-02,  ..., -1.6416e-01,\n",
      "           -1.6994e-01, -1.4437e-01],\n",
      "          [-2.1899e-02, -1.7755e-02, -3.1359e-02,  ..., -9.5544e-02,\n",
      "           -9.8865e-02, -8.3674e-02],\n",
      "          [-4.8282e-02, -3.7786e-02, -6.4890e-02,  ..., -2.0190e-01,\n",
      "           -2.0946e-01, -1.7791e-01]],\n",
      "\n",
      "         [[-3.8737e-02, -3.0861e-02, -5.1303e-02,  ..., -1.5504e-01,\n",
      "           -1.6077e-01, -1.3686e-01],\n",
      "          [-4.5920e-02, -3.6684e-02, -6.0699e-02,  ..., -1.7991e-01,\n",
      "           -1.8638e-01, -1.5933e-01],\n",
      "          [-4.4323e-02, -3.5406e-02, -5.8595e-02,  ..., -1.7371e-01,\n",
      "           -1.7995e-01, -1.5383e-01],\n",
      "          ...,\n",
      "          [-1.4877e-02, -1.1802e-02, -1.9703e-02,  ..., -5.9137e-02,\n",
      "           -6.1286e-02, -5.2341e-02],\n",
      "          [-8.9379e-03, -7.0344e-03, -1.1847e-02,  ..., -3.5995e-02,\n",
      "           -3.7318e-02, -3.1850e-02],\n",
      "          [-1.0146e-02, -8.0206e-03, -1.3506e-02,  ..., -4.1485e-02,\n",
      "           -4.3040e-02, -3.6602e-02]],\n",
      "\n",
      "         [[-6.3816e-02, -5.0857e-02, -8.4519e-02,  ..., -2.5521e-01,\n",
      "           -2.6463e-01, -2.2530e-01],\n",
      "          [-7.5667e-02, -6.0461e-02, -1.0003e-01,  ..., -2.9641e-01,\n",
      "           -3.0707e-01, -2.6250e-01],\n",
      "          [-7.3036e-02, -5.8356e-02, -9.6559e-02,  ..., -2.8619e-01,\n",
      "           -2.9648e-01, -2.5345e-01],\n",
      "          ...,\n",
      "          [-2.4524e-02, -1.9464e-02, -3.2479e-02,  ..., -9.7422e-02,\n",
      "           -1.0096e-01, -8.6226e-02],\n",
      "          [-1.4738e-02, -1.1609e-02, -1.9536e-02,  ..., -5.9293e-02,\n",
      "           -6.1469e-02, -5.2464e-02],\n",
      "          [-1.6728e-02, -1.3232e-02, -2.2264e-02,  ..., -6.8286e-02,\n",
      "           -7.0843e-02, -6.0258e-02]],\n",
      "\n",
      "         ...,\n",
      "\n",
      "         [[-1.8760e-01, -1.5028e-01, -2.4835e-01,  ..., -7.3813e-01,\n",
      "           -7.6485e-01, -6.5282e-01],\n",
      "          [-2.2340e-01, -1.7912e-01, -2.9554e-01,  ..., -8.7242e-01,\n",
      "           -9.0367e-01, -7.7245e-01],\n",
      "          [-2.1566e-01, -1.7292e-01, -2.8533e-01,  ..., -8.4232e-01,\n",
      "           -8.7250e-01, -7.4578e-01],\n",
      "          ...,\n",
      "          [-7.2886e-02, -5.8353e-02, -9.6555e-02,  ..., -2.8621e-01,\n",
      "           -2.9650e-01, -2.5330e-01],\n",
      "          [-4.4088e-02, -3.5211e-02, -5.8425e-02,  ..., -1.7387e-01,\n",
      "           -1.8014e-01, -1.5386e-01],\n",
      "          [-4.9919e-02, -3.9868e-02, -6.6155e-02,  ..., -1.9772e-01,\n",
      "           -2.0491e-01, -1.7486e-01]],\n",
      "\n",
      "         [[-1.9423e-01, -1.5575e-01, -2.5709e-01,  ..., -7.6158e-01,\n",
      "           -7.8903e-01, -6.7383e-01],\n",
      "          [-2.3151e-01, -1.8574e-01, -3.0629e-01,  ..., -9.0344e-01,\n",
      "           -9.3577e-01, -7.9990e-01],\n",
      "          [-2.2350e-01, -1.7932e-01, -2.9571e-01,  ..., -8.7226e-01,\n",
      "           -9.0348e-01, -7.7228e-01],\n",
      "          ...,\n",
      "          [-7.5636e-02, -6.0652e-02, -1.0019e-01,  ..., -2.9627e-01,\n",
      "           -3.0690e-01, -2.6222e-01],\n",
      "          [-4.5810e-02, -3.6683e-02, -6.0697e-02,  ..., -1.7992e-01,\n",
      "           -1.8639e-01, -1.5923e-01],\n",
      "          [-5.1841e-02, -4.1480e-02, -6.8640e-02,  ..., -2.0408e-01,\n",
      "           -2.1147e-01, -1.8057e-01]],\n",
      "\n",
      "         [[-1.1494e-01, -9.1689e-02, -1.5366e-01,  ..., -4.6254e-01,\n",
      "           -4.7937e-01, -4.0869e-01],\n",
      "          [-1.1636e-01, -9.2013e-02, -1.5433e-01,  ..., -4.6600e-01,\n",
      "           -4.8304e-01, -4.1247e-01],\n",
      "          [-1.1203e-01, -8.8690e-02, -1.4880e-01,  ..., -4.4917e-01,\n",
      "           -4.6556e-01, -3.9747e-01],\n",
      "          ...,\n",
      "          [-3.4010e-02, -2.7440e-02, -4.7367e-02,  ..., -1.4344e-01,\n",
      "           -1.4852e-01, -1.2604e-01],\n",
      "          [-1.8652e-02, -1.5105e-02, -2.7000e-02,  ..., -8.2890e-02,\n",
      "           -8.5772e-02, -7.2487e-02],\n",
      "          [-4.1809e-02, -3.2609e-02, -5.6220e-02,  ..., -1.7435e-01,\n",
      "           -1.8081e-01, -1.5384e-01]]],\n",
      "\n",
      "\n",
      "        [[[ 1.3473e-01,  1.1185e-01,  1.8133e-01,  ...,  5.1816e-01,\n",
      "            5.3601e-01,  4.5754e-01],\n",
      "          [ 3.8549e-02,  3.1156e-02,  5.0874e-02,  ...,  1.4582e-01,\n",
      "            1.5084e-01,  1.2958e-01],\n",
      "          [ 6.3518e-02,  5.1326e-02,  8.3835e-02,  ...,  2.4054e-01,\n",
      "            2.4882e-01,  2.1372e-01],\n",
      "          ...,\n",
      "          [ 1.8731e-01,  1.5075e-01,  2.4767e-01,  ...,  7.2345e-01,\n",
      "            7.4902e-01,  6.4124e-01],\n",
      "          [ 1.9405e-01,  1.5605e-01,  2.5666e-01,  ...,  7.5236e-01,\n",
      "            7.7908e-01,  6.6656e-01],\n",
      "          [ 1.1904e-01,  9.8908e-02,  1.6040e-01,  ...,  4.6346e-01,\n",
      "            4.7981e-01,  4.0837e-01]],\n",
      "\n",
      "         [[ 1.3473e-01,  1.1254e-01,  1.8277e-01,  ...,  5.2725e-01,\n",
      "            5.4571e-01,  4.6383e-01],\n",
      "          [ 4.6367e-02,  3.7334e-02,  6.1256e-02,  ...,  1.7931e-01,\n",
      "            1.8569e-01,  1.5884e-01],\n",
      "          [ 7.6379e-02,  6.1496e-02,  1.0091e-01,  ...,  2.9547e-01,\n",
      "            3.0597e-01,  2.6173e-01],\n",
      "          ...,\n",
      "          [ 2.2412e-01,  1.8016e-01,  2.9643e-01,  ...,  8.7149e-01,\n",
      "            9.0259e-01,  7.7169e-01],\n",
      "          [ 2.3196e-01,  1.8639e-01,  3.0685e-01,  ...,  9.0285e-01,\n",
      "            9.3509e-01,  7.9943e-01],\n",
      "          [ 1.1834e-01,  9.9136e-02,  1.6064e-01,  ...,  4.6251e-01,\n",
      "            4.7874e-01,  4.0683e-01]],\n",
      "\n",
      "         [[ 1.3036e-01,  1.0880e-01,  1.7664e-01,  ...,  5.0976e-01,\n",
      "            5.2763e-01,  4.4853e-01],\n",
      "          [ 4.4772e-02,  3.6057e-02,  5.9151e-02,  ...,  1.7312e-01,\n",
      "            1.7927e-01,  1.5335e-01],\n",
      "          [ 7.3750e-02,  5.9391e-02,  9.7445e-02,  ...,  2.8526e-01,\n",
      "            2.9540e-01,  2.5268e-01],\n",
      "          ...,\n",
      "          [ 2.1637e-01,  1.7396e-01,  2.8621e-01,  ...,  8.4140e-01,\n",
      "            8.7142e-01,  7.4503e-01],\n",
      "          [ 2.2395e-01,  1.7997e-01,  2.9627e-01,  ...,  8.7168e-01,\n",
      "            9.0281e-01,  7.7181e-01],\n",
      "          [ 1.1454e-01,  9.5859e-02,  1.5528e-01,  ...,  4.4724e-01,\n",
      "            4.6295e-01,  3.9348e-01]],\n",
      "\n",
      "         ...,\n",
      "\n",
      "         [[ 4.8161e-02,  3.9571e-02,  6.3048e-02,  ...,  1.8174e-01,\n",
      "            1.8827e-01,  1.6082e-01],\n",
      "          [ 1.5336e-02,  1.2456e-02,  2.0266e-02,  ...,  5.8599e-02,\n",
      "            6.0658e-02,  5.1907e-02],\n",
      "          [ 2.5253e-02,  2.0504e-02,  3.3375e-02,  ...,  9.6567e-02,\n",
      "            9.9963e-02,  8.5536e-02],\n",
      "          ...,\n",
      "          [ 7.3620e-02,  5.9395e-02,  9.7453e-02,  ...,  2.8536e-01,\n",
      "            2.9551e-01,  2.5262e-01],\n",
      "          [ 7.6097e-02,  6.1306e-02,  1.0075e-01,  ...,  2.9574e-01,\n",
      "            3.0628e-01,  2.6179e-01],\n",
      "          [ 4.2807e-02,  3.5197e-02,  5.5839e-02,  ...,  1.6062e-01,\n",
      "            1.6641e-01,  1.4219e-01]],\n",
      "\n",
      "         [[ 3.1210e-02,  2.5561e-02,  4.0005e-02,  ...,  1.1441e-01,\n",
      "            1.1857e-01,  1.0157e-01],\n",
      "          [ 9.3978e-03,  7.6886e-03,  1.2411e-02,  ...,  3.5462e-02,\n",
      "            3.6694e-02,  3.1420e-02],\n",
      "          [ 1.5470e-02,  1.2650e-02,  2.0432e-02,  ...,  5.8445e-02,\n",
      "            6.0477e-02,  5.1780e-02],\n",
      "          ...,\n",
      "          [ 4.4823e-02,  3.6253e-02,  5.9324e-02,  ...,  1.7303e-01,\n",
      "            1.7916e-01,  1.5319e-01],\n",
      "          [ 4.6273e-02,  3.7337e-02,  6.1262e-02,  ...,  1.7939e-01,\n",
      "            1.8577e-01,  1.5880e-01],\n",
      "          [ 2.7966e-02,  2.2911e-02,  3.5636e-02,  ...,  1.0164e-01,\n",
      "            1.0535e-01,  9.0298e-02]],\n",
      "\n",
      "         [[ 5.4357e-02,  4.4765e-02,  7.1134e-02,  ...,  1.9920e-01,\n",
      "            2.0602e-01,  1.7703e-01],\n",
      "          [ 1.0573e-02,  8.5949e-03,  1.3875e-02,  ...,  3.9344e-02,\n",
      "            4.0693e-02,  3.4961e-02],\n",
      "          [ 1.7407e-02,  1.4146e-02,  2.2851e-02,  ...,  6.4884e-02,\n",
      "            6.7111e-02,  5.7647e-02],\n",
      "          ...,\n",
      "          [ 5.0602e-02,  4.0783e-02,  6.6744e-02,  ...,  1.9433e-01,\n",
      "            2.0119e-01,  1.7226e-01],\n",
      "          [ 5.2270e-02,  4.2055e-02,  6.9010e-02,  ...,  2.0195e-01,\n",
      "            2.0913e-01,  1.7894e-01],\n",
      "          [ 4.8322e-02,  3.9865e-02,  6.3207e-02,  ...,  1.7805e-01,\n",
      "            1.8424e-01,  1.5801e-01]]],\n",
      "\n",
      "\n",
      "        [[[-1.2626e-02,  2.2304e-04,  3.5505e-04,  ...,  3.5352e-04,\n",
      "            2.2210e-04, -1.2591e-02],\n",
      "          [-7.9248e-02,  1.5802e-02,  1.5100e-02,  ...,  4.8600e-03,\n",
      "            2.9406e-03, -8.7260e-02],\n",
      "          [-7.6105e-02,  1.5272e-02,  1.4604e-02,  ...,  4.7171e-03,\n",
      "            2.8550e-03, -8.3913e-02],\n",
      "          ...,\n",
      "          [-2.2730e-02,  5.3320e-03,  5.1948e-03,  ...,  1.8411e-03,\n",
      "            1.1197e-03, -2.5778e-02],\n",
      "          [-1.3029e-02,  3.2904e-03,  3.2387e-03,  ...,  1.2034e-03,\n",
      "            7.3388e-04, -1.4921e-02],\n",
      "          [ 4.1926e-02, -1.5021e-02, -1.4710e-02,  ..., -5.3521e-03,\n",
      "           -3.2600e-03,  4.7881e-02]],\n",
      "\n",
      "         [[ 5.9639e-02, -1.6298e-02, -1.5889e-02,  ..., -5.6464e-03,\n",
      "           -3.4355e-03,  7.0501e-02],\n",
      "          [-6.7403e-03, -6.6696e-04, -1.0614e-03,  ..., -1.0592e-03,\n",
      "           -6.6582e-04, -6.7304e-03],\n",
      "          [-6.2743e-03, -6.2166e-04, -9.8762e-04,  ..., -9.8612e-04,\n",
      "           -6.2001e-04, -6.2667e-03],\n",
      "          ...,\n",
      "          [-5.2020e-04, -5.1760e-05, -8.0929e-05,  ..., -8.2522e-05,\n",
      "           -5.1937e-05, -5.2288e-04],\n",
      "          [-2.7874e-05, -2.9278e-06, -3.6617e-06,  ..., -4.8876e-06,\n",
      "           -3.1294e-06, -3.0705e-05],\n",
      "          [ 6.8695e-02, -2.2553e-02, -2.2175e-02,  ..., -8.2233e-03,\n",
      "           -5.0145e-03,  7.9210e-02]],\n",
      "\n",
      "         [[ 5.7994e-02, -1.5719e-02, -1.5314e-02,  ..., -5.4264e-03,\n",
      "           -3.3008e-03,  6.8458e-02],\n",
      "          [-6.2552e-03, -6.1907e-04, -9.8498e-04,  ..., -9.8258e-04,\n",
      "           -6.1795e-04, -6.2449e-03],\n",
      "          [-5.7884e-03, -5.7301e-04, -9.1182e-04,  ..., -9.1019e-04,\n",
      "           -5.7230e-04, -5.7804e-03],\n",
      "          ...,\n",
      "          [-3.8488e-05, -4.2586e-06, -5.0893e-06,  ..., -6.7265e-06,\n",
      "           -4.1698e-06, -4.1521e-05],\n",
      "          [ 4.5155e-04,  4.4170e-05,  7.2113e-05,  ...,  7.0153e-05,\n",
      "            4.4201e-05,  4.4928e-04],\n",
      "          [ 6.6594e-02, -2.1712e-02, -2.1310e-02,  ..., -7.8377e-03,\n",
      "           -4.7773e-03,  7.6707e-02]],\n",
      "\n",
      "         ...,\n",
      "\n",
      "         [[ 2.2820e-02, -5.1825e-03, -4.9560e-03,  ..., -1.6027e-03,\n",
      "           -9.7041e-04,  2.6173e-02],\n",
      "          [-4.3389e-04, -4.3098e-05, -6.9115e-05,  ..., -6.7526e-05,\n",
      "           -4.2415e-05, -4.3094e-04],\n",
      "          [ 3.9061e-05,  4.0569e-06,  5.2990e-06,  ...,  6.7106e-06,\n",
      "            4.4199e-06,  4.1739e-05],\n",
      "          ...,\n",
      "          [ 5.8027e-03,  5.7395e-04,  9.1328e-04,  ...,  9.1502e-04,\n",
      "            5.7523e-04,  5.8101e-03],\n",
      "          [ 6.2800e-03,  6.2090e-04,  9.8842e-04,  ...,  9.9047e-04,\n",
      "            6.2240e-04,  6.2892e-03],\n",
      "          [ 2.7023e-02, -6.7070e-03, -6.1778e-03,  ..., -1.5970e-03,\n",
      "           -9.5286e-04,  3.0208e-02]],\n",
      "\n",
      "         [[ 1.4617e-02, -3.0911e-03, -2.9215e-03,  ..., -8.8641e-04,\n",
      "           -5.3459e-04,  1.6621e-02],\n",
      "          [ 2.8245e-05,  3.1536e-06,  3.9360e-06,  ...,  4.7506e-06,\n",
      "            3.3069e-06,  3.0810e-05],\n",
      "          [ 5.0241e-04,  4.9970e-05,  7.8566e-05,  ...,  7.9311e-05,\n",
      "            5.0277e-05,  5.0532e-04],\n",
      "          ...,\n",
      "          [ 6.2810e-03,  6.2096e-04,  9.8887e-04,  ...,  9.9010e-04,\n",
      "            6.2253e-04,  6.2904e-03],\n",
      "          [ 6.7591e-03,  6.6894e-04,  1.0639e-03,  ...,  1.0658e-03,\n",
      "            6.6966e-04,  6.7692e-03],\n",
      "          [ 1.8845e-02, -3.7991e-03, -3.3177e-03,  ..., -5.3626e-04,\n",
      "           -3.0630e-04,  2.0748e-02]],\n",
      "\n",
      "         [[-3.5349e-02,  1.4367e-02,  1.3670e-02,  ...,  4.3100e-03,\n",
      "            2.6052e-03, -4.0369e-02],\n",
      "          [-6.0723e-02,  2.1298e-02,  2.0178e-02,  ...,  6.2223e-03,\n",
      "            3.7564e-03, -6.8663e-02],\n",
      "          [-5.8339e-02,  2.0624e-02,  1.9579e-02,  ...,  6.1043e-03,\n",
      "            3.6876e-03, -6.6051e-02],\n",
      "          ...,\n",
      "          [-1.5314e-02,  7.6595e-03,  7.6938e-03,  ...,  3.1157e-03,\n",
      "            1.9077e-03, -1.8208e-02],\n",
      "          [-6.8479e-03,  4.9200e-03,  5.1011e-03,  ...,  2.3229e-03,\n",
      "            1.4293e-03, -8.6341e-03],\n",
      "          [ 6.3994e-03,  3.3418e-04,  5.3201e-04,  ...,  5.3280e-04,\n",
      "            3.3480e-04,  6.4088e-03]]]], device='cuda:0')\n"
     ]
    }
   ],
   "execution_count": 3
  },
  {
   "cell_type": "markdown",
   "metadata": {},
   "source": [
    "## Post process\n",
    "### Energy Reporter\n",
    "* Grab output of kinetic energy reporter"
   ]
  },
  {
   "cell_type": "code",
   "metadata": {
    "ExecuteTime": {
     "end_time": "2025-06-30T12:13:22.218681706Z",
     "start_time": "2025-06-30T12:13:22.122368743Z"
    }
   },
   "source": [
    "energy = np.array(simulation.reporter[0].out)\n",
    "print(energy.shape)\n",
    "plt.plot(energy[:,1],energy[:,2])\n",
    "plt.title('Kinetic energy')\n",
    "plt.xlabel('Time')\n",
    "plt.ylabel('Energy in physical units')\n",
    "plt.show()"
   ],
   "outputs": [
    {
     "name": "stdout",
     "output_type": "stream",
     "text": [
      "(2, 3)\n"
     ]
    },
    {
     "data": {
      "text/plain": "<Figure size 640x480 with 1 Axes>",
      "image/png": "[encoded data removed]"
     },
     "metadata": {},
     "output_type": "display_data"
    }
   ],
   "execution_count": 4
  },
  {
   "cell_type": "markdown",
   "metadata": {},
   "source": [
    "### Velocity\n",
    "We calculate the speed in Lettuce units depending on the last 'f'. Then we convert this velocity into physical units. For further investigations the tensor must be converted into a Numpy-Array. The norm of the fractions in x and y direction is plotted afterwards."
   ]
  },
  {
   "cell_type": "code",
   "metadata": {
    "ExecuteTime": {
     "end_time": "2025-06-30T12:13:22.334254895Z",
     "start_time": "2025-06-30T12:13:22.219480854Z"
    }
   },
   "source": [
    "u = flow.u_pu.cpu().numpy()\n",
    "# Slice bei z = -1\n",
    "ux = u[0, :, :, -1]\n",
    "uy = u[1, :, :, -1]\n",
    "\n",
    "# Norm der xy-Geschwindigkeit (ohne uz)\n",
    "u_xy_norm = np.sqrt(ux**2 + uy**2)\n",
    "\n",
    "# Plot\n",
    "plt.imshow(u_xy_norm.T, origin='lower', cmap='viridis')\n",
    "plt.colorbar(label='|u_xy|')\n",
    "plt.title('Geschwindigkeitsnorm in xy-Ebene bei z = max')\n",
    "plt.xlabel('x')\n",
    "plt.ylabel('y')\n",
    "plt.show()\n"
   ],
   "outputs": [
    {
     "data": {
      "text/plain": "<Figure size 640x480 with 2 Axes>",
      "image/png": "[encoded data removed]"
     },
     "metadata": {},
     "output_type": "display_data"
    }
   ],
   "execution_count": 5
  },
  {
   "metadata": {
    "ExecuteTime": {
     "end_time": "2025-06-30T12:13:22.414915905Z",
     "start_time": "2025-06-30T12:13:22.327936692Z"
    }
   },
   "cell_type": "code",
   "outputs": [],
   "execution_count": 5,
   "source": []
  }
 ],
 "metadata": {
  "kernelspec": {
   "display_name": "Python 3",
   "language": "python",
   "name": "python3"
  },
  "language_info": {
   "codemirror_mode": {
    "name": "ipython",
    "version": 3
   },
   "file_extension": ".py",
   "mimetype": "text/x-python",
   "name": "python",
   "nbconvert_exporter": "python",
   "pygments_lexer": "ipython3",
   "version": "3.8.5"
  }
 },
 "nbformat": 4,
 "nbformat_minor": 4
}
