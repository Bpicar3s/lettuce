{
 "cells": [
  {
   "cell_type": "markdown",
   "metadata": {},
   "source": [
    "# A first example\n",
    "This is a first example of how to use lettuce.\n",
    "A two dimensional Taylor Green vortex is initialized and simulated for 10000 steps. Afterwards the energy and the velocity field is plotted."
   ]
  },
  {
   "cell_type": "code",
   "metadata": {
    "ExecuteTime": {
     "end_time": "2025-06-30T14:00:30.081923637Z",
     "start_time": "2025-06-30T14:00:29.029544039Z"
    }
   },
   "source": [
    "import lettuce as lt\n",
    "import matplotlib.pyplot as plt\n",
    "import numpy as np\n",
    "import torch"
   ],
   "outputs": [],
   "execution_count": 1
  },
  {
   "cell_type": "markdown",
   "metadata": {},
   "source": [
    "## Setup\n",
    "* for running on GPU: device = \"cuda\". CUDA drivers are required!\n",
    "* dtype=torch.float32 for single precision - float64 for double precision\n",
    "* select collision model (here BGKCollision) - try also KBCCollision or RegularizedCollision"
   ]
  },
  {
   "cell_type": "code",
   "metadata": {
    "ExecuteTime": {
     "end_time": "2025-06-30T14:00:30.697586690Z",
     "start_time": "2025-06-30T14:00:30.107588434Z"
    }
   },
   "source": [
    "context = lt.Context(device=torch.device('cuda:0') if torch.cuda\n",
    "                     .is_available() else torch.device('cpu'),\n",
    "                     dtype=torch.float32, use_native = False)\n",
    "flow = lt.SuperReducedTaylorGreenVortex3D(resolution=20,reynolds_number=400,\n",
    "                            mach_number=0.1, stencil=lt.D3Q27,\n",
    "                            context=context)\n",
    "collision = lt.BGKCollision(tau=flow.units.relaxation_parameter_lu)\n",
    "energyreporter = lt.ObservableReporter(lt.IncompressibleKineticEnergy(flow), interval=100, out=None)\n",
    "simulation = lt.SimulationReducedTGV(flow=flow, collision=collision, reporter=[energyreporter])"
   ],
   "outputs": [
    {
     "name": "stdout",
     "output_type": "stream",
     "text": [
      "steps     time     IncompressibleKineticEnergy\n"
     ]
    }
   ],
   "execution_count": 2
  },
  {
   "cell_type": "markdown",
   "metadata": {},
   "source": [
    "* Reporters will grab the results in between simulation steps (see reporters.py and simulation.py)\n",
    "* Output: Column 1: simulation steps, Column 2: time in LU, Column 3: kinetic energy in PU\n",
    "* Output: separate VTK-file with ux,uy,(uz) and p for every 100. time step in ./output"
   ]
  },
  {
   "cell_type": "markdown",
   "metadata": {},
   "source": [
    "## Run simulation"
   ]
  },
  {
   "cell_type": "code",
   "metadata": {
    "ExecuteTime": {
     "end_time": "2025-06-30T14:00:43.217540549Z",
     "start_time": "2025-06-30T14:00:30.700230713Z"
    }
   },
   "source": [
    "mlups = simulation(4000)\n",
    "\n",
    "print(\"Performance in MLUPS:\", mlups)"
   ],
   "outputs": [
    {
     "name": "stdout",
     "output_type": "stream",
     "text": [
      "Performance in MLUPS: 2.5664252962121945\n",
      "tensor([[[[ 1.8764e-02,  1.8997e-02,  1.5827e-02,  ..., -1.5163e-02,\n",
      "           -1.3606e-02, -1.2590e-02],\n",
      "          [ 1.8716e-02,  1.8580e-02,  1.5236e-02,  ..., -1.4792e-02,\n",
      "           -1.3209e-02, -1.2181e-02],\n",
      "          [ 1.8475e-02,  1.7739e-02,  1.4166e-02,  ..., -1.4049e-02,\n",
      "           -1.2417e-02, -1.1352e-02],\n",
      "          ...,\n",
      "          [ 6.1473e-03,  9.4385e-03,  1.6235e-02,  ...,  8.7371e-03,\n",
      "            1.1677e-02,  1.3463e-02],\n",
      "          [ 2.4506e-03,  6.3663e-03,  1.3953e-02,  ...,  8.8892e-03,\n",
      "            1.1665e-02,  1.3342e-02],\n",
      "          [-7.4367e-05,  5.0875e-03,  1.2670e-02,  ...,  8.9661e-03,\n",
      "            1.1553e-02,  1.3115e-02]],\n",
      "\n",
      "         [[ 5.3078e-02,  5.4205e-02,  4.5196e-02,  ..., -4.5838e-02,\n",
      "           -4.2656e-02, -4.0583e-02],\n",
      "          [ 5.3128e-02,  5.3152e-02,  4.3536e-02,  ..., -4.4786e-02,\n",
      "           -4.1527e-02, -3.9401e-02],\n",
      "          [ 5.2786e-02,  5.0931e-02,  4.0460e-02,  ..., -4.2663e-02,\n",
      "           -3.9234e-02, -3.7003e-02],\n",
      "          ...,\n",
      "          [ 1.6493e-02,  2.5039e-02,  4.2404e-02,  ...,  2.6125e-02,\n",
      "            3.4378e-02,  3.9388e-02],\n",
      "          [ 6.0281e-03,  1.6106e-02,  3.5648e-02,  ...,  2.6555e-02,\n",
      "            3.4361e-02,  3.9092e-02],\n",
      "          [-1.1798e-03,  1.2053e-02,  3.1803e-02,  ...,  2.6745e-02,\n",
      "            3.4040e-02,  3.8445e-02]],\n",
      "\n",
      "         [[ 7.8698e-02,  8.1890e-02,  6.8612e-02,  ..., -7.6452e-02,\n",
      "           -7.4301e-02, -7.2916e-02],\n",
      "          [ 7.9278e-02,  8.0699e-02,  6.6236e-02,  ..., -7.4880e-02,\n",
      "           -7.2603e-02, -7.1131e-02],\n",
      "          [ 7.9736e-02,  7.7951e-02,  6.1667e-02,  ..., -7.1678e-02,\n",
      "           -6.9139e-02, -6.7493e-02],\n",
      "          ...,\n",
      "          [ 2.2444e-02,  3.3076e-02,  5.3982e-02,  ...,  4.2908e-02,\n",
      "            5.5048e-02,  6.2392e-02],\n",
      "          [ 6.8966e-03,  1.9254e-02,  4.3156e-02,  ...,  4.3536e-02,\n",
      "            5.5086e-02,  6.2061e-02],\n",
      "          [-3.9690e-03,  1.2113e-02,  3.6789e-02,  ...,  4.3722e-02,\n",
      "            5.4562e-02,  6.1079e-02]],\n",
      "\n",
      "         ...,\n",
      "\n",
      "         [[-9.4488e-02, -1.6939e-01, -2.1444e-01,  ..., -2.7575e-01,\n",
      "           -2.7680e-01, -2.7708e-01],\n",
      "          [-8.4671e-02, -1.5846e-01, -2.0598e-01,  ..., -2.7290e-01,\n",
      "           -2.7437e-01, -2.7495e-01],\n",
      "          [-6.6623e-02, -1.3759e-01, -1.8811e-01,  ..., -2.6738e-01,\n",
      "           -2.6957e-01, -2.7064e-01],\n",
      "          ...,\n",
      "          [ 5.5709e-02,  4.7562e-02,  3.3874e-02,  ..., -3.5170e-02,\n",
      "           -2.9978e-02, -2.7089e-02],\n",
      "          [ 4.9732e-02,  4.6714e-02,  4.0234e-02,  ..., -3.1552e-02,\n",
      "           -2.6389e-02, -2.3447e-02],\n",
      "          [ 4.5233e-02,  4.4930e-02,  4.3487e-02,  ..., -2.7140e-02,\n",
      "           -2.2350e-02, -1.9514e-02]],\n",
      "\n",
      "         [[-9.3777e-02, -1.8935e-01, -2.4774e-01,  ..., -2.7734e-01,\n",
      "           -2.7839e-01, -2.7855e-01],\n",
      "          [-8.4678e-02, -1.7727e-01, -2.3774e-01,  ..., -2.7456e-01,\n",
      "           -2.7607e-01, -2.7653e-01],\n",
      "          [-6.8399e-02, -1.5478e-01, -2.1685e-01,  ..., -2.6925e-01,\n",
      "           -2.7150e-01, -2.7245e-01],\n",
      "          ...,\n",
      "          [ 3.2933e-02,  2.2342e-02,  9.0363e-03,  ..., -2.9060e-02,\n",
      "           -2.5187e-02, -2.3083e-02],\n",
      "          [ 3.0576e-02,  2.5015e-02,  1.7561e-02,  ..., -2.4583e-02,\n",
      "           -2.0873e-02, -1.8782e-02],\n",
      "          [ 2.8988e-02,  2.7174e-02,  2.4501e-02,  ..., -1.9520e-02,\n",
      "           -1.6355e-02, -1.4448e-02]],\n",
      "\n",
      "         [[-7.7715e-02, -1.9090e-01, -2.6651e-01,  ..., -2.7825e-01,\n",
      "           -2.7925e-01, -2.7928e-01],\n",
      "          [-7.1173e-02, -1.7865e-01, -2.5429e-01,  ..., -2.7552e-01,\n",
      "           -2.7704e-01, -2.7738e-01],\n",
      "          [-6.0016e-02, -1.5699e-01, -2.3043e-01,  ..., -2.7040e-01,\n",
      "           -2.7271e-01, -2.7354e-01],\n",
      "          ...,\n",
      "          [ 7.6679e-03, -3.0841e-03, -1.4039e-02,  ..., -2.0093e-02,\n",
      "           -1.7820e-02, -1.6724e-02],\n",
      "          [ 8.4450e-03,  2.2116e-03, -4.4036e-03,  ..., -1.4606e-02,\n",
      "           -1.2591e-02, -1.1571e-02],\n",
      "          [ 9.3982e-03,  7.2571e-03,  4.8296e-03,  ..., -8.8970e-03,\n",
      "           -7.5343e-03, -6.7607e-03]]],\n",
      "\n",
      "\n",
      "        [[[ 1.5052e-02,  1.0019e-02,  6.3153e-03,  ...,  1.6643e-02,\n",
      "            1.6911e-02,  1.7044e-02],\n",
      "          [ 4.2197e-02,  2.8075e-02,  1.7911e-02,  ...,  4.9671e-02,\n",
      "            5.0472e-02,  5.0862e-02],\n",
      "          [ 6.1387e-02,  4.0766e-02,  2.6637e-02,  ...,  8.1911e-02,\n",
      "            8.3242e-02,  8.3894e-02],\n",
      "          ...,\n",
      "          [-7.1643e-04,  1.0101e-01,  1.9797e-01,  ...,  2.7830e-01,\n",
      "            2.7908e-01,  2.7867e-01],\n",
      "          [ 2.0579e-02,  1.3633e-01,  2.3485e-01,  ...,  2.7865e-01,\n",
      "            2.7949e-01,  2.7919e-01],\n",
      "          [ 4.9939e-02,  1.7063e-01,  2.6149e-01,  ...,  2.7865e-01,\n",
      "            2.7958e-01,  2.7944e-01]],\n",
      "\n",
      "         [[ 1.5386e-02,  1.0404e-02,  6.3019e-03,  ...,  1.6239e-02,\n",
      "            1.6538e-02,  1.6687e-02],\n",
      "          [ 4.3246e-02,  2.9086e-02,  1.7678e-02,  ...,  4.8497e-02,\n",
      "            4.9387e-02,  4.9830e-02],\n",
      "          [ 6.3182e-02,  4.2019e-02,  2.5757e-02,  ...,  8.0087e-02,\n",
      "            8.1569e-02,  8.2293e-02],\n",
      "          ...,\n",
      "          [ 4.1432e-03,  9.8579e-02,  1.8855e-01,  ...,  2.7575e-01,\n",
      "            2.7725e-01,  2.7724e-01],\n",
      "          [ 2.2568e-02,  1.3009e-01,  2.2290e-01,  ...,  2.7601e-01,\n",
      "            2.7750e-01,  2.7758e-01],\n",
      "          [ 4.7644e-02,  1.6052e-01,  2.4833e-01,  ...,  2.7596e-01,\n",
      "            2.7747e-01,  2.7768e-01]],\n",
      "\n",
      "         [[ 1.5960e-02,  1.1385e-02,  6.9425e-03,  ...,  1.5406e-02,\n",
      "            1.5723e-02,  1.5881e-02],\n",
      "          [ 4.5139e-02,  3.1864e-02,  1.9307e-02,  ...,  4.6054e-02,\n",
      "            4.6996e-02,  4.7475e-02],\n",
      "          [ 6.6720e-02,  4.6135e-02,  2.7635e-02,  ...,  7.6194e-02,\n",
      "            7.7775e-02,  7.8561e-02],\n",
      "          ...,\n",
      "          [ 1.3745e-02,  9.5759e-02,  1.7318e-01,  ...,  2.7119e-01,\n",
      "            2.7367e-01,  2.7427e-01],\n",
      "          [ 2.6983e-02,  1.2045e-01,  2.0233e-01,  ...,  2.7124e-01,\n",
      "            2.7366e-01,  2.7430e-01],\n",
      "          [ 4.4328e-02,  1.4361e-01,  2.2433e-01,  ...,  2.7101e-01,\n",
      "            2.7338e-01,  2.7411e-01]],\n",
      "\n",
      "         ...,\n",
      "\n",
      "         [[ 6.5246e-03,  7.8043e-03,  7.5845e-03,  ...,  8.9635e-03,\n",
      "            1.0915e-02,  1.2092e-02],\n",
      "          [ 1.7320e-02,  2.0698e-02,  2.0307e-02,  ...,  2.6571e-02,\n",
      "            3.2068e-02,  3.5381e-02],\n",
      "          [ 2.3004e-02,  2.7137e-02,  2.6882e-02,  ...,  4.2964e-02,\n",
      "            5.1118e-02,  5.5989e-02],\n",
      "          ...,\n",
      "          [ 5.8921e-02,  5.8798e-02,  5.7530e-02,  ..., -6.8472e-03,\n",
      "           -3.7562e-03, -1.8104e-03],\n",
      "          [ 4.0414e-02,  4.5025e-02,  4.7647e-02,  ...,  3.3137e-04,\n",
      "            1.7232e-03,  2.7987e-03],\n",
      "          [ 1.7578e-02,  2.6150e-02,  3.3228e-02,  ...,  9.8970e-03,\n",
      "            9.4271e-03,  9.4399e-03]],\n",
      "\n",
      "         [[ 3.7150e-03,  7.6209e-03,  1.0370e-02,  ...,  8.9847e-03,\n",
      "            1.1160e-02,  1.2469e-02],\n",
      "          [ 9.1543e-03,  1.9281e-02,  2.6779e-02,  ...,  2.6703e-02,\n",
      "            3.2832e-02,  3.6532e-02],\n",
      "          [ 1.0331e-02,  2.2770e-02,  3.2832e-02,  ...,  4.3342e-02,\n",
      "            5.2465e-02,  5.7927e-02],\n",
      "          ...,\n",
      "          [ 5.0454e-02,  5.0213e-02,  5.0348e-02,  ..., -1.4818e-02,\n",
      "           -1.1202e-02, -8.9148e-03],\n",
      "          [ 3.4421e-02,  3.6950e-02,  3.8812e-02,  ..., -7.0470e-03,\n",
      "           -5.2455e-03, -3.9354e-03],\n",
      "          [ 1.4137e-02,  1.9148e-02,  2.3555e-02,  ...,  3.3953e-03,\n",
      "            3.2488e-03,  3.4050e-03]],\n",
      "\n",
      "         [[ 6.1062e-04,  6.0719e-03,  1.1894e-02,  ...,  8.9909e-03,\n",
      "            1.1378e-02,  1.2815e-02],\n",
      "          [ 5.1885e-04,  1.4548e-02,  2.9966e-02,  ...,  2.6771e-02,\n",
      "            3.3508e-02,  3.7568e-02],\n",
      "          [-2.0703e-03,  1.4993e-02,  3.4810e-02,  ...,  4.3623e-02,\n",
      "            5.3648e-02,  5.9656e-02],\n",
      "          ...,\n",
      "          [ 4.5227e-02,  4.5433e-02,  4.6024e-02,  ..., -2.1591e-02,\n",
      "           -1.7371e-02, -1.4775e-02],\n",
      "          [ 3.0149e-02,  3.0825e-02,  3.1222e-02,  ..., -1.3671e-02,\n",
      "           -1.1224e-02, -9.6168e-03],\n",
      "          [ 1.1258e-02,  1.2805e-02,  1.4122e-02,  ..., -2.8624e-03,\n",
      "           -2.3273e-03, -1.8878e-03]]],\n",
      "\n",
      "\n",
      "        [[[-3.3782e-02, -9.6214e-02, -1.4675e-01,  ...,  1.6113e-02,\n",
      "            1.1569e-02,  4.2205e-03],\n",
      "          [-4.7233e-02, -1.0429e-01, -1.5093e-01,  ...,  1.6759e-02,\n",
      "            1.1981e-02,  4.3633e-03],\n",
      "          [-7.0400e-02, -1.1814e-01, -1.5790e-01,  ...,  1.8054e-02,\n",
      "            1.2818e-02,  4.6518e-03],\n",
      "          ...,\n",
      "          [ 2.0647e-01,  1.6788e-01,  1.0771e-01,  ...,  6.0604e-02,\n",
      "            3.9645e-02,  1.3835e-02],\n",
      "          [ 1.4688e-01,  1.0692e-01,  5.0881e-02,  ...,  5.9850e-02,\n",
      "            3.9047e-02,  1.3608e-02],\n",
      "          [ 4.5419e-02,  1.0971e-02, -3.0050e-02,  ...,  5.8380e-02,\n",
      "            3.7977e-02,  1.3223e-02]],\n",
      "\n",
      "         [[-1.4477e-02, -7.1900e-02, -1.1801e-01,  ...,  6.2463e-03,\n",
      "            4.1789e-03,  1.4674e-03],\n",
      "          [-2.8174e-02, -8.0488e-02, -1.2265e-01,  ...,  6.8138e-03,\n",
      "            4.5485e-03,  1.5939e-03],\n",
      "          [-5.1848e-02, -9.5240e-02, -1.3044e-01,  ...,  7.9686e-03,\n",
      "            5.3045e-03,  1.8606e-03],\n",
      "          ...,\n",
      "          [ 1.9735e-01,  1.6582e-01,  1.1748e-01,  ...,  5.6667e-02,\n",
      "            3.6657e-02,  1.2724e-02],\n",
      "          [ 1.4058e-01,  1.0814e-01,  6.3822e-02,  ...,  5.6138e-02,\n",
      "            3.6245e-02,  1.2572e-02],\n",
      "          [ 4.4907e-02,  1.7935e-02, -1.2597e-02,  ...,  5.4777e-02,\n",
      "            3.5290e-02,  1.2230e-02]],\n",
      "\n",
      "         [[ 1.8842e-02, -3.0028e-02, -6.9496e-02,  ..., -1.7825e-03,\n",
      "           -1.9009e-03, -8.0757e-04],\n",
      "          [ 4.8593e-03, -3.9454e-02, -7.5056e-02,  ..., -1.4818e-03,\n",
      "           -1.7050e-03, -7.3750e-04],\n",
      "          [-1.9490e-02, -5.5749e-02, -8.4520e-02,  ..., -8.2392e-04,\n",
      "           -1.2736e-03, -5.8604e-04],\n",
      "          ...,\n",
      "          [ 1.8078e-01,  1.6003e-01,  1.2911e-01,  ...,  4.8644e-02,\n",
      "            3.0861e-02,  1.0604e-02],\n",
      "          [ 1.2913e-01,  1.0819e-01,  8.1021e-02,  ...,  4.8332e-02,\n",
      "            3.0654e-02,  1.0533e-02],\n",
      "          [ 4.3533e-02,  2.7833e-02,  1.2409e-02,  ...,  4.7045e-02,\n",
      "            2.9822e-02,  1.0247e-02]],\n",
      "\n",
      "         ...,\n",
      "\n",
      "         [[-2.2342e-01, -2.2124e-01, -2.0485e-01,  ...,  5.0230e-02,\n",
      "            3.2336e-02,  1.1204e-02],\n",
      "          [-2.0938e-01, -2.0294e-01, -1.8251e-01,  ...,  4.6439e-02,\n",
      "            2.9664e-02,  1.0238e-02],\n",
      "          [-1.8576e-01, -1.7377e-01, -1.4823e-01,  ...,  3.8366e-02,\n",
      "            2.4211e-02,  8.3008e-03],\n",
      "          ...,\n",
      "          [ 1.8380e-02,  5.4492e-02,  8.8614e-02,  ...,  1.7424e-02,\n",
      "            9.0872e-03,  2.7967e-03],\n",
      "          [ 1.8567e-02,  5.6060e-02,  9.1702e-02,  ...,  2.5845e-02,\n",
      "            1.3862e-02,  4.3337e-03],\n",
      "          [ 1.9055e-02,  5.7124e-02,  9.3447e-02,  ...,  3.0610e-02,\n",
      "            1.6559e-02,  5.1954e-03]],\n",
      "\n",
      "         [[-1.6981e-01, -1.7859e-01, -1.7541e-01,  ...,  5.3529e-02,\n",
      "            3.4572e-02,  1.1997e-02],\n",
      "          [-1.5800e-01, -1.6137e-01, -1.5230e-01,  ...,  4.9853e-02,\n",
      "            3.1936e-02,  1.1035e-02],\n",
      "          [-1.3831e-01, -1.3410e-01, -1.1712e-01,  ...,  4.1930e-02,\n",
      "            2.6504e-02,  9.0978e-03],\n",
      "          ...,\n",
      "          [ 1.9519e-02,  5.6984e-02,  9.2605e-02,  ...,  2.5902e-02,\n",
      "            1.3871e-02,  4.3286e-03],\n",
      "          [ 1.9741e-02,  5.8665e-02,  9.5901e-02,  ...,  3.5897e-02,\n",
      "            1.9600e-02,  6.1841e-03],\n",
      "          [ 2.0002e-02,  5.9592e-02,  9.7581e-02,  ...,  4.1508e-02,\n",
      "            2.2840e-02,  7.2293e-03]],\n",
      "\n",
      "         [[-7.2116e-02, -9.4838e-02, -1.1340e-01,  ...,  5.6260e-02,\n",
      "            3.6469e-02,  1.2677e-02],\n",
      "          [-6.5679e-02, -8.1741e-02, -9.2024e-02,  ...,  5.2659e-02,\n",
      "            3.3838e-02,  1.1710e-02],\n",
      "          [-5.5183e-02, -6.1470e-02, -6.0122e-02,  ...,  4.4870e-02,\n",
      "            2.8412e-02,  9.7583e-03],\n",
      "          ...,\n",
      "          [ 1.9575e-02,  5.7616e-02,  9.3905e-02,  ...,  3.0644e-02,\n",
      "            1.6564e-02,  5.1927e-03],\n",
      "          [ 2.0135e-02,  5.9716e-02,  9.7684e-02,  ...,  4.1519e-02,\n",
      "            2.2839e-02,  7.2293e-03],\n",
      "          [ 2.0437e-02,  6.0767e-02,  9.9552e-02,  ...,  4.7604e-02,\n",
      "            2.6385e-02,  8.3831e-03]]]], device='cuda:0')\n"
     ]
    }
   ],
   "execution_count": 3
  },
  {
   "cell_type": "markdown",
   "metadata": {},
   "source": [
    "## Post process\n",
    "### Energy Reporter\n",
    "* Grab output of kinetic energy reporter"
   ]
  },
  {
   "cell_type": "code",
   "metadata": {
    "ExecuteTime": {
     "end_time": "2025-06-30T14:00:43.303346477Z",
     "start_time": "2025-06-30T14:00:43.219519753Z"
    }
   },
   "source": [
    "energy = np.array(simulation.reporter[0].out)\n",
    "print(energy.shape)\n",
    "plt.plot(energy[:,1],energy[:,2])\n",
    "plt.title('Kinetic energy')\n",
    "plt.xlabel('Time')\n",
    "plt.ylabel('Energy in physical units')\n",
    "plt.show()"
   ],
   "outputs": [
    {
     "name": "stdout",
     "output_type": "stream",
     "text": [
      "(41, 3)\n"
     ]
    },
    {
     "data": {
      "text/plain": "<Figure size 640x480 with 1 Axes>",
      "image/png": "[encoded data removed]"
     },
     "metadata": {},
     "output_type": "display_data"
    }
   ],
   "execution_count": 4
  },
  {
   "cell_type": "markdown",
   "metadata": {},
   "source": [
    "### Velocity\n",
    "We calculate the speed in Lettuce units depending on the last 'f'. Then we convert this velocity into physical units. For further investigations the tensor must be converted into a Numpy-Array. The norm of the fractions in x and y direction is plotted afterwards."
   ]
  },
  {
   "cell_type": "code",
   "metadata": {
    "ExecuteTime": {
     "end_time": "2025-06-30T14:00:43.425837296Z",
     "start_time": "2025-06-30T14:00:43.305843926Z"
    }
   },
   "source": [
    "u = flow.u_pu.cpu().numpy()\n",
    "# Slice bei z = -1\n",
    "ux = u[0, :, :, -1]\n",
    "uy = u[1, :, :, -1]\n",
    "\n",
    "# Norm der xy-Geschwindigkeit (ohne uz)\n",
    "u_xy_norm = np.sqrt(ux**2 + uy**2)\n",
    "\n",
    "# Plot\n",
    "plt.imshow(u_xy_norm.T, origin='lower', cmap='viridis')\n",
    "plt.colorbar(label='|u_xy|')\n",
    "plt.title('Geschwindigkeitsnorm in xy-Ebene bei z = max')\n",
    "plt.xlabel('x')\n",
    "plt.ylabel('y')\n",
    "plt.show()\n"
   ],
   "outputs": [
    {
     "data": {
      "text/plain": "<Figure size 640x480 with 2 Axes>",
      "image/png": "[encoded data removed]"
     },
     "metadata": {},
     "output_type": "display_data"
    }
   ],
   "execution_count": 5
  },
  {
   "metadata": {
    "ExecuteTime": {
     "end_time": "2025-06-30T14:00:43.427719783Z",
     "start_time": "2025-06-30T14:00:43.426048297Z"
    }
   },
   "cell_type": "code",
   "outputs": [],
   "execution_count": 5,
   "source": []
  }
 ],
 "metadata": {
  "kernelspec": {
   "display_name": "Python 3",
   "language": "python",
   "name": "python3"
  },
  "language_info": {
   "codemirror_mode": {
    "name": "ipython",
    "version": 3
   },
   "file_extension": ".py",
   "mimetype": "text/x-python",
   "name": "python",
   "nbconvert_exporter": "python",
   "pygments_lexer": "ipython3",
   "version": "3.8.5"
  }
 },
 "nbformat": 4,
 "nbformat_minor": 4
}
