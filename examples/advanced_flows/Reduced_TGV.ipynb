{
 "cells": [
  {
   "cell_type": "markdown",
   "metadata": {},
   "source": [
    "# A first example\n",
    "This is a first example of how to use lettuce.\n",
    "A two dimensional Taylor Green vortex is initialized and simulated for 10000 steps. Afterwards the energy and the velocity field is plotted."
   ]
  },
  {
   "cell_type": "code",
   "metadata": {
    "ExecuteTime": {
     "end_time": "2025-07-01T10:18:43.729888Z",
     "start_time": "2025-07-01T10:18:41.571277Z"
    }
   },
   "source": [
    "import lettuce as lt\n",
    "import matplotlib.pyplot as plt\n",
    "import numpy as np\n",
    "import torch"
   ],
   "outputs": [],
   "execution_count": 1
  },
  {
   "cell_type": "markdown",
   "metadata": {},
   "source": [
    "## Setup\n",
    "* for running on GPU: device = \"cuda\". CUDA drivers are required!\n",
    "* dtype=torch.float32 for single precision - float64 for double precision\n",
    "* select collision model (here BGKCollision) - try also KBCCollision or RegularizedCollision"
   ]
  },
  {
   "cell_type": "code",
   "metadata": {
    "ExecuteTime": {
     "end_time": "2025-07-01T10:18:44.033732Z",
     "start_time": "2025-07-01T10:18:43.732995Z"
    }
   },
   "source": [
    "context = lt.Context(device=torch.device('cuda:0') if torch.cuda\n",
    "                     .is_available() else torch.device('cpu'),\n",
    "                     dtype=torch.float32, use_native = False)\n",
    "flow = lt.SuperReducedTaylorGreenVortex3D(resolution=20,reynolds_number=400,\n",
    "                            mach_number=0.1, stencil=lt.D3Q27,\n",
    "                            context=context)\n",
    "collision = lt.BGKCollision(tau=flow.units.relaxation_parameter_lu)\n",
    "energyreporter = lt.ObservableReporter(lt.IncompressibleKineticEnergy(flow), interval=10, out=None)\n",
    "simulation = lt.SimulationReducedTGV(flow=flow, collision=collision, reporter=[energyreporter])"
   ],
   "outputs": [
    {
     "name": "stdout",
     "output_type": "stream",
     "text": [
      "steps     time     IncompressibleKineticEnergy\n"
     ]
    }
   ],
   "execution_count": 2
  },
  {
   "cell_type": "markdown",
   "metadata": {},
   "source": [
    "* Reporters will grab the results in between simulation steps (see reporters.py and simulation.py)\n",
    "* Output: Column 1: simulation steps, Column 2: time in LU, Column 3: kinetic energy in PU\n",
    "* Output: separate VTK-file with ux,uy,(uz) and p for every 100. time step in ./output"
   ]
  },
  {
   "cell_type": "markdown",
   "metadata": {},
   "source": [
    "## Run simulation"
   ]
  },
  {
   "cell_type": "code",
   "metadata": {
    "ExecuteTime": {
     "end_time": "2025-07-01T10:18:50.431287Z",
     "start_time": "2025-07-01T10:18:44.035230Z"
    }
   },
   "source": [
    "mlups = simulation(4000)\n",
    "print(\"Performance in MLUPS:\", mlups)"
   ],
   "outputs": [
    {
     "ename": "KeyboardInterrupt",
     "evalue": "",
     "output_type": "error",
     "traceback": [
      "\u001B[31m---------------------------------------------------------------------------\u001B[39m",
      "\u001B[31mKeyboardInterrupt\u001B[39m                         Traceback (most recent call last)",
      "\u001B[36mCell\u001B[39m\u001B[36m \u001B[39m\u001B[32mIn[3]\u001B[39m\u001B[32m, line 1\u001B[39m\n\u001B[32m----> \u001B[39m\u001B[32m1\u001B[39m mlups = \u001B[43msimulation\u001B[49m\u001B[43m(\u001B[49m\u001B[32;43m4000\u001B[39;49m\u001B[43m)\u001B[49m\n\u001B[32m      2\u001B[39m \u001B[38;5;28mprint\u001B[39m(\u001B[33m\"\u001B[39m\u001B[33mPerformance in MLUPS:\u001B[39m\u001B[33m\"\u001B[39m, mlups)\n",
      "\u001B[36mFile \u001B[39m\u001B[32m~/Schreibtisch/lettuce/lettuce/_simulation.py:222\u001B[39m, in \u001B[36mSimulationReducedTGV.__call__\u001B[39m\u001B[34m(self, num_steps)\u001B[39m\n\u001B[32m    220\u001B[39m \u001B[38;5;28;01mfor\u001B[39;00m _ \u001B[38;5;129;01min\u001B[39;00m \u001B[38;5;28mrange\u001B[39m(num_steps):\n\u001B[32m    221\u001B[39m     \u001B[38;5;28;01mfor\u001B[39;00m boundary \u001B[38;5;129;01min\u001B[39;00m \u001B[38;5;28mself\u001B[39m.boundaries[\u001B[32m1\u001B[39m:]:  \u001B[38;5;66;03m# deine BCs\u001B[39;00m\n\u001B[32m--> \u001B[39m\u001B[32m222\u001B[39m         \u001B[38;5;28mself\u001B[39m.flow.f = \u001B[43mboundary\u001B[49m\u001B[43m(\u001B[49m\u001B[38;5;28;43mself\u001B[39;49m\u001B[43m.\u001B[49m\u001B[43mflow\u001B[49m\u001B[43m)\u001B[49m\n\u001B[32m    224\u001B[39m     \u001B[38;5;28mself\u001B[39m._stream()  \u001B[38;5;66;03m# dann streamen\u001B[39;00m\n\u001B[32m    225\u001B[39m     \u001B[38;5;28mself\u001B[39m.flow.f = \u001B[38;5;28mself\u001B[39m.collision(\u001B[38;5;28mself\u001B[39m.flow)  \u001B[38;5;66;03m# dann Kollision\u001B[39;00m\n",
      "\u001B[36mFile \u001B[39m\u001B[32m~/Schreibtisch/lettuce/lettuce/ext/_boundary/ReducedTGV_boundary.py:86\u001B[39m, in \u001B[36mnewsuperTGV3D.__call__\u001B[39m\u001B[34m(self, flow)\u001B[39m\n\u001B[32m     82\u001B[39m \u001B[38;5;28;01mdef\u001B[39;00m\u001B[38;5;250m \u001B[39m\u001B[34m__call__\u001B[39m(\u001B[38;5;28mself\u001B[39m, flow: Flow):\n\u001B[32m     83\u001B[39m     \u001B[38;5;28mself\u001B[39m.f_copies = torch.stack((flow.f[:, \u001B[32m0\u001B[39m, :, :].clone(), flow.f[:, :, \u001B[32m0\u001B[39m, :].clone(), flow.f[:, :, :, -\u001B[32m1\u001B[39m].clone(),\n\u001B[32m     84\u001B[39m                                  flow.f[:, :, :, \u001B[32m0\u001B[39m].clone(), flow.f[:, -\u001B[32m1\u001B[39m, :, :].clone(), flow.f[:, :, -\u001B[32m1\u001B[39m, :].clone()), dim=\u001B[32m3\u001B[39m)\n\u001B[32m---> \u001B[39m\u001B[32m86\u001B[39m     \u001B[38;5;28mself\u001B[39m.f_copies_borders = torch.stack((\u001B[43mflow\u001B[49m\u001B[43m.\u001B[49m\u001B[43mf\u001B[49m\u001B[43m[\u001B[49m\u001B[43m:\u001B[49m\u001B[43m,\u001B[49m\u001B[43m \u001B[49m\u001B[32;43m0\u001B[39;49m\u001B[43m,\u001B[49m\u001B[43m \u001B[49m\u001B[43m-\u001B[49m\u001B[32;43m1\u001B[39;49m\u001B[43m,\u001B[49m\u001B[43m \u001B[49m\u001B[43m:\u001B[49m\u001B[43m]\u001B[49m\u001B[43m.\u001B[49m\u001B[43mclone\u001B[49m\u001B[43m(\u001B[49m\u001B[43m)\u001B[49m, flow.f[:, -\u001B[32m1\u001B[39m, \u001B[32m0\u001B[39m, :].clone(), flow.f[:, -\u001B[32m1\u001B[39m, -\u001B[32m1\u001B[39m, :].clone(),\n\u001B[32m     87\u001B[39m                                          flow.f[:, \u001B[32m0\u001B[39m, \u001B[32m0\u001B[39m, :].clone(), flow.f[:, :, \u001B[32m0\u001B[39m, -\u001B[32m1\u001B[39m].clone(),\n\u001B[32m     88\u001B[39m                                          flow.f[:, \u001B[32m0\u001B[39m, :, -\u001B[32m1\u001B[39m].clone(), flow.f[:, :, -\u001B[32m1\u001B[39m, -\u001B[32m1\u001B[39m].clone(),\n\u001B[32m     89\u001B[39m                                          flow.f[:, -\u001B[32m1\u001B[39m, :, -\u001B[32m1\u001B[39m].clone(), flow.f[:, :, -\u001B[32m1\u001B[39m, \u001B[32m0\u001B[39m].clone(),\n\u001B[32m     90\u001B[39m                                          flow.f[:, \u001B[32m0\u001B[39m, :, \u001B[32m0\u001B[39m].clone(), flow.f[:, :, \u001B[32m0\u001B[39m, \u001B[32m0\u001B[39m].clone(), flow.f[:, -\u001B[32m1\u001B[39m, :, \u001B[32m0\u001B[39m].clone()), dim=\u001B[32m2\u001B[39m)\n\u001B[32m     92\u001B[39m     \u001B[38;5;28mself\u001B[39m.f_copies_corners = torch.stack([flow.f[:, -\u001B[32m1\u001B[39m, -\u001B[32m1\u001B[39m, -\u001B[32m1\u001B[39m].clone(), flow.f[:, \u001B[32m0\u001B[39m, \u001B[32m0\u001B[39m, \u001B[32m0\u001B[39m].clone(),\n\u001B[32m     93\u001B[39m                                          flow.f[:, -\u001B[32m1\u001B[39m, -\u001B[32m1\u001B[39m, \u001B[32m0\u001B[39m].clone(), flow.f[:, \u001B[32m0\u001B[39m, \u001B[32m0\u001B[39m, -\u001B[32m1\u001B[39m].clone(),\n\u001B[32m     94\u001B[39m                                          flow.f[:, -\u001B[32m1\u001B[39m, \u001B[32m0\u001B[39m, -\u001B[32m1\u001B[39m].clone(), flow.f[:, \u001B[32m0\u001B[39m, -\u001B[32m1\u001B[39m, \u001B[32m0\u001B[39m].clone(),\n\u001B[32m     95\u001B[39m                                          flow.f[:, -\u001B[32m1\u001B[39m, \u001B[32m0\u001B[39m, \u001B[32m0\u001B[39m].clone(), flow.f[:, \u001B[32m0\u001B[39m, -\u001B[32m1\u001B[39m, -\u001B[32m1\u001B[39m].clone()], dim=\u001B[32m1\u001B[39m)\n\u001B[32m     97\u001B[39m     \u001B[38;5;28;01mfor\u001B[39;00m i \u001B[38;5;129;01min\u001B[39;00m \u001B[38;5;28mrange\u001B[39m(\u001B[32m6\u001B[39m):\n",
      "\u001B[31mKeyboardInterrupt\u001B[39m: "
     ]
    }
   ],
   "execution_count": 3
  },
  {
   "cell_type": "markdown",
   "metadata": {},
   "source": [
    "## Post process\n",
    "### Energy Reporter\n",
    "* Grab output of kinetic energy reporter"
   ]
  },
  {
   "cell_type": "markdown",
   "metadata": {},
   "source": [
    "### Velocity\n",
    "We calculate the speed in Lettuce units depending on the last 'f'. Then we convert this velocity into physical units. For further investigations the tensor must be converted into a Numpy-Array. The norm of the fractions in x and y direction is plotted afterwards."
   ]
  },
  {
   "cell_type": "code",
   "metadata": {
    "ExecuteTime": {
     "end_time": "2025-07-01T10:18:50.433725Z",
     "start_time": "2025-07-01T10:18:50.433398Z"
    }
   },
   "source": [
    "\"\"\"Alle Observablen umgerechnet auf den originalen TGV\"\"\"\n",
    "energy = np.array(simulation.reporter[0].out)\n",
    "plt.plot(energy[:, 1], energy[:, 2])\n",
    "plt.title('Kinetic energy')\n",
    "plt.xlabel('Time')\n",
    "plt.ylabel('Energy in physical units')\n",
    "plt.show()\n",
    "dEdt=np.zeros(len(energy[:,2]))\n",
    "dt=energy[1,1]-energy[0,1]\n",
    "nmax=len(energy[:,2])\n",
    "\n",
    "\"\"\"Diss = - dEkin/dt mithilfe Differenzenquotient 6. Ordnung mit Randwerten 4., 2., 1. Ordnung\"\"\"\n",
    "\n",
    "for i in range(len(energy[:,2])):\n",
    "    if i == 0:\n",
    "        dEdt[i] = (energy[1,2] - energy[0,2]) / dt\n",
    "    elif i == 1:\n",
    "        dEdt[i] = (energy[2,2] - energy[0,2]) / 2/dt\n",
    "    elif i == 2:\n",
    "        dEdt[i] = (1/12*energy[0,2] - 2/3*energy[1,2] + 2/3*energy[3,2] - 1/12*energy[4,2]) / dt\n",
    "    elif i >= (nmax-3):\n",
    "        if i == (nmax-3):\n",
    "            dEdt[i] = (1/12*energy[nmax-5,2] - 2/3*energy[nmax-4,2] + 2/3*energy[nmax-2,2] - 1/12*energy[nmax-1,2]) / dt\n",
    "        elif i == (nmax-2):\n",
    "            dEdt[i] = (energy[nmax-1,2] - energy[nmax-3,2]) /2/ dt\n",
    "        elif i == (nmax-1):\n",
    "            dEdt[i] = (energy[nmax-1,2] - energy[nmax-2,2]) /dt\n",
    "    elif i < (nmax-3):\n",
    "        dEdt[i] = (-1/60*energy[i-3,2] + 3/20*energy[i-2,2] - 3/4*energy[i-1,2] + 3/4*energy[i+1,2] - 3/20*energy[i+2,2] + 1/60*energy[i+3,2]) / dt\n",
    "\n",
    "dissipationEkin=np.array([energy[:,1],-dEdt/(np.pi*0.5)**3])\n"
   ],
   "outputs": [],
   "execution_count": null
  },
  {
   "metadata": {
    "ExecuteTime": {
     "end_time": "2025-07-01T10:18:50.435631Z",
     "start_time": "2025-07-01T10:18:50.434976Z"
    }
   },
   "cell_type": "code",
   "source": [
    "\n",
    "plt.plot(dissipationEkin[0,3:],dissipationEkin[1,3:],color = 'blue')\n",
    "plt.title('Energy Dissipation')\n",
    "plt.xlabel('Time')\n",
    "plt.ylabel('Energy Dissipation in physical units')\n",
    "plt.show()"
   ],
   "outputs": [],
   "execution_count": null
  },
  {
   "cell_type": "code",
   "source": [],
   "metadata": {
    "collapsed": false,
    "ExecuteTime": {
     "end_time": "2025-07-01T10:18:50.438305Z",
     "start_time": "2025-07-01T10:18:50.437576Z"
    }
   },
   "outputs": [],
   "execution_count": null
  }
 ],
 "metadata": {
  "kernelspec": {
   "display_name": "Python 3",
   "language": "python",
   "name": "python3"
  },
  "language_info": {
   "codemirror_mode": {
    "name": "ipython",
    "version": 3
   },
   "file_extension": ".py",
   "mimetype": "text/x-python",
   "name": "python",
   "nbconvert_exporter": "python",
   "pygments_lexer": "ipython3",
   "version": "3.8.5"
  }
 },
 "nbformat": 4,
 "nbformat_minor": 4
}
