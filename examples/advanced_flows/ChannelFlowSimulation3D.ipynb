{
 "cells": [
  {
   "cell_type": "code",
   "source": [
    "\n",
    "\n",
    "import lettuce as lt\n",
    "from lettuce import D3Q19, UnitConversion\n",
    "import csv\n",
    "from lettuce import Observable\n",
    "from lettuce.ext._force.adaptive_force import AdaptiveForce\n",
    "from lettuce.ext._boundary.wallfunction import WallFunction\n",
    "from lettuce.ext._reporter.observable_reporter import GlobalMeanUXReporter, WallQuantities\n",
    "from lettuce.ext._stencil.d3q19 import D3Q19\n"
   ],
   "metadata": {
    "collapsed": false,
    "ExecuteTime": {
     "end_time": "2025-07-08T09:34:41.578095Z",
     "start_time": "2025-07-08T09:34:41.574097Z"
    }
   },
   "outputs": [],
   "execution_count": 7
  },
  {
   "cell_type": "code",
   "source": [
    "from argparse import ArgumentParser, ArgumentDefaultsHelpFormatter\n",
    "import numpy as np\n",
    "import torch\n",
    "\n",
    "parser = ArgumentParser(formatter_class=ArgumentDefaultsHelpFormatter)\n",
    "parser.add_argument(\"--vtkdir\", type=str, default=\"./output/\")\n",
    "parser.add_argument(\"--csvdir\", type=str, default=\"./output/\")\n",
    "parser.add_argument(\"--nout\", type=int, default=100)\n",
    "parser.add_argument(\"--nvtk\", type=int, default=100)\n",
    "parser.add_argument(\"--tmax\", type=int, default=40)\n",
    "parser.add_argument(\"--Re\", type=int, default=13800)\n",
    "parser.add_argument(\"--collision_operator\", type=str, default=\"BGK\")\n",
    "parser.add_argument(\"--Precision\", type=str, default=\"Single\")\n",
    "parser.add_argument(\"--Mach\", type=float, default=0.1)\n",
    "parser.add_argument(\"--h\", type=int, default=10, help=\"Halbe Kanalhöhe in LU\")\n",
    "parser.add_argument(\"--bbtype\", type=str, default=\"wallfunction\", choices=[\"halfway\", \"fullway\", \"wallfunction\", \"freeslip\"],\n",
    "                    help=\"Typ der Bounce-Back-Randbedingung\")\n",
    "\n",
    "args, unknown = parser.parse_known_args()\n",
    "args = vars(args)\n",
    "\n",
    "print(\"ICH FUNKTIONIERE MIT PULLEN\")\n",
    "\n",
    "\n",
    "\n",
    "# Einheiten und Auflösung\n",
    "h = args[\"h\"]                      # Kanalhalbhöhe in LU\n",
    "res_y = 2 * h                     # y: volle Kanalhöhe\n",
    "res_x = int(2*np.pi * h)\n",
    "res_z = int(np.pi * h)\n",
    "\n",
    "# Restliche Parameter\n",
    "Re = args[\"Re\"]\n",
    "basedir = args[\"vtkdir\"]\n",
    "csvdir = args[\"csvdir\"]\n",
    "nout = args[\"nout\"]\n",
    "nvtk = args[\"nvtk\"]\n",
    "tmax = args[\"tmax\"]\n",
    "Precision = args[\"Precision\"]\n",
    "collision_operator = args[\"collision_operator\"]\n",
    "Mach = args[\"Mach\"]\n",
    "bbtype = args[\"bbtype\"]\n",
    "# Präzision\n",
    "if Precision == \"Single\":\n",
    "    dtype = torch.float32\n",
    "elif Precision == \"Double\":\n",
    "    dtype = torch.float64\n",
    "elif Precision == \"Half\":\n",
    "    dtype = torch.float16\n",
    "\n",
    "\n",
    "Re_tau = 180\n",
    "\n",
    "smagorinsky_constant = 0.17\n",
    "\n",
    "delta_x = 1.0"
   ],
   "metadata": {
    "collapsed": false,
    "ExecuteTime": {
     "end_time": "2025-07-08T09:34:41.594498Z",
     "start_time": "2025-07-08T09:34:41.580389Z"
    }
   },
   "outputs": [
    {
     "name": "stdout",
     "output_type": "stream",
     "text": [
      "ICH FUNKTIONIERE MIT PULLEN\n"
     ]
    }
   ],
   "execution_count": 8
  },
  {
   "metadata": {
    "jupyter": {
     "is_executing": true
    },
    "ExecuteTime": {
     "start_time": "2025-07-08T09:34:41.597242Z"
    }
   },
   "cell_type": "code",
   "source": [
    "\n",
    "\n",
    "dtype = torch.float64  # Für Stabilität bei hohen Re\n",
    "context = lt.Context(device=torch.device('cuda:0') if torch.cuda\n",
    "                     .is_available() else torch.device('cpu'),\n",
    "                     dtype=dtype, use_native = False)\n",
    "# 🧱 Domänenmaße & Setup\n",
    "h = args[\"h\"]\n",
    "res_y = 2 * h\n",
    "res_x = int(2 * np.pi * h)\n",
    "res_z = int(np.pi * h)\n",
    "\n",
    "# 🌊 Flow erzeugen, Boundaries übergeben\n",
    "flow = lt.ChannelFlow3D(\n",
    "    context = context,\n",
    "    resolution=h,\n",
    "    reynolds_number=Re,\n",
    "    stencil = D3Q19(),\n",
    "    mach_number=Mach\n",
    ")\n",
    "# 🧩 Boundaries kennen jetzt den Flow\n",
    "#wfb_bottom.flow = flow\n",
    "#wfb_top.flow = flow\n",
    "shape = flow.resolution\n",
    "mask_bottom = torch.zeros(shape, dtype=torch.bool, device=context.device)\n",
    "mask_bottom[:, 0, :] = True\n",
    "mask_top = torch.zeros(shape, dtype=torch.bool, device=context.device)\n",
    "mask_top[:, -1, :] = True\n",
    "# 🧠 Check: IDs vergleichen\n",
    "print(flow.stencil.d)\n",
    "# 📈 Reporter: Global Mean Ux\n",
    "global_mean_ux_reporter = GlobalMeanUXReporter(flow = flow)\n",
    "\n",
    "# 📊 Wall Quantities Reporter (lesen von denselben Objekten)\n",
    "wq_bottom = WallQuantities(mask = mask_bottom, wall = \"bottom\", flow=flow, boundary=flow.boundaries[0], context = context)\n",
    "wq_top = WallQuantities(mask = mask_top, wall = \"top\", flow=flow, boundary=flow.boundaries[1], context = context)\n",
    "print(flow.boundaries[0].__class__.__name__)\n",
    "# 🌀 Adaptive Force mit denselben Boundaries\n",
    "adaptive_force_instance = AdaptiveForce(\n",
    "    flow=flow,\n",
    "    context = context,\n",
    "    target_u_m_lu=flow.units.convert_velocity_to_lu(1.0),\n",
    "    wall_bottom=flow.boundaries[0],\n",
    "    wall_top=flow.boundaries[1],\n",
    "    global_ux_reporter=global_mean_ux_reporter,\n",
    "    base_lbm_tau_lu=flow.units.relaxation_parameter_lu\n",
    ")\n",
    "collision = lt.BGKCollision(tau=flow.units.relaxation_parameter_lu, force=adaptive_force_instance)\n",
    "\n",
    "simulation = lt.Simulation(flow=flow, collision=collision, reporter = [])\n",
    "\n",
    "simulation.reporter.append(lt.ObservableReporter(global_mean_ux_reporter, interval=1, out=None))\n",
    "simulation.reporter.append(lt.ObservableReporter(wq_bottom, interval=100, out=None))\n",
    "simulation.reporter.append(lt.ObservableReporter(wq_top, interval=100, out=None))\n",
    "\n",
    "steps = int(flow.units.convert_time_to_lu(tmax))\n",
    "vtk_reporter = lt.VTKReporter(interval=max(1, int(steps/100)), filename_base=basedir + \"/output\")\n",
    "simulation.reporter.append(vtk_reporter)\n",
    "\n",
    "mlups = simulation.step(num_steps=steps)\n",
    "\n",
    "# 🧾 Ergebnisse abspeichern\n",
    "wq_top_arr = np.array(simulation.reporter[2].out)\n",
    "wq_bottom_arr = np.array(simulation.reporter[1].out)\n",
    "ux_mean_arr = np.array(simulation.reporter[0].out)\n",
    "\n",
    "with open(csvdir + 'uxmean.csv', 'w', newline='') as file:\n",
    "    writer = csv.writer(file)\n",
    "    writer.writerows(ux_mean_arr)\n",
    "with open(csvdir + 'WallQuantitiesTop.csv', 'w', newline='') as file:\n",
    "    writer = csv.writer(file)\n",
    "    writer.writerows(wq_top_arr)\n",
    "with open(csvdir + 'WallQuantitiesBottom.csv', 'w', newline='') as file:\n",
    "    writer = csv.writer(file)\n",
    "    writer.writerows(wq_bottom_arr)\n"
   ],
   "outputs": [
    {
     "name": "stdout",
     "output_type": "stream",
     "text": [
      "3\n",
      "WallFunction\n",
      "[62, 20, 31] 19\n",
      "tensor(268.3145, dtype=torch.float64)\n",
      "tensor(268.4109, dtype=torch.float64)\n",
      "tensor(115.1635, dtype=torch.float64)\n",
      "tensor(115.6101, dtype=torch.float64)\n",
      "tensor(88.4318, dtype=torch.float64)\n",
      "tensor(88.7330, dtype=torch.float64)\n"
     ]
    }
   ],
   "execution_count": null
  },
  {
   "metadata": {
    "jupyter": {
     "is_executing": true
    }
   },
   "cell_type": "code",
   "source": "",
   "outputs": [],
   "execution_count": null
  },
  {
   "cell_type": "code",
   "source": [
    "import matplotlib.pyplot as plt\n",
    "import numpy as np\n",
    "\n",
    "\n",
    "print(wq_bottom)\n",
    "# Beispiel: Daten laden\n",
    "data = (wq_bottom_arr+wq_top_arr)/2\n",
    "time = data[:, 1]\n",
    "re_tau = data[:, 4]\n",
    "y_plus = data[:, 3]\n",
    "\n",
    "\n",
    "plt.figure()\n",
    "plt.plot(time, re_tau, label=\"Re_tau (bottom)\")\n",
    "plt.xlabel(\"Zeit\")\n",
    "plt.ylabel(\"Re_tau\")\n",
    "plt.legend()\n",
    "plt.grid()\n",
    "plt.title(\"Re_tau über die Zeit\")\n",
    "plt.savefig(csvdir + \"retau.pdf\")\n",
    "\n",
    "plt.show()\n",
    "\n",
    "plt.figure()\n",
    "plt.plot(time, y_plus, label=\"y⁺ (bottom)\")\n",
    "plt.xlabel(\"Zeit\")\n",
    "plt.ylabel(\"y⁺\")\n",
    "plt.legend()\n",
    "plt.grid()\n",
    "plt.title(\"y⁺ über die Zeit\")\n",
    "plt.savefig(csvdir + \"yplus.pdf\")\n",
    "plt.show()\n"
   ],
   "metadata": {
    "collapsed": false,
    "jupyter": {
     "is_executing": true
    }
   },
   "outputs": [],
   "execution_count": null
  },
  {
   "metadata": {
    "jupyter": {
     "is_executing": true
    }
   },
   "cell_type": "code",
   "source": [
    "\n",
    "# 💡 Schritt 1: u holen und Betrag berechnen\n",
    "u = flow.u()  # [3, Nx, Ny, Nz]\n",
    "u_mag = torch.sqrt(u[0]**2 + u[1]**2 + u[2]**2)  # [Nx, Ny, Nz]\n",
    "\n",
    "# 💡 Schritt 2: Slice bei x = 0 extrahieren\n",
    "slice_2d = u_mag[:, :, 0]  # [Ny, Nz]\n",
    "\n",
    "# 💡 Schritt 3: Plotten\n",
    "plt.figure(figsize=(6, 4))\n",
    "plt.imshow(slice_2d.cpu().numpy(), origin='lower', aspect='auto')\n",
    "plt.colorbar(label='|u|')\n",
    "plt.title('Geschwindigkeitsbetrag bei x = 0')\n",
    "plt.xlabel('z')\n",
    "plt.ylabel('y')\n",
    "plt.tight_layout()\n",
    "plt.show()\n"
   ],
   "outputs": [],
   "execution_count": null
  },
  {
   "metadata": {
    "jupyter": {
     "is_executing": true
    }
   },
   "cell_type": "code",
   "source": "",
   "outputs": [],
   "execution_count": null
  }
 ],
 "metadata": {
  "kernelspec": {
   "display_name": "Python 3",
   "language": "python",
   "name": "python3"
  },
  "language_info": {
   "codemirror_mode": {
    "name": "ipython",
    "version": 2
   },
   "file_extension": ".py",
   "mimetype": "text/x-python",
   "name": "python",
   "nbconvert_exporter": "python",
   "pygments_lexer": "ipython2",
   "version": "2.7.6"
  }
 },
 "nbformat": 4,
 "nbformat_minor": 0
}
