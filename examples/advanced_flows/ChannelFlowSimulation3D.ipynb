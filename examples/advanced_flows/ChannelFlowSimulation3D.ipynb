{
 "cells": [
  {
   "cell_type": "code",
   "source": [
    "import lettuce as lt\n",
    "from lettuce import D3Q19, UnitConversion\n",
    "import csv\n",
    "from lettuce.util.moments import D3Q19ChavezTransform\n",
    "from lettuce import Observable\n",
    "from lettuce.ext._boundary.wallfunction import WallFunction\n",
    "from lettuce.ext._reporter.observable_reporter import GlobalMeanUXReporter, WallQuantities, AdaptiveAcceleration, WallfunctionReporter\n",
    "from lettuce.ext._stencil.d3q19 import D3Q19\n"
   ],
   "metadata": {
    "collapsed": false,
    "is_executing": true,
    "ExecuteTime": {
     "end_time": "2025-10-20T12:12:41.386800Z",
     "start_time": "2025-10-20T12:12:40.516969Z"
    }
   },
   "outputs": [],
   "execution_count": 1
  },
  {
   "cell_type": "code",
   "source": [
    "from argparse import ArgumentParser, ArgumentDefaultsHelpFormatter\n",
    "import numpy as np\n",
    "import torch\n",
    "\n",
    "parser = ArgumentParser(formatter_class=ArgumentDefaultsHelpFormatter)\n",
    "parser.add_argument(\"--vtkdir\", type=str, default=\"./output/\")\n",
    "parser.add_argument(\"--csvdir\", type=str, default=\"./output/\")\n",
    "parser.add_argument(\"--nout\", type=int, default=100)\n",
    "parser.add_argument(\"--nvtk\", type=int, default=100)\n",
    "parser.add_argument(\"--tmax\", type=int, default=1)\n",
    "parser.add_argument(\"--Re\", type=int, default=180)\n",
    "parser.add_argument(\"--collision_operator\", type=str, default=\"BGK\")\n",
    "parser.add_argument(\"--Precision\", type=str, default=\"Double\")\n",
    "parser.add_argument(\"--Mach\", type=float, default=0.1)\n",
    "parser.add_argument(\"--h\", type=int, default=12, help=\"Halbe Kanalhöhe in LU\")\n",
    "parser.add_argument(\"--bbtype\", type=str, default=\"wallfunction\", choices=[\"halfway\", \"fullway\", \"wallfunction\", \"freeslip\"],\n",
    "                    help=\"Typ der Bounce-Back-Randbedingung\")\n",
    "parser.add_argument(\"--use_native\", type=bool, default=True)\n",
    "args, unknown = parser.parse_known_args()\n",
    "args = vars(args)\n",
    "\n",
    "print(\"ICH FUNKTIONIERE MIT PULLEN\")\n",
    "\n",
    "\n",
    "\n",
    "# Einheiten und Auflösung\n",
    "h = args[\"h\"]                      # Kanalhalbhöhe in LU\n",
    "res_y = 2 * h                     # y: volle Kanalhöhe\n",
    "res_x = int(2*np.pi * h)\n",
    "res_z = int(np.pi * h)\n",
    "\n",
    "# Restliche Parameter\n",
    "Re = args[\"Re\"]\n",
    "basedir = args[\"vtkdir\"]\n",
    "csvdir = args[\"csvdir\"]\n",
    "nout = args[\"nout\"]\n",
    "nvtk = args[\"nvtk\"]\n",
    "tmax = args[\"tmax\"]\n",
    "Precision = args[\"Precision\"]\n",
    "collision_operator = args[\"collision_operator\"]\n",
    "Mach = args[\"Mach\"]\n",
    "bbtype = args[\"bbtype\"]\n",
    "h = args[\"h\"]\n",
    "use_native = args[\"use_native\"]\n",
    "# Präzision\n",
    "if Precision == \"Single\":\n",
    "    dtype = torch.float32\n",
    "elif Precision == \"Double\":\n",
    "    dtype = torch.float64\n",
    "elif Precision == \"Half\":\n",
    "    dtype = torch.float16\n",
    "print(use_native)\n",
    "print(torch.cuda.is_available())\n",
    "print(torch.version.cuda)"
   ],
   "metadata": {
    "collapsed": false,
    "is_executing": true,
    "ExecuteTime": {
     "end_time": "2025-10-20T12:12:41.591233Z",
     "start_time": "2025-10-20T12:12:41.393730Z"
    }
   },
   "outputs": [
    {
     "name": "stdout",
     "output_type": "stream",
     "text": [
      "ICH FUNKTIONIERE MIT PULLEN\n",
      "True\n",
      "True\n",
      "13.0\n"
     ]
    }
   ],
   "execution_count": 2
  },
  {
   "metadata": {
    "is_executing": true,
    "ExecuteTime": {
     "end_time": "2025-10-20T12:23:10.762584Z",
     "start_time": "2025-10-20T12:23:10.672671Z"
    }
   },
   "cell_type": "code",
   "source": [
    "context = lt.Context(device=torch.device('cuda:0') if torch.cuda\n",
    "                     .is_available() else torch.device('cpu'),\n",
    "                     dtype=dtype, use_native = use_native)\n",
    "\n",
    "flow = lt.ChannelFlow3D(\n",
    "    context = context,\n",
    "    resolution=h,\n",
    "    reynolds_number=6432 if Re == 180 else Re**(8/7)*(8/0.073)**(4/7),\n",
    "    stencil = D3Q19(),\n",
    "    mach_number=Mach,\n",
    "    bbtype=bbtype if use_native is False else None\n",
    ")"
   ],
   "outputs": [
    {
     "ename": "NameError",
     "evalue": "name 'lt' is not defined",
     "output_type": "error",
     "traceback": [
      "\u001B[31m---------------------------------------------------------------------------\u001B[39m",
      "\u001B[31mNameError\u001B[39m                                 Traceback (most recent call last)",
      "\u001B[36mCell\u001B[39m\u001B[36m \u001B[39m\u001B[32mIn[1]\u001B[39m\u001B[32m, line 1\u001B[39m\n\u001B[32m----> \u001B[39m\u001B[32m1\u001B[39m context = \u001B[43mlt\u001B[49m.Context(device=torch.device(\u001B[33m'\u001B[39m\u001B[33mcuda:0\u001B[39m\u001B[33m'\u001B[39m) \u001B[38;5;28;01mif\u001B[39;00m torch.cuda\n\u001B[32m      2\u001B[39m                      .is_available() \u001B[38;5;28;01melse\u001B[39;00m torch.device(\u001B[33m'\u001B[39m\u001B[33mcpu\u001B[39m\u001B[33m'\u001B[39m),\n\u001B[32m      3\u001B[39m                      dtype=dtype, use_native = use_native)\n\u001B[32m      5\u001B[39m flow = lt.ChannelFlow3D(\n\u001B[32m      6\u001B[39m     context = context,\n\u001B[32m      7\u001B[39m     resolution=h,\n\u001B[32m   (...)\u001B[39m\u001B[32m     11\u001B[39m     bbtype=bbtype \u001B[38;5;28;01mif\u001B[39;00m use_native \u001B[38;5;129;01mis\u001B[39;00m \u001B[38;5;28;01mFalse\u001B[39;00m \u001B[38;5;28;01melse\u001B[39;00m \u001B[38;5;28;01mNone\u001B[39;00m\n\u001B[32m     12\u001B[39m )\n",
      "\u001B[31mNameError\u001B[39m: name 'lt' is not defined"
     ]
    }
   ],
   "execution_count": 1
  },
  {
   "metadata": {
    "ExecuteTime": {
     "end_time": "2025-10-20T12:12:41.845844Z",
     "start_time": "2025-10-20T12:12:41.839504Z"
    }
   },
   "cell_type": "code",
   "source": [
    "shape = flow.resolution\n",
    "mask_bottom = torch.zeros(shape, dtype=torch.bool, device=context.device)\n",
    "mask_bottom[:, 0, :] = True\n",
    "mask_top = torch.zeros(shape, dtype=torch.bool, device=context.device)\n",
    "mask_top[:, -1, :] = True\n",
    "mask_force = torch.ones(shape, dtype=torch.bool, device=context.device)\n",
    "mask_force[:, 0, :] = True\n",
    "mask_force[:, -1, :] = True\n",
    "\n",
    "global_mean_ux_reporter = GlobalMeanUXReporter(flow = flow)\n",
    "\n",
    "from lettuce.ext._force.Kupershtokh import ExactDifferenceForce\n",
    "force = ExactDifferenceForce(flow  =flow, acceleration=[0,0,0])\n",
    "\n",
    "\n",
    "adaptive_accel = AdaptiveAcceleration(\n",
    "    flow=flow,\n",
    "    force_obj=force,  # 🔗 direkte Verbindung!\n",
    "    target_mean_ux_lu=flow.units.convert_velocity_to_lu(1.0),\n",
    "    context=context,\n",
    "    k_gain=1.0\n",
    ")\n",
    "\n",
    "if collision_operator == \"BGK\":\n",
    "\n",
    "    collision = lt.BGKCollision(tau=flow.units.relaxation_parameter_lu, force=force)\n",
    "\n",
    "elif collision_operator == \"Smag\":\n",
    "    \n",
    "    collision = lt.SmagorinskyCollision(tau=flow.units.relaxation_parameter_lu, force=force)\n",
    "print(flow.boundaries)"
   ],
   "outputs": [
    {
     "name": "stdout",
     "output_type": "stream",
     "text": [
      "[]\n"
     ]
    }
   ],
   "execution_count": 4
  },
  {
   "metadata": {
    "ExecuteTime": {
     "end_time": "2025-10-20T12:12:41.895529Z",
     "start_time": "2025-10-20T12:12:41.892133Z"
    }
   },
   "cell_type": "code",
   "source": [
    "simulation = lt.Simulation(flow=flow, collision=collision, reporter = [])\n",
    "\n",
    "if use_native:\n",
    "    mask_no_collision = torch.zeros(flow.resolution, dtype=torch.bool, device=context.device)\n",
    "    # Wand + erste Fluidreihe (keine Kollision dort)\n",
    "    mask_no_collision[:, 0, :] = True\n",
    "    mask_no_collision[:, 1, :] = True\n",
    "    mask_no_collision[:, -1, :] = True\n",
    "    mask_no_collision[:, -2, :] = True\n",
    "\n",
    "    simulation.no_collision_mask = mask_no_collision\n",
    "    simulation.no_streaming_mask = None"
   ],
   "outputs": [
    {
     "name": "stderr",
     "output_type": "stream",
     "text": [
      "/home/ben/lettuce/lettuce/_simulation.py:60: UserWarning: This warning occurs because either post_boundaries is not defined withinthe flow class or the `boundaries` method is usedwhich is deprecated and will be removed in a future version. Please use `pre_boundaries` or `post_boundaries` directly instead.\n",
      "  self.transformer = (flow.pre_boundaries or []) + [collision] + (flow.post_boundaries or [])\n",
      "/home/ben/lettuce/lettuce/_simulation.py:63: UserWarning: This warning occurs because either post_boundaries is not defined withinthe flow class or the `boundaries` method is usedwhich is deprecated and will be removed in a future version. Please use `pre_boundaries` or `post_boundaries` directly instead.\n",
      "  self.post_boundaries = flow.post_boundaries\n"
     ]
    }
   ],
   "execution_count": 5
  },
  {
   "metadata": {
    "ExecuteTime": {
     "end_time": "2025-10-20T12:12:41.962249Z",
     "start_time": "2025-10-20T12:12:41.958656Z"
    }
   },
   "cell_type": "code",
   "source": [
    "\n",
    "wq_bottom = WallQuantities(mask = mask_bottom, wall = \"bottom\", flow=flow, context = context)\n",
    "wq_top = WallQuantities(mask = mask_top, wall = \"top\", flow=flow, context = context)\n",
    "\n",
    "\n",
    "simulation.reporter.append(lt.ObservableReporter(global_mean_ux_reporter, interval=1, out=None))\n",
    "simulation.reporter.append(lt.ObservableReporter(wq_bottom, interval=100, out=None))\n",
    "simulation.reporter.append(lt.ObservableReporter(wq_top, interval=100, out=None))\n",
    "simulation.reporter.append(lt.ObservableReporter(adaptive_accel, interval=50, out=None))\n",
    "steps = int(flow.units.convert_time_to_lu(tmax))\n",
    "vtk_reporter = lt.VTKReporter(interval=max(1, int(steps/100)), filename_base=basedir + \"/output_h20_t30\")\n",
    "simulation.reporter.append(vtk_reporter)\n",
    "\n",
    "if use_native:\n",
    "    collision_py = lt.BGKCollision(tau=flow.units.relaxation_parameter_lu, force=force)\n",
    "    wfb_bottom = WallFunction(mask_bottom, flow.stencil, h, context, wall=\"bottom\")\n",
    "    wfb_top = WallFunction(mask_top, flow.stencil, h, context, wall=\"top\")\n",
    "    \n",
    "    # -------------------\n",
    "    # Reporter (macht Python-Kollision + WFB)\n",
    "    # -------------------\n",
    "    mask_no_collision2 = torch.ones(flow.resolution, dtype=torch.bool, device=context.device)\n",
    "    #mask_no_collision2[:, :, :] = True\n",
    "    mask_no_collision2[:, 1, :] = False\n",
    "    mask_no_collision2[:, -2, :] = False\n",
    "    wfb_reporter = WallfunctionReporter(context, flow, collision_py, mask_no_collision2, wfb_bottom, wfb_top)\n",
    "    simulation.reporter.append(lt.ObservableReporter(wfb_reporter, interval=1, out=None))"
   ],
   "outputs": [],
   "execution_count": 6
  },
  {
   "metadata": {
    "ExecuteTime": {
     "end_time": "2025-10-20T12:12:50.798595Z",
     "start_time": "2025-10-20T12:12:42.021024Z"
    }
   },
   "cell_type": "code",
   "source": [
    "\n",
    "mlups = simulation.step(num_steps=steps)\n",
    "\n",
    "wq_top_arr = np.array(simulation.reporter[2].out)\n",
    "wq_bottom_arr = np.array(simulation.reporter[1].out)\n",
    "ux_mean_arr = np.array(simulation.reporter[0].out)\n",
    "\n",
    "with open(csvdir + 'uxmean.csv', 'w', newline='') as file:\n",
    "    writer = csv.writer(file)\n",
    "    writer.writerows(ux_mean_arr)\n",
    "with open(csvdir + 'WallQuantitiesTop.csv', 'w', newline='') as file:\n",
    "    writer = csv.writer(file)\n",
    "    writer.writerows(wq_top_arr)\n",
    "with open(csvdir + 'WallQuantitiesBottom.csv', 'w', newline='') as file:\n",
    "    writer = csv.writer(file)\n",
    "    writer.writerows(wq_bottom_arr)"
   ],
   "outputs": [
    {
     "name": "stdout",
     "output_type": "stream",
     "text": [
      "y+: tensor(6.8995, device='cuda:0', dtype=torch.float64) Re_tau: tensor(82.7936, device='cuda:0', dtype=torch.float64)\n",
      "y+: tensor(6.9033, device='cuda:0', dtype=torch.float64) Re_tau: tensor(82.8397, device='cuda:0', dtype=torch.float64)\n"
     ]
    },
    {
     "name": "stderr",
     "output_type": "stream",
     "text": [
      "/home/ben/lettuce/lettuce/ext/_boundary/wallfunction.py:159: UserWarning: indexing with dtype torch.uint8 is now deprecated, please use a dtype torch.bool instead. (Triggered internally at /pytorch/aten/src/ATen/native/IndexingUtils.h:37.)\n",
      "  f17_old = flow.f[17, self.mask].clone()\n",
      "/home/ben/lettuce/lettuce/ext/_boundary/wallfunction.py:160: UserWarning: indexing with dtype torch.uint8 is now deprecated, please use a dtype torch.bool instead. (Triggered internally at /pytorch/aten/src/ATen/native/IndexingUtils.h:37.)\n",
      "  f16_old = flow.f[16, self.mask].clone()\n",
      "/home/ben/lettuce/lettuce/ext/_boundary/wallfunction.py:161: UserWarning: indexing with dtype torch.uint8 is now deprecated, please use a dtype torch.bool instead. (Triggered internally at /pytorch/aten/src/ATen/native/IndexingUtils.h:37.)\n",
      "  f10_old = flow.f[10, self.mask].clone()\n",
      "/home/ben/lettuce/lettuce/ext/_boundary/wallfunction.py:162: UserWarning: indexing with dtype torch.uint8 is now deprecated, please use a dtype torch.bool instead. (Triggered internally at /pytorch/aten/src/ATen/native/IndexingUtils.h:37.)\n",
      "  f8_old  = flow.f[8, self.mask].clone()\n",
      "/home/ben/lettuce/lettuce/ext/_boundary/wallfunction.py:203: UserWarning: where received a uint8 condition tensor. This behavior is deprecated and will be removed in a future version of PyTorch. Use a boolean condition instead. (Triggered internally at /pytorch/aten/src/ATen/native/TensorCompare.cpp:614.)\n",
      "  flow.f = torch.where(self.mask, flow.f[self.stencil.opposite], flow.f)\n",
      "/home/ben/lettuce/lettuce/ext/_boundary/wallfunction.py:206: UserWarning: indexing with dtype torch.uint8 is now deprecated, please use a dtype torch.bool instead. (Triggered internally at /pytorch/aten/src/ATen/native/IndexingUtils.h:37.)\n",
      "  flow.f[15, self.mask] = f17_old + tau_x_field\n",
      "/home/ben/lettuce/lettuce/ext/_boundary/wallfunction.py:207: UserWarning: indexing with dtype torch.uint8 is now deprecated, please use a dtype torch.bool instead. (Triggered internally at /pytorch/aten/src/ATen/native/IndexingUtils.h:37.)\n",
      "  flow.f[16, self.mask] = f17_old + tau_x_field\n",
      "/home/ben/lettuce/lettuce/ext/_boundary/wallfunction.py:208: UserWarning: indexing with dtype torch.uint8 is now deprecated, please use a dtype torch.bool instead. (Triggered internally at /pytorch/aten/src/ATen/native/IndexingUtils.h:37.)\n",
      "  flow.f[18, self.mask] = f16_old - tau_x_field\n",
      "/home/ben/lettuce/lettuce/ext/_boundary/wallfunction.py:209: UserWarning: indexing with dtype torch.uint8 is now deprecated, please use a dtype torch.bool instead. (Triggered internally at /pytorch/aten/src/ATen/native/IndexingUtils.h:37.)\n",
      "  flow.f[17,  self.mask] = f16_old - tau_x_field\n",
      "/home/ben/lettuce/lettuce/ext/_boundary/wallfunction.py:210: UserWarning: indexing with dtype torch.uint8 is now deprecated, please use a dtype torch.bool instead. (Triggered internally at /pytorch/aten/src/ATen/native/IndexingUtils.h:37.)\n",
      "  flow.f[7,  self.mask] = f10_old + tau_z_field\n",
      "/home/ben/lettuce/lettuce/ext/_boundary/wallfunction.py:211: UserWarning: indexing with dtype torch.uint8 is now deprecated, please use a dtype torch.bool instead. (Triggered internally at /pytorch/aten/src/ATen/native/IndexingUtils.h:37.)\n",
      "  flow.f[8, self.mask] = f10_old + tau_z_field\n",
      "/home/ben/lettuce/lettuce/ext/_boundary/wallfunction.py:212: UserWarning: indexing with dtype torch.uint8 is now deprecated, please use a dtype torch.bool instead. (Triggered internally at /pytorch/aten/src/ATen/native/IndexingUtils.h:37.)\n",
      "  flow.f[9,  self.mask] = f8_old - tau_z_field\n",
      "/home/ben/lettuce/lettuce/ext/_boundary/wallfunction.py:213: UserWarning: indexing with dtype torch.uint8 is now deprecated, please use a dtype torch.bool instead. (Triggered internally at /pytorch/aten/src/ATen/native/IndexingUtils.h:37.)\n",
      "  flow.f[10, self.mask] = f8_old - tau_z_field\n",
      "/home/ben/lettuce/lettuce/ext/_boundary/wallfunction.py:165: UserWarning: indexing with dtype torch.uint8 is now deprecated, please use a dtype torch.bool instead. (Triggered internally at /pytorch/aten/src/ATen/native/IndexingUtils.h:37.)\n",
      "  f15_old = flow.f[15, self.mask].clone()\n",
      "/home/ben/lettuce/lettuce/ext/_boundary/wallfunction.py:166: UserWarning: indexing with dtype torch.uint8 is now deprecated, please use a dtype torch.bool instead. (Triggered internally at /pytorch/aten/src/ATen/native/IndexingUtils.h:37.)\n",
      "  f18_old = flow.f[18, self.mask].clone()\n",
      "/home/ben/lettuce/lettuce/ext/_boundary/wallfunction.py:167: UserWarning: indexing with dtype torch.uint8 is now deprecated, please use a dtype torch.bool instead. (Triggered internally at /pytorch/aten/src/ATen/native/IndexingUtils.h:37.)\n",
      "  f7_old  = flow.f[7, self.mask].clone()\n",
      "/home/ben/lettuce/lettuce/ext/_boundary/wallfunction.py:168: UserWarning: indexing with dtype torch.uint8 is now deprecated, please use a dtype torch.bool instead. (Triggered internally at /pytorch/aten/src/ATen/native/IndexingUtils.h:37.)\n",
      "  f9_old  = flow.f[9, self.mask].clone()\n",
      "/home/ben/lettuce/lettuce/ext/_boundary/wallfunction.py:215: UserWarning: indexing with dtype torch.uint8 is now deprecated, please use a dtype torch.bool instead. (Triggered internally at /pytorch/aten/src/ATen/native/IndexingUtils.h:37.)\n",
      "  flow.f[17, self.mask] = f15_old + tau_x_field\n",
      "/home/ben/lettuce/lettuce/ext/_boundary/wallfunction.py:216: UserWarning: indexing with dtype torch.uint8 is now deprecated, please use a dtype torch.bool instead. (Triggered internally at /pytorch/aten/src/ATen/native/IndexingUtils.h:37.)\n",
      "  flow.f[18, self.mask] = f15_old + tau_x_field\n",
      "/home/ben/lettuce/lettuce/ext/_boundary/wallfunction.py:217: UserWarning: indexing with dtype torch.uint8 is now deprecated, please use a dtype torch.bool instead. (Triggered internally at /pytorch/aten/src/ATen/native/IndexingUtils.h:37.)\n",
      "  flow.f[16, self.mask] = f18_old - tau_x_field\n",
      "/home/ben/lettuce/lettuce/ext/_boundary/wallfunction.py:218: UserWarning: indexing with dtype torch.uint8 is now deprecated, please use a dtype torch.bool instead. (Triggered internally at /pytorch/aten/src/ATen/native/IndexingUtils.h:37.)\n",
      "  flow.f[15,  self.mask] = f18_old - tau_x_field\n",
      "/home/ben/lettuce/lettuce/ext/_boundary/wallfunction.py:219: UserWarning: indexing with dtype torch.uint8 is now deprecated, please use a dtype torch.bool instead. (Triggered internally at /pytorch/aten/src/ATen/native/IndexingUtils.h:37.)\n",
      "  flow.f[10, self.mask] = f7_old + tau_z_field\n",
      "/home/ben/lettuce/lettuce/ext/_boundary/wallfunction.py:220: UserWarning: indexing with dtype torch.uint8 is now deprecated, please use a dtype torch.bool instead. (Triggered internally at /pytorch/aten/src/ATen/native/IndexingUtils.h:37.)\n",
      "  flow.f[9, self.mask] = f7_old + tau_z_field\n",
      "/home/ben/lettuce/lettuce/ext/_boundary/wallfunction.py:221: UserWarning: indexing with dtype torch.uint8 is now deprecated, please use a dtype torch.bool instead. (Triggered internally at /pytorch/aten/src/ATen/native/IndexingUtils.h:37.)\n",
      "  flow.f[8,  self.mask] = f9_old - tau_z_field\n",
      "/home/ben/lettuce/lettuce/ext/_boundary/wallfunction.py:222: UserWarning: indexing with dtype torch.uint8 is now deprecated, please use a dtype torch.bool instead. (Triggered internally at /pytorch/aten/src/ATen/native/IndexingUtils.h:37.)\n",
      "  flow.f[7,  self.mask] = f9_old - tau_z_field\n"
     ]
    },
    {
     "name": "stdout",
     "output_type": "stream",
     "text": [
      "y+: tensor(10.7337, device='cuda:0', dtype=torch.float64) Re_tau: tensor(128.8049, device='cuda:0', dtype=torch.float64)\n",
      "y+: tensor(10.7380, device='cuda:0', dtype=torch.float64) Re_tau: tensor(128.8556, device='cuda:0', dtype=torch.float64)\n",
      "y+: tensor(12.2844, device='cuda:0', dtype=torch.float64) Re_tau: tensor(147.4124, device='cuda:0', dtype=torch.float64)\n",
      "y+: tensor(12.2860, device='cuda:0', dtype=torch.float64) Re_tau: tensor(147.4326, device='cuda:0', dtype=torch.float64)\n",
      "y+: tensor(12.9093, device='cuda:0', dtype=torch.float64) Re_tau: tensor(154.9120, device='cuda:0', dtype=torch.float64)\n",
      "y+: tensor(12.9139, device='cuda:0', dtype=torch.float64) Re_tau: tensor(154.9671, device='cuda:0', dtype=torch.float64)\n"
     ]
    },
    {
     "ename": "KeyboardInterrupt",
     "evalue": "",
     "output_type": "error",
     "traceback": [
      "\u001B[31m---------------------------------------------------------------------------\u001B[39m",
      "\u001B[31mKeyboardInterrupt\u001B[39m                         Traceback (most recent call last)",
      "\u001B[36mCell\u001B[39m\u001B[36m \u001B[39m\u001B[32mIn[7]\u001B[39m\u001B[32m, line 1\u001B[39m\n\u001B[32m----> \u001B[39m\u001B[32m1\u001B[39m mlups = \u001B[43msimulation\u001B[49m\u001B[43m.\u001B[49m\u001B[43mstep\u001B[49m\u001B[43m(\u001B[49m\u001B[43mnum_steps\u001B[49m\u001B[43m=\u001B[49m\u001B[43msteps\u001B[49m\u001B[43m)\u001B[49m\n\u001B[32m      3\u001B[39m wq_top_arr = np.array(simulation.reporter[\u001B[32m2\u001B[39m].out)\n\u001B[32m      4\u001B[39m wq_bottom_arr = np.array(simulation.reporter[\u001B[32m1\u001B[39m].out)\n",
      "\u001B[36mFile \u001B[39m\u001B[32m~/lettuce/lettuce/_simulation.py:191\u001B[39m, in \u001B[36mSimulation.step\u001B[39m\u001B[34m(self, num_steps)\u001B[39m\n\u001B[32m    187\u001B[39m \u001B[38;5;28;01mdef\u001B[39;00m\u001B[38;5;250m \u001B[39m\u001B[34mstep\u001B[39m(\u001B[38;5;28mself\u001B[39m, num_steps: \u001B[38;5;28mint\u001B[39m):\n\u001B[32m    188\u001B[39m     warnings.warn(\u001B[33m\"\u001B[39m\u001B[33mlt.Simulation.step() is deprecated and will be \u001B[39m\u001B[33m\"\u001B[39m\n\u001B[32m    189\u001B[39m                   \u001B[33m\"\u001B[39m\u001B[33mremoved in a future version. Instead, call simulation \u001B[39m\u001B[33m\"\u001B[39m\n\u001B[32m    190\u001B[39m                   \u001B[33m\"\u001B[39m\u001B[33mdirectly: simulation(num_steps)\u001B[39m\u001B[33m\"\u001B[39m, \u001B[38;5;167;01mDeprecationWarning\u001B[39;00m)\n\u001B[32m--> \u001B[39m\u001B[32m191\u001B[39m     \u001B[38;5;28;01mreturn\u001B[39;00m \u001B[38;5;28;43mself\u001B[39;49m\u001B[43m(\u001B[49m\u001B[43mnum_steps\u001B[49m\u001B[43m)\u001B[49m\n",
      "\u001B[36mFile \u001B[39m\u001B[32m~/lettuce/lettuce/_simulation.py:246\u001B[39m, in \u001B[36mSimulation.__call__\u001B[39m\u001B[34m(self, num_steps)\u001B[39m\n\u001B[32m    244\u001B[39m     \u001B[38;5;28mself\u001B[39m._collide_and_stream(\u001B[38;5;28mself\u001B[39m)\n\u001B[32m    245\u001B[39m     \u001B[38;5;28mself\u001B[39m.flow.i += \u001B[32m1\u001B[39m\n\u001B[32m--> \u001B[39m\u001B[32m246\u001B[39m     \u001B[38;5;28;43mself\u001B[39;49m\u001B[43m.\u001B[49m\u001B[43m_report\u001B[49m\u001B[43m(\u001B[49m\u001B[43m)\u001B[49m\n\u001B[32m    248\u001B[39m end = timer()\n\u001B[32m    249\u001B[39m \u001B[38;5;28;01mreturn\u001B[39;00m num_steps * \u001B[38;5;28mself\u001B[39m.flow.rho().numel() / \u001B[32m1e6\u001B[39m / (end - beg)\n",
      "\u001B[36mFile \u001B[39m\u001B[32m~/lettuce/lettuce/_simulation.py:235\u001B[39m, in \u001B[36mSimulation._report\u001B[39m\u001B[34m(self)\u001B[39m\n\u001B[32m    233\u001B[39m \u001B[38;5;28;01mdef\u001B[39;00m\u001B[38;5;250m \u001B[39m\u001B[34m_report\u001B[39m(\u001B[38;5;28mself\u001B[39m):\n\u001B[32m    234\u001B[39m     \u001B[38;5;28;01mfor\u001B[39;00m reporter \u001B[38;5;129;01min\u001B[39;00m \u001B[38;5;28mself\u001B[39m.reporter:\n\u001B[32m--> \u001B[39m\u001B[32m235\u001B[39m         \u001B[43mreporter\u001B[49m\u001B[43m(\u001B[49m\u001B[38;5;28;43mself\u001B[39;49m\u001B[43m)\u001B[49m\n",
      "\u001B[36mFile \u001B[39m\u001B[32m~/lettuce/lettuce/ext/_reporter/observable_reporter.py:186\u001B[39m, in \u001B[36mObservableReporter.__call__\u001B[39m\u001B[34m(self, simulation)\u001B[39m\n\u001B[32m    183\u001B[39m \u001B[38;5;28;01mdef\u001B[39;00m\u001B[38;5;250m \u001B[39m\u001B[34m__call__\u001B[39m(\u001B[38;5;28mself\u001B[39m, simulation: \u001B[33m'\u001B[39m\u001B[33mSimulation\u001B[39m\u001B[33m'\u001B[39m):\n\u001B[32m    184\u001B[39m     \u001B[38;5;28;01mif\u001B[39;00m simulation.flow.i % \u001B[38;5;28mself\u001B[39m.interval == \u001B[32m0\u001B[39m:\n\u001B[32m    185\u001B[39m         observed = \u001B[38;5;28mself\u001B[39m.observable.context.convert_to_ndarray(\n\u001B[32m--> \u001B[39m\u001B[32m186\u001B[39m             \u001B[38;5;28;43mself\u001B[39;49m\u001B[43m.\u001B[49m\u001B[43mobservable\u001B[49m\u001B[43m(\u001B[49m\u001B[43msimulation\u001B[49m\u001B[43m.\u001B[49m\u001B[43mflow\u001B[49m\u001B[43m.\u001B[49m\u001B[43mf\u001B[49m\u001B[43m)\u001B[49m)\n\u001B[32m    187\u001B[39m         \u001B[38;5;28;01massert\u001B[39;00m \u001B[38;5;28mlen\u001B[39m(observed.shape) < \u001B[32m2\u001B[39m\n\u001B[32m    188\u001B[39m         \u001B[38;5;28;01mif\u001B[39;00m \u001B[38;5;28mlen\u001B[39m(observed.shape) == \u001B[32m0\u001B[39m:\n",
      "\u001B[36mFile \u001B[39m\u001B[32m~/lettuce/.venv/lib/python3.12/site-packages/torch/utils/_contextlib.py:122\u001B[39m, in \u001B[36mcontext_decorator.<locals>.decorate_context\u001B[39m\u001B[34m(*args, **kwargs)\u001B[39m\n\u001B[32m    118\u001B[39m \u001B[38;5;129m@functools\u001B[39m.wraps(func)\n\u001B[32m    119\u001B[39m \u001B[38;5;28;01mdef\u001B[39;00m\u001B[38;5;250m \u001B[39m\u001B[34mdecorate_context\u001B[39m(*args, **kwargs):\n\u001B[32m    120\u001B[39m     \u001B[38;5;66;03m# pyrefly: ignore  # bad-context-manager\u001B[39;00m\n\u001B[32m    121\u001B[39m     \u001B[38;5;28;01mwith\u001B[39;00m ctx_factory():\n\u001B[32m--> \u001B[39m\u001B[32m122\u001B[39m         \u001B[38;5;28;01mreturn\u001B[39;00m \u001B[43mfunc\u001B[49m\u001B[43m(\u001B[49m\u001B[43m*\u001B[49m\u001B[43margs\u001B[49m\u001B[43m,\u001B[49m\u001B[43m \u001B[49m\u001B[43m*\u001B[49m\u001B[43m*\u001B[49m\u001B[43mkwargs\u001B[49m\u001B[43m)\u001B[49m\n",
      "\u001B[36mFile \u001B[39m\u001B[32m~/lettuce/lettuce/ext/_reporter/observable_reporter.py:303\u001B[39m, in \u001B[36mWallfunctionReporter.__call__\u001B[39m\u001B[34m(self, f)\u001B[39m\n\u001B[32m    301\u001B[39m \u001B[38;5;66;03m# (2) Danach Wandfunktionen aufrufen (lesen u und rho nach Collision)\u001B[39;00m\n\u001B[32m    302\u001B[39m \u001B[38;5;28mself\u001B[39m.wfb_bottom(\u001B[38;5;28mself\u001B[39m.flow)\n\u001B[32m--> \u001B[39m\u001B[32m303\u001B[39m \u001B[38;5;28;43mself\u001B[39;49m\u001B[43m.\u001B[49m\u001B[43mwfb_top\u001B[49m\u001B[43m(\u001B[49m\u001B[38;5;28;43mself\u001B[39;49m\u001B[43m.\u001B[49m\u001B[43mflow\u001B[49m\u001B[43m)\u001B[49m\n\u001B[32m    305\u001B[39m \u001B[38;5;66;03m#torch.where(torch.eq(self.wfb_top.mask, 0),\u001B[39;00m\n\u001B[32m    306\u001B[39m \u001B[38;5;66;03m#            self.wfb_top(self.flow), self.flow.f, out=self.flow.f)\u001B[39;00m\n\u001B[32m    307\u001B[39m \u001B[38;5;66;03m#torch.where(torch.eq(self.wfb_bottom.mask, 0),\u001B[39;00m\n\u001B[32m   (...)\u001B[39m\u001B[32m    310\u001B[39m \n\u001B[32m    311\u001B[39m \u001B[38;5;66;03m# (3) Optional Logging\u001B[39;00m\n\u001B[32m    312\u001B[39m \u001B[38;5;28;01mreturn\u001B[39;00m torch.tensor([\n\u001B[32m    313\u001B[39m     \u001B[38;5;28mfloat\u001B[39m(\u001B[38;5;28mself\u001B[39m.wfb_bottom.u_tau_mean),\n\u001B[32m    314\u001B[39m     \u001B[38;5;28mfloat\u001B[39m(\u001B[38;5;28mself\u001B[39m.wfb_top.u_tau_mean)\n\u001B[32m    315\u001B[39m ], device=\u001B[38;5;28mself\u001B[39m.flow.f.device)\n",
      "\u001B[36mFile \u001B[39m\u001B[32m~/lettuce/lettuce/ext/_boundary/wallfunction.py:185\u001B[39m, in \u001B[36mWallFunction.__call__\u001B[39m\u001B[34m(self, flow)\u001B[39m\n\u001B[32m    183\u001B[39m u_x = u[\u001B[32m0\u001B[39m][mask_fluidcell]\n\u001B[32m    184\u001B[39m u_z = u[\u001B[32m2\u001B[39m][mask_fluidcell]\n\u001B[32m--> \u001B[39m\u001B[32m185\u001B[39m safe_u = torch.sqrt(\u001B[43mu_x\u001B[49m\u001B[43m*\u001B[49m\u001B[43m*\u001B[49m\u001B[32;43m2\u001B[39;49m + u_z**\u001B[32m2\u001B[39m)\n\u001B[32m    187\u001B[39m y = torch.tensor(\u001B[32m1\u001B[39m, device=flow.f.device, dtype=flow.f.dtype)\n\u001B[32m    189\u001B[39m u_tau, yplus, re_tau = compute_wall_quantities(flow, y, is_top=\u001B[38;5;28;01mTrue\u001B[39;00m \u001B[38;5;28;01mif\u001B[39;00m \u001B[38;5;28mself\u001B[39m.wall == \u001B[33m\"\u001B[39m\u001B[33mtop\u001B[39m\u001B[33m\"\u001B[39m \u001B[38;5;28;01melse\u001B[39;00m \u001B[38;5;28;01mFalse\u001B[39;00m)\n",
      "\u001B[36mFile \u001B[39m\u001B[32m~/lettuce/.venv/lib/python3.12/site-packages/torch/_tensor.py:40\u001B[39m, in \u001B[36m_handle_torch_function_and_wrap_type_error_to_not_implemented.<locals>.wrapped\u001B[39m\u001B[34m(self, *args, **kwargs)\u001B[39m\n\u001B[32m     37\u001B[39m \u001B[38;5;28;01mdef\u001B[39;00m\u001B[38;5;250m \u001B[39m\u001B[34m_handle_torch_function_and_wrap_type_error_to_not_implemented\u001B[39m(\n\u001B[32m     38\u001B[39m     f: Callable[Concatenate[_TensorLike, _P], \u001B[33m\"\u001B[39m\u001B[33mTensor\u001B[39m\u001B[33m\"\u001B[39m],\n\u001B[32m     39\u001B[39m ) -> Callable[Concatenate[_TensorLike, _P], \u001B[33m\"\u001B[39m\u001B[33mTensor\u001B[39m\u001B[33m\"\u001B[39m]:\n\u001B[32m---> \u001B[39m\u001B[32m40\u001B[39m     \u001B[38;5;129m@functools\u001B[39m.wraps(f)\n\u001B[32m     41\u001B[39m     \u001B[38;5;28;01mdef\u001B[39;00m\u001B[38;5;250m \u001B[39m\u001B[34mwrapped\u001B[39m(\u001B[38;5;28mself\u001B[39m: _TensorLike, *args: _P.args, **kwargs: _P.kwargs) -> \u001B[33m\"\u001B[39m\u001B[33mTensor\u001B[39m\u001B[33m\"\u001B[39m:\n\u001B[32m     42\u001B[39m         \u001B[38;5;28;01mtry\u001B[39;00m:\n\u001B[32m     43\u001B[39m             \u001B[38;5;66;03m# See https://github.com/pytorch/pytorch/issues/75462\u001B[39;00m\n\u001B[32m     44\u001B[39m             sargs = \u001B[38;5;28mself\u001B[39m, *args\n",
      "\u001B[31mKeyboardInterrupt\u001B[39m: "
     ]
    }
   ],
   "execution_count": 7
  },
  {
   "metadata": {},
   "cell_type": "code",
   "source": [
    "import matplotlib.pyplot as plt\n",
    "# 💡 Schritt 1: u holen und Betrag berechnen\n",
    "u = flow.units.convert_velocity_to_pu(flow.u())  # [3, Nx, Ny, Nz]\n",
    "u_mag = torch.sqrt(u[0]**2+u[2]**2)  # [Nx, Ny, Nz]from typing import Union, List, Optional\n",
    "\n",
    "u_mag = u[0]\n",
    "# 💡 Schritt 2: Slice bei x = 0 extrahieren\n",
    "slice_2d = u_mag[:, :, 0].transpose(0, 1) # [Ny, Nz]\n",
    "\n",
    "# 💡 Schritt 3: Plotten\n",
    "plt.figure(figsize=(8, 3))\n",
    "plt.imshow(slice_2d.cpu().numpy())\n",
    "plt.colorbar(label='|u|')\n",
    "plt.title('Geschwindigkeitsbetrag bei x = 0')\n",
    "plt.xlabel('x')\n",
    "plt.ylabel('y')\n",
    "plt.tight_layout()\n",
    "plt.savefig(csvdir + \"u.pdf\")\n",
    "plt.show()\n"
   ],
   "outputs": [],
   "execution_count": null
  },
  {
   "metadata": {},
   "cell_type": "code",
   "source": [
    "\n",
    "\n",
    "\n",
    "print(wq_bottom)\n",
    "# Beispiel: Daten laden\n",
    "data = (wq_bottom_arr+wq_top_arr)/2\n",
    "time = data[:, 1]\n",
    "re_tau = data[:, 4]\n",
    "y_plus = data[:, 3]\n",
    "\n",
    "\n",
    "plt.figure()\n",
    "plt.plot(time, re_tau, label=\"Re_tau (bottom)\")\n",
    "plt.xlabel(\"Zeit\")\n",
    "plt.ylabel(\"Re_tau\")\n",
    "plt.legend()\n",
    "plt.grid()\n",
    "plt.title(\"Re_tau über die Zeit\")\n",
    "plt.savefig(csvdir + \"retau.pdf\")\n",
    "\n",
    "plt.show()\n",
    "\n",
    "plt.figure()\n",
    "plt.plot(ux_mean_arr[:,1], flow.units.convert_velocity_to_pu(ux_mean_arr[:,2]), label=\"ux\")\n",
    "plt.xlabel(\"Zeit\")\n",
    "plt.ylabel(\"ux\")\n",
    "plt.legend()\n",
    "plt.grid()\n",
    "plt.title(\"ux über die Zeit\")\n",
    "plt.savefig(csvdir + \"yplus.pdf\")\n",
    "plt.show()\n"
   ],
   "outputs": [],
   "execution_count": null
  },
  {
   "metadata": {},
   "cell_type": "code",
   "source": [
    "print(u.shape)"
   ],
   "outputs": [],
   "execution_count": null
  },
  {
   "metadata": {},
   "cell_type": "code",
   "source": [
    "import numpy as np\n",
    "\n",
    "def viscosity_loglaw(Re_tau, uB=0.111, Lz=4.0, kappa=0.41, A=5.2):\n",
    "    factor = (1 / kappa) * np.log(Re_tau) + A\n",
    "    nu = (uB * Lz) / (2 * Re_tau * factor)\n",
    "    return nu\n",
    "\n",
    "def reynolds_number(char_length, char_velocity, viscosity):\n",
    "    return char_length * char_velocity / viscosity\n",
    "\n",
    "# Vorgaben\n",
    "Re_tau = 180\n",
    "uB = 1  # m/s\n",
    "Lz = 1\n",
    "H = \"hi\"     # Kanalhalbhöhe\n",
    "L = 2 * H   # Kanalhöhe = 1.0\n",
    "\n",
    "# Schritt 1: Viskosität berechnen\n",
    "nu = viscosity_loglaw(Re_tau, uB=uB, Lz=Lz)\n",
    "print(f\"Viskosität (ν): {nu:.6e} m²/s\")\n",
    "\n",
    "# Schritt 2: Re klassisch berechnen\n",
    "Re = reynolds_number(Lz, uB, nu)\n",
    "print(f\"Re = {Re:.2f}\")\n"
   ],
   "outputs": [],
   "execution_count": null
  },
  {
   "metadata": {},
   "cell_type": "code",
   "source": [
    "import torch\n",
    "import matplotlib.pyplot as plt\n",
    "import numpy as np\n",
    "\n",
    "\n",
    "def plot_mean_velocity_profile(flow, plot_yplus=True, loglaw=True):\n",
    "    \"\"\"\n",
    "    Plottet das mittlere Geschwindigkeitsprofil u_x(y) über die Kanalhöhe.\n",
    "\n",
    "    Parameter:\n",
    "    -----------\n",
    "    flow : Flow-Objekt (z. B. ChannelFlow3D)\n",
    "        Muss bereits eine Simulation enthalten.\n",
    "    plot_yplus : bool\n",
    "        Falls True, wird das Profil zusätzlich in y⁺/u⁺ dargestellt.\n",
    "    loglaw : bool\n",
    "        Falls True, wird das klassische Log-Law-Profil (u⁺ = (1/κ) log(y⁺) + B) mit geplottet.\n",
    "    \"\"\"\n",
    "\n",
    "    # --- 1. Geschwindigkeit holen und u_x extrahieren\n",
    "    u = flow.units.convert_velocity_to_pu(flow.u())  # [3, Nx, Ny, Nz] in physikalischen Einheiten\n",
    "    ux = u[0]  # [Nx, Ny, Nz]\n",
    "\n",
    "    # --- 2. Mittelung über x- und z-Richtung: ⟨u_x⟩(y)\n",
    "    ux_mean_y = ux.mean(dim=(0, 2))  # → [Ny]\n",
    "\n",
    "    # --- 3. y-Koordinaten in PU erzeugen\n",
    "    Ny = flow.resolution[1]\n",
    "    y_lu = torch.arange(Ny, device=flow.context.device)\n",
    "    y_pu = flow.units.convert_length_to_pu(y_lu)\n",
    "\n",
    "    # --- 4. Plot in physikalischen Einheiten\n",
    "    plt.figure(figsize=(6, 4))\n",
    "    plt.plot(y_pu.cpu(), ux_mean_y.cpu(), label=r'$\\langle u_x \\rangle(y)$ [m/s]')\n",
    "    plt.xlabel(\"Höhe y [PU]\")\n",
    "    plt.ylabel(r\"$\\langle u_x \\rangle$ [m/s]\")\n",
    "    plt.title(\"Mittlere x-Geschwindigkeit über Kanalhöhe\")\n",
    "    plt.grid(True)\n",
    "    plt.tight_layout()\n",
    "    plt.legend()\n",
    "    plt.show()\n",
    "\n",
    "    # Optional: Wandkoordinaten (y⁺) und u⁺-Profil\n",
    "    if plot_yplus:\n",
    "        try:\n",
    "            u_tau = flow.reporters[\"WallQuantities\"].u_tau_mean\n",
    "        except (KeyError, AttributeError):\n",
    "            raise RuntimeError(\"Kein u_tau verfügbar! Stelle sicher, dass ein WallQuantities-Reporter vorhanden ist.\")\n",
    "\n",
    "        nu = flow.units.nu_pu\n",
    "        y_plus = y_pu * u_tau / nu\n",
    "        u_plus = ux_mean_y / u_tau\n",
    "\n",
    "        # --- Optional: Log-Law-Profil zum Vergleich\n",
    "        if loglaw:\n",
    "            y_plus_log = np.linspace(30, y_plus.max().cpu().item(), 500)\n",
    "            kappa = 0.41\n",
    "            B = 5.2\n",
    "            u_plus_log = (1 / kappa) * np.log(y_plus_log) + B\n",
    "\n",
    "        # --- Plot in wandskalierten Einheiten\n",
    "        plt.figure(figsize=(6, 4))\n",
    "        plt.plot(y_plus.cpu(), u_plus.cpu(), label=r'$u^+(y^+)$')\n",
    "        if loglaw:\n",
    "            plt.plot(y_plus_log, u_plus_log, '--', label='Log-law')\n",
    "        plt.xlabel(r\"$y^+$\")\n",
    "        plt.ylabel(r\"$u^+$\")\n",
    "        plt.title(\"Mittlere Geschwindigkeit in wandskalierten Einheiten\")\n",
    "        plt.grid(True)\n",
    "        plt.tight_layout()\n",
    "        plt.legend()\n",
    "        plt.xscale(\"log\")\n",
    "        plt.show()\n"
   ],
   "outputs": [],
   "execution_count": null
  },
  {
   "metadata": {},
   "cell_type": "code",
   "source": [
    "plot_mean_velocity_profile(flow, plot_yplus=True)\n"
   ],
   "outputs": [],
   "execution_count": null
  },
  {
   "metadata": {},
   "cell_type": "code",
   "source": [
    "print(flow is wfb_reporter.flow)\n",
    "print(id(flow.f), id(wfb_reporter.flow.f))\n"
   ],
   "outputs": [],
   "execution_count": null
  },
  {
   "metadata": {},
   "cell_type": "code",
   "source": [],
   "outputs": [],
   "execution_count": null
  }
 ],
 "metadata": {
  "kernelspec": {
   "display_name": "Python 3",
   "language": "python",
   "name": "python3"
  },
  "language_info": {
   "codemirror_mode": {
    "name": "ipython",
    "version": 2
   },
   "file_extension": ".py",
   "mimetype": "text/x-python",
   "name": "python",
   "nbconvert_exporter": "python",
   "pygments_lexer": "ipython2",
   "version": "2.7.6"
  }
 },
 "nbformat": 4,
 "nbformat_minor": 0
}
