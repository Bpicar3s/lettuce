{
 "cells": [
  {
   "cell_type": "code",
   "source": [
    "\n",
    "\n",
    "import lettuce as lt\n",
    "from lettuce import D3Q19, UnitConversion\n",
    "import csv\n",
    "from lettuce.util.moments import D3Q19ChavezTransform\n",
    "from lettuce import Observable\n",
    "from lettuce.ext._force.adaptive_force import AdaptiveForce\n",
    "from lettuce.ext._boundary.wallfunction import WallFunction\n",
    "from lettuce.ext._reporter.observable_reporter import GlobalMeanUXReporter, WallQuantities\n",
    "from lettuce.ext._stencil.d3q19 import D3Q19\n"
   ],
   "metadata": {
    "collapsed": false,
    "ExecuteTime": {
     "end_time": "2025-08-06T12:28:44.933787Z",
     "start_time": "2025-08-06T12:28:43.175247Z"
    }
   },
   "outputs": [],
   "execution_count": 1
  },
  {
   "cell_type": "code",
   "source": [
    "from argparse import ArgumentParser, ArgumentDefaultsHelpFormatter\n",
    "import numpy as np\n",
    "import torch\n",
    "\n",
    "parser = ArgumentParser(formatter_class=ArgumentDefaultsHelpFormatter)\n",
    "parser.add_argument(\"--vtkdir\", type=str, default=\"./output/\")\n",
    "parser.add_argument(\"--csvdir\", type=str, default=\"./output/\")\n",
    "parser.add_argument(\"--nout\", type=int, default=100)\n",
    "parser.add_argument(\"--nvtk\", type=int, default=100)\n",
    "parser.add_argument(\"--tmax\", type=int, default=10)\n",
    "parser.add_argument(\"--Re\", type=int, default=180)\n",
    "parser.add_argument(\"--collision_operator\", type=str, default=\"BGK\")\n",
    "parser.add_argument(\"--Precision\", type=str, default=\"Double\")\n",
    "parser.add_argument(\"--Mach\", type=float, default=0.1)\n",
    "parser.add_argument(\"--h\", type=int, default=20, help=\"Halbe Kanalhöhe in LU\")\n",
    "parser.add_argument(\"--bbtype\", type=str, default=\"fullway\", choices=[\"halfway\", \"fullway\", \"wallfunction\", \"freeslip\"],\n",
    "                    help=\"Typ der Bounce-Back-Randbedingung\")\n",
    "\n",
    "args, unknown = parser.parse_known_args()\n",
    "args = vars(args)\n",
    "\n",
    "print(\"ICH FUNKTIONIERE MIT PULLEN\")\n",
    "\n",
    "\n",
    "\n",
    "# Einheiten und Auflösung\n",
    "h = args[\"h\"]                      # Kanalhalbhöhe in LU\n",
    "res_y = 2 * h                     # y: volle Kanalhöhe\n",
    "res_x = int(2*np.pi * h)\n",
    "res_z = int(np.pi * h)\n",
    "\n",
    "# Restliche Parameter\n",
    "Re = args[\"Re\"]\n",
    "basedir = args[\"vtkdir\"]\n",
    "csvdir = args[\"csvdir\"]\n",
    "nout = args[\"nout\"]\n",
    "nvtk = args[\"nvtk\"]\n",
    "tmax = args[\"tmax\"]\n",
    "Precision = args[\"Precision\"]\n",
    "collision_operator = args[\"collision_operator\"]\n",
    "Mach = args[\"Mach\"]\n",
    "bbtype = args[\"bbtype\"]\n",
    "h = args[\"h\"]\n",
    "\n",
    "# Präzision\n",
    "if Precision == \"Single\":\n",
    "    dtype = torch.float32\n",
    "elif Precision == \"Double\":\n",
    "    dtype = torch.float64\n",
    "elif Precision == \"Half\":\n",
    "    dtype = torch.float16\n"
   ],
   "metadata": {
    "collapsed": false,
    "ExecuteTime": {
     "end_time": "2025-08-06T12:28:44.948952Z",
     "start_time": "2025-08-06T12:28:44.937386Z"
    }
   },
   "outputs": [
    {
     "name": "stdout",
     "output_type": "stream",
     "text": [
      "ICH FUNKTIONIERE MIT PULLEN\n"
     ]
    }
   ],
   "execution_count": 2
  },
  {
   "metadata": {
    "jupyter": {
     "is_executing": true
    },
    "ExecuteTime": {
     "start_time": "2025-08-06T12:28:44.950924Z"
    }
   },
   "cell_type": "code",
   "source": [
    "context = lt.Context(device=torch.device('cuda:0') if torch.cuda\n",
    "                     .is_available() else torch.device('cpu'),\n",
    "                     dtype=dtype, use_native = False)\n",
    "\n",
    "flow = lt.ChannelFlow3D(\n",
    "    context = context,\n",
    "    resolution=h,\n",
    "    reynolds_number=6432 if Re == 180 else Re**(8/7)*(8/0.073)**(4/7),\n",
    "    stencil = D3Q19(),\n",
    "    mach_number=Mach,\n",
    "    bbtype=bbtype\n",
    ")\n",
    "\n",
    "shape = flow.resolution\n",
    "mask_bottom = torch.zeros(shape, dtype=torch.bool, device=context.device)\n",
    "mask_bottom[:, 0, :] = True\n",
    "mask_top = torch.zeros(shape, dtype=torch.bool, device=context.device)\n",
    "mask_top[:, -1, :] = True\n",
    "mask_force = torch.ones(shape, dtype=torch.bool, device=context.device)\n",
    "mask_force[:, 0, :] = False\n",
    "mask_force[:, -1, :] = False\n",
    "\n",
    "global_mean_ux_reporter = GlobalMeanUXReporter(flow = flow)\n",
    "\n",
    "wq_bottom = WallQuantities(mask = mask_bottom, wall = \"bottom\", flow=flow, boundary=flow.boundaries[0], context = context)\n",
    "wq_top = WallQuantities(mask = mask_top, wall = \"top\", flow=flow, boundary=flow.boundaries[1], context = context)\n",
    "\n",
    "adaptive_force_instance = AdaptiveForce(\n",
    "    flow=flow,\n",
    "    context = context,\n",
    "    target_u_m_lu=flow.units.convert_velocity_to_lu(1),\n",
    "    wall_bottom=flow.boundaries[0],\n",
    "    wall_top=flow.boundaries[1],\n",
    "    global_ux_reporter=global_mean_ux_reporter,\n",
    "    base_lbm_tau_lu=flow.units.relaxation_parameter_lu,\n",
    "    mask = mask_force\n",
    ")\n",
    "\n",
    "if collision_operator == \"BGK\":\n",
    "\n",
    "    collision = lt.BGKCollision(tau=flow.units.relaxation_parameter_lu, force=adaptive_force_instance)\n",
    "\n",
    "elif collision_operator == \"Smag\":\n",
    "    \n",
    "    collision = lt.SmagorinskyCollision(tau=flow.units.relaxation_parameter_lu, force=adaptive_force_instance)\n",
    "\n",
    "elif collision_operator == \"MRT\":\n",
    "    \n",
    "    relaxation_parameters = [\n",
    "    0.0,  # s0  -> Dichte\n",
    "    0.0,  # s1  -> jx\n",
    "    0.0,  # s2  -> jy\n",
    "    0.0,  # s3  -> jz\n",
    "    1.6,  # s4  -> pxy\n",
    "    1.6,  # s5  -> pxz\n",
    "    1.6,  # s6  -> pyz\n",
    "    1.8,  # s7  -> pww\n",
    "    1.8,  # s8  -> 3pxx\n",
    "    1.8,  # s9  -> e\n",
    "    1.2,  # s10 -> qx\n",
    "    1.2,  # s11 -> qy\n",
    "    1.2,  # s12 -> qz\n",
    "    1.98, # s13 -> mx\n",
    "    1.98, # s14 -> my\n",
    "    1.98, # s15 -> mz\n",
    "    1.4,  # s16 -> 3xx\n",
    "    1.4,  # s17 -> ww\n",
    "    1.4,  # s18 -> eps\n",
    "]\n",
    "\n",
    "    collision = lt.MRTCollision(transform = D3Q19ChavezTransform(stencil = flow.stencil, context = context), relaxation_parameters=relaxation_parameters, context=context, force=adaptive_force_instance)\n",
    "\n",
    "simulation = lt.Simulation(flow=flow, collision=collision, reporter = [])\n",
    "\n",
    "simulation.reporter.append(lt.ObservableReporter(global_mean_ux_reporter, interval=1, out=None))\n",
    "simulation.reporter.append(lt.ObservableReporter(wq_bottom, interval=100, out=None))\n",
    "simulation.reporter.append(lt.ObservableReporter(wq_top, interval=100, out=None))\n",
    "\n",
    "steps = int(flow.units.convert_time_to_lu(tmax))\n",
    "vtk_reporter = lt.VTKReporter(interval=max(1, int(steps/100)), filename_base=basedir + \"/output_h20_t30\")\n",
    "simulation.reporter.append(vtk_reporter)\n",
    "\n",
    "mlups = simulation.step(num_steps=steps)\n",
    "\n",
    "wq_top_arr = np.array(simulation.reporter[2].out)\n",
    "wq_bottom_arr = np.array(simulation.reporter[1].out)\n",
    "ux_mean_arr = np.array(simulation.reporter[0].out)\n",
    "\n",
    "with open(csvdir + 'uxmean.csv', 'w', newline='') as file:\n",
    "    writer = csv.writer(file)\n",
    "    writer.writerows(ux_mean_arr)\n",
    "with open(csvdir + 'WallQuantitiesTop.csv', 'w', newline='') as file:\n",
    "    writer = csv.writer(file)\n",
    "    writer.writerows(wq_top_arr)\n",
    "with open(csvdir + 'WallQuantitiesBottom.csv', 'w', newline='') as file:\n",
    "    writer = csv.writer(file)\n",
    "    writer.writerows(wq_bottom_arr)\n"
   ],
   "outputs": [
    {
     "name": "stdout",
     "output_type": "stream",
     "text": [
      "[125, 40, 62] 19\n",
      "y+: 1 Re_tau: 36\n",
      "y+: 1 Re_tau: 30\n",
      "y+: 0 Re_tau: 17\n",
      "y+: 0 Re_tau: 10\n",
      "y+: 0 Re_tau: 17\n",
      "y+: 1 Re_tau: 30\n",
      "y+: 1 Re_tau: 36\n",
      "y+: 1 Re_tau: 29\n",
      "y+: 0 Re_tau: 17\n",
      "y+: 0 Re_tau: 11\n",
      "y+: 0 Re_tau: 17\n",
      "y+: 1 Re_tau: 30\n"
     ]
    }
   ],
   "execution_count": null
  },
  {
   "metadata": {
    "jupyter": {
     "is_executing": true
    }
   },
   "cell_type": "code",
   "source": "",
   "outputs": [],
   "execution_count": null
  },
  {
   "metadata": {
    "jupyter": {
     "is_executing": true
    }
   },
   "cell_type": "code",
   "source": [
    "import matplotlib.pyplot as plt\n",
    "# 💡 Schritt 1: u holen und Betrag berechnen\n",
    "u = flow.units.convert_velocity_to_pu(flow.u())  # [3, Nx, Ny, Nz]\n",
    "u_mag = torch.sqrt(u[0]**2+u[2]**2)  # [Nx, Ny, Nz]\n",
    "u_mag = u[0]\n",
    "# 💡 Schritt 2: Slice bei x = 0 extrahieren\n",
    "slice_2d = u_mag[:, :, 0]  # [Ny, Nz]\n",
    "\n",
    "# 💡 Schritt 3: Plotten\n",
    "plt.figure(figsize=(6, 4))\n",
    "plt.imshow(slice_2d.cpu().numpy())\n",
    "plt.colorbar(label='|u|')\n",
    "plt.title('Geschwindigkeitsbetrag bei x = 0')\n",
    "plt.xlabel('x')\n",
    "plt.ylabel('y')\n",
    "plt.tight_layout()\n",
    "plt.show()\n"
   ],
   "outputs": [],
   "execution_count": null
  },
  {
   "metadata": {
    "jupyter": {
     "is_executing": true
    }
   },
   "cell_type": "code",
   "source": [
    "\n",
    "\n",
    "\n",
    "print(wq_bottom)\n",
    "# Beispiel: Daten laden\n",
    "data = (wq_bottom_arr+wq_top_arr)/2\n",
    "time = data[:, 1]\n",
    "re_tau = data[:, 4]\n",
    "y_plus = data[:, 3]\n",
    "\n",
    "\n",
    "plt.figure()\n",
    "plt.plot(time, re_tau, label=\"Re_tau (bottom)\")\n",
    "plt.xlabel(\"Zeit\")\n",
    "plt.ylabel(\"Re_tau\")\n",
    "plt.legend()\n",
    "plt.grid()\n",
    "plt.title(\"Re_tau über die Zeit\")\n",
    "plt.savefig(csvdir + \"retau.pdf\")\n",
    "\n",
    "plt.show()\n",
    "\n",
    "plt.figure()\n",
    "plt.plot(ux_mean_arr[:,1], flow.units.convert_velocity_to_pu(ux_mean_arr[:,2]), label=\"ux\")\n",
    "plt.xlabel(\"Zeit\")\n",
    "plt.ylabel(\"ux\")\n",
    "plt.legend()\n",
    "plt.grid()\n",
    "plt.title(\"ux über die Zeit\")\n",
    "plt.savefig(csvdir + \"yplus.pdf\")\n",
    "plt.show()\n"
   ],
   "outputs": [],
   "execution_count": null
  },
  {
   "metadata": {
    "jupyter": {
     "is_executing": true
    }
   },
   "cell_type": "code",
   "source": "print(u.shape)",
   "outputs": [],
   "execution_count": null
  },
  {
   "metadata": {
    "jupyter": {
     "is_executing": true
    }
   },
   "cell_type": "code",
   "source": [
    "import numpy as np\n",
    "\n",
    "def viscosity_loglaw(Re_tau, uB=0.111, Lz=4.0, kappa=0.41, A=5.2):\n",
    "    factor = (1 / kappa) * np.log(Re_tau) + A\n",
    "    nu = (uB * Lz) / (2 * Re_tau * factor)\n",
    "    return nu\n",
    "\n",
    "def reynolds_number(char_length, char_velocity, viscosity):\n",
    "    return char_length * char_velocity / viscosity\n",
    "\n",
    "# Vorgaben\n",
    "Re_tau = 180\n",
    "uB = 1  # m/s\n",
    "Lz = 1\n",
    "H = \"hi\"     # Kanalhalbhöhe\n",
    "L = 2 * H   # Kanalhöhe = 1.0\n",
    "\n",
    "# Schritt 1: Viskosität berechnen\n",
    "nu = viscosity_loglaw(Re_tau, uB=uB, Lz=Lz)\n",
    "print(f\"Viskosität (ν): {nu:.6e} m²/s\")\n",
    "\n",
    "# Schritt 2: Re klassisch berechnen\n",
    "Re = reynolds_number(Lz, uB, nu)\n",
    "print(f\"Re = {Re:.2f}\")\n"
   ],
   "outputs": [],
   "execution_count": null
  },
  {
   "metadata": {
    "jupyter": {
     "is_executing": true
    }
   },
   "cell_type": "code",
   "source": [
    "import torch\n",
    "import matplotlib.pyplot as plt\n",
    "import numpy as np\n",
    "\n",
    "\n",
    "def plot_mean_velocity_profile(flow, plot_yplus=True, loglaw=True):\n",
    "    \"\"\"\n",
    "    Plottet das mittlere Geschwindigkeitsprofil u_x(y) über die Kanalhöhe.\n",
    "\n",
    "    Parameter:\n",
    "    -----------\n",
    "    flow : Flow-Objekt (z. B. ChannelFlow3D)\n",
    "        Muss bereits eine Simulation enthalten.\n",
    "    plot_yplus : bool\n",
    "        Falls True, wird das Profil zusätzlich in y⁺/u⁺ dargestellt.\n",
    "    loglaw : bool\n",
    "        Falls True, wird das klassische Log-Law-Profil (u⁺ = (1/κ) log(y⁺) + B) mit geplottet.\n",
    "    \"\"\"\n",
    "\n",
    "    # --- 1. Geschwindigkeit holen und u_x extrahieren\n",
    "    u = flow.units.convert_velocity_to_pu(flow.u())  # [3, Nx, Ny, Nz] in physikalischen Einheiten\n",
    "    ux = u[0]  # [Nx, Ny, Nz]\n",
    "\n",
    "    # --- 2. Mittelung über x- und z-Richtung: ⟨u_x⟩(y)\n",
    "    ux_mean_y = ux.mean(dim=(0, 2))  # → [Ny]\n",
    "\n",
    "    # --- 3. y-Koordinaten in PU erzeugen\n",
    "    Ny = flow.resolution[1]\n",
    "    y_lu = torch.arange(Ny, device=flow.context.device)\n",
    "    y_pu = flow.units.convert_length_to_pu(y_lu)\n",
    "\n",
    "    # --- 4. Plot in physikalischen Einheiten\n",
    "    plt.figure(figsize=(6, 4))\n",
    "    plt.plot(y_pu.cpu(), ux_mean_y.cpu(), label=r'$\\langle u_x \\rangle(y)$ [m/s]')\n",
    "    plt.xlabel(\"Höhe y [PU]\")\n",
    "    plt.ylabel(r\"$\\langle u_x \\rangle$ [m/s]\")\n",
    "    plt.title(\"Mittlere x-Geschwindigkeit über Kanalhöhe\")\n",
    "    plt.grid(True)\n",
    "    plt.tight_layout()\n",
    "    plt.legend()\n",
    "    plt.show()\n",
    "\n",
    "    # Optional: Wandkoordinaten (y⁺) und u⁺-Profil\n",
    "    if plot_yplus:\n",
    "        try:\n",
    "            u_tau = flow.reporters[\"WallQuantities\"].u_tau_mean\n",
    "        except (KeyError, AttributeError):\n",
    "            raise RuntimeError(\"Kein u_tau verfügbar! Stelle sicher, dass ein WallQuantities-Reporter vorhanden ist.\")\n",
    "\n",
    "        nu = flow.units.nu_pu\n",
    "        y_plus = y_pu * u_tau / nu\n",
    "        u_plus = ux_mean_y / u_tau\n",
    "\n",
    "        # --- Optional: Log-Law-Profil zum Vergleich\n",
    "        if loglaw:\n",
    "            y_plus_log = np.linspace(30, y_plus.max().cpu().item(), 500)\n",
    "            kappa = 0.41\n",
    "            B = 5.2\n",
    "            u_plus_log = (1 / kappa) * np.log(y_plus_log) + B\n",
    "\n",
    "        # --- Plot in wandskalierten Einheiten\n",
    "        plt.figure(figsize=(6, 4))\n",
    "        plt.plot(y_plus.cpu(), u_plus.cpu(), label=r'$u^+(y^+)$')\n",
    "        if loglaw:\n",
    "            plt.plot(y_plus_log, u_plus_log, '--', label='Log-law')\n",
    "        plt.xlabel(r\"$y^+$\")\n",
    "        plt.ylabel(r\"$u^+$\")\n",
    "        plt.title(\"Mittlere Geschwindigkeit in wandskalierten Einheiten\")\n",
    "        plt.grid(True)\n",
    "        plt.tight_layout()\n",
    "        plt.legend()\n",
    "        plt.xscale(\"log\")\n",
    "        plt.show()\n"
   ],
   "outputs": [],
   "execution_count": null
  },
  {
   "metadata": {
    "jupyter": {
     "is_executing": true
    }
   },
   "cell_type": "code",
   "source": "plot_mean_velocity_profile(flow, plot_yplus=True)\n",
   "outputs": [],
   "execution_count": null
  },
  {
   "metadata": {
    "jupyter": {
     "is_executing": true
    }
   },
   "cell_type": "code",
   "source": "",
   "outputs": [],
   "execution_count": null
  }
 ],
 "metadata": {
  "kernelspec": {
   "display_name": "Python 3",
   "language": "python",
   "name": "python3"
  },
  "language_info": {
   "codemirror_mode": {
    "name": "ipython",
    "version": 2
   },
   "file_extension": ".py",
   "mimetype": "text/x-python",
   "name": "python",
   "nbconvert_exporter": "python",
   "pygments_lexer": "ipython2",
   "version": "2.7.6"
  }
 },
 "nbformat": 4,
 "nbformat_minor": 0
}
