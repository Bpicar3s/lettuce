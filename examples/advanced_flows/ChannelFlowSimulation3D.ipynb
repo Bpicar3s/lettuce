{
 "cells": [
  {
   "cell_type": "code",
   "source": [
    "\n",
    "\n",
    "import lettuce as lt\n",
    "from lettuce import D3Q19, UnitConversion\n",
    "import csv\n",
    "from lettuce import Observable\n",
    "from lettuce.ext._force.adaptive_force import AdaptiveForce\n",
    "from lettuce.ext._boundary.wallfunction import WallFunction\n",
    "from lettuce.ext._reporter.observable_reporter import GlobalMeanUXReporter, WallQuantities\n",
    "from lettuce.ext._stencil.d3q19 import D3Q19\n"
   ],
   "metadata": {
    "collapsed": false,
    "ExecuteTime": {
     "end_time": "2025-07-29T09:18:39.792174Z",
     "start_time": "2025-07-29T09:18:37.785410Z"
    }
   },
   "outputs": [],
   "execution_count": 1
  },
  {
   "cell_type": "code",
   "source": [
    "from argparse import ArgumentParser, ArgumentDefaultsHelpFormatter\n",
    "import numpy as np\n",
    "import torch\n",
    "\n",
    "parser = ArgumentParser(formatter_class=ArgumentDefaultsHelpFormatter)\n",
    "parser.add_argument(\"--vtkdir\", type=str, default=\"./output_h20_t30/\")\n",
    "parser.add_argument(\"--csvdir\", type=str, default=\"./output_h20_t30/\")\n",
    "parser.add_argument(\"--nout\", type=int, default=100)\n",
    "parser.add_argument(\"--nvtk\", type=int, default=100)\n",
    "parser.add_argument(\"--tmax\", type=int, default=10)\n",
    "parser.add_argument(\"--Re\", type=int, default=39278.3)\n",
    "parser.add_argument(\"--collision_operator\", type=str, default=\"BGK\")\n",
    "parser.add_argument(\"--Precision\", type=str, default=\"Double \")\n",
    "parser.add_argument(\"--Mach\", type=float, default=0.1)\n",
    "parser.add_argument(\"--h\", type=int, default=20, help=\"Halbe Kanalhöhe in LU\")\n",
    "parser.add_argument(\"--bbtype\", type=str, default=\"wallfunction\", choices=[\"halfway\", \"fullway\", \"wallfunction\", \"freeslip\"],\n",
    "                    help=\"Typ der Bounce-Back-Randbedingung\")\n",
    "\n",
    "args, unknown = parser.parse_known_args()\n",
    "args = vars(args)\n",
    "\n",
    "print(\"ICH FUNKTIONIERE MIT PULLEN\")\n",
    "\n",
    "\n",
    "\n",
    "# Einheiten und Auflösung\n",
    "h = args[\"h\"]                      # Kanalhalbhöhe in LU\n",
    "res_y = 2 * h                     # y: volle Kanalhöhe\n",
    "res_x = int(2*np.pi * h)\n",
    "res_z = int(np.pi * h)\n",
    "\n",
    "# Restliche Parameter\n",
    "Re = args[\"Re\"]\n",
    "basedir = args[\"vtkdir\"]\n",
    "csvdir = args[\"csvdir\"]\n",
    "nout = args[\"nout\"]\n",
    "nvtk = args[\"nvtk\"]\n",
    "tmax = args[\"tmax\"]\n",
    "Precision = args[\"Precision\"]\n",
    "collision_operator = args[\"collision_operator\"]\n",
    "Mach = args[\"Mach\"]\n",
    "bbtype = args[\"bbtype\"]\n",
    "# Präzision\n",
    "if Precision == \"Single\":\n",
    "    dtype = torch.float32\n",
    "elif Precision == \"Double\":\n",
    "    dtype = torch.float64\n",
    "elif Precision == \"Half\":\n",
    "    dtype = torch.float16\n"
   ],
   "metadata": {
    "collapsed": false,
    "ExecuteTime": {
     "end_time": "2025-07-29T09:18:39.806202Z",
     "start_time": "2025-07-29T09:18:39.794540Z"
    }
   },
   "outputs": [
    {
     "name": "stdout",
     "output_type": "stream",
     "text": [
      "ICH FUNKTIONIERE MIT PULLEN\n"
     ]
    }
   ],
   "execution_count": 2
  },
  {
   "metadata": {
    "ExecuteTime": {
     "end_time": "2025-07-29T09:18:51.942251Z",
     "start_time": "2025-07-29T09:18:39.808167Z"
    }
   },
   "cell_type": "code",
   "source": [
    "\n",
    "dtype = torch.float64  # Für Stabilität bei hohen Re\n",
    "context = lt.Context(device=torch.device('cuda:0') if torch.cuda\n",
    "                     .is_available() else torch.device('cpu'),\n",
    "                     dtype=dtype, use_native = False)\n",
    "# 🧱 Domänenmaße & Setup\n",
    "h = args[\"h\"]\n",
    "res_y = 2 * h\n",
    "res_x = int(2 * np.pi * h)\n",
    "res_z = int(np.pi * h)\n",
    "\n",
    "# 🌊 Flow erzeugen, Boundaries übergeben\n",
    "flow = lt.ChannelFlow3D(\n",
    "    context = context,\n",
    "    resolution=h,\n",
    "    reynolds_number=Re,\n",
    "    stencil = D3Q19(),\n",
    "    mach_number=Mach\n",
    ")\n",
    "\n",
    "shape = flow.resolution\n",
    "mask_bottom = torch.zeros(shape, dtype=torch.bool, device=context.device)\n",
    "mask_bottom[:, 0, :] = True\n",
    "mask_top = torch.zeros(shape, dtype=torch.bool, device=context.device)\n",
    "mask_top[:, -1, :] = True\n",
    "\n",
    "global_mean_ux_reporter = GlobalMeanUXReporter(flow = flow)\n",
    "\n",
    "wq_bottom = WallQuantities(mask = mask_bottom, wall = \"bottom\", flow=flow, boundary=flow.boundaries[0], context = context)\n",
    "wq_top = WallQuantities(mask = mask_top, wall = \"top\", flow=flow, boundary=flow.boundaries[1], context = context)\n",
    "print(flow.boundaries[0].__class__.__name__)\n",
    "# 🌀 Adaptive Force mit denselben Boundaries\n",
    "adaptive_force_instance = AdaptiveForce(\n",
    "    flow=flow,\n",
    "    context = context,\n",
    "    target_u_m_lu=flow.units.convert_velocity_to_lu(1),\n",
    "    wall_bottom=flow.boundaries[0],\n",
    "    wall_top=flow.boundaries[1],\n",
    "    global_ux_reporter=global_mean_ux_reporter,\n",
    "    base_lbm_tau_lu=flow.units.relaxation_parameter_lu\n",
    ")\n",
    "collision = lt.BGKCollision(tau=flow.units.relaxation_parameter_lu, force=adaptive_force_instance)\n",
    "\n",
    "simulation = lt.Simulation(flow=flow, collision=collision, reporter = [])\n",
    "\n",
    "simulation.reporter.append(lt.ObservableReporter(global_mean_ux_reporter, interval=1, out=None))\n",
    "simulation.reporter.append(lt.ObservableReporter(wq_bottom, interval=100, out=None))\n",
    "simulation.reporter.append(lt.ObservableReporter(wq_top, interval=100, out=None))\n",
    "\n",
    "steps = int(flow.units.convert_time_to_lu(tmax))\n",
    "vtk_reporter = lt.VTKReporter(interval=max(1, int(steps/100)), filename_base=basedir + \"/output_h20_t30\")\n",
    "simulation.reporter.append(vtk_reporter)\n",
    "\n",
    "print(flow.units.viscosity_pu)\n",
    "\n",
    "mlups = simulation.step(num_steps=steps)\n",
    "\n",
    "wq_top_arr = np.array(simulation.reporter[2].out)\n",
    "wq_bottom_arr = np.array(simulation.reporter[1].out)\n",
    "ux_mean_arr = np.array(simulation.reporter[0].out)\n",
    "\n",
    "with open(csvdir + 'uxmean.csv', 'w', newline='') as file:\n",
    "    writer = csv.writer(file)\n",
    "    writer.writerows(ux_mean_arr)\n",
    "with open(csvdir + 'WallQuantitiesTop.csv', 'w', newline='') as file:\n",
    "    writer = csv.writer(file)\n",
    "    writer.writerows(wq_top_arr)\n",
    "with open(csvdir + 'WallQuantitiesBottom.csv', 'w', newline='') as file:\n",
    "    writer = csv.writer(file)\n",
    "    writer.writerows(wq_bottom_arr)\n"
   ],
   "outputs": [
    {
     "name": "stdout",
     "output_type": "stream",
     "text": [
      "BounceBackBoundary\n",
      "[125, 40, 62] 19\n",
      "2.545935032829832e-05\n"
     ]
    },
    {
     "ename": "KeyboardInterrupt",
     "evalue": "",
     "output_type": "error",
     "traceback": [
      "\u001B[31m---------------------------------------------------------------------------\u001B[39m",
      "\u001B[31mKeyboardInterrupt\u001B[39m                         Traceback (most recent call last)",
      "\u001B[36mCell\u001B[39m\u001B[36m \u001B[39m\u001B[32mIn[3]\u001B[39m\u001B[32m, line 55\u001B[39m\n\u001B[32m     51\u001B[39m simulation.reporter.append(vtk_reporter)\n\u001B[32m     53\u001B[39m \u001B[38;5;28mprint\u001B[39m(flow.units.viscosity_pu)\n\u001B[32m---> \u001B[39m\u001B[32m55\u001B[39m mlups = \u001B[43msimulation\u001B[49m\u001B[43m.\u001B[49m\u001B[43mstep\u001B[49m\u001B[43m(\u001B[49m\u001B[43mnum_steps\u001B[49m\u001B[43m=\u001B[49m\u001B[43msteps\u001B[49m\u001B[43m)\u001B[49m\n\u001B[32m     57\u001B[39m wq_top_arr = np.array(simulation.reporter[\u001B[32m2\u001B[39m].out)\n\u001B[32m     58\u001B[39m wq_bottom_arr = np.array(simulation.reporter[\u001B[32m1\u001B[39m].out)\n",
      "\u001B[36mFile \u001B[39m\u001B[32m~/Schreibtisch/lettuce/lettuce/_simulation.py:154\u001B[39m, in \u001B[36mSimulation.step\u001B[39m\u001B[34m(self, num_steps)\u001B[39m\n\u001B[32m    150\u001B[39m \u001B[38;5;28;01mdef\u001B[39;00m\u001B[38;5;250m \u001B[39m\u001B[34mstep\u001B[39m(\u001B[38;5;28mself\u001B[39m, num_steps: \u001B[38;5;28mint\u001B[39m):\n\u001B[32m    151\u001B[39m     warnings.warn(\u001B[33m\"\u001B[39m\u001B[33mlt.Simulation.step() is deprecated and will be \u001B[39m\u001B[33m\"\u001B[39m\n\u001B[32m    152\u001B[39m                   \u001B[33m\"\u001B[39m\u001B[33mremoved in a future version. Instead, call simulation \u001B[39m\u001B[33m\"\u001B[39m\n\u001B[32m    153\u001B[39m                   \u001B[33m\"\u001B[39m\u001B[33mdirectly: simulation(num_steps)\u001B[39m\u001B[33m\"\u001B[39m, \u001B[38;5;167;01mDeprecationWarning\u001B[39;00m)\n\u001B[32m--> \u001B[39m\u001B[32m154\u001B[39m     \u001B[38;5;28;01mreturn\u001B[39;00m \u001B[38;5;28;43mself\u001B[39;49m\u001B[43m(\u001B[49m\u001B[43mnum_steps\u001B[49m\u001B[43m)\u001B[49m\n",
      "\u001B[36mFile \u001B[39m\u001B[32m~/Schreibtisch/lettuce/lettuce/_simulation.py:204\u001B[39m, in \u001B[36mSimulation.__call__\u001B[39m\u001B[34m(self, num_steps)\u001B[39m\n\u001B[32m    202\u001B[39m     \u001B[38;5;28mself\u001B[39m._collide_and_stream(\u001B[38;5;28mself\u001B[39m)\n\u001B[32m    203\u001B[39m     \u001B[38;5;28mself\u001B[39m.flow.i += \u001B[32m1\u001B[39m\n\u001B[32m--> \u001B[39m\u001B[32m204\u001B[39m     \u001B[38;5;28;43mself\u001B[39;49m\u001B[43m.\u001B[49m\u001B[43m_report\u001B[49m\u001B[43m(\u001B[49m\u001B[43m)\u001B[49m\n\u001B[32m    206\u001B[39m end = timer()\n\u001B[32m    207\u001B[39m \u001B[38;5;28;01mreturn\u001B[39;00m num_steps * \u001B[38;5;28mself\u001B[39m.flow.rho().numel() / \u001B[32m1e6\u001B[39m / (end - beg)\n",
      "\u001B[36mFile \u001B[39m\u001B[32m~/Schreibtisch/lettuce/lettuce/_simulation.py:193\u001B[39m, in \u001B[36mSimulation._report\u001B[39m\u001B[34m(self)\u001B[39m\n\u001B[32m    191\u001B[39m \u001B[38;5;28;01mdef\u001B[39;00m\u001B[38;5;250m \u001B[39m\u001B[34m_report\u001B[39m(\u001B[38;5;28mself\u001B[39m):\n\u001B[32m    192\u001B[39m     \u001B[38;5;28;01mfor\u001B[39;00m reporter \u001B[38;5;129;01min\u001B[39;00m \u001B[38;5;28mself\u001B[39m.reporter:\n\u001B[32m--> \u001B[39m\u001B[32m193\u001B[39m         \u001B[43mreporter\u001B[49m\u001B[43m(\u001B[49m\u001B[38;5;28;43mself\u001B[39;49m\u001B[43m)\u001B[49m\n",
      "\u001B[36mFile \u001B[39m\u001B[32m~/Schreibtisch/lettuce/lettuce/ext/_reporter/observable_reporter.py:186\u001B[39m, in \u001B[36mObservableReporter.__call__\u001B[39m\u001B[34m(self, simulation)\u001B[39m\n\u001B[32m    183\u001B[39m \u001B[38;5;28;01mdef\u001B[39;00m\u001B[38;5;250m \u001B[39m\u001B[34m__call__\u001B[39m(\u001B[38;5;28mself\u001B[39m, simulation: \u001B[33m'\u001B[39m\u001B[33mSimulation\u001B[39m\u001B[33m'\u001B[39m):\n\u001B[32m    184\u001B[39m     \u001B[38;5;28;01mif\u001B[39;00m simulation.flow.i % \u001B[38;5;28mself\u001B[39m.interval == \u001B[32m0\u001B[39m:\n\u001B[32m    185\u001B[39m         observed = \u001B[38;5;28mself\u001B[39m.observable.context.convert_to_ndarray(\n\u001B[32m--> \u001B[39m\u001B[32m186\u001B[39m             \u001B[38;5;28;43mself\u001B[39;49m\u001B[43m.\u001B[49m\u001B[43mobservable\u001B[49m\u001B[43m(\u001B[49m\u001B[43msimulation\u001B[49m\u001B[43m.\u001B[49m\u001B[43mflow\u001B[49m\u001B[43m.\u001B[49m\u001B[43mf\u001B[49m\u001B[43m)\u001B[49m)\n\u001B[32m    187\u001B[39m         \u001B[38;5;28;01massert\u001B[39;00m \u001B[38;5;28mlen\u001B[39m(observed.shape) < \u001B[32m2\u001B[39m\n\u001B[32m    188\u001B[39m         \u001B[38;5;28;01mif\u001B[39;00m \u001B[38;5;28mlen\u001B[39m(observed.shape) == \u001B[32m0\u001B[39m:\n",
      "\u001B[36mFile \u001B[39m\u001B[32m~/Schreibtisch/lettuce/lettuce/ext/_reporter/observable_reporter.py:222\u001B[39m, in \u001B[36mGlobalMeanUXReporter.__call__\u001B[39m\u001B[34m(self, f)\u001B[39m\n\u001B[32m    221\u001B[39m \u001B[38;5;28;01mdef\u001B[39;00m\u001B[38;5;250m \u001B[39m\u001B[34m__call__\u001B[39m(\u001B[38;5;28mself\u001B[39m, f: Optional[torch.Tensor] = \u001B[38;5;28;01mNone\u001B[39;00m):\n\u001B[32m--> \u001B[39m\u001B[32m222\u001B[39m     u_field_lu = \u001B[38;5;28;43mself\u001B[39;49m\u001B[43m.\u001B[49m\u001B[43mflow\u001B[49m\u001B[43m.\u001B[49m\u001B[43mu\u001B[49m\u001B[43m(\u001B[49m\u001B[43m)\u001B[49m  \u001B[38;5;66;03m# u_field_lu: shape (3, Nx, Ny, Nz)\u001B[39;00m\n\u001B[32m    223\u001B[39m     u_x_spatial = u_field_lu[\u001B[32m0\u001B[39m]     \u001B[38;5;66;03m# Nur die x-Komponente\u001B[39;00m\n\u001B[32m    224\u001B[39m     current_mean_ux_lu = torch.mean(u_x_spatial)\n",
      "\u001B[36mFile \u001B[39m\u001B[32m~/Schreibtisch/lettuce/lettuce/_flow.py:163\u001B[39m, in \u001B[36mFlow.u\u001B[39m\u001B[34m(self, f, rho, acceleration)\u001B[39m\n\u001B[32m    160\u001B[39m \u001B[38;5;250m\u001B[39m\u001B[33;03m\"\"\"velocity; the `acceleration` is used to compute the correct velocity\u001B[39;00m\n\u001B[32m    161\u001B[39m \u001B[33;03min the presence of a forcing scheme.\"\"\"\u001B[39;00m\n\u001B[32m    162\u001B[39m rho = \u001B[38;5;28mself\u001B[39m.rho(f=f) \u001B[38;5;28;01mif\u001B[39;00m rho \u001B[38;5;129;01mis\u001B[39;00m \u001B[38;5;28;01mNone\u001B[39;00m \u001B[38;5;28;01melse\u001B[39;00m rho\n\u001B[32m--> \u001B[39m\u001B[32m163\u001B[39m v = \u001B[38;5;28;43mself\u001B[39;49m\u001B[43m.\u001B[49m\u001B[43mj\u001B[49m\u001B[43m(\u001B[49m\u001B[43mf\u001B[49m\u001B[43m=\u001B[49m\u001B[43mf\u001B[49m\u001B[43m)\u001B[49m / rho\n\u001B[32m    164\u001B[39m \u001B[38;5;66;03m# apply correction due to forcing, which effectively averages the pre-\u001B[39;00m\n\u001B[32m    165\u001B[39m \u001B[38;5;66;03m# and post-collision velocity\u001B[39;00m\n\u001B[32m    166\u001B[39m \u001B[38;5;28;01mif\u001B[39;00m acceleration \u001B[38;5;129;01mis\u001B[39;00m \u001B[38;5;28;01mNone\u001B[39;00m:\n",
      "\u001B[36mFile \u001B[39m\u001B[32m~/Schreibtisch/lettuce/lettuce/_flow.py:155\u001B[39m, in \u001B[36mFlow.j\u001B[39m\u001B[34m(self, f)\u001B[39m\n\u001B[32m    153\u001B[39m \u001B[38;5;28;01mdef\u001B[39;00m\u001B[38;5;250m \u001B[39m\u001B[34mj\u001B[39m(\u001B[38;5;28mself\u001B[39m, f: Optional[torch.Tensor] = \u001B[38;5;28;01mNone\u001B[39;00m) -> torch.Tensor:\n\u001B[32m    154\u001B[39m \u001B[38;5;250m    \u001B[39m\u001B[33;03m\"\"\"momentum\"\"\"\u001B[39;00m\n\u001B[32m--> \u001B[39m\u001B[32m155\u001B[39m     \u001B[38;5;28;01mreturn\u001B[39;00m \u001B[43mtorch\u001B[49m\u001B[43m.\u001B[49m\u001B[43meinsum\u001B[49m\u001B[43m(\u001B[49m\u001B[33;43m\"\u001B[39;49m\u001B[33;43mqd,q...->d...\u001B[39;49m\u001B[33;43m\"\u001B[39;49m\u001B[43m,\u001B[49m\n\u001B[32m    156\u001B[39m \u001B[43m                        \u001B[49m\u001B[43m[\u001B[49m\u001B[38;5;28;43mself\u001B[39;49m\u001B[43m.\u001B[49m\u001B[43mtorch_stencil\u001B[49m\u001B[43m.\u001B[49m\u001B[43me\u001B[49m\u001B[43m,\u001B[49m\u001B[43m \u001B[49m\u001B[38;5;28;43mself\u001B[39;49m\u001B[43m.\u001B[49m\u001B[43mf\u001B[49m\u001B[43m \u001B[49m\u001B[38;5;28;43;01mif\u001B[39;49;00m\u001B[43m \u001B[49m\u001B[43mf\u001B[49m\u001B[43m \u001B[49m\u001B[38;5;129;43;01mis\u001B[39;49;00m\u001B[43m \u001B[49m\u001B[38;5;28;43;01mNone\u001B[39;49;00m\u001B[43m \u001B[49m\u001B[38;5;28;43;01melse\u001B[39;49;00m\u001B[43m \u001B[49m\u001B[43mf\u001B[49m\u001B[43m]\u001B[49m\u001B[43m)\u001B[49m\n",
      "\u001B[36mFile \u001B[39m\u001B[32m~/venvs/py312env/lib/python3.12/site-packages/torch/functional.py:375\u001B[39m, in \u001B[36meinsum\u001B[39m\u001B[34m(*args)\u001B[39m\n\u001B[32m    372\u001B[39m     _operands = operands[\u001B[32m0\u001B[39m]\n\u001B[32m    373\u001B[39m     \u001B[38;5;66;03m# recurse incase operands contains value that has torch function\u001B[39;00m\n\u001B[32m    374\u001B[39m     \u001B[38;5;66;03m# in the original implementation this line is omitted\u001B[39;00m\n\u001B[32m--> \u001B[39m\u001B[32m375\u001B[39m     \u001B[38;5;28;01mreturn\u001B[39;00m \u001B[43meinsum\u001B[49m\u001B[43m(\u001B[49m\u001B[43mequation\u001B[49m\u001B[43m,\u001B[49m\u001B[43m \u001B[49m\u001B[43m*\u001B[49m\u001B[43m_operands\u001B[49m\u001B[43m)\u001B[49m\n\u001B[32m    377\u001B[39m \u001B[38;5;28;01mif\u001B[39;00m \u001B[38;5;28mlen\u001B[39m(operands) <= \u001B[32m2\u001B[39m \u001B[38;5;129;01mor\u001B[39;00m \u001B[38;5;129;01mnot\u001B[39;00m opt_einsum.enabled:\n\u001B[32m    378\u001B[39m     \u001B[38;5;66;03m# the path for contracting 0 or 1 time(s) is already optimized\u001B[39;00m\n\u001B[32m    379\u001B[39m     \u001B[38;5;66;03m# or the user has disabled using opt_einsum\u001B[39;00m\n\u001B[32m    380\u001B[39m     \u001B[38;5;28;01mreturn\u001B[39;00m _VF.einsum(equation, operands)  \u001B[38;5;66;03m# type: ignore[attr-defined]\u001B[39;00m\n",
      "\u001B[36mFile \u001B[39m\u001B[32m~/venvs/py312env/lib/python3.12/site-packages/torch/functional.py:380\u001B[39m, in \u001B[36meinsum\u001B[39m\u001B[34m(*args)\u001B[39m\n\u001B[32m    375\u001B[39m     \u001B[38;5;28;01mreturn\u001B[39;00m einsum(equation, *_operands)\n\u001B[32m    377\u001B[39m \u001B[38;5;28;01mif\u001B[39;00m \u001B[38;5;28mlen\u001B[39m(operands) <= \u001B[32m2\u001B[39m \u001B[38;5;129;01mor\u001B[39;00m \u001B[38;5;129;01mnot\u001B[39;00m opt_einsum.enabled:\n\u001B[32m    378\u001B[39m     \u001B[38;5;66;03m# the path for contracting 0 or 1 time(s) is already optimized\u001B[39;00m\n\u001B[32m    379\u001B[39m     \u001B[38;5;66;03m# or the user has disabled using opt_einsum\u001B[39;00m\n\u001B[32m--> \u001B[39m\u001B[32m380\u001B[39m     \u001B[38;5;28;01mreturn\u001B[39;00m \u001B[43m_VF\u001B[49m\u001B[43m.\u001B[49m\u001B[43meinsum\u001B[49m\u001B[43m(\u001B[49m\u001B[43mequation\u001B[49m\u001B[43m,\u001B[49m\u001B[43m \u001B[49m\u001B[43moperands\u001B[49m\u001B[43m)\u001B[49m  \u001B[38;5;66;03m# type: ignore[attr-defined]\u001B[39;00m\n\u001B[32m    382\u001B[39m path = \u001B[38;5;28;01mNone\u001B[39;00m\n\u001B[32m    383\u001B[39m \u001B[38;5;28;01mif\u001B[39;00m opt_einsum.is_available():\n",
      "\u001B[31mKeyboardInterrupt\u001B[39m: "
     ]
    }
   ],
   "execution_count": 3
  },
  {
   "metadata": {},
   "cell_type": "code",
   "source": "",
   "outputs": [],
   "execution_count": null
  },
  {
   "cell_type": "code",
   "source": [
    "import matplotlib.pyplot as plt\n",
    "import numpy as np\n",
    "\n",
    "\n",
    "print(wq_bottom)\n",
    "# Beispiel: Daten laden\n",
    "data = (wq_bottom_arr+wq_top_arr)/2\n",
    "time = data[:, 1]\n",
    "re_tau = data[:, 4]\n",
    "y_plus = data[:, 3]\n",
    "\n",
    "\n",
    "plt.figure()\n",
    "plt.plot(time, re_tau, label=\"Re_tau (bottom)\")\n",
    "plt.xlabel(\"Zeit\")\n",
    "plt.ylabel(\"Re_tau\")\n",
    "plt.legend()\n",
    "plt.grid()\n",
    "plt.title(\"Re_tau über die Zeit\")\n",
    "plt.savefig(csvdir + \"retau.pdf\")\n",
    "\n",
    "plt.show()\n",
    "\n",
    "plt.figure()\n",
    "plt.plot(ux_mean_arr[:,1], flow.units.convert_velocity_to_pu(ux_mean_arr[:,2]), label=\"ux\")\n",
    "plt.xlabel(\"Zeit\")\n",
    "plt.ylabel(\"ux\")\n",
    "plt.legend()\n",
    "plt.grid()\n",
    "plt.title(\"ux über die Zeit\")\n",
    "plt.savefig(csvdir + \"yplus.pdf\")\n",
    "plt.show()\n"
   ],
   "metadata": {
    "collapsed": false
   },
   "outputs": [],
   "execution_count": null
  },
  {
   "metadata": {},
   "cell_type": "code",
   "source": [
    "\n",
    "# 💡 Schritt 1: u holen und Betrag berechnen\n",
    "u = flow.units.convert_velocity_to_pu(flow.u())  # [3, Nx, Ny, Nz]\n",
    "u_mag = torch.sqrt(u[0]**2 + u[1]**2 + u[2]**2)  # [Nx, Ny, Nz]\n",
    "\n",
    "# 💡 Schritt 2: Slice bei x = 0 extrahieren\n",
    "slice_2d = u_mag[:, :, 0]  # [Ny, Nz]\n",
    "\n",
    "# 💡 Schritt 3: Plotten\n",
    "plt.figure(figsize=(6, 4))\n",
    "plt.imshow(slice_2d.cpu().numpy())\n",
    "plt.colorbar(label='|u|')\n",
    "plt.title('Geschwindigkeitsbetrag bei x = 0')\n",
    "plt.xlabel('x')\n",
    "plt.ylabel('y')\n",
    "plt.tight_layout()\n",
    "plt.show()\n"
   ],
   "outputs": [],
   "execution_count": null
  },
  {
   "metadata": {},
   "cell_type": "code",
   "source": "print(u.shape)",
   "outputs": [],
   "execution_count": null
  },
  {
   "metadata": {},
   "cell_type": "code",
   "source": "",
   "outputs": [],
   "execution_count": null
  }
 ],
 "metadata": {
  "kernelspec": {
   "display_name": "Python 3",
   "language": "python",
   "name": "python3"
  },
  "language_info": {
   "codemirror_mode": {
    "name": "ipython",
    "version": 2
   },
   "file_extension": ".py",
   "mimetype": "text/x-python",
   "name": "python",
   "nbconvert_exporter": "python",
   "pygments_lexer": "ipython2",
   "version": "2.7.6"
  }
 },
 "nbformat": 4,
 "nbformat_minor": 0
}
