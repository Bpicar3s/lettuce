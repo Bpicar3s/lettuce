{
 "cells": [
  {
   "cell_type": "markdown",
   "metadata": {},
   "source": [
    "# Example: Mixing Layer\n",
    "\n",
    "In this example, a custom flow is created and demonstrated."
   ]
  },
  {
   "cell_type": "code",
   "metadata": {
    "ExecuteTime": {
     "end_time": "2024-08-05T08:29:02.948922Z",
     "start_time": "2024-08-05T08:29:02.006080Z"
    }
   },
   "source": [
    "from typing import Union, List, Optional\n",
    "\n",
    "import torch\n",
    "\n",
    "import lettuce as lt\n",
    "import matplotlib.pyplot as plt\n",
    "import numpy as np\n",
    "\n",
    "from lettuce import UnitConversion"
   ],
   "outputs": [],
   "execution_count": 1
  },
  {
   "cell_type": "markdown",
   "metadata": {},
   "source": "## Setup"
  },
  {
   "cell_type": "code",
   "metadata": {
    "ExecuteTime": {
     "end_time": "2024-08-05T08:29:04.588374Z",
     "start_time": "2024-08-05T08:29:04.496165Z"
    }
   },
   "source": [
    "def randu(nx, ny, nz):\n",
    "    # returns values between -1 and 1\n",
    "    return (np.random.rand(nx, ny, nz)-0.5)*2\n",
    "\n",
    "\n",
    "class MixingLayer(lt.ExtFlow):\n",
    "\n",
    "    def __init__(self, context: lt.Context, resolution, reynolds_number,\n",
    "                 mach_number, stencil: 'Stencil'):\n",
    "        self.d = stencil.d\n",
    "        super().__init__(context, resolution, reynolds_number, mach_number,\n",
    "                         stencil=stencil)\n",
    "        self._mask = torch.zeros(self.resolution, dtype=torch.bool)\n",
    "\n",
    "    def make_resolution(self, resolution: Union[int, List[int]],\n",
    "                        stencil: Optional['Stencil'] = None) -> List[int]:\n",
    "        self.resolution = [resolution] * self.d\n",
    "        return self.resolution\n",
    "\n",
    "    def make_units(self, reynolds_number, mach_number,\n",
    "                   resolution: List[int]) -> 'UnitConversion':\n",
    "        return UnitConversion(reynolds_number, mach_number, resolution)\n",
    "\n",
    "    def initial_pu(self):\n",
    "        p = np.array([0 * self.grid[0]], dtype=float)\n",
    "        nx, ny, *nz = self.resolution\n",
    "        nz = nz[0] if nz else 1\n",
    "        shearlayerthickness = 0.093\n",
    "        amplitude = 1\n",
    "        centering = np.exp(-pow(self.grid[1]/(2*shearlayerthickness), 2)) * amplitude\n",
    "        u = []\n",
    "        for dim in range(len(self.grid)):\n",
    "            u.append(randu(nx, ny, nz) * centering)\n",
    "            u[dim] = u[dim][..., 0] if self.d == 2 else u[dim]\n",
    "        u[0] = np.tanh(self.grid[1]/(2*shearlayerthickness))\n",
    "        u = np.array(u, dtype=float)\n",
    "        return p, u\n",
    "\n",
    "    @property\n",
    "    def mask(self):\n",
    "        return self._mask\n",
    "\n",
    "    @property\n",
    "    def grid(self):\n",
    "        xyz = tuple(torch.linspace(-1, 1, steps=n) for n in self.resolution)\n",
    "        return torch.meshgrid(*xyz, indexing='ij')\n",
    "\n",
    "    @property\n",
    "    def boundaries(self):\n",
    "        x, y, *z = self.grid\n",
    "        top = np.zeros(np.shape(y), dtype=bool)\n",
    "        bottom = np.zeros(np.shape(y), dtype=bool)\n",
    "        bottom[:, 0] = True  # bottom\n",
    "        top[:, -1] = True  # top\n",
    "        downstream = np.array([1.0, 0.0, 0.0]) if len(self.grid) == 3\\\n",
    "            else np.array([1.0, 0.0])\n",
    "        return [\n",
    "            # moving fluid on top and bottom\n",
    "            lt.EquilibriumBoundaryPU(self.context, top, self.units,\n",
    "                                  downstream),\n",
    "            lt.EquilibriumBoundaryPU(self.context, bottom, self.units,\n",
    "                                  -downstream),\n",
    "        ]\n",
    "\n",
    "context = lt.Context()\n",
    "flow = MixingLayer(stencil=lt.D2Q9, resolution=256, reynolds_number=10000,\n",
    "                   mach_number=0.05, context=context)\n",
    "collision = lt.BGKCollision(tau=flow.units.relaxation_parameter_lu)\n",
    "simulation = lt.Simulation(flow=flow, collision=collision, reporter=[])\n",
    "energyspectrum = lt.EnergySpectrum(flow)\n",
    "reporter = lt.ObservableReporter(energyspectrum, interval=500, out=None)\n",
    "simulation.reporter.append(reporter)"
   ],
   "outputs": [
    {
     "ename": "AttributeError",
     "evalue": "'MixingLayer' object has no attribute 'stencil'",
     "output_type": "error",
     "traceback": [
      "\u001B[0;31m---------------------------------------------------------------------------\u001B[0m",
      "\u001B[0;31mAttributeError\u001B[0m                            Traceback (most recent call last)",
      "Cell \u001B[0;32mIn[2], line 66\u001B[0m\n\u001B[1;32m     57\u001B[0m         \u001B[38;5;28;01mreturn\u001B[39;00m [\n\u001B[1;32m     58\u001B[0m             \u001B[38;5;66;03m# moving fluid on top and bottom\u001B[39;00m\n\u001B[1;32m     59\u001B[0m             lt\u001B[38;5;241m.\u001B[39mEquilibriumBoundaryPU(\u001B[38;5;28mself\u001B[39m\u001B[38;5;241m.\u001B[39mcontext, top, \u001B[38;5;28mself\u001B[39m\u001B[38;5;241m.\u001B[39munits,\n\u001B[0;32m   (...)\u001B[0m\n\u001B[1;32m     62\u001B[0m                                   \u001B[38;5;241m-\u001B[39mdownstream),\n\u001B[1;32m     63\u001B[0m         ]\n\u001B[1;32m     65\u001B[0m context \u001B[38;5;241m=\u001B[39m lt\u001B[38;5;241m.\u001B[39mContext(device\u001B[38;5;241m=\u001B[39mtorch\u001B[38;5;241m.\u001B[39mdevice(\u001B[38;5;124m\"\u001B[39m\u001B[38;5;124mcpu\u001B[39m\u001B[38;5;124m\"\u001B[39m), use_native\u001B[38;5;241m=\u001B[39m\u001B[38;5;28;01mFalse\u001B[39;00m)\n\u001B[0;32m---> 66\u001B[0m flow \u001B[38;5;241m=\u001B[39m \u001B[43mMixingLayer\u001B[49m\u001B[43m(\u001B[49m\u001B[43mstencil\u001B[49m\u001B[38;5;241;43m=\u001B[39;49m\u001B[43mlt\u001B[49m\u001B[38;5;241;43m.\u001B[39;49m\u001B[43mD2Q9\u001B[49m\u001B[43m,\u001B[49m\u001B[43m \u001B[49m\u001B[43mresolution\u001B[49m\u001B[38;5;241;43m=\u001B[39;49m\u001B[38;5;241;43m256\u001B[39;49m\u001B[43m,\u001B[49m\u001B[43m \u001B[49m\u001B[43mreynolds_number\u001B[49m\u001B[38;5;241;43m=\u001B[39;49m\u001B[38;5;241;43m10000\u001B[39;49m\u001B[43m,\u001B[49m\n\u001B[1;32m     67\u001B[0m \u001B[43m                   \u001B[49m\u001B[43mmach_number\u001B[49m\u001B[38;5;241;43m=\u001B[39;49m\u001B[38;5;241;43m0.05\u001B[39;49m\u001B[43m,\u001B[49m\u001B[43m \u001B[49m\u001B[43mcontext\u001B[49m\u001B[38;5;241;43m=\u001B[39;49m\u001B[43mcontext\u001B[49m\u001B[43m)\u001B[49m\n\u001B[1;32m     68\u001B[0m collision \u001B[38;5;241m=\u001B[39m lt\u001B[38;5;241m.\u001B[39mBGKCollision(tau\u001B[38;5;241m=\u001B[39mflow\u001B[38;5;241m.\u001B[39munits\u001B[38;5;241m.\u001B[39mrelaxation_parameter_lu)\n\u001B[1;32m     69\u001B[0m simulation \u001B[38;5;241m=\u001B[39m lt\u001B[38;5;241m.\u001B[39mSimulation(flow\u001B[38;5;241m=\u001B[39mflow, collision\u001B[38;5;241m=\u001B[39mcollision, reporter\u001B[38;5;241m=\u001B[39m[])\n",
      "Cell \u001B[0;32mIn[2], line 11\u001B[0m, in \u001B[0;36mMixingLayer.__init__\u001B[0;34m(self, context, resolution, reynolds_number, mach_number, stencil)\u001B[0m\n\u001B[1;32m      8\u001B[0m \u001B[38;5;28;01mdef\u001B[39;00m \u001B[38;5;21m__init__\u001B[39m(\u001B[38;5;28mself\u001B[39m, context: lt\u001B[38;5;241m.\u001B[39mContext, resolution, reynolds_number,\n\u001B[1;32m      9\u001B[0m              mach_number, stencil: \u001B[38;5;124m'\u001B[39m\u001B[38;5;124mStencil\u001B[39m\u001B[38;5;124m'\u001B[39m):\n\u001B[1;32m     10\u001B[0m     \u001B[38;5;28mself\u001B[39m\u001B[38;5;241m.\u001B[39md \u001B[38;5;241m=\u001B[39m stencil\u001B[38;5;241m.\u001B[39md\n\u001B[0;32m---> 11\u001B[0m     \u001B[38;5;28;43msuper\u001B[39;49m\u001B[43m(\u001B[49m\u001B[43m)\u001B[49m\u001B[38;5;241;43m.\u001B[39;49m\u001B[38;5;21;43m__init__\u001B[39;49m\u001B[43m(\u001B[49m\u001B[43mcontext\u001B[49m\u001B[43m,\u001B[49m\u001B[43m \u001B[49m\u001B[43mresolution\u001B[49m\u001B[43m,\u001B[49m\u001B[43m \u001B[49m\u001B[43mreynolds_number\u001B[49m\u001B[43m,\u001B[49m\u001B[43m \u001B[49m\u001B[43mmach_number\u001B[49m\u001B[43m,\u001B[49m\n\u001B[1;32m     12\u001B[0m \u001B[43m                     \u001B[49m\u001B[43mstencil\u001B[49m\u001B[38;5;241;43m=\u001B[39;49m\u001B[43mstencil\u001B[49m\u001B[43m)\u001B[49m\n\u001B[1;32m     13\u001B[0m     \u001B[38;5;28mself\u001B[39m\u001B[38;5;241m.\u001B[39m_mask \u001B[38;5;241m=\u001B[39m torch\u001B[38;5;241m.\u001B[39mzeros(\u001B[38;5;28mself\u001B[39m\u001B[38;5;241m.\u001B[39mresolution, dtype\u001B[38;5;241m=\u001B[39mtorch\u001B[38;5;241m.\u001B[39mbool)\n",
      "File \u001B[0;32m~/lettuce/lettuce/ext/_flows/_ext_flow.py:21\u001B[0m, in \u001B[0;36mExtFlow.__init__\u001B[0;34m(self, context, resolution, reynolds_number, mach_number, stencil, equilibrium)\u001B[0m\n\u001B[1;32m     16\u001B[0m \u001B[38;5;28;01mdef\u001B[39;00m \u001B[38;5;21m__init__\u001B[39m(\u001B[38;5;28mself\u001B[39m, context: \u001B[38;5;124m'\u001B[39m\u001B[38;5;124mContext\u001B[39m\u001B[38;5;124m'\u001B[39m, resolution: Union[\u001B[38;5;28mint\u001B[39m, List[\u001B[38;5;28mint\u001B[39m]],\n\u001B[1;32m     17\u001B[0m              reynolds_number, mach_number,\n\u001B[1;32m     18\u001B[0m              stencil: Optional[\u001B[38;5;124m'\u001B[39m\u001B[38;5;124mStencil\u001B[39m\u001B[38;5;124m'\u001B[39m] \u001B[38;5;241m=\u001B[39m \u001B[38;5;28;01mNone\u001B[39;00m,\n\u001B[1;32m     19\u001B[0m              equilibrium: Optional[\u001B[38;5;124m'\u001B[39m\u001B[38;5;124mEquilibrium\u001B[39m\u001B[38;5;124m'\u001B[39m] \u001B[38;5;241m=\u001B[39m \u001B[38;5;28;01mNone\u001B[39;00m):\n\u001B[1;32m     20\u001B[0m     \u001B[38;5;66;03m# set stencil or default stencil based on dimension\u001B[39;00m\n\u001B[0;32m---> 21\u001B[0m     resolution \u001B[38;5;241m=\u001B[39m \u001B[38;5;28;43mself\u001B[39;49m\u001B[38;5;241;43m.\u001B[39;49m\u001B[43mmake_resolution\u001B[49m\u001B[43m(\u001B[49m\u001B[43mresolution\u001B[49m\u001B[43m,\u001B[49m\u001B[43m \u001B[49m\u001B[43mstencil\u001B[49m\u001B[43m)\u001B[49m\n\u001B[1;32m     22\u001B[0m     \u001B[38;5;28;01massert\u001B[39;00m \u001B[38;5;28mlen\u001B[39m(resolution) \u001B[38;5;129;01min\u001B[39;00m [\u001B[38;5;241m1\u001B[39m, \u001B[38;5;241m2\u001B[39m, \u001B[38;5;241m3\u001B[39m],\\\n\u001B[1;32m     23\u001B[0m         (\u001B[38;5;124mf\u001B[39m\u001B[38;5;124m\"\u001B[39m\u001B[38;5;124mflow supports dimensions 1, 2 and 3 but \u001B[39m\u001B[38;5;132;01m{\u001B[39;00m\u001B[38;5;28mlen\u001B[39m(resolution)\u001B[38;5;132;01m}\u001B[39;00m\u001B[38;5;124m \u001B[39m\u001B[38;5;124m\"\u001B[39m\n\u001B[1;32m     24\u001B[0m          \u001B[38;5;124mf\u001B[39m\u001B[38;5;124m\"\u001B[39m\u001B[38;5;124mdimensions where requested.\u001B[39m\u001B[38;5;124m\"\u001B[39m)\n\u001B[1;32m     25\u001B[0m     default_stencils \u001B[38;5;241m=\u001B[39m [D1Q3(), D2Q9(), D3Q19()]\n",
      "Cell \u001B[0;32mIn[2], line 17\u001B[0m, in \u001B[0;36mMixingLayer.make_resolution\u001B[0;34m(self, resolution, stencil)\u001B[0m\n\u001B[1;32m     15\u001B[0m \u001B[38;5;28;01mdef\u001B[39;00m \u001B[38;5;21mmake_resolution\u001B[39m(\u001B[38;5;28mself\u001B[39m, resolution: Union[\u001B[38;5;28mint\u001B[39m, List[\u001B[38;5;28mint\u001B[39m]],\n\u001B[1;32m     16\u001B[0m                     stencil: Optional[\u001B[38;5;124m'\u001B[39m\u001B[38;5;124mStencil\u001B[39m\u001B[38;5;124m'\u001B[39m] \u001B[38;5;241m=\u001B[39m \u001B[38;5;28;01mNone\u001B[39;00m) \u001B[38;5;241m-\u001B[39m\u001B[38;5;241m>\u001B[39m List[\u001B[38;5;28mint\u001B[39m]:\n\u001B[0;32m---> 17\u001B[0m     \u001B[38;5;28mself\u001B[39m\u001B[38;5;241m.\u001B[39mresolution \u001B[38;5;241m=\u001B[39m [resolution] \u001B[38;5;241m*\u001B[39m \u001B[38;5;28;43mself\u001B[39;49m\u001B[38;5;241;43m.\u001B[39;49m\u001B[43mstencil\u001B[49m\u001B[38;5;241m.\u001B[39md\n\u001B[1;32m     18\u001B[0m     \u001B[38;5;28;01mreturn\u001B[39;00m \u001B[38;5;28mself\u001B[39m\u001B[38;5;241m.\u001B[39mresolution\n",
      "\u001B[0;31mAttributeError\u001B[0m: 'MixingLayer' object has no attribute 'stencil'"
     ]
    }
   ],
   "execution_count": 2
  },
  {
   "cell_type": "markdown",
   "metadata": {},
   "source": "### Initialized flow"
  },
  {
   "cell_type": "code",
   "metadata": {
    "ExecuteTime": {
     "end_time": "2024-08-05T08:29:28.062634Z",
     "start_time": "2024-08-05T08:29:28.048646Z"
    }
   },
   "source": [
    "u = context.convert_to_ndarray(flow.u_pu)\n",
    "u_norm = np.linalg.norm(u,axis=0)\n",
    "plt.imshow(u_norm.transpose())\n",
    "plt.colorbar()\n",
    "plt.title('Initialized velocity')\n",
    "plt.show()"
   ],
   "outputs": [
    {
     "ename": "NameError",
     "evalue": "name 'flow' is not defined",
     "output_type": "error",
     "traceback": [
      "\u001B[0;31m---------------------------------------------------------------------------\u001B[0m",
      "\u001B[0;31mNameError\u001B[0m                                 Traceback (most recent call last)",
      "Cell \u001B[0;32mIn[7], line 1\u001B[0m\n\u001B[0;32m----> 1\u001B[0m u \u001B[38;5;241m=\u001B[39m context\u001B[38;5;241m.\u001B[39mconvert_to_ndarray(\u001B[43mflow\u001B[49m\u001B[38;5;241m.\u001B[39mu_pu)\n\u001B[1;32m      2\u001B[0m u_norm \u001B[38;5;241m=\u001B[39m np\u001B[38;5;241m.\u001B[39mlinalg\u001B[38;5;241m.\u001B[39mnorm(u,axis\u001B[38;5;241m=\u001B[39m\u001B[38;5;241m0\u001B[39m)\n\u001B[1;32m      3\u001B[0m plt\u001B[38;5;241m.\u001B[39mimshow(u_norm\u001B[38;5;241m.\u001B[39mtranspose())\n",
      "\u001B[0;31mNameError\u001B[0m: name 'flow' is not defined"
     ]
    }
   ],
   "execution_count": 7
  },
  {
   "cell_type": "markdown",
   "metadata": {},
   "source": "## Run simulation"
  },
  {
   "cell_type": "code",
   "metadata": {
    "ExecuteTime": {
     "end_time": "2024-08-05T08:29:13.473857Z",
     "start_time": "2024-08-05T08:29:13.460048Z"
    }
   },
   "source": [
    "mlups = simulation(num_steps=2000)\n",
    "print(\"Performance in MLUPS:\", mlups)"
   ],
   "outputs": [
    {
     "ename": "NameError",
     "evalue": "name 'simulation' is not defined",
     "output_type": "error",
     "traceback": [
      "\u001B[0;31m---------------------------------------------------------------------------\u001B[0m",
      "\u001B[0;31mNameError\u001B[0m                                 Traceback (most recent call last)",
      "Cell \u001B[0;32mIn[4], line 1\u001B[0m\n\u001B[0;32m----> 1\u001B[0m mlups \u001B[38;5;241m=\u001B[39m \u001B[43msimulation\u001B[49m(num_steps\u001B[38;5;241m=\u001B[39m\u001B[38;5;241m2000\u001B[39m)\n\u001B[1;32m      2\u001B[0m \u001B[38;5;28mprint\u001B[39m(\u001B[38;5;124m\"\u001B[39m\u001B[38;5;124mPerformance in MLUPS:\u001B[39m\u001B[38;5;124m\"\u001B[39m, mlups)\n",
      "\u001B[0;31mNameError\u001B[0m: name 'simulation' is not defined"
     ]
    }
   ],
   "execution_count": 4
  },
  {
   "cell_type": "markdown",
   "metadata": {},
   "source": [
    "### Velocity\n",
    "* Velocity field after the simulation"
   ]
  },
  {
   "cell_type": "code",
   "metadata": {
    "ExecuteTime": {
     "end_time": "2024-08-05T08:29:15.596883Z",
     "start_time": "2024-08-05T08:29:15.582159Z"
    }
   },
   "source": [
    "u = context.convert_to_ndarray(flow.u_pu)\n",
    "u_norm = np.linalg.norm(u,axis=0)\n",
    "plt.imshow(u_norm.transpose())\n",
    "plt.colorbar()\n",
    "plt.title('Velocity after simulation')\n",
    "plt.show()"
   ],
   "outputs": [
    {
     "ename": "NameError",
     "evalue": "name 'flow' is not defined",
     "output_type": "error",
     "traceback": [
      "\u001B[0;31m---------------------------------------------------------------------------\u001B[0m",
      "\u001B[0;31mNameError\u001B[0m                                 Traceback (most recent call last)",
      "Cell \u001B[0;32mIn[5], line 1\u001B[0m\n\u001B[0;32m----> 1\u001B[0m u \u001B[38;5;241m=\u001B[39m context\u001B[38;5;241m.\u001B[39mconvert_to_ndarray(\u001B[43mflow\u001B[49m\u001B[38;5;241m.\u001B[39mu_pu)\n\u001B[1;32m      2\u001B[0m u_norm \u001B[38;5;241m=\u001B[39m np\u001B[38;5;241m.\u001B[39mlinalg\u001B[38;5;241m.\u001B[39mnorm(u,axis\u001B[38;5;241m=\u001B[39m\u001B[38;5;241m0\u001B[39m)\n\u001B[1;32m      3\u001B[0m plt\u001B[38;5;241m.\u001B[39mimshow(u_norm\u001B[38;5;241m.\u001B[39mtranspose())\n",
      "\u001B[0;31mNameError\u001B[0m: name 'flow' is not defined"
     ]
    }
   ],
   "execution_count": 5
  },
  {
   "cell_type": "markdown",
   "metadata": {},
   "source": [
    "### Vorticity\n",
    "* Vorticity field after the simulation"
   ]
  },
  {
   "cell_type": "code",
   "metadata": {
    "ExecuteTime": {
     "end_time": "2024-08-05T08:29:17.472956Z",
     "start_time": "2024-08-05T08:29:17.457443Z"
    }
   },
   "source": [
    "dx = flow.units.convert_length_to_pu(1.0)\n",
    "grad_u0 = np.gradient(u[0], dx)\n",
    "grad_u1 = np.gradient(u[1], dx)\n",
    "vorticity = (grad_u1[0] - grad_u0[1])\n",
    "plt.imshow(vorticity.transpose(), cmap='Spectral')\n",
    "plt.colorbar()\n",
    "plt.title('Vorticity after simulation')\n",
    "plt.show()"
   ],
   "outputs": [
    {
     "ename": "NameError",
     "evalue": "name 'flow' is not defined",
     "output_type": "error",
     "traceback": [
      "\u001B[0;31m---------------------------------------------------------------------------\u001B[0m",
      "\u001B[0;31mNameError\u001B[0m                                 Traceback (most recent call last)",
      "Cell \u001B[0;32mIn[6], line 1\u001B[0m\n\u001B[0;32m----> 1\u001B[0m dx \u001B[38;5;241m=\u001B[39m \u001B[43mflow\u001B[49m\u001B[38;5;241m.\u001B[39munits\u001B[38;5;241m.\u001B[39mconvert_length_to_pu(\u001B[38;5;241m1.0\u001B[39m)\n\u001B[1;32m      2\u001B[0m grad_u0 \u001B[38;5;241m=\u001B[39m np\u001B[38;5;241m.\u001B[39mgradient(u[\u001B[38;5;241m0\u001B[39m], dx)\n\u001B[1;32m      3\u001B[0m grad_u1 \u001B[38;5;241m=\u001B[39m np\u001B[38;5;241m.\u001B[39mgradient(u[\u001B[38;5;241m1\u001B[39m], dx)\n",
      "\u001B[0;31mNameError\u001B[0m: name 'flow' is not defined"
     ]
    }
   ],
   "execution_count": 6
  },
  {
   "cell_type": "code",
   "metadata": {},
   "source": [],
   "outputs": [],
   "execution_count": null
  }
 ],
 "metadata": {
  "kernelspec": {
   "display_name": "Python 3",
   "language": "python",
   "name": "python3"
  },
  "language_info": {
   "codemirror_mode": {
    "name": "ipython",
    "version": 3
   },
   "file_extension": ".py",
   "mimetype": "text/x-python",
   "name": "python",
   "nbconvert_exporter": "python",
   "pygments_lexer": "ipython3",
   "version": "3.7.3"
  }
 },
 "nbformat": 4,
 "nbformat_minor": 4
}
