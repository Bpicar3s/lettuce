{
 "cells": [
  {
   "cell_type": "code",
   "execution_count": 1,
   "metadata": {
    "collapsed": true,
    "ExecuteTime": {
     "end_time": "2025-06-13T13:15:59.591721174Z",
     "start_time": "2025-06-13T13:15:58.388734695Z"
    }
   },
   "outputs": [],
   "source": [
    "import numpy as np\n",
    "import matplotlib.pyplot as plt\n",
    "import torch\n",
    "import lettuce as lt\n",
    "from lettuce import D3Q27, Lattice, UnitConversion, BGKCollision, StandardStreaming, Simulation, IncompressibleKineticEnergy, WallQuantities, SimulationHWBB\n",
    "from argparse import ArgumentParser, ArgumentDefaultsHelpFormatter\n",
    "import csv"
   ]
  },
  {
   "cell_type": "code",
   "execution_count": 2,
   "outputs": [
    {
     "name": "stdout",
     "output_type": "stream",
     "text": [
      "ICH FUNKTIONIERE MIT PULLEN\n"
     ]
    }
   ],
   "source": [
    "from argparse import ArgumentParser, ArgumentDefaultsHelpFormatter\n",
    "import numpy as np\n",
    "import torch\n",
    "\n",
    "parser = ArgumentParser(formatter_class=ArgumentDefaultsHelpFormatter)\n",
    "parser.add_argument(\"--vtkdir\", type=str, default=\"./output/\")\n",
    "parser.add_argument(\"--csvdir\", type=str, default=\"./output/\")\n",
    "parser.add_argument(\"--nout\", type=int, default=100)\n",
    "parser.add_argument(\"--nvtk\", type=int, default=100)\n",
    "parser.add_argument(\"--tmax\", type=int, default=1)\n",
    "parser.add_argument(\"--Re\", type=int, default=10000)\n",
    "parser.add_argument(\"--collision_operator\", type=str, default=\"Smag\")\n",
    "parser.add_argument(\"--Precision\", type=str, default=\"Single\")\n",
    "parser.add_argument(\"--Mach\", type=float, default=0.1)\n",
    "parser.add_argument(\"--h\", type=int, default=20, help=\"Halbe Kanalhöhe in LU\")\n",
    "parser.add_argument(\"--bbtype\", type=str, default=\"wallfunction\", choices=[\"halfway\", \"fullway\", \"Wallfunction\", \"freeslip\"],\n",
    "                    help=\"Typ der Bounce-Back-Randbedingung\")\n",
    "\n",
    "args, unknown = parser.parse_known_args()\n",
    "args = vars(args)\n",
    "\n",
    "print(\"ICH FUNKTIONIERE MIT PULLEN\")\n",
    "\n",
    "\n",
    "\n",
    "# Einheiten und Auflösung\n",
    "h = args[\"h\"]                      # Kanalhalbhöhe in LU\n",
    "res_y = 2 * h                     # y: volle Kanalhöhe\n",
    "res_x = int(2*np.pi * h)\n",
    "res_z = int(np.pi * h)\n",
    "\n",
    "# Restliche Parameter\n",
    "Re = args[\"Re\"]\n",
    "basedir = args[\"vtkdir\"]\n",
    "csvdir = args[\"csvdir\"]\n",
    "nout = args[\"nout\"]\n",
    "nvtk = args[\"nvtk\"]\n",
    "tmax = args[\"tmax\"]\n",
    "Precision = args[\"Precision\"]\n",
    "collision_operator = args[\"collision_operator\"]\n",
    "Mach = args[\"Mach\"]\n",
    "bbtype = args[\"bbtype\"]\n",
    "# Präzision\n",
    "if Precision == \"Single\":\n",
    "    dtype = torch.float32\n",
    "elif Precision == \"Double\":\n",
    "    dtype = torch.float64\n",
    "elif Precision == \"Half\":\n",
    "    dtype = torch.float16\n",
    "\n",
    "# Beispielhafte Kraft für Guo-Force\n",
    "acceleration = np.array([1e-7, 0.0, 0.0])\n"
   ],
   "metadata": {
    "collapsed": false,
    "ExecuteTime": {
     "end_time": "2025-06-13T13:15:59.604163958Z",
     "start_time": "2025-06-13T13:15:59.592121404Z"
    }
   }
  },
  {
   "cell_type": "code",
   "execution_count": 3,
   "outputs": [
    {
     "name": "stdout",
     "output_type": "stream",
     "text": [
      "CUDA ist verfügbar. Verwende GPU.\n",
      "steps     time     IncompressibleKineticEnergy\n",
      "steps     time     WallQuantities\n",
      "[WallQuantities] Avg Re_tau_bottom: 68.68, y+_bottom: 3.43\n",
      "[WallQuantities] Avg Re_tau_top:    68.55, y+_top:    3.43\n",
      "[WallQuantities] Avg Re_tau_bottom: 57.79, y+_bottom: 2.89\n",
      "[WallQuantities] Avg Re_tau_top:    57.81, y+_top:    2.89\n",
      "[WallQuantities] Avg Re_tau_bottom: 57.01, y+_bottom: 2.85\n",
      "[WallQuantities] Avg Re_tau_top:    57.07, y+_top:    2.85\n",
      "[WallQuantities] Avg Re_tau_bottom: 56.88, y+_bottom: 2.84\n",
      "[WallQuantities] Avg Re_tau_top:    56.84, y+_top:    2.84\n",
      "[WallQuantities] Avg Re_tau_bottom: 56.39, y+_bottom: 2.82\n",
      "[WallQuantities] Avg Re_tau_top:    56.39, y+_top:    2.82\n"
     ]
    },
    {
     "ename": "KeyboardInterrupt",
     "evalue": "",
     "output_type": "error",
     "traceback": [
      "\u001B[0;31m---------------------------------------------------------------------------\u001B[0m",
      "\u001B[0;31mKeyboardInterrupt\u001B[0m                         Traceback (most recent call last)",
      "Cell \u001B[0;32mIn[3], line 80\u001B[0m\n\u001B[1;32m     73\u001B[0m vtk_reporter \u001B[38;5;241m=\u001B[39m lt\u001B[38;5;241m.\u001B[39mVTKReporter(\n\u001B[1;32m     74\u001B[0m     lattice\u001B[38;5;241m=\u001B[39mlattice,\n\u001B[1;32m     75\u001B[0m     flow\u001B[38;5;241m=\u001B[39mflow,\n\u001B[1;32m     76\u001B[0m     interval\u001B[38;5;241m=\u001B[39m\u001B[38;5;28mint\u001B[39m(steps\u001B[38;5;241m/\u001B[39m\u001B[38;5;241m100\u001B[39m),                    \u001B[38;5;66;03m# alle 100 Zeitschritte ein VTK-Frame\u001B[39;00m\n\u001B[1;32m     77\u001B[0m     filename_base\u001B[38;5;241m=\u001B[39mbasedir \u001B[38;5;241m+\u001B[39m \u001B[38;5;124m\"\u001B[39m\u001B[38;5;124m/output\u001B[39m\u001B[38;5;124m\"\u001B[39m \u001B[38;5;66;03m# Basisname der Dateien\u001B[39;00m\n\u001B[1;32m     78\u001B[0m )\n\u001B[1;32m     79\u001B[0m simulation\u001B[38;5;241m.\u001B[39mreporters\u001B[38;5;241m.\u001B[39mappend(vtk_reporter)\n\u001B[0;32m---> 80\u001B[0m mlups \u001B[38;5;241m=\u001B[39m \u001B[43msimulation\u001B[49m\u001B[38;5;241;43m.\u001B[39;49m\u001B[43mstep\u001B[49m\u001B[43m(\u001B[49m\u001B[43mnum_steps\u001B[49m\u001B[38;5;241;43m=\u001B[39;49m\u001B[43msteps\u001B[49m\u001B[43m)\u001B[49m\n\u001B[1;32m     82\u001B[0m wq \u001B[38;5;241m=\u001B[39m np\u001B[38;5;241m.\u001B[39marray(simulation\u001B[38;5;241m.\u001B[39mreporters[\u001B[38;5;241m1\u001B[39m]\u001B[38;5;241m.\u001B[39mout)\n\u001B[1;32m     83\u001B[0m Energy \u001B[38;5;241m=\u001B[39m np\u001B[38;5;241m.\u001B[39marray(simulation\u001B[38;5;241m.\u001B[39mreporters[\u001B[38;5;241m0\u001B[39m]\u001B[38;5;241m.\u001B[39mout)\n",
      "File \u001B[0;32m~/lettuce/lettuce/simulation.py:84\u001B[0m, in \u001B[0;36mSimulation.step\u001B[0;34m(self, num_steps)\u001B[0m\n\u001B[1;32m     81\u001B[0m     \u001B[38;5;28mself\u001B[39m\u001B[38;5;241m.\u001B[39mf \u001B[38;5;241m=\u001B[39m torch\u001B[38;5;241m.\u001B[39mwhere(\u001B[38;5;28mself\u001B[39m\u001B[38;5;241m.\u001B[39mno_collision_mask, \u001B[38;5;28mself\u001B[39m\u001B[38;5;241m.\u001B[39mf, \u001B[38;5;28mself\u001B[39m\u001B[38;5;241m.\u001B[39mcollision(\u001B[38;5;28mself\u001B[39m\u001B[38;5;241m.\u001B[39mf))\n\u001B[1;32m     83\u001B[0m     \u001B[38;5;28;01mfor\u001B[39;00m boundary \u001B[38;5;129;01min\u001B[39;00m \u001B[38;5;28mself\u001B[39m\u001B[38;5;241m.\u001B[39m_boundaries:\n\u001B[0;32m---> 84\u001B[0m         \u001B[38;5;28mself\u001B[39m\u001B[38;5;241m.\u001B[39mf \u001B[38;5;241m=\u001B[39m \u001B[43mboundary\u001B[49m\u001B[43m(\u001B[49m\u001B[38;5;28;43mself\u001B[39;49m\u001B[38;5;241;43m.\u001B[39;49m\u001B[43mf\u001B[49m\u001B[43m)\u001B[49m\n\u001B[1;32m     86\u001B[0m     \u001B[38;5;28mself\u001B[39m\u001B[38;5;241m.\u001B[39m_report()\n\u001B[1;32m     90\u001B[0m end \u001B[38;5;241m=\u001B[39m timer()\n",
      "File \u001B[0;32m~/lettuce/lettuce/boundary.py:685\u001B[0m, in \u001B[0;36mWallFunctionBoundary.__call__\u001B[0;34m(self, f)\u001B[0m\n\u001B[1;32m    680\u001B[0m u_tau_active_flat \u001B[38;5;241m=\u001B[39m torch\u001B[38;5;241m.\u001B[39msqrt(torch\u001B[38;5;241m.\u001B[39mabs(effective_viscosity_for_wf_flat \u001B[38;5;241m*\u001B[39m calculated_du_dy_values_flat))\n\u001B[1;32m    682\u001B[0m \u001B[38;5;66;03m# 5. Berechne den dimensionslosen Wandabstand (y_plus)\u001B[39;00m\n\u001B[1;32m    683\u001B[0m \u001B[38;5;66;03m# HIER BEHEBUNG von FEHLER 4: y_plus verwendet jetzt effective_viscosity_for_wf_flat\u001B[39;00m\n\u001B[1;32m    684\u001B[0m effective_viscosity_for_wf_flat \u001B[38;5;241m=\u001B[39m torch\u001B[38;5;241m.\u001B[39mwhere(effective_viscosity_for_wf_flat \u001B[38;5;241m<\u001B[39m \u001B[38;5;241m1e-10\u001B[39m,\n\u001B[0;32m--> 685\u001B[0m                                               \u001B[43mtorch\u001B[49m\u001B[38;5;241;43m.\u001B[39;49m\u001B[43mtensor\u001B[49m\u001B[43m(\u001B[49m\u001B[38;5;241;43m1e-10\u001B[39;49m\u001B[43m,\u001B[49m\u001B[43m \u001B[49m\u001B[43mdevice\u001B[49m\u001B[38;5;241;43m=\u001B[39;49m\u001B[43meffective_viscosity_for_wf_flat\u001B[49m\u001B[38;5;241;43m.\u001B[39;49m\u001B[43mdevice\u001B[49m\u001B[43m,\u001B[49m\n\u001B[1;32m    686\u001B[0m \u001B[43m                                                           \u001B[49m\u001B[43mdtype\u001B[49m\u001B[38;5;241;43m=\u001B[39;49m\u001B[43meffective_viscosity_for_wf_flat\u001B[49m\u001B[38;5;241;43m.\u001B[39;49m\u001B[43mdtype\u001B[49m\u001B[43m)\u001B[49m,\n\u001B[1;32m    687\u001B[0m                                               effective_viscosity_for_wf_flat)\n\u001B[1;32m    688\u001B[0m y_plus_active_flat \u001B[38;5;241m=\u001B[39m (\u001B[38;5;28mself\u001B[39m\u001B[38;5;241m.\u001B[39my_lattice \u001B[38;5;241m*\u001B[39m u_tau_active_flat) \u001B[38;5;241m/\u001B[39m effective_viscosity_for_wf_flat\n\u001B[1;32m    690\u001B[0m \u001B[38;5;66;03m# 6. Wende das Spalding-Gesetz an, um den Ziel-u+ zu erhalten\u001B[39;00m\n",
      "\u001B[0;31mKeyboardInterrupt\u001B[0m: "
     ]
    }
   ],
   "source": [
    "# Überprüfen, ob CUDA verfügbar ist\n",
    "if torch.cuda.is_available():\n",
    "    device = \"cuda\"\n",
    "    print(\"CUDA ist verfügbar. Verwende GPU.\")\n",
    "else:\n",
    "    device = \"cpu\"\n",
    "    print(\"CUDA ist nicht verfügbar. Verwende CPU.\")\n",
    "\n",
    "# Dann kannst du das Lattice entsprechend initialisieren\n",
    "lattice = Lattice(D3Q27, device=device, dtype=dtype)\n",
    "\n",
    "flow = lt.ChannelFlow3D(\n",
    "    resolution_x=res_x,\n",
    "    resolution_y=res_y,\n",
    "    resolution_z =res_z,\n",
    "    reynolds_number=Re,\n",
    "    mach_number=Mach,\n",
    "    lattice=lattice,\n",
    "    char_length_lu=res_y,\n",
    "    boundary = bbtype\n",
    ")\n",
    "\n",
    "# --- 🧱 Wände definieren ---\n",
    "x, y, z = flow.grid  # physikalische Gitterkoordinaten\n",
    "\n",
    "# y in LU umrechnen (nur nötig, falls du nach physikalischen Einheiten schneiden willst)\n",
    "# Hier reicht aber die Indexierung direkt, da wir die äußersten Zeilen meinen:\n",
    "mask = np.zeros((res_x, res_y, res_z), dtype=bool)\n",
    "mask[:, 0, :] = True         # untere Wand (y = 0)\n",
    "mask[:, -1, :] = True        # obere Wand (y = max)\n",
    "flow.mask = mask\n",
    "\n",
    "# --- 🌀 Forcing (Guo) ---\n",
    "from lettuce.force import Guo  # dein Guo-Code\n",
    "forcing = Guo(lattice, tau=flow.units.relaxation_parameter_lu, acceleration=acceleration)\n",
    "\n",
    "# --- 🔁 Setup Simulation ---\n",
    "if collision_operator == \"BGK\":\n",
    "    collision=lt.BGKCollision(lattice, tau=flow.units.relaxation_parameter_lu, force=forcing)\n",
    "elif collision_operator == \"KBC\":\n",
    "    collision=lt.KBCCollision3D(lattice, tau=flow.units.relaxation_parameter_lu, force = forcing)\n",
    "elif collision_operator == \"Smag\":\n",
    "    collision=lt.SmagorinskyCollision(lattice, tau=flow.units.relaxation_parameter_lu)\n",
    "\n",
    "if args[\"bbtype\"] == \"halfway\":\n",
    "    from lettuce.boundary import HalfwayBounceBackBoundary\n",
    "    boundary = HalfwayBounceBackBoundary(mask, lattice)\n",
    "    simulation_class = SimulationHWBB\n",
    "    dy_lu = 0.5  # Mitte zwischen Wand und 1. Zellzentrum\n",
    "else:\n",
    "    simulation_class = Simulation  # normale Basisklasse\n",
    "    dy_lu = 1.0  # Abstand zwischen Wandzentrum und Zellzentrum\n",
    "\n",
    "\n",
    "\n",
    "\n",
    "streaming = StandardStreaming(lattice)\n",
    "simulation = simulation_class(flow=flow, lattice=lattice, collision=collision, streaming=streaming)\n",
    "\n",
    "# --- 📊 Beobachter ---\n",
    "Energy = IncompressibleKineticEnergy(lattice, flow)\n",
    "reporter = lt.ObservableReporter(Energy, interval=100, out=None)\n",
    "simulation.reporters.append(reporter)\n",
    "\n",
    "wq = WallQuantities(lattice,flow,averaging_steps = 1)\n",
    "reporter2 = lt.ObservableReporter(wq, interval=100, out=None)\n",
    "simulation.reporters.append(reporter2)\n",
    "\n",
    "simulation.initialize_f_neq\n",
    "\n",
    "# --- ▶️ Simulation starten ---\n",
    "steps = int(flow.units.convert_time_to_lu(tmax))  # z.B. 5 Sekunden\n",
    "vtk_reporter = lt.VTKReporter(\n",
    "    lattice=lattice,\n",
    "    flow=flow,\n",
    "    interval=int(steps/100),                    # alle 100 Zeitschritte ein VTK-Frame\n",
    "    filename_base=basedir + \"/output\" # Basisname der Dateien\n",
    ")\n",
    "simulation.reporters.append(vtk_reporter)\n",
    "mlups = simulation.step(num_steps=steps)\n",
    "\n",
    "wq = np.array(simulation.reporters[1].out)\n",
    "Energy = np.array(simulation.reporters[0].out)\n",
    "\n",
    "with open(csvdir + 'Energy.csv', 'w', newline='') as file:\n",
    "    writer = csv.writer(file)\n",
    "    writer.writerows(Energy)\n",
    "with open(csvdir + 'WallQuantities.csv', 'w', newline='') as file:\n",
    "    writer = csv.writer(file)\n",
    "    writer.writerows(wq)"
   ],
   "metadata": {
    "collapsed": false,
    "ExecuteTime": {
     "end_time": "2025-06-13T13:16:16.347135238Z",
     "start_time": "2025-06-13T13:15:59.592318382Z"
    }
   }
  },
  {
   "cell_type": "code",
   "execution_count": null,
   "outputs": [],
   "source": [
    "import matplotlib.pyplot as plt\n",
    "import numpy as np\n",
    "\n",
    "# Beispiel: Daten laden\n",
    "data = wq\n",
    "time = data[:, 1]\n",
    "re_tau_bottom = data[:, 2]\n",
    "y_plus_bottom = data[:, 3]\n",
    "re_tau_top = data[:, 4]\n",
    "y_plus_top = data[:, 5]\n",
    "\n",
    "plt.figure()\n",
    "plt.plot(time, re_tau_bottom, label=\"Re_tau (bottom)\")\n",
    "plt.plot(time, re_tau_top, label=\"Re_tau (top)\")\n",
    "plt.xlabel(\"Zeit\")\n",
    "plt.ylabel(\"Re_tau\")\n",
    "plt.legend()\n",
    "plt.grid()\n",
    "plt.title(\"Re_tau über die Zeit\")\n",
    "plt.show()\n",
    "\n",
    "plt.figure()\n",
    "plt.plot(time, y_plus_bottom, label=\"y⁺ (bottom)\")\n",
    "plt.plot(time, y_plus_top, label=\"y⁺ (top)\")\n",
    "plt.xlabel(\"Zeit\")\n",
    "plt.ylabel(\"y⁺\")\n",
    "plt.legend()\n",
    "plt.grid()\n",
    "plt.title(\"y⁺ über die Zeit\")\n",
    "plt.show()\n"
   ],
   "metadata": {
    "collapsed": false
   }
  },
  {
   "cell_type": "code",
   "execution_count": null,
   "outputs": [],
   "source": [],
   "metadata": {
    "collapsed": false
   }
  }
 ],
 "metadata": {
  "kernelspec": {
   "display_name": "Python 3",
   "language": "python",
   "name": "python3"
  },
  "language_info": {
   "codemirror_mode": {
    "name": "ipython",
    "version": 2
   },
   "file_extension": ".py",
   "mimetype": "text/x-python",
   "name": "python",
   "nbconvert_exporter": "python",
   "pygments_lexer": "ipython2",
   "version": "2.7.6"
  }
 },
 "nbformat": 4,
 "nbformat_minor": 0
}
