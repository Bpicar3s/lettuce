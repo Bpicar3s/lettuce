{
 "cells": [
  {
   "cell_type": "code",
   "execution_count": 1,
   "metadata": {
    "collapsed": true,
    "ExecuteTime": {
     "end_time": "2025-06-17T18:20:06.352175490Z",
     "start_time": "2025-06-17T18:20:05.367050640Z"
    }
   },
   "outputs": [],
   "source": [
    "import numpy as np\n",
    "import matplotlib.pyplot as plt\n",
    "import torch\n",
    "\n",
    "import lettuce\n",
    "import lettuce as lt\n",
    "from lettuce import D3Q19, Lattice, UnitConversion, BGKCollision, StandardStreaming, Simulation, IncompressibleKineticEnergy, WallQuantities, SimulationHWBB, GlobalMeanUXReporter, AdaptiveForce\n",
    "from argparse import ArgumentParser, ArgumentDefaultsHelpFormatter\n",
    "import csv"
   ]
  },
  {
   "cell_type": "code",
   "execution_count": 2,
   "outputs": [
    {
     "name": "stdout",
     "output_type": "stream",
     "text": [
      "ICH FUNKTIONIERE MIT PULLEN\n"
     ]
    }
   ],
   "source": [
    "from argparse import ArgumentParser, ArgumentDefaultsHelpFormatter\n",
    "import numpy as np\n",
    "import torch\n",
    "\n",
    "parser = ArgumentParser(formatter_class=ArgumentDefaultsHelpFormatter)\n",
    "parser.add_argument(\"--vtkdir\", type=str, default=\"./output/\")\n",
    "parser.add_argument(\"--csvdir\", type=str, default=\"./output/\")\n",
    "parser.add_argument(\"--nout\", type=int, default=100)\n",
    "parser.add_argument(\"--nvtk\", type=int, default=100)\n",
    "parser.add_argument(\"--tmax\", type=int, default=2)\n",
    "parser.add_argument(\"--Re\", type=int, default=13800)\n",
    "parser.add_argument(\"--collision_operator\", type=str, default=\"Smag\")\n",
    "parser.add_argument(\"--Precision\", type=str, default=\"Double\")\n",
    "parser.add_argument(\"--Mach\", type=float, default=0.1)\n",
    "parser.add_argument(\"--h\", type=int, default=20, help=\"Halbe Kanalhöhe in LU\")\n",
    "parser.add_argument(\"--bbtype\", type=str, default=\"wallfunction\", choices=[\"halfway\", \"fullway\", \"wallfunction\", \"freeslip\"],\n",
    "                    help=\"Typ der Bounce-Back-Randbedingung\")\n",
    "\n",
    "args, unknown = parser.parse_known_args()\n",
    "args = vars(args)\n",
    "\n",
    "print(\"ICH FUNKTIONIERE MIT PULLEN\")\n",
    "\n",
    "\n",
    "\n",
    "# Einheiten und Auflösung\n",
    "h = args[\"h\"]                      # Kanalhalbhöhe in LU\n",
    "res_y = 2 * h                     # y: volle Kanalhöhe\n",
    "res_x = int(2*np.pi * h)\n",
    "res_z = int(np.pi * h)\n",
    "\n",
    "# Restliche Parameter\n",
    "Re = args[\"Re\"]\n",
    "basedir = args[\"vtkdir\"]\n",
    "csvdir = args[\"csvdir\"]\n",
    "nout = args[\"nout\"]\n",
    "nvtk = args[\"nvtk\"]\n",
    "tmax = args[\"tmax\"]\n",
    "Precision = args[\"Precision\"]\n",
    "collision_operator = args[\"collision_operator\"]\n",
    "Mach = args[\"Mach\"]\n",
    "bbtype = args[\"bbtype\"]\n",
    "# Präzision\n",
    "if Precision == \"Single\":\n",
    "    dtype = torch.float32\n",
    "elif Precision == \"Double\":\n",
    "    dtype = torch.float64\n",
    "elif Precision == \"Half\":\n",
    "    dtype = torch.float16\n",
    "\n",
    "\n",
    "Re_tau = 180\n",
    "\n",
    "smagorinsky_constant = 0.17\n",
    "\n",
    "delta_x = 1.0"
   ],
   "metadata": {
    "collapsed": false,
    "ExecuteTime": {
     "end_time": "2025-06-17T18:20:06.359777708Z",
     "start_time": "2025-06-17T18:20:06.357113008Z"
    }
   }
  },
  {
   "cell_type": "code",
   "execution_count": null,
   "outputs": [
    {
     "name": "stdout",
     "output_type": "stream",
     "text": [
      "CUDA ist nicht verfügbar. Verwende CPU.\n"
     ]
    },
    {
     "name": "stderr",
     "output_type": "stream",
     "text": [
      "/home/ben/anaconda3/envs/lettuce/lib/python3.11/site-packages/torch/cuda/__init__.py:138: UserWarning: CUDA initialization: CUDA unknown error - this may be due to an incorrectly set up environment, e.g. changing env variable CUDA_VISIBLE_DEVICES after program start. Setting the available devices to be zero. (Triggered internally at /opt/conda/conda-bld/pytorch_1695392035891/work/c10/cuda/CUDAFunctions.cpp:108.)\n",
      "  return torch._C._cuda_getDeviceCount() > 0\n"
     ]
    },
    {
     "name": "stdout",
     "output_type": "stream",
     "text": [
      "steps     time     GlobalMeanUXReporter\n",
      "steps     time     WallQuantities\n",
      "steps     time     WallQuantities\n",
      "steps     time     IncompressibleKineticEnergy\n",
      "Starte Simulation für 1385 Schritte auf cpu...\n"
     ]
    }
   ],
   "source": [
    "if torch.cuda.is_available():\n",
    "    device = \"cuda\"\n",
    "    print(\"CUDA ist verfügbar. Verwende GPU.\")\n",
    "else:\n",
    "    device = \"cpu\"\n",
    "    print(\"CUDA ist nicht verfügbar. Verwende CPU.\")\n",
    "\n",
    "dtype = torch.float64 # Für Stabilität bei hohen Re\n",
    "\n",
    "# --- 🧱 Lattice & Flow Initialisierung ---\n",
    "# D3Q19() muss instanziiert werden. Lattice bekommt die Instanz.\n",
    "lattice = Lattice(D3Q19(), device=device, dtype=dtype)\n",
    "\n",
    "flow = lettuce.ChannelFlow3DV2(\n",
    "    resolution_x=res_x,\n",
    "    resolution_y=res_y,\n",
    "    resolution_z=res_z,\n",
    "    reynolds_number=Re, # Re_bulk\n",
    "    mach_number=Mach, # Physikalische Mach-Zahl\n",
    "    lattice=lattice,\n",
    "    char_length_lu=res_y, # Charakteristische Länge in LU ist gesamte Höhe 2H\n",
    "    boundary=bbtype # Signalisiert dem flow.boundaries, welche Boundary-Art erstellt wird\n",
    ")\n",
    "\n",
    "# --- NEUE KOMPONENTEN FÜR ADAPTIVES FORCING ---\n",
    "\n",
    "# 1. Reporter, die die benötigten Mittelwerte liefern\n",
    "# Diese Reporter müssen die Werte als zugängliche Attribute speichern (z.B. self.last_u_tau_spatial_mean)\n",
    "# Stellen Sie sicher, dass Ihre WallQuantities.__call__ diese Attribute setzt.\n",
    "# Beispiel für WallQuantities.__call__ Erweiterung:\n",
    "# class WallQuantities(...):\n",
    "#     # ...\n",
    "#     def __call__(self, f):\n",
    "#         # ... (alle Berechnungen von u_tau_current) ...\n",
    "#         self.last_u_tau_spatial_mean = torch.mean(u_tau_current).item() # HIER HINZUFÜGEN\n",
    "#         # ... return torch.zeros(4,...)\n",
    "\n",
    "wq_bottom = WallQuantities(\n",
    "    lattice=lattice, flow=flow, averaging_steps=1, # averaging_steps=1 für fast instantane Werte\n",
    "    distance_to_wall=1.0, # Für Fullway BB\n",
    "    smagorinsky_constant=smagorinsky_constant, delta_x=delta_x, normal_axis=1, wall='bottom'\n",
    ")\n",
    "wq_top = WallQuantities(\n",
    "    lattice=lattice, flow=flow, averaging_steps=1, # averaging_steps=1 für fast instantane Werte\n",
    "    distance_to_wall=1.0, # Für Fullway BB\n",
    "    smagorinsky_constant=smagorinsky_constant, delta_x=delta_x, normal_axis=1, wall='top'\n",
    ")\n",
    "\n",
    "# Globaler Reporter für mittlere U_x über die Domäne\n",
    "global_mean_ux_reporter = GlobalMeanUXReporter(lattice, flow)\n",
    "\n",
    "\n",
    "# 2. AdaptiveForce Klasse initialisieren\n",
    "# Sie braucht die Reporter, um die Werte zu bekommen.\n",
    "# target_u_m_pu kommt aus Paper Tabelle 2: 1.0 m/s\n",
    "adaptive_force_instance = AdaptiveForce(\n",
    "    lattice=lattice,\n",
    "    flow=flow,\n",
    "    target_u_m_lu=flow.units.convert_velocity_to_lu(1.0),\n",
    "    wall_quantities_bottom_reporter=wq_bottom,\n",
    "    wall_quantities_top_reporter=wq_top,\n",
    "    global_ux_reporter=global_mean_ux_reporter,\n",
    "    base_lbm_tau_lu = flow.units.relaxation_parameter_lu\n",
    ")\n",
    "\n",
    "\n",
    "# --- 3. Kollisionsmodell mit dem adaptiven Forcing initialisieren ---\n",
    "# Der 'force'-Parameter der SmagorinskyCollision erwartet ein Force-Objekt.\n",
    "collision = lettuce.SmagorinskyCollision(lattice, tau=flow.units.relaxation_parameter_lu, force=adaptive_force_instance)\n",
    "\n",
    "\n",
    "# --- Simulation Setup ---\n",
    "streaming = StandardStreaming(lattice)\n",
    "simulation = Simulation(flow=flow, lattice=lattice, collision=collision, streaming=streaming)\n",
    "\n",
    "\n",
    "# --- 📊 Reporter zur Simulation hinzufügen ---\n",
    "# Die Reporter, die als Input für AdaptiveForce dienen, MÜSSEN vor dem AdaptiveForce-Aufruf in der Simulationsschleife aktualisiert werden.\n",
    "# Lettuce ruft die Reporter VOR den Boundaries und der Kollision auf, wenn sie als Simulation-Reporter hinzugefügt werden.\n",
    "# Es ist wichtig, dass GlobalMeanUXReporter und WallQuantities zuerst in der Liste der Reporter stehen,\n",
    "# damit ihre 'last_...' Attribute aktualisiert werden, bevor AdaptiveForce in collision(f) aufgerufen wird.\n",
    "simulation.reporters.append(lt.ObservableReporter(global_mean_ux_reporter, interval=1, out=None))\n",
    "simulation.reporters.append(lt.ObservableReporter(wq_bottom, interval=1, out=None))\n",
    "simulation.reporters.append(lt.ObservableReporter(wq_top, interval=1, out=None))\n",
    "\n",
    "# Andere Reporter\n",
    "# Energy Reporter\n",
    "simulation.reporters.append(lt.ObservableReporter(lt.observables.IncompressibleKineticEnergy(lattice, flow), interval=100, out=None))\n",
    "# VTK Reporter\n",
    "\n",
    "steps = int(flow.units.convert_time_to_lu(tmax))\n",
    "\n",
    "\n",
    "vtk_reporter = lt.VTKReporter(\n",
    "    lattice=lattice, flow=flow, interval=max(1,int(steps/100)), filename_base=basedir + \"/output\"\n",
    ")\n",
    "simulation.reporters.append(vtk_reporter)\n",
    "\n",
    "\n",
    "# --- Simulation starten ---\n",
    "# Die Methode initialize_f_neq sollte nach der Initialisierung von Lattice und Flow aufgerufen werden,\n",
    "# um f mit dem initialen Geschwindigkeits- und Druckfeld zu füllen.\n",
    "simulation.initialize_f_neq() # Initialisiert f in simulation.f\n",
    "\n",
    "print(f\"Starte Simulation für {steps} Schritte auf {device}...\")\n",
    "mlups = simulation.step(num_steps=steps)\n",
    "print(f\"Simulation beendet. MLUPS: {mlups}\")\n",
    "wq_top = np.array(simulation.reporters[2].out)\n",
    "wq_bottom = np.array(simulation.reporters[1].out)\n",
    "ux_mean = np.array(simulation.reporters[0].out)\n",
    "\n",
    "with open(csvdir + 'uxmean.csv', 'w', newline='') as file:\n",
    "    writer = csv.writer(file)\n",
    "    writer.writerows(ux_mean)\n",
    "with open(csvdir + 'WallQuantitiesTop.csv', 'w', newline='') as file:\n",
    "    writer = csv.writer(file)\n",
    "    writer.writerows(wq_top)\n",
    "with open(csvdir + 'WallQuantitiesBottom.csv', 'w', newline='') as file:\n",
    "    writer = csv.writer(file)\n",
    "    writer.writerows(wq_bottom)"
   ],
   "metadata": {
    "collapsed": false,
    "is_executing": true,
    "ExecuteTime": {
     "start_time": "2025-06-17T18:20:07.543165294Z"
    }
   }
  },
  {
   "cell_type": "code",
   "execution_count": null,
   "outputs": [],
   "source": [],
   "metadata": {
    "collapsed": false,
    "is_executing": true
   }
  },
  {
   "cell_type": "code",
   "execution_count": null,
   "outputs": [],
   "source": [
    "import matplotlib.pyplot as plt\n",
    "import numpy as np\n",
    "\n",
    "# Beispiel: Daten laden\n",
    "data = wq\n",
    "time = data[:, 1]\n",
    "re_tau_bottom = data[:, 2]\n",
    "y_plus_bottom = data[:, 3]\n",
    "re_tau_top = data[:, 4]\n",
    "y_plus_top = data[:, 5]\n",
    "\n",
    "plt.figure()\n",
    "plt.plot(time, re_tau_bottom, label=\"Re_tau (bottom)\")\n",
    "plt.plot(time, re_tau_top, label=\"Re_tau (top)\")\n",
    "plt.xlabel(\"Zeit\")\n",
    "plt.ylabel(\"Re_tau\")\n",
    "plt.legend()\n",
    "plt.grid()\n",
    "plt.title(\"Re_tau über die Zeit\")\n",
    "plt.show()\n",
    "\n",
    "plt.figure()\n",
    "plt.plot(time, y_plus_bottom, label=\"y⁺ (bottom)\")\n",
    "plt.plot(time, y_plus_top, label=\"y⁺ (top)\")\n",
    "plt.xlabel(\"Zeit\")\n",
    "plt.ylabel(\"y⁺\")\n",
    "plt.legend()\n",
    "plt.grid()\n",
    "plt.title(\"y⁺ über die Zeit\")\n",
    "plt.show()\n"
   ],
   "metadata": {
    "collapsed": false,
    "is_executing": true
   }
  },
  {
   "cell_type": "code",
   "execution_count": null,
   "outputs": [],
   "source": [],
   "metadata": {
    "collapsed": false,
    "is_executing": true
   }
  }
 ],
 "metadata": {
  "kernelspec": {
   "display_name": "Python 3",
   "language": "python",
   "name": "python3"
  },
  "language_info": {
   "codemirror_mode": {
    "name": "ipython",
    "version": 2
   },
   "file_extension": ".py",
   "mimetype": "text/x-python",
   "name": "python",
   "nbconvert_exporter": "python",
   "pygments_lexer": "ipython2",
   "version": "2.7.6"
  }
 },
 "nbformat": 4,
 "nbformat_minor": 0
}
