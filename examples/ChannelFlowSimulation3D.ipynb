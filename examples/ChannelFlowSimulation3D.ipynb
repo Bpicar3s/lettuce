{
 "cells": [
  {
   "cell_type": "code",
   "execution_count": 1,
   "metadata": {
    "collapsed": true,
    "ExecuteTime": {
     "end_time": "2025-05-28T11:00:44.633267871Z",
     "start_time": "2025-05-28T11:00:43.565178623Z"
    }
   },
   "outputs": [],
   "source": [
    "import numpy as np\n",
    "import matplotlib.pyplot as plt\n",
    "import torch\n",
    "import lettuce as lt\n",
    "from lettuce import D3Q27, Lattice, UnitConversion, BGKCollision, StandardStreaming, Simulation, IncompressibleKineticEnergy, WallQuantities, SimulationHWBB\n",
    "from argparse import ArgumentParser, ArgumentDefaultsHelpFormatter\n",
    "import csv"
   ]
  },
  {
   "cell_type": "code",
   "execution_count": 2,
   "outputs": [
    {
     "name": "stdout",
     "output_type": "stream",
     "text": [
      "ICH FUNKTIONIERE MIT PULLEN\n"
     ]
    }
   ],
   "source": [
    "from argparse import ArgumentParser, ArgumentDefaultsHelpFormatter\n",
    "import numpy as np\n",
    "import torch\n",
    "\n",
    "parser = ArgumentParser(formatter_class=ArgumentDefaultsHelpFormatter)\n",
    "parser.add_argument(\"--vtkdir\", type=str, default=\"./output/\")\n",
    "parser.add_argument(\"--csvdir\", type=str, default=\"./output/\")\n",
    "parser.add_argument(\"--nout\", type=int, default=100)\n",
    "parser.add_argument(\"--nvtk\", type=int, default=100)\n",
    "parser.add_argument(\"--tmax\", type=int, default=20)\n",
    "parser.add_argument(\"--Re\", type=int, default=180)\n",
    "parser.add_argument(\"--collision_operator\", type=str, default=\"BGK\")\n",
    "parser.add_argument(\"--Precision\", type=str, default=\"Single\")\n",
    "parser.add_argument(\"--Mach\", type=float, default=0.1)\n",
    "parser.add_argument(\"--h\", type=int, default=10, help=\"Halbe Kanalhöhe in LU\")\n",
    "parser.add_argument(\"--bbtype\", type=str, default=\"halfway\", choices=[\"halfway\", \"fullway\"],\n",
    "                    help=\"Typ der Bounce-Back-Randbedingung\")\n",
    "\n",
    "args, unknown = parser.parse_known_args()\n",
    "args = vars(args)\n",
    "\n",
    "print(\"ICH FUNKTIONIERE MIT PULLEN\")\n",
    "\n",
    "\n",
    "\n",
    "# Einheiten und Auflösung\n",
    "h = args[\"h\"]                      # Kanalhalbhöhe in LU\n",
    "res_y = 2 * h                     # y: volle Kanalhöhe\n",
    "res_x = int(2*np.pi * h)\n",
    "res_z = int(np.pi * h)\n",
    "\n",
    "# Restliche Parameter\n",
    "Re = args[\"Re\"]\n",
    "basedir = args[\"vtkdir\"]\n",
    "csvdir = args[\"csvdir\"]\n",
    "nout = args[\"nout\"]\n",
    "nvtk = args[\"nvtk\"]\n",
    "tmax = args[\"tmax\"]\n",
    "Precision = args[\"Precision\"]\n",
    "collision_operator = args[\"collision_operator\"]\n",
    "Mach = args[\"Mach\"]\n",
    "bbtype = args[\"bbtype\"]\n",
    "# Präzision\n",
    "if Precision == \"Single\":\n",
    "    dtype = torch.float32\n",
    "elif Precision == \"Double\":\n",
    "    dtype = torch.float64\n",
    "elif Precision == \"Half\":\n",
    "    dtype = torch.float16\n",
    "\n",
    "# Beispielhafte Kraft für Guo-Force\n",
    "acceleration = np.array([1e-7, 0.0, 0.0])\n"
   ],
   "metadata": {
    "collapsed": false,
    "ExecuteTime": {
     "end_time": "2025-05-28T11:00:44.640296699Z",
     "start_time": "2025-05-28T11:00:44.637110140Z"
    }
   }
  },
  {
   "cell_type": "code",
   "execution_count": 5,
   "outputs": [
    {
     "name": "stderr",
     "output_type": "stream",
     "text": [
      "/home/ben/lettuce/lettuce/boundary.py:436: UserWarning: To copy construct from a tensor, it is recommended to use sourceTensor.clone().detach() or sourceTensor.clone().detach().requires_grad_(True), rather than torch.tensor(sourceTensor).\n",
      "  self.stencil_e_tensor_index = torch.tensor(self.lattice.e, device=self.lattice.device, dtype=torch.int64)\n"
     ]
    },
    {
     "name": "stdout",
     "output_type": "stream",
     "text": [
      "Calling SimulationHWBB.__init__\n"
     ]
    },
    {
     "name": "stderr",
     "output_type": "stream",
     "text": [
      "/home/ben/lettuce/lettuce/boundary.py:436: UserWarning: To copy construct from a tensor, it is recommended to use sourceTensor.clone().detach() or sourceTensor.clone().detach().requires_grad_(True), rather than torch.tensor(sourceTensor).\n",
      "  self.stencil_e_tensor_index = torch.tensor(self.lattice.e, device=self.lattice.device, dtype=torch.int64)\n"
     ]
    },
    {
     "name": "stdout",
     "output_type": "stream",
     "text": [
      "steps     time     IncompressibleKineticEnergy\n",
      "steps     time     WallQuantities\n"
     ]
    }
   ],
   "source": [
    "\n",
    "# --- 🧱 Lattice & Einheiten ---\n",
    "lattice = Lattice(D3Q27, device=\"cuda\", dtype=dtype)\n",
    "\n",
    "flow = lt.ChannelFlow3D(\n",
    "    resolution_x=res_x,\n",
    "    resolution_y=res_y,\n",
    "    resolution_z =res_z,\n",
    "    reynolds_number=Re,\n",
    "    mach_number=Mach,\n",
    "    lattice=lattice,\n",
    "    char_length_lu=res_y,\n",
    "    boundary = bbtype\n",
    ")\n",
    "\n",
    "# --- 🧱 Wände definieren ---\n",
    "x, y, z = flow.grid  # physikalische Gitterkoordinaten\n",
    "\n",
    "# y in LU umrechnen (nur nötig, falls du nach physikalischen Einheiten schneiden willst)\n",
    "# Hier reicht aber die Indexierung direkt, da wir die äußersten Zeilen meinen:\n",
    "mask = np.zeros((res_x, res_y, res_z), dtype=bool)\n",
    "mask[:, 0, :] = True         # untere Wand (y = 0)\n",
    "mask[:, -1, :] = True        # obere Wand (y = max)\n",
    "flow.mask = mask\n",
    "\n",
    "# --- 🌀 Forcing (Guo) ---\n",
    "from lettuce.force import Guo  # dein Guo-Code\n",
    "forcing = Guo(lattice, tau=flow.units.relaxation_parameter_lu, acceleration=acceleration)\n",
    "\n",
    "# --- 🔁 Setup Simulation ---\n",
    "if collision_operator == \"BGK\":\n",
    "    collision=lt.BGKCollision(lattice, tau=flow.units.relaxation_parameter_lu, force=forcing)\n",
    "elif collision_operator == \"KBC\":\n",
    "    collision=lt.KBCCollision3D(lattice, tau=flow.units.relaxation_parameter_lu, force = forcing)\n",
    "\n",
    "if args[\"bbtype\"] == \"halfway\":\n",
    "    from lettuce.boundary import HalfwayBounceBackBoundary\n",
    "    boundary = HalfwayBounceBackBoundary(mask, lattice)\n",
    "    simulation_class = SimulationHWBB\n",
    "    dy_lu = 0.5  # Mitte zwischen Wand und 1. Zellzentrum\n",
    "elif args[\"bbtype\"] == \"fullway\":\n",
    "    from lettuce.boundary import BounceBackBoundary\n",
    "    boundary = BounceBackBoundary(mask, lattice)\n",
    "    simulation_class = Simulation  # normale Basisklasse\n",
    "    dy_lu = 1.0  # Abstand zwischen Wandzentrum und Zellzentrum\n",
    "else:\n",
    "    raise ValueError(\"Ungültiger Bounce-Back Typ\")\n",
    "\n",
    "\n",
    "\n",
    "\n",
    "streaming = StandardStreaming(lattice)\n",
    "simulation = simulation_class(flow=flow, lattice=lattice, collision=collision, streaming=streaming)\n",
    "\n",
    "# --- 📊 Beobachter ---\n",
    "Energy = IncompressibleKineticEnergy(lattice, flow)\n",
    "reporter = lt.ObservableReporter(Energy, interval=100, out=None)\n",
    "simulation.reporters.append(reporter)\n",
    "\n",
    "wq = WallQuantities(lattice,flow,averaging_steps = 1)\n",
    "reporter2 = lt.ObservableReporter(wq, interval=100, out=None)\n",
    "simulation.reporters.append(reporter2)\n",
    "\n",
    "simulation.initialize_f_neq\n",
    "\n",
    "# --- ▶️ Simulation starten ---\n",
    "steps = int(flow.units.convert_time_to_lu(tmax))  # z.B. 5 Sekunden\n",
    "vtk_reporter = lt.VTKReporter(\n",
    "    lattice=lattice,\n",
    "    flow=flow,\n",
    "    interval=int(steps/100),                    # alle 100 Zeitschritte ein VTK-Frame\n",
    "    filename_base=basedir + \"/output\" # Basisname der Dateien\n",
    ")\n",
    "simulation.reporters.append(vtk_reporter)\n",
    "mlups = simulation.step(num_steps=steps)\n",
    "\n",
    "wq = np.array(simulation.reporters[1].out)\n",
    "Energy = np.array(simulation.reporters[0].out)\n",
    "\n",
    "with open(csvdir + 'Energy.csv', 'w', newline='') as file:\n",
    "    writer = csv.writer(file)\n",
    "    writer.writerows(Energy)\n",
    "with open(csvdir + 'WallQuantities.csv', 'w', newline='') as file:\n",
    "    writer = csv.writer(file)\n",
    "    writer.writerows(wq)"
   ],
   "metadata": {
    "collapsed": false,
    "ExecuteTime": {
     "end_time": "2025-05-28T11:02:39.927150159Z",
     "start_time": "2025-05-28T11:02:23.771775149Z"
    }
   }
  },
  {
   "cell_type": "code",
   "execution_count": null,
   "outputs": [],
   "source": [],
   "metadata": {
    "collapsed": false,
    "ExecuteTime": {
     "start_time": "2025-05-28T11:00:44.658425463Z"
    }
   }
  }
 ],
 "metadata": {
  "kernelspec": {
   "display_name": "Python 3",
   "language": "python",
   "name": "python3"
  },
  "language_info": {
   "codemirror_mode": {
    "name": "ipython",
    "version": 2
   },
   "file_extension": ".py",
   "mimetype": "text/x-python",
   "name": "python",
   "nbconvert_exporter": "python",
   "pygments_lexer": "ipython2",
   "version": "2.7.6"
  }
 },
 "nbformat": 4,
 "nbformat_minor": 0
}
